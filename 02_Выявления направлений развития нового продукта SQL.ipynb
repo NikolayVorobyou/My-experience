{
 "cells": [
  {
   "cell_type": "markdown",
   "id": "8a8dc535",
   "metadata": {},
   "source": [
    "# Выявления направлений развития нового продукта. SQL"
   ]
  },
  {
   "cell_type": "markdown",
   "id": "9039145a",
   "metadata": {},
   "source": [
    "# Содержание\n",
    "\n",
    "- [Описание проекта. Общая информация о данных](#1)\n",
    "- [Задача 1](#2)\n",
    "- [Задача 2](#3)\n",
    "- [Задача 3](#4)\n",
    "- [Задача 4](#5)\n",
    "- [Задача 5](#6)\n",
    "- [Заключение](#7)"
   ]
  },
  {
   "cell_type": "markdown",
   "id": "e8f955b2",
   "metadata": {},
   "source": [
    "# Описание проекта. Общая информация о данных. <a id='1'></a>\n",
    "\n",
    "\n",
    "## **Цель:**\n",
    "**Проанализировать базу данных, для выявления направлений развития нового продукта**\n",
    "\n",
    "\n",
    "## **Задачи:**\n",
    "\n",
    "- Рассчитать, сколько книг вышло после 1 января 2000 года;\n",
    "- Для каждой книги посчитать количество обзоров и среднюю оценку;\n",
    "- Определить издательство, которое выпустило наибольшее число книг толще 50 страниц — так вы исключите из анализа брошюры;\n",
    "- Определить автора с самой высокой средней оценкой книг — учитывайте только книги с 50 и более оценками;\n",
    "- Рассчитать среднее количество обзоров от пользователей, которые поставили больше 50 оценок.\n",
    "\n",
    "\n",
    "### Описание данных\n"
   ]
  },
  {
   "cell_type": "code",
   "execution_count": 1,
   "id": "4bb7de48",
   "metadata": {},
   "outputs": [],
   "source": [
    "# импортируем библиотеки\n",
    "import pandas as pd\n",
    "from sqlalchemy import create_engine\n",
    "# устанавливаем параметры\n",
    "db_config = {'user': 'praktikum_student', # имя пользователя\n",
    "'pwd': 'Sdf4$2;d-d30pp', # пароль\n",
    "'host': 'rc1b-wcoijxj3yxfsf3fs.mdb.yandexcloud.net',\n",
    "'port': 6432, # порт подключения\n",
    "'db': 'data-analyst-final-project-db'} # название базы данных\n",
    "connection_string = 'postgresql://{}:{}@{}:{}/{}'.format(db_config['user'],\n",
    " db_config['pwd'],\n",
    " db_config['host'],\n",
    " db_config['port'],\n",
    " db_config['db'])\n",
    "# сохраняем коннектор\n",
    "engine = create_engine(connection_string, connect_args={'sslmode':'require'}) \n",
    "# Чтобы выполнить SQL-запрос, используйте Pandas\n",
    "# pd.io.sql.read_sql(query, con = engine)"
   ]
  },
  {
   "cell_type": "markdown",
   "id": "4932e427",
   "metadata": {},
   "source": [
    "Посмотрим на содержание таблиц"
   ]
  },
  {
   "cell_type": "code",
   "execution_count": 2,
   "id": "6c4fb28a",
   "metadata": {},
   "outputs": [
    {
     "data": {
      "text/html": [
       "<div>\n",
       "<style scoped>\n",
       "    .dataframe tbody tr th:only-of-type {\n",
       "        vertical-align: middle;\n",
       "    }\n",
       "\n",
       "    .dataframe tbody tr th {\n",
       "        vertical-align: top;\n",
       "    }\n",
       "\n",
       "    .dataframe thead th {\n",
       "        text-align: right;\n",
       "    }\n",
       "</style>\n",
       "<table border=\"1\" class=\"dataframe\">\n",
       "  <thead>\n",
       "    <tr style=\"text-align: right;\">\n",
       "      <th></th>\n",
       "      <th>book_id</th>\n",
       "      <th>author_id</th>\n",
       "      <th>title</th>\n",
       "      <th>num_pages</th>\n",
       "      <th>publication_date</th>\n",
       "      <th>publisher_id</th>\n",
       "    </tr>\n",
       "  </thead>\n",
       "  <tbody>\n",
       "    <tr>\n",
       "      <th>0</th>\n",
       "      <td>1</td>\n",
       "      <td>546</td>\n",
       "      <td>'Salem's Lot</td>\n",
       "      <td>594</td>\n",
       "      <td>2005-11-01</td>\n",
       "      <td>93</td>\n",
       "    </tr>\n",
       "    <tr>\n",
       "      <th>1</th>\n",
       "      <td>2</td>\n",
       "      <td>465</td>\n",
       "      <td>1 000 Places to See Before You Die</td>\n",
       "      <td>992</td>\n",
       "      <td>2003-05-22</td>\n",
       "      <td>336</td>\n",
       "    </tr>\n",
       "    <tr>\n",
       "      <th>2</th>\n",
       "      <td>3</td>\n",
       "      <td>407</td>\n",
       "      <td>13 Little Blue Envelopes (Little Blue Envelope...</td>\n",
       "      <td>322</td>\n",
       "      <td>2010-12-21</td>\n",
       "      <td>135</td>\n",
       "    </tr>\n",
       "    <tr>\n",
       "      <th>3</th>\n",
       "      <td>4</td>\n",
       "      <td>82</td>\n",
       "      <td>1491: New Revelations of the Americas Before C...</td>\n",
       "      <td>541</td>\n",
       "      <td>2006-10-10</td>\n",
       "      <td>309</td>\n",
       "    </tr>\n",
       "    <tr>\n",
       "      <th>4</th>\n",
       "      <td>5</td>\n",
       "      <td>125</td>\n",
       "      <td>1776</td>\n",
       "      <td>386</td>\n",
       "      <td>2006-07-04</td>\n",
       "      <td>268</td>\n",
       "    </tr>\n",
       "  </tbody>\n",
       "</table>\n",
       "</div>"
      ],
      "text/plain": [
       "   book_id  author_id                                              title  \\\n",
       "0        1        546                                       'Salem's Lot   \n",
       "1        2        465                 1 000 Places to See Before You Die   \n",
       "2        3        407  13 Little Blue Envelopes (Little Blue Envelope...   \n",
       "3        4         82  1491: New Revelations of the Americas Before C...   \n",
       "4        5        125                                               1776   \n",
       "\n",
       "   num_pages publication_date  publisher_id  \n",
       "0        594       2005-11-01            93  \n",
       "1        992       2003-05-22           336  \n",
       "2        322       2010-12-21           135  \n",
       "3        541       2006-10-10           309  \n",
       "4        386       2006-07-04           268  "
      ]
     },
     "metadata": {},
     "output_type": "display_data"
    },
    {
     "name": "stdout",
     "output_type": "stream",
     "text": [
      "<class 'pandas.core.frame.DataFrame'>\n",
      "RangeIndex: 1000 entries, 0 to 999\n",
      "Data columns (total 6 columns):\n",
      " #   Column            Non-Null Count  Dtype \n",
      "---  ------            --------------  ----- \n",
      " 0   book_id           1000 non-null   int64 \n",
      " 1   author_id         1000 non-null   int64 \n",
      " 2   title             1000 non-null   object\n",
      " 3   num_pages         1000 non-null   int64 \n",
      " 4   publication_date  1000 non-null   object\n",
      " 5   publisher_id      1000 non-null   int64 \n",
      "dtypes: int64(4), object(2)\n",
      "memory usage: 47.0+ KB\n",
      "None\n"
     ]
    }
   ],
   "source": [
    "query = '''\n",
    "SELECT *\n",
    "FROM books\n",
    "'''\n",
    "books = pd.io.sql.read_sql(query, con = engine)\n",
    "display(books.head())\n",
    "print(books.info())"
   ]
  },
  {
   "cell_type": "code",
   "execution_count": 3,
   "id": "71b3ed1f",
   "metadata": {},
   "outputs": [
    {
     "data": {
      "text/html": [
       "<div>\n",
       "<style scoped>\n",
       "    .dataframe tbody tr th:only-of-type {\n",
       "        vertical-align: middle;\n",
       "    }\n",
       "\n",
       "    .dataframe tbody tr th {\n",
       "        vertical-align: top;\n",
       "    }\n",
       "\n",
       "    .dataframe thead th {\n",
       "        text-align: right;\n",
       "    }\n",
       "</style>\n",
       "<table border=\"1\" class=\"dataframe\">\n",
       "  <thead>\n",
       "    <tr style=\"text-align: right;\">\n",
       "      <th></th>\n",
       "      <th>author_id</th>\n",
       "      <th>author</th>\n",
       "    </tr>\n",
       "  </thead>\n",
       "  <tbody>\n",
       "    <tr>\n",
       "      <th>0</th>\n",
       "      <td>1</td>\n",
       "      <td>A.S. Byatt</td>\n",
       "    </tr>\n",
       "    <tr>\n",
       "      <th>1</th>\n",
       "      <td>2</td>\n",
       "      <td>Aesop/Laura Harris/Laura Gibbs</td>\n",
       "    </tr>\n",
       "    <tr>\n",
       "      <th>2</th>\n",
       "      <td>3</td>\n",
       "      <td>Agatha Christie</td>\n",
       "    </tr>\n",
       "    <tr>\n",
       "      <th>3</th>\n",
       "      <td>4</td>\n",
       "      <td>Alan Brennert</td>\n",
       "    </tr>\n",
       "    <tr>\n",
       "      <th>4</th>\n",
       "      <td>5</td>\n",
       "      <td>Alan Moore/David   Lloyd</td>\n",
       "    </tr>\n",
       "  </tbody>\n",
       "</table>\n",
       "</div>"
      ],
      "text/plain": [
       "   author_id                          author\n",
       "0          1                      A.S. Byatt\n",
       "1          2  Aesop/Laura Harris/Laura Gibbs\n",
       "2          3                 Agatha Christie\n",
       "3          4                   Alan Brennert\n",
       "4          5        Alan Moore/David   Lloyd"
      ]
     },
     "metadata": {},
     "output_type": "display_data"
    }
   ],
   "source": [
    "query = '''\n",
    "SELECT *\n",
    "FROM authors\n",
    "'''\n",
    "authors = pd.io.sql.read_sql(query, con = engine)\n",
    "display(authors.head())"
   ]
  },
  {
   "cell_type": "code",
   "execution_count": 4,
   "id": "0cafdbe0",
   "metadata": {},
   "outputs": [
    {
     "data": {
      "text/html": [
       "<div>\n",
       "<style scoped>\n",
       "    .dataframe tbody tr th:only-of-type {\n",
       "        vertical-align: middle;\n",
       "    }\n",
       "\n",
       "    .dataframe tbody tr th {\n",
       "        vertical-align: top;\n",
       "    }\n",
       "\n",
       "    .dataframe thead th {\n",
       "        text-align: right;\n",
       "    }\n",
       "</style>\n",
       "<table border=\"1\" class=\"dataframe\">\n",
       "  <thead>\n",
       "    <tr style=\"text-align: right;\">\n",
       "      <th></th>\n",
       "      <th>publisher_id</th>\n",
       "      <th>publisher</th>\n",
       "    </tr>\n",
       "  </thead>\n",
       "  <tbody>\n",
       "    <tr>\n",
       "      <th>0</th>\n",
       "      <td>1</td>\n",
       "      <td>Ace</td>\n",
       "    </tr>\n",
       "    <tr>\n",
       "      <th>1</th>\n",
       "      <td>2</td>\n",
       "      <td>Ace Book</td>\n",
       "    </tr>\n",
       "    <tr>\n",
       "      <th>2</th>\n",
       "      <td>3</td>\n",
       "      <td>Ace Books</td>\n",
       "    </tr>\n",
       "    <tr>\n",
       "      <th>3</th>\n",
       "      <td>4</td>\n",
       "      <td>Ace Hardcover</td>\n",
       "    </tr>\n",
       "    <tr>\n",
       "      <th>4</th>\n",
       "      <td>5</td>\n",
       "      <td>Addison Wesley Publishing Company</td>\n",
       "    </tr>\n",
       "  </tbody>\n",
       "</table>\n",
       "</div>"
      ],
      "text/plain": [
       "   publisher_id                          publisher\n",
       "0             1                                Ace\n",
       "1             2                           Ace Book\n",
       "2             3                          Ace Books\n",
       "3             4                      Ace Hardcover\n",
       "4             5  Addison Wesley Publishing Company"
      ]
     },
     "metadata": {},
     "output_type": "display_data"
    }
   ],
   "source": [
    "query = '''\n",
    "SELECT *\n",
    "FROM publishers\n",
    "'''\n",
    "publishers = pd.io.sql.read_sql(query, con = engine)\n",
    "display(publishers.head())"
   ]
  },
  {
   "cell_type": "code",
   "execution_count": 5,
   "id": "de7aaa67",
   "metadata": {},
   "outputs": [
    {
     "data": {
      "text/html": [
       "<div>\n",
       "<style scoped>\n",
       "    .dataframe tbody tr th:only-of-type {\n",
       "        vertical-align: middle;\n",
       "    }\n",
       "\n",
       "    .dataframe tbody tr th {\n",
       "        vertical-align: top;\n",
       "    }\n",
       "\n",
       "    .dataframe thead th {\n",
       "        text-align: right;\n",
       "    }\n",
       "</style>\n",
       "<table border=\"1\" class=\"dataframe\">\n",
       "  <thead>\n",
       "    <tr style=\"text-align: right;\">\n",
       "      <th></th>\n",
       "      <th>rating_id</th>\n",
       "      <th>book_id</th>\n",
       "      <th>username</th>\n",
       "      <th>rating</th>\n",
       "    </tr>\n",
       "  </thead>\n",
       "  <tbody>\n",
       "    <tr>\n",
       "      <th>0</th>\n",
       "      <td>1</td>\n",
       "      <td>1</td>\n",
       "      <td>ryanfranco</td>\n",
       "      <td>4</td>\n",
       "    </tr>\n",
       "    <tr>\n",
       "      <th>1</th>\n",
       "      <td>2</td>\n",
       "      <td>1</td>\n",
       "      <td>grantpatricia</td>\n",
       "      <td>2</td>\n",
       "    </tr>\n",
       "    <tr>\n",
       "      <th>2</th>\n",
       "      <td>3</td>\n",
       "      <td>1</td>\n",
       "      <td>brandtandrea</td>\n",
       "      <td>5</td>\n",
       "    </tr>\n",
       "    <tr>\n",
       "      <th>3</th>\n",
       "      <td>4</td>\n",
       "      <td>2</td>\n",
       "      <td>lorichen</td>\n",
       "      <td>3</td>\n",
       "    </tr>\n",
       "    <tr>\n",
       "      <th>4</th>\n",
       "      <td>5</td>\n",
       "      <td>2</td>\n",
       "      <td>mariokeller</td>\n",
       "      <td>2</td>\n",
       "    </tr>\n",
       "  </tbody>\n",
       "</table>\n",
       "</div>"
      ],
      "text/plain": [
       "   rating_id  book_id       username  rating\n",
       "0          1        1     ryanfranco       4\n",
       "1          2        1  grantpatricia       2\n",
       "2          3        1   brandtandrea       5\n",
       "3          4        2       lorichen       3\n",
       "4          5        2    mariokeller       2"
      ]
     },
     "metadata": {},
     "output_type": "display_data"
    }
   ],
   "source": [
    "query = '''\n",
    "SELECT *\n",
    "FROM ratings\n",
    "'''\n",
    "ratings = pd.io.sql.read_sql(query, con = engine)\n",
    "display(ratings.head())"
   ]
  },
  {
   "cell_type": "code",
   "execution_count": 6,
   "id": "93b5800a",
   "metadata": {
    "scrolled": true
   },
   "outputs": [
    {
     "data": {
      "text/html": [
       "<div>\n",
       "<style scoped>\n",
       "    .dataframe tbody tr th:only-of-type {\n",
       "        vertical-align: middle;\n",
       "    }\n",
       "\n",
       "    .dataframe tbody tr th {\n",
       "        vertical-align: top;\n",
       "    }\n",
       "\n",
       "    .dataframe thead th {\n",
       "        text-align: right;\n",
       "    }\n",
       "</style>\n",
       "<table border=\"1\" class=\"dataframe\">\n",
       "  <thead>\n",
       "    <tr style=\"text-align: right;\">\n",
       "      <th></th>\n",
       "      <th>review_id</th>\n",
       "      <th>book_id</th>\n",
       "      <th>username</th>\n",
       "      <th>text</th>\n",
       "    </tr>\n",
       "  </thead>\n",
       "  <tbody>\n",
       "    <tr>\n",
       "      <th>0</th>\n",
       "      <td>1</td>\n",
       "      <td>1</td>\n",
       "      <td>brandtandrea</td>\n",
       "      <td>Mention society tell send professor analysis. ...</td>\n",
       "    </tr>\n",
       "    <tr>\n",
       "      <th>1</th>\n",
       "      <td>2</td>\n",
       "      <td>1</td>\n",
       "      <td>ryanfranco</td>\n",
       "      <td>Foot glass pretty audience hit themselves. Amo...</td>\n",
       "    </tr>\n",
       "    <tr>\n",
       "      <th>2</th>\n",
       "      <td>3</td>\n",
       "      <td>2</td>\n",
       "      <td>lorichen</td>\n",
       "      <td>Listen treat keep worry. Miss husband tax but ...</td>\n",
       "    </tr>\n",
       "    <tr>\n",
       "      <th>3</th>\n",
       "      <td>4</td>\n",
       "      <td>3</td>\n",
       "      <td>johnsonamanda</td>\n",
       "      <td>Finally month interesting blue could nature cu...</td>\n",
       "    </tr>\n",
       "    <tr>\n",
       "      <th>4</th>\n",
       "      <td>5</td>\n",
       "      <td>3</td>\n",
       "      <td>scotttamara</td>\n",
       "      <td>Nation purpose heavy give wait song will. List...</td>\n",
       "    </tr>\n",
       "  </tbody>\n",
       "</table>\n",
       "</div>"
      ],
      "text/plain": [
       "   review_id  book_id       username  \\\n",
       "0          1        1   brandtandrea   \n",
       "1          2        1     ryanfranco   \n",
       "2          3        2       lorichen   \n",
       "3          4        3  johnsonamanda   \n",
       "4          5        3    scotttamara   \n",
       "\n",
       "                                                text  \n",
       "0  Mention society tell send professor analysis. ...  \n",
       "1  Foot glass pretty audience hit themselves. Amo...  \n",
       "2  Listen treat keep worry. Miss husband tax but ...  \n",
       "3  Finally month interesting blue could nature cu...  \n",
       "4  Nation purpose heavy give wait song will. List...  "
      ]
     },
     "metadata": {},
     "output_type": "display_data"
    }
   ],
   "source": [
    "query = '''\n",
    "SELECT *\n",
    "FROM reviews\n",
    "'''\n",
    "reviews = pd.io.sql.read_sql(query, con = engine)\n",
    "display(reviews.head())"
   ]
  },
  {
   "cell_type": "code",
   "execution_count": 7,
   "id": "6eb80fbc",
   "metadata": {
    "scrolled": false
   },
   "outputs": [
    {
     "name": "stdout",
     "output_type": "stream",
     "text": [
      "Дубликатов в books: 0\n",
      "Дубликатов в authors: 0\n",
      "Дубликатов в publishers: 0\n",
      "Дубликатов в ratings: 0\n",
      "Дубликатов в reviews: 0\n"
     ]
    }
   ],
   "source": [
    "print('Дубликатов в books:', books.duplicated().sum())\n",
    "print('Дубликатов в authors:', authors.duplicated().sum())\n",
    "print('Дубликатов в publishers:', publishers.duplicated().sum())\n",
    "print('Дубликатов в ratings:', ratings.duplicated().sum())\n",
    "print('Дубликатов в reviews:', reviews.duplicated().sum())"
   ]
  },
  {
   "cell_type": "markdown",
   "id": "04ec7df4",
   "metadata": {},
   "source": [
    "# Задача 1 <a id='2'></a>"
   ]
  },
  {
   "cell_type": "markdown",
   "id": "3fea79a6",
   "metadata": {},
   "source": [
    "Рассчитать, сколько книг вышло после 1 января 2000 года"
   ]
  },
  {
   "cell_type": "code",
   "execution_count": 8,
   "id": "ab605451",
   "metadata": {},
   "outputs": [
    {
     "data": {
      "text/html": [
       "<div>\n",
       "<style scoped>\n",
       "    .dataframe tbody tr th:only-of-type {\n",
       "        vertical-align: middle;\n",
       "    }\n",
       "\n",
       "    .dataframe tbody tr th {\n",
       "        vertical-align: top;\n",
       "    }\n",
       "\n",
       "    .dataframe thead th {\n",
       "        text-align: right;\n",
       "    }\n",
       "</style>\n",
       "<table border=\"1\" class=\"dataframe\">\n",
       "  <thead>\n",
       "    <tr style=\"text-align: right;\">\n",
       "      <th></th>\n",
       "      <th>count</th>\n",
       "    </tr>\n",
       "  </thead>\n",
       "  <tbody>\n",
       "    <tr>\n",
       "      <th>0</th>\n",
       "      <td>819</td>\n",
       "    </tr>\n",
       "  </tbody>\n",
       "</table>\n",
       "</div>"
      ],
      "text/plain": [
       "   count\n",
       "0    819"
      ]
     },
     "metadata": {},
     "output_type": "display_data"
    }
   ],
   "source": [
    " #Определите издательство, которое выпустило наибольшее число книг толще 50 страниц\n",
    "query = '''\n",
    "SELECT COUNT(DISTINCT book_id)\n",
    "FROM books\n",
    "WHERE publication_date > '2000-01-01'\n",
    "'''\n",
    "count_books = pd.io.sql.read_sql(query, con = engine)\n",
    "display(count_books) "
   ]
  },
  {
   "cell_type": "markdown",
   "id": "7579bc37",
   "metadata": {},
   "source": [
    "В базе данных содержится 819 книг вышедших после 1 января 2000 года."
   ]
  },
  {
   "cell_type": "markdown",
   "id": "39cbe14e",
   "metadata": {},
   "source": [
    "# Задача 2 <a id='3'></a>"
   ]
  },
  {
   "cell_type": "markdown",
   "id": "a2fc0cb3",
   "metadata": {},
   "source": [
    "Для каждой книги посчитать количество обзоров и среднюю оценку"
   ]
  },
  {
   "cell_type": "code",
   "execution_count": 15,
   "id": "d27aefae",
   "metadata": {
    "scrolled": false
   },
   "outputs": [
    {
     "data": {
      "text/html": [
       "<div>\n",
       "<style scoped>\n",
       "    .dataframe tbody tr th:only-of-type {\n",
       "        vertical-align: middle;\n",
       "    }\n",
       "\n",
       "    .dataframe tbody tr th {\n",
       "        vertical-align: top;\n",
       "    }\n",
       "\n",
       "    .dataframe thead th {\n",
       "        text-align: right;\n",
       "    }\n",
       "</style>\n",
       "<table border=\"1\" class=\"dataframe\">\n",
       "  <thead>\n",
       "    <tr style=\"text-align: right;\">\n",
       "      <th></th>\n",
       "      <th>title</th>\n",
       "      <th>rating_avg</th>\n",
       "      <th>review_count</th>\n",
       "    </tr>\n",
       "  </thead>\n",
       "  <tbody>\n",
       "    <tr>\n",
       "      <th>0</th>\n",
       "      <td>A Dirty Job (Grim Reaper  #1)</td>\n",
       "      <td>5.00</td>\n",
       "      <td>4.0</td>\n",
       "    </tr>\n",
       "    <tr>\n",
       "      <th>1</th>\n",
       "      <td>Tai-Pan (Asian Saga  #2)</td>\n",
       "      <td>5.00</td>\n",
       "      <td>2.0</td>\n",
       "    </tr>\n",
       "    <tr>\n",
       "      <th>2</th>\n",
       "      <td>School's Out—Forever (Maximum Ride  #2)</td>\n",
       "      <td>5.00</td>\n",
       "      <td>3.0</td>\n",
       "    </tr>\n",
       "    <tr>\n",
       "      <th>3</th>\n",
       "      <td>Piercing the Darkness (Darkness  #2)</td>\n",
       "      <td>5.00</td>\n",
       "      <td>2.0</td>\n",
       "    </tr>\n",
       "    <tr>\n",
       "      <th>4</th>\n",
       "      <td>The War of Art: Break Through the Blocks &amp; Win...</td>\n",
       "      <td>5.00</td>\n",
       "      <td>2.0</td>\n",
       "    </tr>\n",
       "    <tr>\n",
       "      <th>...</th>\n",
       "      <td>...</td>\n",
       "      <td>...</td>\n",
       "      <td>...</td>\n",
       "    </tr>\n",
       "    <tr>\n",
       "      <th>995</th>\n",
       "      <td>The World Is Flat: A Brief History of the Twen...</td>\n",
       "      <td>2.25</td>\n",
       "      <td>3.0</td>\n",
       "    </tr>\n",
       "    <tr>\n",
       "      <th>996</th>\n",
       "      <td>His Excellency: George Washington</td>\n",
       "      <td>2.00</td>\n",
       "      <td>2.0</td>\n",
       "    </tr>\n",
       "    <tr>\n",
       "      <th>997</th>\n",
       "      <td>Junky</td>\n",
       "      <td>2.00</td>\n",
       "      <td>2.0</td>\n",
       "    </tr>\n",
       "    <tr>\n",
       "      <th>998</th>\n",
       "      <td>Drowning Ruth</td>\n",
       "      <td>2.00</td>\n",
       "      <td>3.0</td>\n",
       "    </tr>\n",
       "    <tr>\n",
       "      <th>999</th>\n",
       "      <td>Harvesting the Heart</td>\n",
       "      <td>1.50</td>\n",
       "      <td>2.0</td>\n",
       "    </tr>\n",
       "  </tbody>\n",
       "</table>\n",
       "<p>1000 rows × 3 columns</p>\n",
       "</div>"
      ],
      "text/plain": [
       "                                                 title  rating_avg  \\\n",
       "0                        A Dirty Job (Grim Reaper  #1)        5.00   \n",
       "1                             Tai-Pan (Asian Saga  #2)        5.00   \n",
       "2              School's Out—Forever (Maximum Ride  #2)        5.00   \n",
       "3                 Piercing the Darkness (Darkness  #2)        5.00   \n",
       "4    The War of Art: Break Through the Blocks & Win...        5.00   \n",
       "..                                                 ...         ...   \n",
       "995  The World Is Flat: A Brief History of the Twen...        2.25   \n",
       "996                  His Excellency: George Washington        2.00   \n",
       "997                                              Junky        2.00   \n",
       "998                                      Drowning Ruth        2.00   \n",
       "999                               Harvesting the Heart        1.50   \n",
       "\n",
       "     review_count  \n",
       "0             4.0  \n",
       "1             2.0  \n",
       "2             3.0  \n",
       "3             2.0  \n",
       "4             2.0  \n",
       "..            ...  \n",
       "995           3.0  \n",
       "996           2.0  \n",
       "997           2.0  \n",
       "998           3.0  \n",
       "999           2.0  \n",
       "\n",
       "[1000 rows x 3 columns]"
      ]
     },
     "metadata": {},
     "output_type": "display_data"
    }
   ],
   "source": [
    "query = '''\n",
    "WITH \n",
    "TABLE_CTE(book_id, rating_avg) AS\n",
    "(\n",
    "SELECT book_id, AVG(rating) AS rating_avg\n",
    "FROM ratings\n",
    "GROUP BY 1\n",
    "),\n",
    "TABLE_CTE1(book_id, review_count) AS\n",
    "(\n",
    "SELECT book_id, COUNT(review_id) AS review_count\n",
    "FROM reviews\n",
    "GROUP BY 1\n",
    ")\n",
    "SELECT title, t.rating_avg, t1.review_count\n",
    "FROM books b\n",
    "LEFT JOIN TABLE_CTE t ON b.book_id  = t.book_id\n",
    "LEFT JOIN TABLE_CTE1 t1 ON b.book_id  = t1.book_id\n",
    "ORDER BY 2 DESC\n",
    "'''\n",
    "\n",
    "rating_books = pd.io.sql.read_sql(query, con = engine)\n",
    "display(rating_books) \n"
   ]
  },
  {
   "cell_type": "markdown",
   "id": "50b4a3d8",
   "metadata": {},
   "source": [
    "На 1000 книг из базы данных составлено от 1 до 7 обзоров, со средней оценкой 1,5 до 5."
   ]
  },
  {
   "cell_type": "markdown",
   "id": "f8f6bdfd",
   "metadata": {},
   "source": [
    "# Задача 3 <a id='4'></a>"
   ]
  },
  {
   "cell_type": "markdown",
   "id": "305b9291",
   "metadata": {},
   "source": [
    "Определить издательство, которое выпустило наибольшее число книг толще 50 страниц "
   ]
  },
  {
   "cell_type": "code",
   "execution_count": 10,
   "id": "6a215875",
   "metadata": {
    "scrolled": true
   },
   "outputs": [
    {
     "data": {
      "text/html": [
       "<div>\n",
       "<style scoped>\n",
       "    .dataframe tbody tr th:only-of-type {\n",
       "        vertical-align: middle;\n",
       "    }\n",
       "\n",
       "    .dataframe tbody tr th {\n",
       "        vertical-align: top;\n",
       "    }\n",
       "\n",
       "    .dataframe thead th {\n",
       "        text-align: right;\n",
       "    }\n",
       "</style>\n",
       "<table border=\"1\" class=\"dataframe\">\n",
       "  <thead>\n",
       "    <tr style=\"text-align: right;\">\n",
       "      <th></th>\n",
       "      <th>publisher</th>\n",
       "      <th>count</th>\n",
       "    </tr>\n",
       "  </thead>\n",
       "  <tbody>\n",
       "    <tr>\n",
       "      <th>0</th>\n",
       "      <td>Penguin Books</td>\n",
       "      <td>42</td>\n",
       "    </tr>\n",
       "  </tbody>\n",
       "</table>\n",
       "</div>"
      ],
      "text/plain": [
       "       publisher  count\n",
       "0  Penguin Books     42"
      ]
     },
     "metadata": {},
     "output_type": "display_data"
    }
   ],
   "source": [
    "query = '''\n",
    "SELECT publisher, COUNT(book_id)\n",
    "FROM publishers p\n",
    "JOIN books b ON p.publisher_id  = b.publisher_id\n",
    "WHERE num_pages > 50\n",
    "GROUP BY 1\n",
    "ORDER BY 2 DESC\n",
    "LIMIT 1\n",
    "'''\n",
    "\n",
    "publisher = pd.io.sql.read_sql(query, con = engine)\n",
    "display(publisher) "
   ]
  },
  {
   "cell_type": "markdown",
   "id": "44ba1c0a",
   "metadata": {},
   "source": [
    "По имеющейся базе данных наибольшее число книг (издания толще 50 страниц)-42 штуки, выпустило издательство Penguin Books."
   ]
  },
  {
   "cell_type": "markdown",
   "id": "28dd7a9c",
   "metadata": {},
   "source": [
    "# Задача 4 <a id='5'></a>"
   ]
  },
  {
   "cell_type": "markdown",
   "id": "5c334abc",
   "metadata": {},
   "source": [
    "Определить автора с самой высокой средней оценкой книг — учитывайте только книги с 50 и более оценками"
   ]
  },
  {
   "cell_type": "code",
   "execution_count": 11,
   "id": "61fa762e",
   "metadata": {
    "scrolled": true
   },
   "outputs": [
    {
     "data": {
      "text/html": [
       "<div>\n",
       "<style scoped>\n",
       "    .dataframe tbody tr th:only-of-type {\n",
       "        vertical-align: middle;\n",
       "    }\n",
       "\n",
       "    .dataframe tbody tr th {\n",
       "        vertical-align: top;\n",
       "    }\n",
       "\n",
       "    .dataframe thead th {\n",
       "        text-align: right;\n",
       "    }\n",
       "</style>\n",
       "<table border=\"1\" class=\"dataframe\">\n",
       "  <thead>\n",
       "    <tr style=\"text-align: right;\">\n",
       "      <th></th>\n",
       "      <th>author</th>\n",
       "      <th>avg</th>\n",
       "    </tr>\n",
       "  </thead>\n",
       "  <tbody>\n",
       "    <tr>\n",
       "      <th>0</th>\n",
       "      <td>J.K. Rowling/Mary GrandPré</td>\n",
       "      <td>4.283844</td>\n",
       "    </tr>\n",
       "  </tbody>\n",
       "</table>\n",
       "</div>"
      ],
      "text/plain": [
       "                       author       avg\n",
       "0  J.K. Rowling/Mary GrandPré  4.283844"
      ]
     },
     "metadata": {},
     "output_type": "display_data"
    }
   ],
   "source": [
    "query = '''\n",
    "WITH \n",
    "TABLE_CTE(book_id, author_id, rating_count, rating_avg) AS\n",
    "(\n",
    "SELECT b.book_id AS book_id, b.author_id AS author_id, COUNT(rating) AS rating_count, AVG(rating) AS rating_avg\n",
    "FROM ratings r\n",
    "JOIN books b ON r.book_id  = b.book_id\n",
    "GROUP BY 1\n",
    ")\n",
    "SELECT a.author, AVG(rating_avg)\n",
    "FROM TABLE_CTE t\n",
    "JOIN authors a ON t.author_id  = a.author_id\n",
    "WHERE rating_count > 50\n",
    "GROUP BY 1\n",
    "ORDER BY 2 DESC\n",
    "LIMIT 1\n",
    "'''\n",
    "\n",
    "author = pd.io.sql.read_sql(query, con = engine)\n",
    "display(author) "
   ]
  },
  {
   "cell_type": "markdown",
   "id": "e5d3869a",
   "metadata": {},
   "source": [
    "J.K. Rowling/Mary GrandPré автор  с самой высокой средней оценкой книг — 4,28 (учитываются только книги с 50 и более оценками). "
   ]
  },
  {
   "cell_type": "markdown",
   "id": "73d44de0",
   "metadata": {},
   "source": [
    "# Задача 5 <a id='6'></a>"
   ]
  },
  {
   "cell_type": "markdown",
   "id": "0c9d6b5e",
   "metadata": {},
   "source": [
    "Рассчитать среднее количество обзоров от пользователей, которые поставили больше 50 оценок"
   ]
  },
  {
   "cell_type": "code",
   "execution_count": 12,
   "id": "627d410e",
   "metadata": {
    "scrolled": true
   },
   "outputs": [
    {
     "data": {
      "text/html": [
       "<div>\n",
       "<style scoped>\n",
       "    .dataframe tbody tr th:only-of-type {\n",
       "        vertical-align: middle;\n",
       "    }\n",
       "\n",
       "    .dataframe tbody tr th {\n",
       "        vertical-align: top;\n",
       "    }\n",
       "\n",
       "    .dataframe thead th {\n",
       "        text-align: right;\n",
       "    }\n",
       "</style>\n",
       "<table border=\"1\" class=\"dataframe\">\n",
       "  <thead>\n",
       "    <tr style=\"text-align: right;\">\n",
       "      <th></th>\n",
       "      <th>avg</th>\n",
       "    </tr>\n",
       "  </thead>\n",
       "  <tbody>\n",
       "    <tr>\n",
       "      <th>0</th>\n",
       "      <td>24.333333</td>\n",
       "    </tr>\n",
       "  </tbody>\n",
       "</table>\n",
       "</div>"
      ],
      "text/plain": [
       "         avg\n",
       "0  24.333333"
      ]
     },
     "metadata": {},
     "output_type": "display_data"
    }
   ],
   "source": [
    "query = '''\n",
    "WITH \n",
    "TABLE_CTE(username, rating_count) AS\n",
    "(\n",
    "SELECT username, COUNT(rating) AS rating_count\n",
    "FROM ratings\n",
    "GROUP BY 1\n",
    "),\n",
    "TABLE_CTE1(username, review_count) AS\n",
    "(\n",
    "SELECT r.username, COUNT(r.review_id) AS review_count\n",
    "FROM TABLE_CTE t\n",
    "JOIN reviews r ON r.username  = t.username\n",
    "WHERE t.rating_count > 50\n",
    "GROUP BY 1\n",
    ")\n",
    "SELECT AVG(review_count)\n",
    "FROM TABLE_CTE1\n",
    "'''\n",
    "\n",
    "reviews_avg = pd.io.sql.read_sql(query, con = engine)\n",
    "display(reviews_avg) "
   ]
  },
  {
   "cell_type": "markdown",
   "id": "0587b48e",
   "metadata": {},
   "source": [
    "Наиболее активные пользователи публикуют в среднем 24 обзора."
   ]
  },
  {
   "cell_type": "markdown",
   "id": "071d3368",
   "metadata": {},
   "source": [
    "# Заключение <a id='7'></a>"
   ]
  },
  {
   "cell_type": "markdown",
   "id": "7976d068",
   "metadata": {},
   "source": [
    "- Дубликатов в таблицах нет.\n",
    "- В базе данных содержится 819 книг вышедших после 1 января 2000 года.\n",
    "- На 1000 книг из базы данных составлено от 1 до 7 обзоров, со средней оценкой 1,5 до 5.\n",
    "- По имеющейся базе данных наибольшее число книг (издания толще 50 страниц)-42 штуки, выпустило издательство Penguin Books.\n",
    "- J.K. Rowling/Mary GrandPré автор  с самой высокой средней оценкой книг — 4,28 (учитываются только книги с 50 и более оценками).\n",
    "- Наиболее активные пользователи публикуют в среднем 24 обзора."
   ]
  }
 ],
 "metadata": {
  "ExecuteTimeLog": [
   {
    "duration": 1590,
    "start_time": "2022-12-11T09:00:21.831Z"
   },
   {
    "duration": 550,
    "start_time": "2022-12-11T09:00:23.423Z"
   },
   {
    "duration": 93,
    "start_time": "2022-12-11T09:00:23.974Z"
   },
   {
    "duration": 194,
    "start_time": "2022-12-11T09:00:24.071Z"
   },
   {
    "duration": 72,
    "start_time": "2022-12-11T09:00:24.267Z"
   },
   {
    "duration": 38,
    "start_time": "2022-12-11T09:00:24.341Z"
   },
   {
    "duration": 217,
    "start_time": "2022-12-11T09:00:24.381Z"
   },
   {
    "duration": 25,
    "start_time": "2022-12-11T09:00:24.601Z"
   },
   {
    "duration": 13,
    "start_time": "2022-12-11T09:00:24.643Z"
   },
   {
    "duration": 58,
    "start_time": "2022-12-11T09:00:24.660Z"
   },
   {
    "duration": 21,
    "start_time": "2022-12-11T09:00:24.719Z"
   },
   {
    "duration": 22,
    "start_time": "2022-12-11T09:00:24.742Z"
   },
   {
    "duration": 72,
    "start_time": "2022-12-11T09:00:24.767Z"
   },
   {
    "duration": 104,
    "start_time": "2022-12-11T09:00:24.841Z"
   },
   {
    "duration": 507,
    "start_time": "2022-12-11T09:00:24.950Z"
   },
   {
    "duration": 29,
    "start_time": "2022-12-11T09:00:25.459Z"
   },
   {
    "duration": 192,
    "start_time": "2022-12-11T09:00:25.490Z"
   },
   {
    "duration": 54,
    "start_time": "2022-12-11T09:00:25.683Z"
   },
   {
    "duration": 60,
    "start_time": "2022-12-11T09:00:25.744Z"
   },
   {
    "duration": 68,
    "start_time": "2022-12-11T09:00:25.805Z"
   },
   {
    "duration": 65,
    "start_time": "2022-12-11T09:00:25.875Z"
   },
   {
    "duration": 27,
    "start_time": "2022-12-11T09:00:25.949Z"
   },
   {
    "duration": 339,
    "start_time": "2022-12-11T09:00:25.977Z"
   },
   {
    "duration": 245,
    "start_time": "2022-12-11T09:00:26.318Z"
   },
   {
    "duration": 30,
    "start_time": "2022-12-11T09:00:26.565Z"
   },
   {
    "duration": 124,
    "start_time": "2022-12-11T09:00:26.597Z"
   },
   {
    "duration": 92,
    "start_time": "2022-12-11T09:00:26.722Z"
   },
   {
    "duration": 125,
    "start_time": "2022-12-11T09:00:26.818Z"
   },
   {
    "duration": 90,
    "start_time": "2022-12-11T09:00:26.950Z"
   },
   {
    "duration": 28,
    "start_time": "2022-12-11T09:00:27.044Z"
   },
   {
    "duration": 88,
    "start_time": "2022-12-11T09:00:27.074Z"
   },
   {
    "duration": 12,
    "start_time": "2022-12-11T09:00:27.164Z"
   },
   {
    "duration": 155,
    "start_time": "2022-12-11T09:00:27.178Z"
   },
   {
    "duration": 117,
    "start_time": "2022-12-11T09:00:27.337Z"
   },
   {
    "duration": 44,
    "start_time": "2022-12-11T09:00:27.455Z"
   },
   {
    "duration": 66,
    "start_time": "2022-12-11T09:00:27.501Z"
   },
   {
    "duration": 83,
    "start_time": "2022-12-11T09:00:27.569Z"
   },
   {
    "duration": 226,
    "start_time": "2022-12-11T09:00:27.655Z"
   },
   {
    "duration": 218,
    "start_time": "2022-12-11T09:00:27.883Z"
   },
   {
    "duration": 14,
    "start_time": "2022-12-11T09:00:28.103Z"
   },
   {
    "duration": 29,
    "start_time": "2022-12-11T09:00:28.119Z"
   },
   {
    "duration": 13,
    "start_time": "2022-12-11T09:00:28.150Z"
   },
   {
    "duration": 17,
    "start_time": "2022-12-11T09:00:28.165Z"
   },
   {
    "duration": 63,
    "start_time": "2022-12-11T09:00:28.184Z"
   },
   {
    "duration": 12,
    "start_time": "2022-12-11T09:00:28.251Z"
   },
   {
    "duration": 13,
    "start_time": "2022-12-11T09:00:28.265Z"
   },
   {
    "duration": 7,
    "start_time": "2022-12-11T09:00:28.280Z"
   },
   {
    "duration": 24,
    "start_time": "2022-12-11T09:00:28.288Z"
   },
   {
    "duration": 40,
    "start_time": "2022-12-11T09:00:28.314Z"
   },
   {
    "duration": 7,
    "start_time": "2022-12-11T09:00:28.356Z"
   },
   {
    "duration": 8,
    "start_time": "2022-12-11T09:00:28.365Z"
   },
   {
    "duration": 12,
    "start_time": "2022-12-11T09:00:28.374Z"
   },
   {
    "duration": 8,
    "start_time": "2022-12-11T09:00:28.388Z"
   },
   {
    "duration": 17,
    "start_time": "2022-12-11T09:00:28.397Z"
   },
   {
    "duration": 96,
    "start_time": "2022-12-11T09:02:41.451Z"
   },
   {
    "duration": 313,
    "start_time": "2022-12-11T09:02:44.458Z"
   },
   {
    "duration": 1462,
    "start_time": "2022-12-18T00:52:49.225Z"
   },
   {
    "duration": 971,
    "start_time": "2022-12-18T00:52:50.689Z"
   },
   {
    "duration": 90,
    "start_time": "2022-12-18T00:52:51.662Z"
   },
   {
    "duration": 365,
    "start_time": "2022-12-18T00:52:51.754Z"
   },
   {
    "duration": 104,
    "start_time": "2022-12-18T00:52:52.121Z"
   },
   {
    "duration": 506,
    "start_time": "2022-12-18T00:52:52.234Z"
   },
   {
    "duration": 24,
    "start_time": "2022-12-18T00:52:52.742Z"
   },
   {
    "duration": 13,
    "start_time": "2022-12-18T00:52:52.768Z"
   },
   {
    "duration": 88,
    "start_time": "2022-12-18T00:52:52.783Z"
   },
   {
    "duration": 23,
    "start_time": "2022-12-18T00:52:52.874Z"
   },
   {
    "duration": 20,
    "start_time": "2022-12-18T00:52:52.899Z"
   },
   {
    "duration": 58,
    "start_time": "2022-12-18T00:52:52.936Z"
   },
   {
    "duration": 41,
    "start_time": "2022-12-18T00:52:52.996Z"
   },
   {
    "duration": 37,
    "start_time": "2022-12-18T00:52:53.039Z"
   },
   {
    "duration": 15,
    "start_time": "2022-12-18T00:52:53.078Z"
   },
   {
    "duration": 54,
    "start_time": "2022-12-18T00:52:53.094Z"
   },
   {
    "duration": 174,
    "start_time": "2022-12-18T00:52:53.150Z"
   },
   {
    "duration": 56,
    "start_time": "2022-12-18T00:52:53.325Z"
   },
   {
    "duration": 167,
    "start_time": "2022-12-18T00:52:53.382Z"
   },
   {
    "duration": 47,
    "start_time": "2022-12-18T00:52:53.551Z"
   },
   {
    "duration": 4,
    "start_time": "2022-12-18T00:52:53.601Z"
   },
   {
    "duration": 77,
    "start_time": "2022-12-18T00:52:53.607Z"
   },
   {
    "duration": 32,
    "start_time": "2022-12-18T00:52:53.687Z"
   },
   {
    "duration": 30,
    "start_time": "2022-12-18T00:52:53.734Z"
   },
   {
    "duration": 328,
    "start_time": "2022-12-18T00:52:53.767Z"
   },
   {
    "duration": 30,
    "start_time": "2022-12-18T00:52:54.096Z"
   },
   {
    "duration": 269,
    "start_time": "2022-12-18T00:52:54.136Z"
   },
   {
    "duration": 31,
    "start_time": "2022-12-18T00:52:54.409Z"
   },
   {
    "duration": 227,
    "start_time": "2022-12-18T00:52:54.441Z"
   },
   {
    "duration": 20,
    "start_time": "2022-12-18T00:52:54.670Z"
   },
   {
    "duration": 9,
    "start_time": "2022-12-18T00:52:54.692Z"
   },
   {
    "duration": 134,
    "start_time": "2022-12-18T00:52:54.702Z"
   },
   {
    "duration": 3,
    "start_time": "2022-12-18T00:52:54.838Z"
   },
   {
    "duration": 22,
    "start_time": "2022-12-18T00:52:54.842Z"
   },
   {
    "duration": 5706,
    "start_time": "2022-12-19T17:06:19.490Z"
   },
   {
    "duration": 303,
    "start_time": "2022-12-19T17:06:25.197Z"
   },
   {
    "duration": 80,
    "start_time": "2022-12-19T17:06:25.501Z"
   },
   {
    "duration": 75,
    "start_time": "2022-12-19T17:06:25.583Z"
   },
   {
    "duration": 97,
    "start_time": "2022-12-19T17:06:25.660Z"
   },
   {
    "duration": 90,
    "start_time": "2022-12-19T17:06:25.759Z"
   },
   {
    "duration": 3,
    "start_time": "2022-12-19T17:06:25.850Z"
   },
   {
    "duration": 90,
    "start_time": "2022-12-19T17:06:25.854Z"
   },
   {
    "duration": 88,
    "start_time": "2022-12-19T17:06:25.945Z"
   },
   {
    "duration": 75,
    "start_time": "2022-12-19T17:06:26.035Z"
   },
   {
    "duration": 78,
    "start_time": "2022-12-19T17:06:26.112Z"
   },
   {
    "duration": 77,
    "start_time": "2022-12-19T17:06:26.192Z"
   },
   {
    "duration": 110,
    "start_time": "2022-12-19T17:08:40.924Z"
   },
   {
    "duration": 111,
    "start_time": "2022-12-19T17:08:44.021Z"
   },
   {
    "duration": 80,
    "start_time": "2022-12-19T17:09:19.785Z"
   },
   {
    "duration": 79,
    "start_time": "2022-12-19T17:09:23.251Z"
   },
   {
    "duration": 8428,
    "start_time": "2022-12-19T21:18:24.666Z"
   },
   {
    "duration": 405,
    "start_time": "2022-12-19T21:18:33.097Z"
   },
   {
    "duration": 100,
    "start_time": "2022-12-19T21:18:33.504Z"
   },
   {
    "duration": 95,
    "start_time": "2022-12-19T21:18:33.606Z"
   },
   {
    "duration": 156,
    "start_time": "2022-12-19T21:18:33.704Z"
   },
   {
    "duration": 111,
    "start_time": "2022-12-19T21:18:33.862Z"
   },
   {
    "duration": 18,
    "start_time": "2022-12-19T21:18:33.975Z"
   },
   {
    "duration": 99,
    "start_time": "2022-12-19T21:18:33.995Z"
   },
   {
    "duration": 93,
    "start_time": "2022-12-19T21:18:34.097Z"
   },
   {
    "duration": 98,
    "start_time": "2022-12-19T21:18:34.192Z"
   },
   {
    "duration": 106,
    "start_time": "2022-12-19T21:18:34.292Z"
   },
   {
    "duration": 101,
    "start_time": "2022-12-19T21:18:34.400Z"
   },
   {
    "duration": 133,
    "start_time": "2022-12-19T21:19:26.651Z"
   },
   {
    "duration": 163,
    "start_time": "2022-12-19T21:19:36.475Z"
   },
   {
    "duration": 161,
    "start_time": "2022-12-19T21:19:39.049Z"
   }
  ],
  "kernelspec": {
   "display_name": "Python 3 (ipykernel)",
   "language": "python",
   "name": "python3"
  },
  "language_info": {
   "codemirror_mode": {
    "name": "ipython",
    "version": 3
   },
   "file_extension": ".py",
   "mimetype": "text/x-python",
   "name": "python",
   "nbconvert_exporter": "python",
   "pygments_lexer": "ipython3",
   "version": "3.9.12"
  },
  "toc": {
   "base_numbering": 1,
   "nav_menu": {},
   "number_sections": true,
   "sideBar": true,
   "skip_h1_title": true,
   "title_cell": "Table of Contents",
   "title_sidebar": "Contents",
   "toc_cell": false,
   "toc_position": {
    "height": "calc(100% - 180px)",
    "left": "10px",
    "top": "150px",
    "width": "165px"
   },
   "toc_section_display": true,
   "toc_window_display": true
  }
 },
 "nbformat": 4,
 "nbformat_minor": 5
}
