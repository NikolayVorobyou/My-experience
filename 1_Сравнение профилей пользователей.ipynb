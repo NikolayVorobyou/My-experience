{
 "cells": [
  {
   "cell_type": "markdown",
   "metadata": {
    "id": "E0vqbgi9ay0H"
   },
   "source": [
    "# Яндекс.Музыка"
   ]
  },
  {
   "cell_type": "markdown",
   "metadata": {
    "id": "VUC88oWjTJw2"
   },
   "source": [
    "На данных Яндекс.Музыки сравнивается поведение пользователей двух городов.\n",
    "\n",
    "**Цель исследования** — проверка предположений:\n",
    "1. Активность пользователей зависит от дня недели. Причём в Москве и Петербурге это проявляется по-разному.\n",
    "2. В понедельник утром в Москве преобладают одни жанры, а в Петербурге — другие. Так же и вечером пятницы преобладают разные жанры — в зависимости от города. \n",
    "3. Москва и Петербург предпочитают разные жанры музыки. В Москве чаще слушают поп-музыку, в Петербурге — русский рэп.\n",
    "\n",
    "**Ход исследования**\n",
    "\n",
    "О качестве данных ничего не известно. Поэтому перед проверкой понадобится обзор и предобработка данных. \n",
    " \n",
    "Таким образом, исследование пройдёт в три этапа:\n",
    " 1. Обзор данных.\n",
    " 2. Предобработка данных.\n",
    " 3. Проверка предположений.\n",
    "\n"
   ]
  },
  {
   "cell_type": "markdown",
   "metadata": {
    "id": "Ml1hmfXC_Zcs"
   },
   "source": [
    "## Обзор данных"
   ]
  },
  {
   "cell_type": "code",
   "execution_count": 1,
   "metadata": {
    "id": "AXN7PHPN_Zcs"
   },
   "outputs": [],
   "source": [
    "import pandas as pd\n",
    "# импорт библиотеки pandas"
   ]
  },
  {
   "cell_type": "code",
   "execution_count": 2,
   "metadata": {
    "id": "fFVu7vqh_Zct"
   },
   "outputs": [],
   "source": [
    "df = pd.read_csv('с:/project.csv') \n",
    "# чтение файла с данными и сохранение в df"
   ]
  },
  {
   "cell_type": "code",
   "execution_count": 3,
   "metadata": {
    "id": "oWTVX3gW_Zct"
   },
   "outputs": [
    {
     "data": {
      "text/html": [
       "<div>\n",
       "<style scoped>\n",
       "    .dataframe tbody tr th:only-of-type {\n",
       "        vertical-align: middle;\n",
       "    }\n",
       "\n",
       "    .dataframe tbody tr th {\n",
       "        vertical-align: top;\n",
       "    }\n",
       "\n",
       "    .dataframe thead th {\n",
       "        text-align: right;\n",
       "    }\n",
       "</style>\n",
       "<table border=\"1\" class=\"dataframe\">\n",
       "  <thead>\n",
       "    <tr style=\"text-align: right;\">\n",
       "      <th></th>\n",
       "      <th>userID</th>\n",
       "      <th>Track</th>\n",
       "      <th>artist</th>\n",
       "      <th>genre</th>\n",
       "      <th>City</th>\n",
       "      <th>time</th>\n",
       "      <th>Day</th>\n",
       "    </tr>\n",
       "  </thead>\n",
       "  <tbody>\n",
       "    <tr>\n",
       "      <th>0</th>\n",
       "      <td>FFB692EC</td>\n",
       "      <td>Kamigata To Boots</td>\n",
       "      <td>The Mass Missile</td>\n",
       "      <td>rock</td>\n",
       "      <td>Saint-Petersburg</td>\n",
       "      <td>20:28:33</td>\n",
       "      <td>Wednesday</td>\n",
       "    </tr>\n",
       "    <tr>\n",
       "      <th>1</th>\n",
       "      <td>55204538</td>\n",
       "      <td>Delayed Because of Accident</td>\n",
       "      <td>Andreas Rönnberg</td>\n",
       "      <td>rock</td>\n",
       "      <td>Moscow</td>\n",
       "      <td>14:07:09</td>\n",
       "      <td>Friday</td>\n",
       "    </tr>\n",
       "    <tr>\n",
       "      <th>2</th>\n",
       "      <td>20EC38</td>\n",
       "      <td>Funiculì funiculà</td>\n",
       "      <td>Mario Lanza</td>\n",
       "      <td>pop</td>\n",
       "      <td>Saint-Petersburg</td>\n",
       "      <td>20:58:07</td>\n",
       "      <td>Wednesday</td>\n",
       "    </tr>\n",
       "    <tr>\n",
       "      <th>3</th>\n",
       "      <td>A3DD03C9</td>\n",
       "      <td>Dragons in the Sunset</td>\n",
       "      <td>Fire + Ice</td>\n",
       "      <td>folk</td>\n",
       "      <td>Saint-Petersburg</td>\n",
       "      <td>08:37:09</td>\n",
       "      <td>Monday</td>\n",
       "    </tr>\n",
       "    <tr>\n",
       "      <th>4</th>\n",
       "      <td>E2DC1FAE</td>\n",
       "      <td>Soul People</td>\n",
       "      <td>Space Echo</td>\n",
       "      <td>dance</td>\n",
       "      <td>Moscow</td>\n",
       "      <td>08:34:34</td>\n",
       "      <td>Monday</td>\n",
       "    </tr>\n",
       "    <tr>\n",
       "      <th>5</th>\n",
       "      <td>842029A1</td>\n",
       "      <td>Преданная</td>\n",
       "      <td>IMPERVTOR</td>\n",
       "      <td>rusrap</td>\n",
       "      <td>Saint-Petersburg</td>\n",
       "      <td>13:09:41</td>\n",
       "      <td>Friday</td>\n",
       "    </tr>\n",
       "    <tr>\n",
       "      <th>6</th>\n",
       "      <td>4CB90AA5</td>\n",
       "      <td>True</td>\n",
       "      <td>Roman Messer</td>\n",
       "      <td>dance</td>\n",
       "      <td>Moscow</td>\n",
       "      <td>13:00:07</td>\n",
       "      <td>Wednesday</td>\n",
       "    </tr>\n",
       "    <tr>\n",
       "      <th>7</th>\n",
       "      <td>F03E1C1F</td>\n",
       "      <td>Feeling This Way</td>\n",
       "      <td>Polina Griffith</td>\n",
       "      <td>dance</td>\n",
       "      <td>Moscow</td>\n",
       "      <td>20:47:49</td>\n",
       "      <td>Wednesday</td>\n",
       "    </tr>\n",
       "    <tr>\n",
       "      <th>8</th>\n",
       "      <td>8FA1D3BE</td>\n",
       "      <td>И вновь продолжается бой</td>\n",
       "      <td>NaN</td>\n",
       "      <td>ruspop</td>\n",
       "      <td>Moscow</td>\n",
       "      <td>09:17:40</td>\n",
       "      <td>Friday</td>\n",
       "    </tr>\n",
       "    <tr>\n",
       "      <th>9</th>\n",
       "      <td>E772D5C0</td>\n",
       "      <td>Pessimist</td>\n",
       "      <td>NaN</td>\n",
       "      <td>dance</td>\n",
       "      <td>Saint-Petersburg</td>\n",
       "      <td>21:20:49</td>\n",
       "      <td>Wednesday</td>\n",
       "    </tr>\n",
       "  </tbody>\n",
       "</table>\n",
       "</div>"
      ],
      "text/plain": [
       "     userID                        Track            artist   genre  \\\n",
       "0  FFB692EC            Kamigata To Boots  The Mass Missile    rock   \n",
       "1  55204538  Delayed Because of Accident  Andreas Rönnberg    rock   \n",
       "2    20EC38            Funiculì funiculà       Mario Lanza     pop   \n",
       "3  A3DD03C9        Dragons in the Sunset        Fire + Ice    folk   \n",
       "4  E2DC1FAE                  Soul People        Space Echo   dance   \n",
       "5  842029A1                    Преданная         IMPERVTOR  rusrap   \n",
       "6  4CB90AA5                         True      Roman Messer   dance   \n",
       "7  F03E1C1F             Feeling This Way   Polina Griffith   dance   \n",
       "8  8FA1D3BE     И вновь продолжается бой               NaN  ruspop   \n",
       "9  E772D5C0                    Pessimist               NaN   dance   \n",
       "\n",
       "             City        time        Day  \n",
       "0  Saint-Petersburg  20:28:33  Wednesday  \n",
       "1            Moscow  14:07:09     Friday  \n",
       "2  Saint-Petersburg  20:58:07  Wednesday  \n",
       "3  Saint-Petersburg  08:37:09     Monday  \n",
       "4            Moscow  08:34:34     Monday  \n",
       "5  Saint-Petersburg  13:09:41     Friday  \n",
       "6            Moscow  13:00:07  Wednesday  \n",
       "7            Moscow  20:47:49  Wednesday  \n",
       "8            Moscow  09:17:40     Friday  \n",
       "9  Saint-Petersburg  21:20:49  Wednesday  "
      ]
     },
     "metadata": {},
     "output_type": "display_data"
    }
   ],
   "source": [
    "display(df.head(10))# получение первых 10 строк таблицы df"
   ]
  },
  {
   "cell_type": "code",
   "execution_count": 4,
   "metadata": {
    "id": "DSf2kIb-_Zct"
   },
   "outputs": [
    {
     "name": "stdout",
     "output_type": "stream",
     "text": [
      "<class 'pandas.core.frame.DataFrame'>\n",
      "RangeIndex: 65079 entries, 0 to 65078\n",
      "Data columns (total 7 columns):\n",
      " #   Column    Non-Null Count  Dtype \n",
      "---  ------    --------------  ----- \n",
      " 0     userID  65079 non-null  object\n",
      " 1   Track     63848 non-null  object\n",
      " 2   artist    57876 non-null  object\n",
      " 3   genre     63881 non-null  object\n",
      " 4     City    65079 non-null  object\n",
      " 5   time      65079 non-null  object\n",
      " 6   Day       65079 non-null  object\n",
      "dtypes: object(7)\n",
      "memory usage: 3.5+ MB\n"
     ]
    }
   ],
   "source": [
    "df.info()\n",
    "# получение общей информации о данных в таблице df"
   ]
  },
  {
   "cell_type": "markdown",
   "metadata": {
    "id": "TaQ2Iwbr_Zct"
   },
   "source": [
    "Итак, в таблице семь столбцов. Тип данных во всех столбцах — `object`.\n",
    "\n",
    "Согласно документации к данным:\n",
    "* `userID` — идентификатор пользователя;\n",
    "* `Track` — название трека;  \n",
    "* `artist` — имя исполнителя;\n",
    "* `genre` — название жанра;\n",
    "* `City` — город пользователя;\n",
    "* `time` — время начала прослушивания;\n",
    "* `Day` — день недели.\n",
    "\n",
    "В названиях колонок видны три нарушения стиля:\n",
    "1. Строчные буквы сочетаются с прописными.\n",
    "2. Встречаются пробелы.\n",
    "3. Количество значений в столбцах различается. Значит, в данных есть пропущенные значения.\n",
    "4. Из названия столбца time не следует что это время начала прослушивания."
   ]
  },
  {
   "cell_type": "markdown",
   "metadata": {
    "id": "MCB6-dXG_Zct"
   },
   "source": [
    "**Выводы**\n",
    "\n",
    "В каждой строке таблицы — данные о прослушанном треке. Часть колонок описывает саму композицию: название, исполнителя и жанр. Остальные данные рассказывают о пользователе: из какого он города, когда он слушал музыку. \n",
    "\n",
    "Предварительно можно утверждать, что, данных достаточно для проверки гипотез. Но встречаются пропуски в данных, а в названиях колонок — расхождения с хорошим стилем.\n",
    "\n",
    "Чтобы двигаться дальше, нужно устранить проблемы в данных."
   ]
  },
  {
   "cell_type": "markdown",
   "metadata": {
    "id": "SjYF6Ub9_Zct"
   },
   "source": [
    "## Предобработка данных\n"
   ]
  },
  {
   "cell_type": "code",
   "execution_count": 5,
   "metadata": {
    "id": "oKOTdF_Q_Zct"
   },
   "outputs": [
    {
     "name": "stdout",
     "output_type": "stream",
     "text": [
      "Index(['  userID', 'Track', 'artist', 'genre', '  City  ', 'time', 'Day'], dtype='object')\n"
     ]
    }
   ],
   "source": [
    "print(df.columns)\n",
    "# перечень названий столбцов таблицы df"
   ]
  },
  {
   "cell_type": "code",
   "execution_count": 6,
   "metadata": {
    "id": "ISlFqs5y_Zct"
   },
   "outputs": [],
   "source": [
    "df = df.rename(columns={'  userID':'user_id', 'Track':'track', '  City  ':'city', 'Day':'day'}) \n",
    "# переименование столбцов"
   ]
  },
  {
   "cell_type": "code",
   "execution_count": 7,
   "metadata": {
    "id": "d4NOAmTW_Zct"
   },
   "outputs": [
    {
     "name": "stdout",
     "output_type": "stream",
     "text": [
      "Index(['user_id', 'track', 'artist', 'genre', 'city', 'time', 'day'], dtype='object')\n"
     ]
    }
   ],
   "source": [
    "print(df.columns)\n",
    "# проверка результатов - перечень названий столбцов"
   ]
  },
  {
   "cell_type": "code",
   "execution_count": 8,
   "metadata": {
    "id": "RskX29qr_Zct"
   },
   "outputs": [
    {
     "data": {
      "text/plain": [
       "user_id       0\n",
       "track      1231\n",
       "artist     7203\n",
       "genre      1198\n",
       "city          0\n",
       "time          0\n",
       "day           0\n",
       "dtype: int64"
      ]
     },
     "metadata": {},
     "output_type": "display_data"
    }
   ],
   "source": [
    "display(df.isna().sum())\n",
    "# подсчёт пропусков"
   ]
  },
  {
   "cell_type": "markdown",
   "metadata": {},
   "source": [
    "Всего в genre 1198 пропусков, их количество пренебрежимо мало составляет менее 2% от общей выборки 65079. При таком пренебрежимо малом Их исключение не окажет существенного влияния на результат."
   ]
  },
  {
   "cell_type": "code",
   "execution_count": 9,
   "metadata": {
    "id": "KplB5qWs_Zct"
   },
   "outputs": [],
   "source": [
    "columns_to_replace = ['track', 'artist', 'genre'] \n",
    "for column in columns_to_replace: \n",
    "    df[column] = df[column].fillna('unknown') \n",
    "\n",
    "# перебор названий столбцов в цикле и замена пропущенных значений на 'unknown'"
   ]
  },
  {
   "cell_type": "code",
   "execution_count": 10,
   "metadata": {
    "id": "Tq4nYRX4_Zct"
   },
   "outputs": [
    {
     "data": {
      "text/plain": [
       "user_id    0\n",
       "track      0\n",
       "artist     0\n",
       "genre      0\n",
       "city       0\n",
       "time       0\n",
       "day        0\n",
       "dtype: int64"
      ]
     },
     "metadata": {},
     "output_type": "display_data"
    }
   ],
   "source": [
    "display(df.isna().sum())\n",
    "# подсчёт пропусков"
   ]
  },
  {
   "cell_type": "code",
   "execution_count": 11,
   "metadata": {
    "id": "36eES_S0_Zct"
   },
   "outputs": [
    {
     "name": "stdout",
     "output_type": "stream",
     "text": [
      "3826\n"
     ]
    }
   ],
   "source": [
    "print(df.duplicated().sum())\n",
    "# подсчёт явных дубликатов"
   ]
  },
  {
   "cell_type": "code",
   "execution_count": 46,
   "metadata": {
    "id": "exFHq6tt_Zct"
   },
   "outputs": [],
   "source": [
    "df = df.drop_duplicates().reset_index(drop=True)\n",
    "# удаление явных дубликатов (с удалением старых индексов и формированием новых)"
   ]
  },
  {
   "cell_type": "code",
   "execution_count": 13,
   "metadata": {
    "id": "-8PuNWQ0_Zct"
   },
   "outputs": [
    {
     "name": "stdout",
     "output_type": "stream",
     "text": [
      "0\n"
     ]
    }
   ],
   "source": [
    "print(df.duplicated().sum())\n",
    "# проверка на отсутствие дубликатов"
   ]
  },
  {
   "cell_type": "code",
   "execution_count": 14,
   "metadata": {
    "id": "JIUcqzZN_Zct"
   },
   "outputs": [
    {
     "name": "stdout",
     "output_type": "stream",
     "text": [
      "['acid', 'acoustic', 'action', 'adult', 'africa', 'afrikaans', 'alternative', 'alternativepunk', 'ambient', 'americana', 'animated', 'anime', 'arabesk', 'arabic', 'arena', 'argentinetango', 'art', 'audiobook', 'author', 'avantgarde', 'axé', 'baile', 'balkan', 'beats', 'bigroom', 'black', 'bluegrass', 'blues', 'bollywood', 'bossa', 'brazilian', 'breakbeat', 'breaks', 'broadway', 'cantautori', 'cantopop', 'canzone', 'caribbean', 'caucasian', 'celtic', 'chamber', 'chanson', 'children', 'chill', 'chinese', 'choral', 'christian', 'christmas', 'classical', 'classicmetal', 'club', 'colombian', 'comedy', 'conjazz', 'contemporary', 'country', 'cuban', 'dance', 'dancehall', 'dancepop', 'dark', 'death', 'deep', 'deutschrock', 'deutschspr', 'dirty', 'disco', 'dnb', 'documentary', 'downbeat', 'downtempo', 'drum', 'dub', 'dubstep', 'eastern', 'easy', 'electronic', 'electropop', 'emo', 'entehno', 'epicmetal', 'estrada', 'ethnic', 'eurofolk', 'european', 'experimental', 'extrememetal', 'fado', 'fairytail', 'film', 'fitness', 'flamenco', 'folk', 'folklore', 'folkmetal', 'folkrock', 'folktronica', 'forró', 'frankreich', 'französisch', 'french', 'funk', 'future', 'gangsta', 'garage', 'german', 'ghazal', 'gitarre', 'glitch', 'gospel', 'gothic', 'grime', 'grunge', 'gypsy', 'handsup', \"hard'n'heavy\", 'hardcore', 'hardstyle', 'hardtechno', 'hip', 'hip-hop', 'hiphop', 'historisch', 'holiday', 'hop', 'horror', 'house', 'hymn', 'idm', 'independent', 'indian', 'indie', 'indipop', 'industrial', 'inspirational', 'instrumental', 'international', 'irish', 'jam', 'japanese', 'jazz', 'jewish', 'jpop', 'jungle', 'k-pop', 'karadeniz', 'karaoke', 'kayokyoku', 'korean', 'laiko', 'latin', 'latino', 'leftfield', 'local', 'lounge', 'loungeelectronic', 'lovers', 'malaysian', 'mandopop', 'marschmusik', 'meditative', 'mediterranean', 'melodic', 'metal', 'metalcore', 'mexican', 'middle', 'minimal', 'miscellaneous', 'modern', 'mood', 'mpb', 'muslim', 'native', 'neoklassik', 'neue', 'new', 'newage', 'newwave', 'nu', 'nujazz', 'numetal', 'oceania', 'old', 'opera', 'orchestral', 'other', 'piano', 'podcasts', 'pop', 'popdance', 'popelectronic', 'popeurodance', 'poprussian', 'post', 'posthardcore', 'postrock', 'power', 'progmetal', 'progressive', 'psychedelic', 'punjabi', 'punk', 'quebecois', 'ragga', 'ram', 'rancheras', 'rap', 'rave', 'reggae', 'reggaeton', 'regional', 'relax', 'religious', 'retro', 'rhythm', 'rnb', 'rnr', 'rock', 'rockabilly', 'rockalternative', 'rockindie', 'rockother', 'romance', 'roots', 'ruspop', 'rusrap', 'rusrock', 'russian', 'salsa', 'samba', 'scenic', 'schlager', 'self', 'sertanejo', 'shanson', 'shoegazing', 'showtunes', 'singer', 'ska', 'skarock', 'slow', 'smooth', 'soft', 'soul', 'soulful', 'sound', 'soundtrack', 'southern', 'specialty', 'speech', 'spiritual', 'sport', 'stonerrock', 'surf', 'swing', 'synthpop', 'synthrock', 'sängerportrait', 'tango', 'tanzorchester', 'taraftar', 'tatar', 'tech', 'techno', 'teen', 'thrash', 'top', 'traditional', 'tradjazz', 'trance', 'tribal', 'trip', 'triphop', 'tropical', 'türk', 'türkçe', 'ukrrock', 'unknown', 'urban', 'uzbek', 'variété', 'vi', 'videogame', 'vocal', 'western', 'world', 'worldbeat', 'ïîï', 'электроника']\n"
     ]
    }
   ],
   "source": [
    "print(sorted(df['genre'].unique()))\n",
    "# Просмотр уникальных названий жанров"
   ]
  },
  {
   "cell_type": "code",
   "execution_count": 15,
   "metadata": {
    "id": "ErNDkmns_Zct"
   },
   "outputs": [],
   "source": [
    "def replace_wrong_genres(wrong_genres, correct_value):\n",
    "    for wrong_genre in wrong_genres:\n",
    "         df['genre'] = df['genre'].replace(wrong_genres, correct_value)\n",
    "\n",
    "# Функция для замены неявных дубликатов"
   ]
  },
  {
   "cell_type": "code",
   "execution_count": 16,
   "metadata": {
    "id": "YN5i2hpmSo09"
   },
   "outputs": [],
   "source": [
    "wrong_genres = ['hip', 'hop', 'hip-hop']\n",
    "correct_value = 'hiphop'\n",
    "replace_wrong_genres(wrong_genres, correct_value) \n",
    "\n",
    "# Устранение неявных дубликатов"
   ]
  },
  {
   "cell_type": "code",
   "execution_count": 17,
   "metadata": {
    "id": "wvixALnFG15m"
   },
   "outputs": [
    {
     "name": "stdout",
     "output_type": "stream",
     "text": [
      "['acid', 'acoustic', 'action', 'adult', 'africa', 'afrikaans', 'alternative', 'alternativepunk', 'ambient', 'americana', 'animated', 'anime', 'arabesk', 'arabic', 'arena', 'argentinetango', 'art', 'audiobook', 'author', 'avantgarde', 'axé', 'baile', 'balkan', 'beats', 'bigroom', 'black', 'bluegrass', 'blues', 'bollywood', 'bossa', 'brazilian', 'breakbeat', 'breaks', 'broadway', 'cantautori', 'cantopop', 'canzone', 'caribbean', 'caucasian', 'celtic', 'chamber', 'chanson', 'children', 'chill', 'chinese', 'choral', 'christian', 'christmas', 'classical', 'classicmetal', 'club', 'colombian', 'comedy', 'conjazz', 'contemporary', 'country', 'cuban', 'dance', 'dancehall', 'dancepop', 'dark', 'death', 'deep', 'deutschrock', 'deutschspr', 'dirty', 'disco', 'dnb', 'documentary', 'downbeat', 'downtempo', 'drum', 'dub', 'dubstep', 'eastern', 'easy', 'electronic', 'electropop', 'emo', 'entehno', 'epicmetal', 'estrada', 'ethnic', 'eurofolk', 'european', 'experimental', 'extrememetal', 'fado', 'fairytail', 'film', 'fitness', 'flamenco', 'folk', 'folklore', 'folkmetal', 'folkrock', 'folktronica', 'forró', 'frankreich', 'französisch', 'french', 'funk', 'future', 'gangsta', 'garage', 'german', 'ghazal', 'gitarre', 'glitch', 'gospel', 'gothic', 'grime', 'grunge', 'gypsy', 'handsup', \"hard'n'heavy\", 'hardcore', 'hardstyle', 'hardtechno', 'hiphop', 'historisch', 'holiday', 'horror', 'house', 'hymn', 'idm', 'independent', 'indian', 'indie', 'indipop', 'industrial', 'inspirational', 'instrumental', 'international', 'irish', 'jam', 'japanese', 'jazz', 'jewish', 'jpop', 'jungle', 'k-pop', 'karadeniz', 'karaoke', 'kayokyoku', 'korean', 'laiko', 'latin', 'latino', 'leftfield', 'local', 'lounge', 'loungeelectronic', 'lovers', 'malaysian', 'mandopop', 'marschmusik', 'meditative', 'mediterranean', 'melodic', 'metal', 'metalcore', 'mexican', 'middle', 'minimal', 'miscellaneous', 'modern', 'mood', 'mpb', 'muslim', 'native', 'neoklassik', 'neue', 'new', 'newage', 'newwave', 'nu', 'nujazz', 'numetal', 'oceania', 'old', 'opera', 'orchestral', 'other', 'piano', 'podcasts', 'pop', 'popdance', 'popelectronic', 'popeurodance', 'poprussian', 'post', 'posthardcore', 'postrock', 'power', 'progmetal', 'progressive', 'psychedelic', 'punjabi', 'punk', 'quebecois', 'ragga', 'ram', 'rancheras', 'rap', 'rave', 'reggae', 'reggaeton', 'regional', 'relax', 'religious', 'retro', 'rhythm', 'rnb', 'rnr', 'rock', 'rockabilly', 'rockalternative', 'rockindie', 'rockother', 'romance', 'roots', 'ruspop', 'rusrap', 'rusrock', 'russian', 'salsa', 'samba', 'scenic', 'schlager', 'self', 'sertanejo', 'shanson', 'shoegazing', 'showtunes', 'singer', 'ska', 'skarock', 'slow', 'smooth', 'soft', 'soul', 'soulful', 'sound', 'soundtrack', 'southern', 'specialty', 'speech', 'spiritual', 'sport', 'stonerrock', 'surf', 'swing', 'synthpop', 'synthrock', 'sängerportrait', 'tango', 'tanzorchester', 'taraftar', 'tatar', 'tech', 'techno', 'teen', 'thrash', 'top', 'traditional', 'tradjazz', 'trance', 'tribal', 'trip', 'triphop', 'tropical', 'türk', 'türkçe', 'ukrrock', 'unknown', 'urban', 'uzbek', 'variété', 'vi', 'videogame', 'vocal', 'western', 'world', 'worldbeat', 'ïîï', 'электроника']\n"
     ]
    }
   ],
   "source": [
    "print(sorted(df['genre'].unique()))\n",
    "# Проверка на неявные дубликаты"
   ]
  },
  {
   "cell_type": "markdown",
   "metadata": {
    "id": "jz6a9-7HQUDd"
   },
   "source": [
    "**Выводы**\n",
    "\n",
    "Предобработкой устранены три проблемы в данных:\n",
    "\n",
    "- нарушения в стиле заголовков,\n",
    "- пропущенные значения,\n",
    "- дубликаты — явные и неявные.\n"
   ]
  },
  {
   "cell_type": "markdown",
   "metadata": {
    "id": "WttZHXH0SqKk"
   },
   "source": [
    "## Проверка предположений"
   ]
  },
  {
   "cell_type": "markdown",
   "metadata": {
    "id": "Im936VVi_Zcu"
   },
   "source": [
    "### Сравнение поведения пользователей двух столиц"
   ]
  },
  {
   "cell_type": "code",
   "execution_count": 43,
   "metadata": {
    "id": "0_Qs96oh_Zcu"
   },
   "outputs": [
    {
     "name": "stdout",
     "output_type": "stream",
     "text": [
      "city\n",
      "Moscow              42741\n",
      "Saint-Petersburg    18512\n",
      "Name: track, dtype: int64\n"
     ]
    }
   ],
   "source": [
    "print(df.groupby('city')['track'].count()) # Подсчёт прослушиваний в каждом городе\n"
   ]
  },
  {
   "cell_type": "markdown",
   "metadata": {
    "id": "dzli3w8o_Zcu"
   },
   "source": [
    "В Москве прослушиваний больше, чем в Петербурге. Из этого не следует, что московские пользователи чаще слушают музыку. Просто самих пользователей в Москве больше.\n",
    "\n",
    "Сгруппируем данные по дню недели и подсчитаем прослушивания в понедельник, среду и пятницу (в данных есть информация о прослушиваниях только за эти дни).\n"
   ]
  },
  {
   "cell_type": "code",
   "execution_count": 45,
   "metadata": {
    "id": "uZMKjiJz_Zcu"
   },
   "outputs": [
    {
     "name": "stdout",
     "output_type": "stream",
     "text": [
      "day\n",
      "Friday       21840\n",
      "Monday       21354\n",
      "Wednesday    18059\n",
      "Name: track, dtype: int64\n"
     ]
    }
   ],
   "source": [
    "print(df.groupby('day')['track'].count()) # Подсчёт прослушиваний в каждый из трёх дней\n"
   ]
  },
  {
   "cell_type": "markdown",
   "metadata": {
    "id": "cC2tNrlL_Zcu"
   },
   "source": [
    "В среднем пользователи из двух городов менее активны по средам. Но картина может измениться, если рассмотреть каждый город в отдельности."
   ]
  },
  {
   "cell_type": "markdown",
   "metadata": {
    "id": "POzs8bGa_Zcu"
   },
   "source": [
    "Создим функцию `number_tracks()`, которая посчитает прослушивания для заданного дня и города. Ей понадобятся два параметра:\n",
    "* день недели,\n",
    "* название города.\n",
    "\n",
    "В функции сохраним в переменную строки исходной таблицы, у которых значение:\n",
    "  * в колонке `day` равно параметру `day`,\n",
    "  * в колонке `city` равно параметру `city`.\n",
    "\n",
    "Для этого применим последовательную фильтрацию с логической индексацией.\n",
    "\n",
    "Затем посчитаем значения в столбце `user_id` получившейся таблицы. Результат сохраним в новую переменную."
   ]
  },
  {
   "cell_type": "code",
   "execution_count": 20,
   "metadata": {
    "id": "Nz3GdQB1_Zcu"
   },
   "outputs": [],
   "source": [
    "def number_tracks(day, city):\n",
    "    track_list = df[df['day'] == day]\n",
    "    track_list = track_list[track_list['city'] == city]\n",
    "    track_list_count = track_list['user_id'].count()\n",
    "    return track_list_count\n",
    "\n",
    "\n",
    "# <создание функции number_tracks()>\n",
    "# Объявляется функция с двумя параметрами: day, city.\n",
    "# В переменной track_list сохраняются те строки таблицы df, для которых \n",
    "# значение в столбце 'day' равно параметру day и одновременно значение\n",
    "# в столбце 'city' равно параметру city (используйте последовательную фильтрацию\n",
    "# с помощью логической индексации).\n",
    "# В переменной track_list_count сохраняется число значений столбца 'user_id',\n",
    "# рассчитанное методом count() для таблицы track_list.\n",
    "# Функция возвращает число - значение track_list_count.\n",
    "\n",
    "# Функция для подсчёта прослушиваний для конкретного города и дня.\n",
    "# С помощью последовательной фильтрации с логической индексацией она \n",
    "# сначала получит из исходной таблицы строки с нужным днём,\n",
    "# затем из результата отфильтрует строки с нужным городом,\n",
    "# методом count() посчитает количество значений в колонке user_id. \n",
    "# Это количество функция вернёт в качестве результата"
   ]
  },
  {
   "cell_type": "code",
   "execution_count": 21,
   "metadata": {
    "id": "rJcRATNQ_Zcu"
   },
   "outputs": [
    {
     "data": {
      "text/plain": [
       "15740"
      ]
     },
     "execution_count": 21,
     "metadata": {},
     "output_type": "execute_result"
    }
   ],
   "source": [
    "number_tracks('Monday', 'Moscow')\n",
    "# количество прослушиваний в Москве по понедельникам"
   ]
  },
  {
   "cell_type": "code",
   "execution_count": 22,
   "metadata": {
    "id": "hq_ncZ5T_Zcu"
   },
   "outputs": [
    {
     "data": {
      "text/plain": [
       "5614"
      ]
     },
     "execution_count": 22,
     "metadata": {},
     "output_type": "execute_result"
    }
   ],
   "source": [
    "number_tracks('Monday', 'Saint-Petersburg')\n",
    "# количество прослушиваний в Санкт-Петербурге по понедельникам"
   ]
  },
  {
   "cell_type": "code",
   "execution_count": 23,
   "metadata": {
    "id": "_NTy2VPU_Zcu"
   },
   "outputs": [
    {
     "data": {
      "text/plain": [
       "11056"
      ]
     },
     "execution_count": 23,
     "metadata": {},
     "output_type": "execute_result"
    }
   ],
   "source": [
    "number_tracks('Wednesday', 'Moscow')\n",
    "# количество прослушиваний в Москве по средам"
   ]
  },
  {
   "cell_type": "code",
   "execution_count": 24,
   "metadata": {
    "id": "j2y3TAwo_Zcu"
   },
   "outputs": [
    {
     "data": {
      "text/plain": [
       "7003"
      ]
     },
     "execution_count": 24,
     "metadata": {},
     "output_type": "execute_result"
    }
   ],
   "source": [
    "number_tracks('Wednesday', 'Saint-Petersburg')\n",
    "# количество прослушиваний в Санкт-Петербурге по средам"
   ]
  },
  {
   "cell_type": "code",
   "execution_count": 25,
   "metadata": {
    "id": "vYDw5u_K_Zcu"
   },
   "outputs": [
    {
     "data": {
      "text/plain": [
       "15945"
      ]
     },
     "execution_count": 25,
     "metadata": {},
     "output_type": "execute_result"
    }
   ],
   "source": [
    "number_tracks('Friday', 'Moscow')\n",
    "# количество прослушиваний в Москве по пятницам"
   ]
  },
  {
   "cell_type": "code",
   "execution_count": 26,
   "metadata": {
    "id": "8_yzFtW3_Zcu"
   },
   "outputs": [
    {
     "data": {
      "text/plain": [
       "5895"
      ]
     },
     "execution_count": 26,
     "metadata": {},
     "output_type": "execute_result"
    }
   ],
   "source": [
    "number_tracks('Friday', 'Saint-Petersburg')\n",
    "# количество прослушиваний в Санкт-Петербурге по пятницам"
   ]
  },
  {
   "cell_type": "markdown",
   "metadata": {
    "id": "7QXffbO-_Zcu"
   },
   "source": [
    "Создадим c помощью конструктора `pd.DataFrame` таблицу, где\n",
    "* названия колонок — `['city', 'monday', 'wednesday', 'friday']`;\n",
    "* данные — результаты, которые вы получили с помощью `number_tracks`."
   ]
  },
  {
   "cell_type": "code",
   "execution_count": 27,
   "metadata": {
    "id": "APAcLpOr_Zcu",
    "scrolled": false
   },
   "outputs": [
    {
     "data": {
      "text/html": [
       "<div>\n",
       "<style scoped>\n",
       "    .dataframe tbody tr th:only-of-type {\n",
       "        vertical-align: middle;\n",
       "    }\n",
       "\n",
       "    .dataframe tbody tr th {\n",
       "        vertical-align: top;\n",
       "    }\n",
       "\n",
       "    .dataframe thead th {\n",
       "        text-align: right;\n",
       "    }\n",
       "</style>\n",
       "<table border=\"1\" class=\"dataframe\">\n",
       "  <thead>\n",
       "    <tr style=\"text-align: right;\">\n",
       "      <th></th>\n",
       "      <th>city</th>\n",
       "      <th>monday</th>\n",
       "      <th>wednesday</th>\n",
       "      <th>friday</th>\n",
       "    </tr>\n",
       "  </thead>\n",
       "  <tbody>\n",
       "    <tr>\n",
       "      <th>0</th>\n",
       "      <td>Moscow</td>\n",
       "      <td>15740</td>\n",
       "      <td>11056</td>\n",
       "      <td>15945</td>\n",
       "    </tr>\n",
       "    <tr>\n",
       "      <th>1</th>\n",
       "      <td>Saint-Petersburg</td>\n",
       "      <td>5614</td>\n",
       "      <td>7003</td>\n",
       "      <td>5895</td>\n",
       "    </tr>\n",
       "  </tbody>\n",
       "</table>\n",
       "</div>"
      ],
      "text/plain": [
       "               city  monday  wednesday  friday\n",
       "0            Moscow   15740      11056   15945\n",
       "1  Saint-Petersburg    5614       7003    5895"
      ]
     },
     "metadata": {},
     "output_type": "display_data"
    }
   ],
   "source": [
    "columns_day = ['city', 'monday', 'wednesday', 'friday'] \n",
    "day_score = [ \n",
    "    ['Moscow', 15740, 11056, 15945],\n",
    "    ['Saint-Petersburg', 5614, 7003, 5895]\n",
    "]\n",
    "filtr_day = pd.DataFrame(data=day_score, columns=columns_day)\n",
    "display(filtr_day)\n",
    "\n",
    "# Таблица с результатами"
   ]
  },
  {
   "cell_type": "markdown",
   "metadata": {
    "id": "-EgPIHYu_Zcu"
   },
   "source": [
    "**Выводы**\n",
    "\n",
    "Данные показывают разницу поведения пользователей:\n",
    "\n",
    "- В Москве пик прослушиваний приходится на понедельник и пятницу, а в среду заметен спад.\n",
    "- В Петербурге, наоборот, больше слушают музыку по средам. Активность в понедельник и пятницу здесь почти в равной мере уступает среде.\n"
   ]
  },
  {
   "cell_type": "markdown",
   "metadata": {
    "id": "atZAxtq4_Zcu"
   },
   "source": [
    "### Музыка в начале и в конце недели"
   ]
  },
  {
   "cell_type": "markdown",
   "metadata": {
    "id": "eXrQqXFH_Zcu"
   },
   "source": [
    "Согласно второму предположению, утром в понедельник в Москве преобладают одни жанры, а в Петербурге — другие. Так же и вечером пятницы преобладают разные жанры — в зависимости от города."
   ]
  },
  {
   "cell_type": "markdown",
   "metadata": {
    "id": "S8UcW6Hw_Zcu"
   },
   "source": [
    "Сохраним таблицы с данными в две переменные:\n",
    "* по Москве — в `moscow_general`;\n",
    "* по Санкт-Петербургу — в `spb_general`."
   ]
  },
  {
   "cell_type": "code",
   "execution_count": 28,
   "metadata": {
    "id": "qeaFfM_P_Zcu"
   },
   "outputs": [],
   "source": [
    "moscow_general = df[df['city'] == 'Moscow']\n",
    "\n",
    "# получение таблицы moscow_general из тех строк таблицы df, \n",
    "# для которых значение в столбце 'city' равно 'Moscow'\n"
   ]
  },
  {
   "cell_type": "code",
   "execution_count": 29,
   "metadata": {
    "id": "ORaVRKto_Zcu"
   },
   "outputs": [],
   "source": [
    "spb_general = df[df['city'] == 'Saint-Petersburg']\n",
    "\n",
    "# получение таблицы spb_general из тех строк таблицы df,\n",
    "# для которых значение в столбце 'city' равно 'Saint-Petersburg'\n"
   ]
  },
  {
   "cell_type": "markdown",
   "metadata": {
    "id": "MEJV-CX2_Zcu"
   },
   "source": [
    "Создадим функцию `genre_weekday()` с четырьмя параметрами:\n",
    "* таблица (датафрейм) с данными,\n",
    "* день недели,\n",
    "* начальная временная метка в формате 'hh:mm', \n",
    "* последняя временная метка в формате 'hh:mm'.\n",
    "\n",
    "Функция вернет информацию о топ-10 жанров тех треков, которые прослушивали в указанный день, в промежутке между двумя отметками времени."
   ]
  },
  {
   "cell_type": "code",
   "execution_count": 30,
   "metadata": {
    "id": "laJT9BYl_Zcu"
   },
   "outputs": [],
   "source": [
    "def genre_weekday(table, day, time1, time2):\n",
    "    genre_df = table[table['day'] == day]\n",
    "    genre_df = genre_df[genre_df['time'] > time1]\n",
    "    genre_df = genre_df[genre_df['time'] < time2]\n",
    "    genre_df_count = genre_df.groupby('genre')['genre'].count()\n",
    "    genre_df_sorted = genre_df_count.sort_values(ascending=False)\n",
    "    return genre_df_sorted.head(10)\n",
    "    \n",
    "# # Объявление функции genre_weekday() с параметрами table, day, time1, time2,\n",
    "# которая возвращает информацию о самых популярных жанрах в указанный день в\n",
    "# заданное время:\n",
    "# 1) в переменную genre_df сохраняются те строки переданного датафрейма table, для\n",
    "#    которых одновременно:\n",
    "#    - значение в столбце day равно значению аргумента day\n",
    "#    - значение в столбце time больше значения аргумента time1\n",
    "#    - значение в столбце time меньше значения аргумента time2\n",
    "#    Используйте последовательную фильтрацию с помощью логической индексации.\n",
    "# 2) сгруппировать датафрейм genre_df по столбцу genre, взять один из его\n",
    "#    столбцов и посчитать методом count() количество записей для каждого из\n",
    "#    присутствующих жанров, получившийся Series записать в переменную\n",
    "#    genre_df_count\n",
    "# 3) отсортировать genre_df_count по убыванию встречаемости и сохранить\n",
    "#    в переменную genre_df_sorted\n",
    "# 4) вернуть Series из 10 первых значений genre_df_sorted, это будут топ-10\n",
    "#    популярных жанров (в указанный день, в заданное время)"
   ]
  },
  {
   "cell_type": "markdown",
   "metadata": {
    "id": "la2s2_PF_Zcu"
   },
   "source": [
    "Cравним результаты функции `genre_weekday()` для Москвы и Санкт-Петербурга в понедельник утром (с 7:00 до 11:00) и в пятницу вечером (с 17:00 до 23:00):"
   ]
  },
  {
   "cell_type": "code",
   "execution_count": 31,
   "metadata": {
    "id": "yz7itPUQ_Zcu"
   },
   "outputs": [
    {
     "data": {
      "text/plain": [
       "genre\n",
       "pop            781\n",
       "dance          549\n",
       "electronic     480\n",
       "rock           474\n",
       "hiphop         286\n",
       "ruspop         186\n",
       "world          181\n",
       "rusrap         175\n",
       "alternative    164\n",
       "unknown        161\n",
       "Name: genre, dtype: int64"
      ]
     },
     "execution_count": 31,
     "metadata": {},
     "output_type": "execute_result"
    }
   ],
   "source": [
    "genre_weekday(moscow_general, 'Monday', '07:00', '11:00')\n",
    "\n",
    "# вызов функции для утра понедельника в Москве (вместо df — таблица moscow_general)\n",
    "# объекты, хранящие время, являются строками и сравниваются как строки\n",
    "# пример вызова: genre_weekday(moscow_general, 'Monday', '07:00', '11:00')"
   ]
  },
  {
   "cell_type": "code",
   "execution_count": 32,
   "metadata": {
    "id": "kwUcHPdy_Zcu"
   },
   "outputs": [
    {
     "data": {
      "text/plain": [
       "genre\n",
       "pop            218\n",
       "dance          182\n",
       "rock           162\n",
       "electronic     147\n",
       "hiphop          80\n",
       "ruspop          64\n",
       "alternative     58\n",
       "rusrap          55\n",
       "jazz            44\n",
       "classical       40\n",
       "Name: genre, dtype: int64"
      ]
     },
     "execution_count": 32,
     "metadata": {},
     "output_type": "execute_result"
    }
   ],
   "source": [
    "genre_weekday(spb_general, 'Monday', '07:00', '11:00')\n",
    "\n",
    "# вызов функции для утра понедельника в Петербурге (вместо df — таблица spb_general)"
   ]
  },
  {
   "cell_type": "code",
   "execution_count": 39,
   "metadata": {
    "id": "EzXVRE1o_Zcu"
   },
   "outputs": [
    {
     "data": {
      "text/plain": [
       "genre\n",
       "pop            713\n",
       "rock           517\n",
       "dance          495\n",
       "electronic     482\n",
       "hiphop         273\n",
       "world          208\n",
       "ruspop         170\n",
       "alternative    163\n",
       "classical      163\n",
       "rusrap         142\n",
       "Name: genre, dtype: int64"
      ]
     },
     "execution_count": 39,
     "metadata": {},
     "output_type": "execute_result"
    }
   ],
   "source": [
    "genre_weekday(moscow_general, 'Friday', '17:00', '23:00')\n",
    "\n",
    "# вызов функции для вечера пятницы в Москве"
   ]
  },
  {
   "cell_type": "code",
   "execution_count": 40,
   "metadata": {
    "id": "JZaEKu5v_Zcu"
   },
   "outputs": [
    {
     "data": {
      "text/plain": [
       "genre\n",
       "pop            256\n",
       "electronic     216\n",
       "rock           216\n",
       "dance          210\n",
       "hiphop          97\n",
       "alternative     63\n",
       "jazz            61\n",
       "classical       60\n",
       "rusrap          59\n",
       "world           54\n",
       "Name: genre, dtype: int64"
      ]
     },
     "execution_count": 40,
     "metadata": {},
     "output_type": "execute_result"
    }
   ],
   "source": [
    "genre_weekday(spb_general, 'Friday', '17:00', '23:00')\n",
    "\n",
    "# вызов функции для вечера пятницы в Петербурге"
   ]
  },
  {
   "cell_type": "markdown",
   "metadata": {
    "id": "wrCe4MNX_Zcu"
   },
   "source": [
    "**Выводы**\n",
    "\n",
    "Если сравнить топ-10 жанров в понедельник утром, можно сделать такие выводы:\n",
    "\n",
    "1. В Москве и Петербурге слушают похожую музыку. Единственное отличие — в московский рейтинг вошёл жанр “world”, а в петербургский — джаз и классика.\n",
    "\n",
    "2. В Москве пропущенных значений оказалось так много, что значение `'unknown'` заняло десятое место среди самых популярных жанров. Значит, пропущенные значения занимают существенную долю в данных и угрожают достоверности исследования.\n",
    "\n",
    "Вечер пятницы не меняет эту картину. Некоторые жанры поднимаются немного выше, другие спускаются, но в целом топ-10 остаётся тем же самым.\n",
    "\n",
    "Таким образом, вторая гипотеза подтвердилась лишь частично:\n",
    "* Пользователи слушают похожую музыку в начале недели и в конце.\n",
    "* Разница между Москвой и Петербургом не слишком выражена. В Москве чаще слушают русскую популярную музыку, в Петербурге — джаз.\n",
    "\n",
    "Однако пропуски в данных ставят под сомнение этот результат. В Москве их так много, что рейтинг топ-10 мог бы выглядеть несколько иначе."
   ]
  },
  {
   "cell_type": "markdown",
   "metadata": {
    "id": "JolODAqr_Zcu"
   },
   "source": [
    "### Жанровые предпочтения в Москве и Петербурге\n",
    "\n",
    "Предположение: Петербург — столица рэпа, музыку этого жанра там слушают чаще, чем в Москве.  А Москва — город контрастов, в котором, тем не менее, преобладает поп-музыка."
   ]
  },
  {
   "cell_type": "code",
   "execution_count": 35,
   "metadata": {
    "id": "r19lIPke_Zcu"
   },
   "outputs": [],
   "source": [
    "moscow_genres = moscow_general.groupby('genre')['genre'].count().sort_values(ascending=False)\n",
    "\n",
    "# одной строкой: группировка таблицы moscow_general по столбцу 'genre', \n",
    "# подсчёт числа значений 'genre' в этой группировке методом count(), \n",
    "# сортировка получившегося Series в порядке убывания и сохранение в moscow_genres"
   ]
  },
  {
   "cell_type": "code",
   "execution_count": 36,
   "metadata": {
    "id": "WhCSooF8_Zcv"
   },
   "outputs": [
    {
     "data": {
      "text/plain": [
       "genre\n",
       "pop            5892\n",
       "dance          4435\n",
       "rock           3965\n",
       "electronic     3786\n",
       "hiphop         2096\n",
       "classical      1616\n",
       "world          1432\n",
       "alternative    1379\n",
       "ruspop         1372\n",
       "rusrap         1161\n",
       "Name: genre, dtype: int64"
      ]
     },
     "metadata": {},
     "output_type": "display_data"
    }
   ],
   "source": [
    "display(moscow_genres.head(10))\n",
    "\n",
    "# просмотр первых 10 строк moscow_genres"
   ]
  },
  {
   "cell_type": "code",
   "execution_count": 37,
   "metadata": {
    "id": "gluLIpE7_Zcv"
   },
   "outputs": [],
   "source": [
    "spb_genres = spb_general.groupby('genre')['genre'].count().sort_values(ascending=False)\n",
    "\n",
    "# одной строкой: группировка таблицы spb_general по столбцу 'genre', \n",
    "# подсчёт числа значений 'genre' в этой группировке методом count(), \n",
    "# сортировка получившегося Series в порядке убывания и сохранение в spb_genres"
   ]
  },
  {
   "cell_type": "markdown",
   "metadata": {
    "id": "5Doha_ODgyQ8"
   },
   "source": [
    "Выведите на экран первые десять строк `spb_genres`:"
   ]
  },
  {
   "cell_type": "code",
   "execution_count": 38,
   "metadata": {
    "id": "uaGJHjVU_Zcv"
   },
   "outputs": [
    {
     "data": {
      "text/plain": [
       "genre\n",
       "pop            2431\n",
       "dance          1932\n",
       "rock           1879\n",
       "electronic     1736\n",
       "hiphop          960\n",
       "alternative     649\n",
       "classical       646\n",
       "rusrap          564\n",
       "ruspop          538\n",
       "world           515\n",
       "Name: genre, dtype: int64"
      ]
     },
     "metadata": {},
     "output_type": "display_data"
    }
   ],
   "source": [
    "display(spb_genres.head(10))\n",
    "\n",
    "# просмотр первых 10 строк spb_genres"
   ]
  },
  {
   "cell_type": "markdown",
   "metadata": {
    "id": "RY51YJYu_Zcv"
   },
   "source": [
    "**Выводы**"
   ]
  },
  {
   "cell_type": "markdown",
   "metadata": {
    "id": "nVhnJEm__Zcv"
   },
   "source": [
    "* Поп-музыка — самый популярный жанр в Москве, как и предполагалось. Более того, в топ-10 жанров встречается близкий жанр — русская популярная музыка.\n",
    "* Вопреки ожиданиям, рэп одинаково популярен в Москве и Петербурге. \n"
   ]
  },
  {
   "cell_type": "markdown",
   "metadata": {
    "id": "ykKQ0N65_Zcv"
   },
   "source": [
    "## Итоги исследования"
   ]
  },
  {
   "cell_type": "markdown",
   "metadata": {
    "id": "tjUwbHb3_Zcv"
   },
   "source": [
    "Исследованием установлено:\n",
    "\n",
    "1. День недели по-разному влияет на активность пользователей в Москве и Петербурге. \n",
    "\n",
    "2. Музыкальные предпочтения не сильно меняются в течение недели — будь то Москва или Петербург. Небольшие различия заметны в начале недели, по понедельникам:\n",
    "* в Москве слушают музыку жанра “world”,\n",
    "* в Петербурге — джаз и классику.\n",
    "\n",
    "3. Во вкусах пользователей Москвы и Петербурга больше общего чем различий. Вопреки ожиданиям, предпочтения жанров в Петербурге напоминают московские.\n"
   ]
  }
 ],
 "metadata": {
  "ExecuteTimeLog": [
   {
    "duration": 47,
    "start_time": "2022-03-31T11:13:05.190Z"
   },
   {
    "duration": 6,
    "start_time": "2022-03-31T11:13:38.251Z"
   },
   {
    "duration": 8,
    "start_time": "2022-03-31T11:14:37.089Z"
   },
   {
    "duration": 98,
    "start_time": "2022-03-31T11:15:32.489Z"
   },
   {
    "duration": 7,
    "start_time": "2022-03-31T11:15:43.138Z"
   },
   {
    "duration": 109,
    "start_time": "2022-03-31T11:17:44.809Z"
   },
   {
    "duration": 122,
    "start_time": "2022-03-31T11:19:10.288Z"
   },
   {
    "duration": 7,
    "start_time": "2022-03-31T11:19:25.226Z"
   },
   {
    "duration": 116,
    "start_time": "2022-03-31T11:19:38.698Z"
   },
   {
    "duration": 155,
    "start_time": "2022-03-31T11:25:03.482Z"
   },
   {
    "duration": 7,
    "start_time": "2022-03-31T11:25:22.498Z"
   },
   {
    "duration": 125,
    "start_time": "2022-03-31T11:25:46.688Z"
   },
   {
    "duration": 120,
    "start_time": "2022-03-31T11:26:30.178Z"
   },
   {
    "duration": 120,
    "start_time": "2022-03-31T11:26:37.218Z"
   },
   {
    "duration": 111,
    "start_time": "2022-03-31T11:27:07.518Z"
   },
   {
    "duration": 109,
    "start_time": "2022-03-31T11:27:25.419Z"
   },
   {
    "duration": 6,
    "start_time": "2022-03-31T11:33:34.298Z"
   },
   {
    "duration": 367,
    "start_time": "2022-03-31T11:33:47.298Z"
   },
   {
    "duration": 155,
    "start_time": "2022-03-31T11:33:49.661Z"
   },
   {
    "duration": 17,
    "start_time": "2022-03-31T11:33:55.258Z"
   },
   {
    "duration": 31,
    "start_time": "2022-03-31T11:34:40.107Z"
   },
   {
    "duration": 36,
    "start_time": "2022-03-31T12:40:23.035Z"
   },
   {
    "duration": 2046,
    "start_time": "2022-03-31T12:40:31.004Z"
   },
   {
    "duration": 5,
    "start_time": "2022-03-31T12:42:45.365Z"
   },
   {
    "duration": 10,
    "start_time": "2022-03-31T12:50:58.874Z"
   },
   {
    "duration": 14,
    "start_time": "2022-03-31T12:51:03.500Z"
   },
   {
    "duration": 4,
    "start_time": "2022-03-31T12:51:07.126Z"
   },
   {
    "duration": 4,
    "start_time": "2022-03-31T12:51:32.346Z"
   },
   {
    "duration": 25,
    "start_time": "2022-03-31T12:56:53.830Z"
   },
   {
    "duration": 72,
    "start_time": "2022-04-01T05:23:09.181Z"
   },
   {
    "duration": 8,
    "start_time": "2022-04-01T05:23:23.534Z"
   },
   {
    "duration": 476,
    "start_time": "2022-04-01T05:23:25.395Z"
   },
   {
    "duration": 188,
    "start_time": "2022-04-01T05:23:28.141Z"
   },
   {
    "duration": 32,
    "start_time": "2022-04-01T05:23:33.262Z"
   },
   {
    "duration": 40,
    "start_time": "2022-04-01T05:23:35.941Z"
   },
   {
    "duration": 6,
    "start_time": "2022-04-01T05:23:41.022Z"
   },
   {
    "duration": 17,
    "start_time": "2022-04-01T05:23:44.374Z"
   },
   {
    "duration": 6,
    "start_time": "2022-04-01T05:23:48.413Z"
   },
   {
    "duration": 32,
    "start_time": "2022-04-01T05:23:51.623Z"
   },
   {
    "duration": 34,
    "start_time": "2022-04-01T05:28:30.184Z"
   },
   {
    "duration": 37,
    "start_time": "2022-04-01T05:32:15.776Z"
   },
   {
    "duration": 24,
    "start_time": "2022-04-01T05:32:19.137Z"
   },
   {
    "duration": 35,
    "start_time": "2022-04-01T05:32:21.089Z"
   },
   {
    "duration": 93,
    "start_time": "2022-04-01T05:39:25.423Z"
   },
   {
    "duration": 531,
    "start_time": "2022-04-01T07:48:47.668Z"
   },
   {
    "duration": 196,
    "start_time": "2022-04-01T07:48:48.201Z"
   },
   {
    "duration": 27,
    "start_time": "2022-04-01T07:48:48.399Z"
   },
   {
    "duration": 57,
    "start_time": "2022-04-01T07:48:48.428Z"
   },
   {
    "duration": 5,
    "start_time": "2022-04-01T07:48:48.488Z"
   },
   {
    "duration": 19,
    "start_time": "2022-04-01T07:48:48.495Z"
   },
   {
    "duration": 10,
    "start_time": "2022-04-01T07:48:48.516Z"
   },
   {
    "duration": 56,
    "start_time": "2022-04-01T07:48:48.528Z"
   },
   {
    "duration": 24,
    "start_time": "2022-04-01T07:48:48.586Z"
   },
   {
    "duration": 32,
    "start_time": "2022-04-01T07:48:48.612Z"
   },
   {
    "duration": 130,
    "start_time": "2022-04-01T07:48:48.646Z"
   },
   {
    "duration": 4,
    "start_time": "2022-04-01T07:48:48.783Z"
   },
   {
    "duration": 6,
    "start_time": "2022-04-01T07:48:48.789Z"
   },
   {
    "duration": 6,
    "start_time": "2022-04-01T07:48:48.799Z"
   },
   {
    "duration": 8,
    "start_time": "2022-04-01T07:48:48.808Z"
   },
   {
    "duration": 9,
    "start_time": "2022-04-01T07:48:48.819Z"
   },
   {
    "duration": 8,
    "start_time": "2022-04-01T07:48:48.830Z"
   },
   {
    "duration": 7,
    "start_time": "2022-04-01T07:48:48.840Z"
   },
   {
    "duration": 8,
    "start_time": "2022-04-01T07:48:48.849Z"
   },
   {
    "duration": 27,
    "start_time": "2022-04-01T07:48:48.859Z"
   },
   {
    "duration": 9,
    "start_time": "2022-04-01T07:48:48.888Z"
   },
   {
    "duration": 7,
    "start_time": "2022-04-01T07:48:48.899Z"
   },
   {
    "duration": 6,
    "start_time": "2022-04-01T07:48:48.908Z"
   },
   {
    "duration": 11,
    "start_time": "2022-04-01T07:48:48.916Z"
   },
   {
    "duration": 8,
    "start_time": "2022-04-01T07:48:48.929Z"
   },
   {
    "duration": 13,
    "start_time": "2022-04-01T07:48:48.939Z"
   },
   {
    "duration": 30,
    "start_time": "2022-04-01T07:48:48.954Z"
   },
   {
    "duration": 7,
    "start_time": "2022-04-01T07:48:48.986Z"
   },
   {
    "duration": 10,
    "start_time": "2022-04-01T07:48:48.995Z"
   },
   {
    "duration": 22,
    "start_time": "2022-04-01T07:48:49.007Z"
   },
   {
    "duration": 24,
    "start_time": "2022-04-01T07:48:49.031Z"
   },
   {
    "duration": 16,
    "start_time": "2022-04-01T07:48:49.058Z"
   },
   {
    "duration": 27,
    "start_time": "2022-04-01T07:48:49.076Z"
   },
   {
    "duration": 28,
    "start_time": "2022-04-01T07:48:49.105Z"
   },
   {
    "duration": 15,
    "start_time": "2022-04-01T07:48:49.135Z"
   },
   {
    "duration": 24,
    "start_time": "2022-04-01T07:48:49.152Z"
   },
   {
    "duration": 19,
    "start_time": "2022-04-01T07:48:49.178Z"
   },
   {
    "duration": 24,
    "start_time": "2022-04-01T07:48:49.199Z"
   },
   {
    "duration": 107,
    "start_time": "2022-04-01T07:55:27.210Z"
   },
   {
    "duration": 90,
    "start_time": "2022-04-01T07:55:28.961Z"
   },
   {
    "duration": 414,
    "start_time": "2022-04-01T09:30:09.060Z"
   },
   {
    "duration": 144,
    "start_time": "2022-04-01T09:30:09.477Z"
   },
   {
    "duration": 18,
    "start_time": "2022-04-01T09:30:09.623Z"
   },
   {
    "duration": 49,
    "start_time": "2022-04-01T09:30:09.643Z"
   },
   {
    "duration": 5,
    "start_time": "2022-04-01T09:30:09.695Z"
   },
   {
    "duration": 18,
    "start_time": "2022-04-01T09:30:09.701Z"
   },
   {
    "duration": 11,
    "start_time": "2022-04-01T09:30:09.721Z"
   },
   {
    "duration": 53,
    "start_time": "2022-04-01T09:30:09.734Z"
   },
   {
    "duration": 19,
    "start_time": "2022-04-01T09:30:09.790Z"
   },
   {
    "duration": 29,
    "start_time": "2022-04-01T09:30:09.811Z"
   },
   {
    "duration": 124,
    "start_time": "2022-04-01T09:30:09.842Z"
   },
   {
    "duration": 112,
    "start_time": "2022-04-01T09:30:09.967Z"
   },
   {
    "duration": 66,
    "start_time": "2022-04-01T09:30:10.081Z"
   },
   {
    "duration": 3,
    "start_time": "2022-04-01T09:30:10.164Z"
   },
   {
    "duration": 7,
    "start_time": "2022-04-01T09:30:10.169Z"
   },
   {
    "duration": 6,
    "start_time": "2022-04-01T09:30:10.178Z"
   },
   {
    "duration": 5,
    "start_time": "2022-04-01T09:30:10.185Z"
   },
   {
    "duration": 4,
    "start_time": "2022-04-01T09:30:10.192Z"
   },
   {
    "duration": 7,
    "start_time": "2022-04-01T09:30:10.197Z"
   },
   {
    "duration": 7,
    "start_time": "2022-04-01T09:30:10.205Z"
   },
   {
    "duration": 7,
    "start_time": "2022-04-01T09:30:10.214Z"
   },
   {
    "duration": 6,
    "start_time": "2022-04-01T09:30:10.223Z"
   },
   {
    "duration": 11,
    "start_time": "2022-04-01T09:30:10.230Z"
   },
   {
    "duration": 6,
    "start_time": "2022-04-01T09:30:10.243Z"
   },
   {
    "duration": 12,
    "start_time": "2022-04-01T09:30:10.251Z"
   },
   {
    "duration": 6,
    "start_time": "2022-04-01T09:30:10.265Z"
   },
   {
    "duration": 13,
    "start_time": "2022-04-01T09:30:10.273Z"
   },
   {
    "duration": 5,
    "start_time": "2022-04-01T09:30:10.288Z"
   },
   {
    "duration": 7,
    "start_time": "2022-04-01T09:30:10.295Z"
   },
   {
    "duration": 7,
    "start_time": "2022-04-01T09:30:10.304Z"
   },
   {
    "duration": 8,
    "start_time": "2022-04-01T09:30:10.313Z"
   },
   {
    "duration": 6,
    "start_time": "2022-04-01T09:30:10.323Z"
   },
   {
    "duration": 7,
    "start_time": "2022-04-01T09:30:10.331Z"
   },
   {
    "duration": 8,
    "start_time": "2022-04-01T09:30:10.340Z"
   },
   {
    "duration": 5,
    "start_time": "2022-04-01T09:30:10.350Z"
   },
   {
    "duration": 5,
    "start_time": "2022-04-01T09:30:10.356Z"
   },
   {
    "duration": 8,
    "start_time": "2022-04-01T09:30:10.362Z"
   },
   {
    "duration": 7,
    "start_time": "2022-04-01T09:30:10.371Z"
   },
   {
    "duration": 7,
    "start_time": "2022-04-01T10:12:38.110Z"
   },
   {
    "duration": 3,
    "start_time": "2022-04-01T10:39:32.012Z"
   },
   {
    "duration": 2009,
    "start_time": "2022-04-01T10:39:37.057Z"
   },
   {
    "duration": 1656,
    "start_time": "2022-04-01T10:40:49.774Z"
   },
   {
    "duration": 3,
    "start_time": "2022-04-01T10:41:22.412Z"
   },
   {
    "duration": 27,
    "start_time": "2022-04-01T10:41:24.415Z"
   },
   {
    "duration": 7,
    "start_time": "2022-04-01T10:41:30.092Z"
   },
   {
    "duration": 3,
    "start_time": "2022-04-01T10:42:41.532Z"
   },
   {
    "duration": 22,
    "start_time": "2022-04-01T10:42:43.052Z"
   },
   {
    "duration": 6,
    "start_time": "2022-04-01T10:42:46.212Z"
   },
   {
    "duration": 24,
    "start_time": "2022-04-01T13:00:16.687Z"
   },
   {
    "duration": 22,
    "start_time": "2022-04-01T13:01:46.614Z"
   },
   {
    "duration": 24,
    "start_time": "2022-04-01T13:01:58.895Z"
   },
   {
    "duration": 3,
    "start_time": "2022-04-01T13:06:10.088Z"
   },
   {
    "duration": 15,
    "start_time": "2022-04-01T13:07:15.215Z"
   },
   {
    "duration": 22,
    "start_time": "2022-04-01T13:15:27.855Z"
   },
   {
    "duration": 23,
    "start_time": "2022-04-01T13:15:52.729Z"
   },
   {
    "duration": 23,
    "start_time": "2022-04-01T13:16:17.606Z"
   },
   {
    "duration": 13,
    "start_time": "2022-04-01T13:17:22.607Z"
   },
   {
    "duration": 13,
    "start_time": "2022-04-01T13:18:10.406Z"
   },
   {
    "duration": 25,
    "start_time": "2022-04-01T13:19:07.775Z"
   },
   {
    "duration": 13,
    "start_time": "2022-04-01T13:19:42.334Z"
   },
   {
    "duration": 12,
    "start_time": "2022-04-01T13:20:07.543Z"
   },
   {
    "duration": 16,
    "start_time": "2022-04-01T13:20:27.046Z"
   },
   {
    "duration": 23,
    "start_time": "2022-04-01T13:21:52.607Z"
   },
   {
    "duration": 11,
    "start_time": "2022-04-01T13:22:24.846Z"
   },
   {
    "duration": 11,
    "start_time": "2022-04-01T13:22:37.776Z"
   },
   {
    "duration": 11,
    "start_time": "2022-04-01T13:23:00.696Z"
   },
   {
    "duration": 13,
    "start_time": "2022-04-01T13:23:14.423Z"
   },
   {
    "duration": 12,
    "start_time": "2022-04-01T13:23:38.135Z"
   },
   {
    "duration": 11,
    "start_time": "2022-04-01T13:23:53.407Z"
   },
   {
    "duration": 11,
    "start_time": "2022-04-01T13:24:04.166Z"
   },
   {
    "duration": 11,
    "start_time": "2022-04-01T13:24:13.005Z"
   },
   {
    "duration": 11,
    "start_time": "2022-04-01T13:24:22.167Z"
   },
   {
    "duration": 12,
    "start_time": "2022-04-01T13:24:34.096Z"
   },
   {
    "duration": 11,
    "start_time": "2022-04-01T13:24:48.165Z"
   },
   {
    "duration": 12,
    "start_time": "2022-04-01T13:24:56.246Z"
   },
   {
    "duration": 12,
    "start_time": "2022-04-01T13:25:04.126Z"
   },
   {
    "duration": 12,
    "start_time": "2022-04-01T13:25:20.775Z"
   },
   {
    "duration": 11,
    "start_time": "2022-04-01T13:25:30.806Z"
   },
   {
    "duration": 12,
    "start_time": "2022-04-01T13:25:47.375Z"
   },
   {
    "duration": 24,
    "start_time": "2022-04-01T13:26:36.447Z"
   },
   {
    "duration": 11,
    "start_time": "2022-04-01T13:27:16.206Z"
   },
   {
    "duration": 31,
    "start_time": "2022-04-01T13:27:50.223Z"
   },
   {
    "duration": 399,
    "start_time": "2022-04-01T20:31:53.752Z"
   },
   {
    "duration": 166,
    "start_time": "2022-04-01T20:31:54.153Z"
   },
   {
    "duration": 21,
    "start_time": "2022-04-01T20:31:54.321Z"
   },
   {
    "duration": 32,
    "start_time": "2022-04-01T20:31:54.343Z"
   },
   {
    "duration": 24,
    "start_time": "2022-04-01T20:31:54.378Z"
   },
   {
    "duration": 13,
    "start_time": "2022-04-01T20:31:54.404Z"
   },
   {
    "duration": 7,
    "start_time": "2022-04-01T20:31:54.419Z"
   },
   {
    "duration": 26,
    "start_time": "2022-04-01T20:31:54.428Z"
   },
   {
    "duration": 45,
    "start_time": "2022-04-01T20:31:54.456Z"
   },
   {
    "duration": 25,
    "start_time": "2022-04-01T20:31:54.503Z"
   },
   {
    "duration": 82,
    "start_time": "2022-04-01T20:31:54.530Z"
   },
   {
    "duration": 74,
    "start_time": "2022-04-01T20:31:54.614Z"
   },
   {
    "duration": 66,
    "start_time": "2022-04-01T20:31:54.701Z"
   },
   {
    "duration": 8,
    "start_time": "2022-04-01T20:31:54.770Z"
   },
   {
    "duration": 22,
    "start_time": "2022-04-01T20:31:54.780Z"
   },
   {
    "duration": 29,
    "start_time": "2022-04-01T20:31:54.804Z"
   },
   {
    "duration": 7,
    "start_time": "2022-04-01T20:31:54.834Z"
   },
   {
    "duration": 28,
    "start_time": "2022-04-01T20:31:54.842Z"
   },
   {
    "duration": 60,
    "start_time": "2022-04-01T20:31:54.871Z"
   },
   {
    "duration": 3,
    "start_time": "2022-04-01T20:31:54.933Z"
   },
   {
    "duration": 9,
    "start_time": "2022-04-01T20:31:54.938Z"
   },
   {
    "duration": 6,
    "start_time": "2022-04-01T20:31:54.949Z"
   },
   {
    "duration": 8,
    "start_time": "2022-04-01T20:31:54.956Z"
   },
   {
    "duration": 6,
    "start_time": "2022-04-01T20:31:54.965Z"
   },
   {
    "duration": 5,
    "start_time": "2022-04-01T20:31:54.972Z"
   },
   {
    "duration": 23,
    "start_time": "2022-04-01T20:31:54.979Z"
   },
   {
    "duration": 9,
    "start_time": "2022-04-01T20:31:55.004Z"
   },
   {
    "duration": 9,
    "start_time": "2022-04-01T20:31:55.015Z"
   },
   {
    "duration": 11,
    "start_time": "2022-04-01T20:31:55.026Z"
   },
   {
    "duration": 15,
    "start_time": "2022-04-01T20:31:55.039Z"
   },
   {
    "duration": 12,
    "start_time": "2022-04-01T20:31:55.056Z"
   },
   {
    "duration": 10,
    "start_time": "2022-04-01T20:31:55.069Z"
   },
   {
    "duration": 13,
    "start_time": "2022-04-01T20:31:55.081Z"
   },
   {
    "duration": 10,
    "start_time": "2022-04-01T20:31:55.095Z"
   },
   {
    "duration": 9,
    "start_time": "2022-04-01T20:31:55.107Z"
   },
   {
    "duration": 11,
    "start_time": "2022-04-01T20:31:55.118Z"
   },
   {
    "duration": 8,
    "start_time": "2022-04-01T20:31:55.131Z"
   },
   {
    "duration": 7,
    "start_time": "2022-04-01T20:31:55.141Z"
   },
   {
    "duration": 4,
    "start_time": "2022-04-01T20:44:06.413Z"
   },
   {
    "duration": 69,
    "start_time": "2022-04-01T20:51:11.844Z"
   },
   {
    "duration": 35,
    "start_time": "2022-04-01T20:51:38.653Z"
   },
   {
    "duration": 551,
    "start_time": "2022-04-02T06:44:23.548Z"
   },
   {
    "duration": 216,
    "start_time": "2022-04-02T06:44:24.102Z"
   },
   {
    "duration": 26,
    "start_time": "2022-04-02T06:44:24.320Z"
   },
   {
    "duration": 53,
    "start_time": "2022-04-02T06:44:24.349Z"
   },
   {
    "duration": 6,
    "start_time": "2022-04-02T06:44:24.404Z"
   },
   {
    "duration": 39,
    "start_time": "2022-04-02T06:44:24.412Z"
   },
   {
    "duration": 10,
    "start_time": "2022-04-02T06:44:24.453Z"
   },
   {
    "duration": 49,
    "start_time": "2022-04-02T06:44:24.465Z"
   },
   {
    "duration": 27,
    "start_time": "2022-04-02T06:44:24.516Z"
   },
   {
    "duration": 51,
    "start_time": "2022-04-02T06:44:24.547Z"
   },
   {
    "duration": 119,
    "start_time": "2022-04-02T06:44:24.600Z"
   },
   {
    "duration": 115,
    "start_time": "2022-04-02T06:44:24.721Z"
   },
   {
    "duration": 109,
    "start_time": "2022-04-02T06:44:24.838Z"
   },
   {
    "duration": 10,
    "start_time": "2022-04-02T06:44:24.950Z"
   },
   {
    "duration": 23,
    "start_time": "2022-04-02T06:44:24.962Z"
   },
   {
    "duration": 38,
    "start_time": "2022-04-02T06:44:24.987Z"
   },
   {
    "duration": 10,
    "start_time": "2022-04-02T06:44:25.027Z"
   },
   {
    "duration": 58,
    "start_time": "2022-04-02T06:44:25.039Z"
   },
   {
    "duration": 44,
    "start_time": "2022-04-02T06:44:25.099Z"
   },
   {
    "duration": 120,
    "start_time": "2022-04-02T06:44:25.145Z"
   },
   {
    "duration": 0,
    "start_time": "2022-04-02T06:44:25.267Z"
   },
   {
    "duration": 0,
    "start_time": "2022-04-02T06:44:25.269Z"
   },
   {
    "duration": 0,
    "start_time": "2022-04-02T06:44:25.271Z"
   },
   {
    "duration": 0,
    "start_time": "2022-04-02T06:44:25.272Z"
   },
   {
    "duration": 0,
    "start_time": "2022-04-02T06:44:25.284Z"
   },
   {
    "duration": 0,
    "start_time": "2022-04-02T06:44:25.285Z"
   },
   {
    "duration": 0,
    "start_time": "2022-04-02T06:44:25.287Z"
   },
   {
    "duration": 0,
    "start_time": "2022-04-02T06:44:25.288Z"
   },
   {
    "duration": 0,
    "start_time": "2022-04-02T06:44:25.290Z"
   },
   {
    "duration": 0,
    "start_time": "2022-04-02T06:44:25.291Z"
   },
   {
    "duration": 0,
    "start_time": "2022-04-02T06:44:25.292Z"
   },
   {
    "duration": 0,
    "start_time": "2022-04-02T06:44:25.293Z"
   },
   {
    "duration": 0,
    "start_time": "2022-04-02T06:44:25.295Z"
   },
   {
    "duration": 0,
    "start_time": "2022-04-02T06:44:25.296Z"
   },
   {
    "duration": 0,
    "start_time": "2022-04-02T06:44:25.298Z"
   },
   {
    "duration": 0,
    "start_time": "2022-04-02T06:44:25.300Z"
   },
   {
    "duration": 0,
    "start_time": "2022-04-02T06:44:25.301Z"
   },
   {
    "duration": 0,
    "start_time": "2022-04-02T06:44:25.303Z"
   },
   {
    "duration": 31,
    "start_time": "2022-04-02T06:47:09.763Z"
   },
   {
    "duration": 25,
    "start_time": "2022-04-02T06:49:30.261Z"
   },
   {
    "duration": 20,
    "start_time": "2022-04-02T06:50:42.071Z"
   },
   {
    "duration": 11,
    "start_time": "2022-04-02T06:53:48.439Z"
   },
   {
    "duration": 14,
    "start_time": "2022-04-02T06:54:44.943Z"
   },
   {
    "duration": 24,
    "start_time": "2022-04-02T06:55:18.346Z"
   },
   {
    "duration": 23,
    "start_time": "2022-04-02T06:55:48.021Z"
   },
   {
    "duration": 21,
    "start_time": "2022-04-02T06:56:56.279Z"
   },
   {
    "duration": 5,
    "start_time": "2022-04-02T06:57:14.426Z"
   },
   {
    "duration": 18,
    "start_time": "2022-04-02T06:57:55.758Z"
   },
   {
    "duration": 25,
    "start_time": "2022-04-02T06:58:24.281Z"
   },
   {
    "duration": 23,
    "start_time": "2022-04-02T06:58:38.348Z"
   },
   {
    "duration": 22,
    "start_time": "2022-04-02T06:59:32.150Z"
   },
   {
    "duration": 21,
    "start_time": "2022-04-02T06:59:33.850Z"
   },
   {
    "duration": 22,
    "start_time": "2022-04-02T07:00:09.443Z"
   },
   {
    "duration": 20,
    "start_time": "2022-04-02T07:00:10.847Z"
   },
   {
    "duration": 123,
    "start_time": "2022-04-02T07:33:48.524Z"
   },
   {
    "duration": 12,
    "start_time": "2022-04-02T07:33:58.453Z"
   },
   {
    "duration": 71,
    "start_time": "2022-04-02T12:29:00.468Z"
   },
   {
    "duration": 507,
    "start_time": "2022-04-02T12:29:41.720Z"
   },
   {
    "duration": 462,
    "start_time": "2022-04-02T12:29:42.230Z"
   },
   {
    "duration": 28,
    "start_time": "2022-04-02T12:29:42.694Z"
   },
   {
    "duration": 62,
    "start_time": "2022-04-02T12:29:42.726Z"
   },
   {
    "duration": 6,
    "start_time": "2022-04-02T12:29:42.790Z"
   },
   {
    "duration": 37,
    "start_time": "2022-04-02T12:29:42.799Z"
   },
   {
    "duration": 19,
    "start_time": "2022-04-02T12:29:42.839Z"
   },
   {
    "duration": 49,
    "start_time": "2022-04-02T12:29:42.861Z"
   },
   {
    "duration": 34,
    "start_time": "2022-04-02T12:29:42.912Z"
   },
   {
    "duration": 45,
    "start_time": "2022-04-02T12:29:42.950Z"
   },
   {
    "duration": 153,
    "start_time": "2022-04-02T12:29:42.998Z"
   },
   {
    "duration": 131,
    "start_time": "2022-04-02T12:29:43.154Z"
   },
   {
    "duration": 111,
    "start_time": "2022-04-02T12:29:43.288Z"
   },
   {
    "duration": 11,
    "start_time": "2022-04-02T12:29:43.402Z"
   },
   {
    "duration": 6,
    "start_time": "2022-04-02T12:29:43.416Z"
   },
   {
    "duration": 67,
    "start_time": "2022-04-02T12:29:43.425Z"
   },
   {
    "duration": 11,
    "start_time": "2022-04-02T12:29:43.495Z"
   },
   {
    "duration": 36,
    "start_time": "2022-04-02T12:29:43.508Z"
   },
   {
    "duration": 75,
    "start_time": "2022-04-02T12:29:43.546Z"
   },
   {
    "duration": 6,
    "start_time": "2022-04-02T12:29:43.623Z"
   },
   {
    "duration": 40,
    "start_time": "2022-04-02T12:29:43.631Z"
   },
   {
    "duration": 23,
    "start_time": "2022-04-02T12:29:43.685Z"
   },
   {
    "duration": 21,
    "start_time": "2022-04-02T12:29:43.711Z"
   },
   {
    "duration": 60,
    "start_time": "2022-04-02T12:29:43.734Z"
   },
   {
    "duration": 23,
    "start_time": "2022-04-02T12:29:43.796Z"
   },
   {
    "duration": 23,
    "start_time": "2022-04-02T12:29:43.821Z"
   },
   {
    "duration": 42,
    "start_time": "2022-04-02T12:29:43.847Z"
   },
   {
    "duration": 15,
    "start_time": "2022-04-02T12:29:43.896Z"
   },
   {
    "duration": 310,
    "start_time": "2022-04-02T12:29:43.913Z"
   },
   {
    "duration": 0,
    "start_time": "2022-04-02T12:29:44.225Z"
   },
   {
    "duration": 0,
    "start_time": "2022-04-02T12:29:44.228Z"
   },
   {
    "duration": 0,
    "start_time": "2022-04-02T12:29:44.229Z"
   },
   {
    "duration": 0,
    "start_time": "2022-04-02T12:29:44.231Z"
   },
   {
    "duration": 0,
    "start_time": "2022-04-02T12:29:44.232Z"
   },
   {
    "duration": 0,
    "start_time": "2022-04-02T12:29:44.233Z"
   },
   {
    "duration": 1,
    "start_time": "2022-04-02T12:29:44.234Z"
   },
   {
    "duration": 0,
    "start_time": "2022-04-02T12:29:44.236Z"
   },
   {
    "duration": 0,
    "start_time": "2022-04-02T12:29:44.237Z"
   },
   {
    "duration": 19,
    "start_time": "2022-04-02T12:29:54.200Z"
   },
   {
    "duration": 3,
    "start_time": "2022-04-02T12:30:19.563Z"
   },
   {
    "duration": 17,
    "start_time": "2022-04-02T12:30:21.508Z"
   },
   {
    "duration": 30,
    "start_time": "2022-04-02T12:31:15.634Z"
   },
   {
    "duration": 23,
    "start_time": "2022-04-02T12:31:34.471Z"
   },
   {
    "duration": 18,
    "start_time": "2022-04-02T12:32:13.221Z"
   },
   {
    "duration": 29,
    "start_time": "2022-04-02T12:32:41.605Z"
   },
   {
    "duration": 14,
    "start_time": "2022-04-02T12:32:50.896Z"
   },
   {
    "duration": 5,
    "start_time": "2022-04-02T12:55:33.532Z"
   },
   {
    "duration": 6,
    "start_time": "2022-04-02T13:06:54.825Z"
   },
   {
    "duration": 2057,
    "start_time": "2022-04-02T13:07:35.162Z"
   },
   {
    "duration": 18,
    "start_time": "2022-04-02T13:12:41.978Z"
   },
   {
    "duration": 29,
    "start_time": "2022-04-02T13:13:40.161Z"
   },
   {
    "duration": 1860,
    "start_time": "2022-04-02T13:13:58.943Z"
   },
   {
    "duration": 1973,
    "start_time": "2022-04-02T13:15:25.016Z"
   },
   {
    "duration": 30,
    "start_time": "2022-04-02T13:15:58.630Z"
   },
   {
    "duration": 31,
    "start_time": "2022-04-02T13:16:10.946Z"
   },
   {
    "duration": 2293,
    "start_time": "2022-04-02T13:16:31.738Z"
   },
   {
    "duration": 34,
    "start_time": "2022-04-02T13:22:08.352Z"
   },
   {
    "duration": 32,
    "start_time": "2022-04-02T13:22:30.615Z"
   },
   {
    "duration": 36,
    "start_time": "2022-04-02T13:23:22.269Z"
   },
   {
    "duration": 33,
    "start_time": "2022-04-02T13:23:38.103Z"
   },
   {
    "duration": 33,
    "start_time": "2022-04-02T13:24:00.450Z"
   },
   {
    "duration": 42,
    "start_time": "2022-04-02T13:24:20.739Z"
   },
   {
    "duration": 35,
    "start_time": "2022-04-02T13:24:43.400Z"
   },
   {
    "duration": 36,
    "start_time": "2022-04-02T13:25:57.152Z"
   },
   {
    "duration": 6,
    "start_time": "2022-04-02T13:28:03.346Z"
   },
   {
    "duration": 26,
    "start_time": "2022-04-02T13:28:08.371Z"
   },
   {
    "duration": 11,
    "start_time": "2022-04-02T13:28:58.507Z"
   },
   {
    "duration": 18,
    "start_time": "2022-04-02T13:29:21.866Z"
   },
   {
    "duration": 22,
    "start_time": "2022-04-02T13:29:56.438Z"
   },
   {
    "duration": 16,
    "start_time": "2022-04-02T13:30:28.060Z"
   },
   {
    "duration": 508,
    "start_time": "2022-04-02T18:59:33.024Z"
   },
   {
    "duration": 285,
    "start_time": "2022-04-02T18:59:33.535Z"
   },
   {
    "duration": 30,
    "start_time": "2022-04-02T18:59:33.822Z"
   },
   {
    "duration": 59,
    "start_time": "2022-04-02T18:59:33.855Z"
   },
   {
    "duration": 6,
    "start_time": "2022-04-02T18:59:33.917Z"
   },
   {
    "duration": 24,
    "start_time": "2022-04-02T18:59:33.925Z"
   },
   {
    "duration": 34,
    "start_time": "2022-04-02T18:59:33.952Z"
   },
   {
    "duration": 33,
    "start_time": "2022-04-02T18:59:33.988Z"
   },
   {
    "duration": 28,
    "start_time": "2022-04-02T18:59:34.023Z"
   },
   {
    "duration": 52,
    "start_time": "2022-04-02T18:59:34.056Z"
   },
   {
    "duration": 117,
    "start_time": "2022-04-02T18:59:34.111Z"
   },
   {
    "duration": 126,
    "start_time": "2022-04-02T18:59:34.231Z"
   },
   {
    "duration": 112,
    "start_time": "2022-04-02T18:59:34.359Z"
   },
   {
    "duration": 20,
    "start_time": "2022-04-02T18:59:34.474Z"
   },
   {
    "duration": 5,
    "start_time": "2022-04-02T18:59:34.497Z"
   },
   {
    "duration": 80,
    "start_time": "2022-04-02T18:59:34.505Z"
   },
   {
    "duration": 13,
    "start_time": "2022-04-02T18:59:34.588Z"
   },
   {
    "duration": 35,
    "start_time": "2022-04-02T18:59:34.604Z"
   },
   {
    "duration": 73,
    "start_time": "2022-04-02T18:59:34.642Z"
   },
   {
    "duration": 5,
    "start_time": "2022-04-02T18:59:34.717Z"
   },
   {
    "duration": 29,
    "start_time": "2022-04-02T18:59:34.724Z"
   },
   {
    "duration": 42,
    "start_time": "2022-04-02T18:59:34.755Z"
   },
   {
    "duration": 23,
    "start_time": "2022-04-02T18:59:34.799Z"
   },
   {
    "duration": 22,
    "start_time": "2022-04-02T18:59:34.824Z"
   },
   {
    "duration": 59,
    "start_time": "2022-04-02T18:59:34.848Z"
   },
   {
    "duration": 23,
    "start_time": "2022-04-02T18:59:34.910Z"
   },
   {
    "duration": 12,
    "start_time": "2022-04-02T18:59:34.936Z"
   },
   {
    "duration": 17,
    "start_time": "2022-04-02T18:59:34.987Z"
   },
   {
    "duration": 17,
    "start_time": "2022-04-02T18:59:35.006Z"
   },
   {
    "duration": 16,
    "start_time": "2022-04-02T18:59:35.025Z"
   },
   {
    "duration": 52,
    "start_time": "2022-04-02T18:59:35.044Z"
   },
   {
    "duration": 35,
    "start_time": "2022-04-02T18:59:35.099Z"
   },
   {
    "duration": 32,
    "start_time": "2022-04-02T18:59:35.138Z"
   },
   {
    "duration": 21,
    "start_time": "2022-04-02T18:59:35.173Z"
   },
   {
    "duration": 6,
    "start_time": "2022-04-02T18:59:35.197Z"
   },
   {
    "duration": 24,
    "start_time": "2022-04-02T18:59:35.205Z"
   },
   {
    "duration": 14,
    "start_time": "2022-04-02T18:59:35.231Z"
   },
   {
    "duration": 17,
    "start_time": "2022-04-02T18:59:35.247Z"
   },
   {
    "duration": 14,
    "start_time": "2022-04-02T19:18:41.819Z"
   },
   {
    "duration": 5,
    "start_time": "2022-04-02T19:19:49.036Z"
   },
   {
    "duration": 9,
    "start_time": "2022-04-02T19:22:09.538Z"
   },
   {
    "duration": 6,
    "start_time": "2022-04-02T19:22:11.200Z"
   },
   {
    "duration": 579,
    "start_time": "2022-04-02T19:24:45.173Z"
   },
   {
    "duration": 204,
    "start_time": "2022-04-02T19:24:45.755Z"
   },
   {
    "duration": 35,
    "start_time": "2022-04-02T19:24:45.961Z"
   },
   {
    "duration": 39,
    "start_time": "2022-04-02T19:24:45.999Z"
   },
   {
    "duration": 6,
    "start_time": "2022-04-02T19:24:46.040Z"
   },
   {
    "duration": 48,
    "start_time": "2022-04-02T19:24:46.049Z"
   },
   {
    "duration": 10,
    "start_time": "2022-04-02T19:24:46.099Z"
   },
   {
    "duration": 34,
    "start_time": "2022-04-02T19:24:46.111Z"
   },
   {
    "duration": 46,
    "start_time": "2022-04-02T19:24:46.147Z"
   },
   {
    "duration": 32,
    "start_time": "2022-04-02T19:24:46.197Z"
   },
   {
    "duration": 121,
    "start_time": "2022-04-02T19:24:46.231Z"
   },
   {
    "duration": 126,
    "start_time": "2022-04-02T19:24:46.354Z"
   },
   {
    "duration": 109,
    "start_time": "2022-04-02T19:24:46.485Z"
   },
   {
    "duration": 10,
    "start_time": "2022-04-02T19:24:46.597Z"
   },
   {
    "duration": 5,
    "start_time": "2022-04-02T19:24:46.610Z"
   },
   {
    "duration": 36,
    "start_time": "2022-04-02T19:24:46.617Z"
   },
   {
    "duration": 9,
    "start_time": "2022-04-02T19:24:46.685Z"
   },
   {
    "duration": 40,
    "start_time": "2022-04-02T19:24:46.696Z"
   },
   {
    "duration": 78,
    "start_time": "2022-04-02T19:24:46.738Z"
   },
   {
    "duration": 5,
    "start_time": "2022-04-02T19:24:46.818Z"
   },
   {
    "duration": 33,
    "start_time": "2022-04-02T19:24:46.825Z"
   },
   {
    "duration": 42,
    "start_time": "2022-04-02T19:24:46.860Z"
   },
   {
    "duration": 22,
    "start_time": "2022-04-02T19:24:46.904Z"
   },
   {
    "duration": 21,
    "start_time": "2022-04-02T19:24:46.928Z"
   },
   {
    "duration": 51,
    "start_time": "2022-04-02T19:24:46.951Z"
   },
   {
    "duration": 21,
    "start_time": "2022-04-02T19:24:47.004Z"
   },
   {
    "duration": 12,
    "start_time": "2022-04-02T19:24:47.027Z"
   },
   {
    "duration": 57,
    "start_time": "2022-04-02T19:24:47.044Z"
   },
   {
    "duration": 14,
    "start_time": "2022-04-02T19:24:47.103Z"
   },
   {
    "duration": 6,
    "start_time": "2022-04-02T19:24:47.119Z"
   },
   {
    "duration": 57,
    "start_time": "2022-04-02T19:24:47.128Z"
   },
   {
    "duration": 17,
    "start_time": "2022-04-02T19:24:47.188Z"
   },
   {
    "duration": 24,
    "start_time": "2022-04-02T19:24:47.207Z"
   },
   {
    "duration": 53,
    "start_time": "2022-04-02T19:24:47.233Z"
   },
   {
    "duration": 14,
    "start_time": "2022-04-02T19:24:47.288Z"
   },
   {
    "duration": 7,
    "start_time": "2022-04-02T19:24:47.304Z"
   },
   {
    "duration": 12,
    "start_time": "2022-04-02T19:24:47.314Z"
   },
   {
    "duration": 8,
    "start_time": "2022-04-02T19:24:47.329Z"
   },
   {
    "duration": 32,
    "start_time": "2022-04-02T19:26:05.724Z"
   },
   {
    "duration": 5,
    "start_time": "2022-04-02T19:26:17.670Z"
   },
   {
    "duration": 4,
    "start_time": "2022-04-02T19:26:32.461Z"
   },
   {
    "duration": 33,
    "start_time": "2022-04-02T19:27:01.962Z"
   },
   {
    "duration": 8,
    "start_time": "2022-04-02T19:29:29.587Z"
   },
   {
    "duration": 9,
    "start_time": "2022-04-02T19:29:39.938Z"
   },
   {
    "duration": 538,
    "start_time": "2022-04-02T19:30:01.261Z"
   },
   {
    "duration": 221,
    "start_time": "2022-04-02T19:30:01.802Z"
   },
   {
    "duration": 28,
    "start_time": "2022-04-02T19:30:02.025Z"
   },
   {
    "duration": 61,
    "start_time": "2022-04-02T19:30:02.056Z"
   },
   {
    "duration": 29,
    "start_time": "2022-04-02T19:30:02.119Z"
   },
   {
    "duration": 39,
    "start_time": "2022-04-02T19:30:02.151Z"
   },
   {
    "duration": 24,
    "start_time": "2022-04-02T19:30:02.193Z"
   },
   {
    "duration": 67,
    "start_time": "2022-04-02T19:30:02.220Z"
   },
   {
    "duration": 43,
    "start_time": "2022-04-02T19:30:02.290Z"
   },
   {
    "duration": 35,
    "start_time": "2022-04-02T19:30:02.339Z"
   },
   {
    "duration": 112,
    "start_time": "2022-04-02T19:30:02.384Z"
   },
   {
    "duration": 131,
    "start_time": "2022-04-02T19:30:02.498Z"
   },
   {
    "duration": 114,
    "start_time": "2022-04-02T19:30:02.632Z"
   },
   {
    "duration": 12,
    "start_time": "2022-04-02T19:30:02.749Z"
   },
   {
    "duration": 34,
    "start_time": "2022-04-02T19:30:02.763Z"
   },
   {
    "duration": 44,
    "start_time": "2022-04-02T19:30:02.800Z"
   },
   {
    "duration": 9,
    "start_time": "2022-04-02T19:30:02.846Z"
   },
   {
    "duration": 64,
    "start_time": "2022-04-02T19:30:02.857Z"
   },
   {
    "duration": 46,
    "start_time": "2022-04-02T19:30:02.923Z"
   },
   {
    "duration": 14,
    "start_time": "2022-04-02T19:30:02.971Z"
   },
   {
    "duration": 36,
    "start_time": "2022-04-02T19:30:02.988Z"
   },
   {
    "duration": 22,
    "start_time": "2022-04-02T19:30:03.026Z"
   },
   {
    "duration": 46,
    "start_time": "2022-04-02T19:30:03.050Z"
   },
   {
    "duration": 20,
    "start_time": "2022-04-02T19:30:03.098Z"
   },
   {
    "duration": 23,
    "start_time": "2022-04-02T19:30:03.120Z"
   },
   {
    "duration": 51,
    "start_time": "2022-04-02T19:30:03.146Z"
   },
   {
    "duration": 13,
    "start_time": "2022-04-02T19:30:03.199Z"
   },
   {
    "duration": 20,
    "start_time": "2022-04-02T19:30:03.217Z"
   },
   {
    "duration": 46,
    "start_time": "2022-04-02T19:30:03.239Z"
   },
   {
    "duration": 6,
    "start_time": "2022-04-02T19:30:03.288Z"
   },
   {
    "duration": 39,
    "start_time": "2022-04-02T19:30:03.296Z"
   },
   {
    "duration": 17,
    "start_time": "2022-04-02T19:30:03.337Z"
   },
   {
    "duration": 42,
    "start_time": "2022-04-02T19:30:03.357Z"
   },
   {
    "duration": 19,
    "start_time": "2022-04-02T19:30:03.401Z"
   },
   {
    "duration": 12,
    "start_time": "2022-04-02T19:30:03.423Z"
   },
   {
    "duration": 13,
    "start_time": "2022-04-02T19:30:03.438Z"
   },
   {
    "duration": 37,
    "start_time": "2022-04-02T19:30:03.453Z"
   },
   {
    "duration": 19,
    "start_time": "2022-04-02T19:30:03.492Z"
   },
   {
    "duration": 476,
    "start_time": "2022-04-13T14:35:00.484Z"
   },
   {
    "duration": 194,
    "start_time": "2022-04-13T14:35:00.962Z"
   },
   {
    "duration": 20,
    "start_time": "2022-04-13T14:35:01.158Z"
   },
   {
    "duration": 58,
    "start_time": "2022-04-13T14:35:01.180Z"
   },
   {
    "duration": 15,
    "start_time": "2022-04-13T14:35:01.241Z"
   },
   {
    "duration": 22,
    "start_time": "2022-04-13T14:35:01.258Z"
   },
   {
    "duration": 10,
    "start_time": "2022-04-13T14:35:01.281Z"
   },
   {
    "duration": 36,
    "start_time": "2022-04-13T14:35:01.294Z"
   },
   {
    "duration": 39,
    "start_time": "2022-04-13T14:35:01.332Z"
   },
   {
    "duration": 28,
    "start_time": "2022-04-13T14:35:01.373Z"
   },
   {
    "duration": 103,
    "start_time": "2022-04-13T14:35:01.403Z"
   },
   {
    "duration": 103,
    "start_time": "2022-04-13T14:35:01.508Z"
   },
   {
    "duration": 89,
    "start_time": "2022-04-13T14:35:01.613Z"
   },
   {
    "duration": 9,
    "start_time": "2022-04-13T14:35:01.707Z"
   },
   {
    "duration": 23,
    "start_time": "2022-04-13T14:35:01.719Z"
   },
   {
    "duration": 44,
    "start_time": "2022-04-13T14:35:01.745Z"
   },
   {
    "duration": 11,
    "start_time": "2022-04-13T14:35:01.790Z"
   },
   {
    "duration": 44,
    "start_time": "2022-04-13T14:35:01.803Z"
   },
   {
    "duration": 45,
    "start_time": "2022-04-13T14:35:01.850Z"
   },
   {
    "duration": 5,
    "start_time": "2022-04-13T14:35:01.898Z"
   },
   {
    "duration": 41,
    "start_time": "2022-04-13T14:35:01.905Z"
   },
   {
    "duration": 34,
    "start_time": "2022-04-13T14:35:01.948Z"
   },
   {
    "duration": 33,
    "start_time": "2022-04-13T14:35:01.984Z"
   },
   {
    "duration": 33,
    "start_time": "2022-04-13T14:35:02.019Z"
   },
   {
    "duration": 44,
    "start_time": "2022-04-13T14:35:02.054Z"
   },
   {
    "duration": 29,
    "start_time": "2022-04-13T14:35:02.100Z"
   },
   {
    "duration": 30,
    "start_time": "2022-04-13T14:35:02.131Z"
   },
   {
    "duration": 36,
    "start_time": "2022-04-13T14:35:02.163Z"
   },
   {
    "duration": 19,
    "start_time": "2022-04-13T14:35:02.201Z"
   },
   {
    "duration": 28,
    "start_time": "2022-04-13T14:35:02.222Z"
   },
   {
    "duration": 42,
    "start_time": "2022-04-13T14:35:02.252Z"
   },
   {
    "duration": 14,
    "start_time": "2022-04-13T14:35:02.296Z"
   },
   {
    "duration": 19,
    "start_time": "2022-04-13T14:35:02.312Z"
   },
   {
    "duration": 18,
    "start_time": "2022-04-13T14:35:02.340Z"
   },
   {
    "duration": 23,
    "start_time": "2022-04-13T14:35:02.360Z"
   },
   {
    "duration": 12,
    "start_time": "2022-04-13T14:35:02.385Z"
   },
   {
    "duration": 17,
    "start_time": "2022-04-13T14:35:02.399Z"
   },
   {
    "duration": 39,
    "start_time": "2022-04-13T14:35:02.418Z"
   },
   {
    "duration": 47,
    "start_time": "2022-04-13T18:23:36.054Z"
   },
   {
    "duration": 388,
    "start_time": "2022-04-13T18:23:46.271Z"
   },
   {
    "duration": 145,
    "start_time": "2022-04-13T18:23:46.661Z"
   },
   {
    "duration": 18,
    "start_time": "2022-04-13T18:23:46.808Z"
   },
   {
    "duration": 41,
    "start_time": "2022-04-13T18:23:46.829Z"
   },
   {
    "duration": 4,
    "start_time": "2022-04-13T18:23:46.871Z"
   },
   {
    "duration": 12,
    "start_time": "2022-04-13T18:23:46.877Z"
   },
   {
    "duration": 5,
    "start_time": "2022-04-13T18:23:46.891Z"
   },
   {
    "duration": 27,
    "start_time": "2022-04-13T18:23:46.897Z"
   },
   {
    "duration": 36,
    "start_time": "2022-04-13T18:23:46.926Z"
   },
   {
    "duration": 22,
    "start_time": "2022-04-13T18:23:46.965Z"
   },
   {
    "duration": 78,
    "start_time": "2022-04-13T18:23:46.989Z"
   },
   {
    "duration": 66,
    "start_time": "2022-04-13T18:23:47.069Z"
   },
   {
    "duration": 66,
    "start_time": "2022-04-13T18:23:47.137Z"
   },
   {
    "duration": 6,
    "start_time": "2022-04-13T18:23:47.205Z"
   },
   {
    "duration": 4,
    "start_time": "2022-04-13T18:23:47.213Z"
   },
   {
    "duration": 44,
    "start_time": "2022-04-13T18:23:47.219Z"
   },
   {
    "duration": 6,
    "start_time": "2022-04-13T18:23:47.265Z"
   },
   {
    "duration": 24,
    "start_time": "2022-04-13T18:23:47.272Z"
   },
   {
    "duration": 28,
    "start_time": "2022-04-13T18:23:47.297Z"
   },
   {
    "duration": 3,
    "start_time": "2022-04-13T18:23:47.347Z"
   },
   {
    "duration": 19,
    "start_time": "2022-04-13T18:23:47.352Z"
   },
   {
    "duration": 12,
    "start_time": "2022-04-13T18:23:47.373Z"
   },
   {
    "duration": 14,
    "start_time": "2022-04-13T18:23:47.386Z"
   },
   {
    "duration": 13,
    "start_time": "2022-04-13T18:23:47.401Z"
   },
   {
    "duration": 44,
    "start_time": "2022-04-13T18:23:47.415Z"
   },
   {
    "duration": 14,
    "start_time": "2022-04-13T18:23:47.461Z"
   },
   {
    "duration": 8,
    "start_time": "2022-04-13T18:23:47.476Z"
   },
   {
    "duration": 11,
    "start_time": "2022-04-13T18:23:47.487Z"
   },
   {
    "duration": 50,
    "start_time": "2022-04-13T18:23:47.499Z"
   },
   {
    "duration": 4,
    "start_time": "2022-04-13T18:23:47.551Z"
   },
   {
    "duration": 22,
    "start_time": "2022-04-13T18:23:47.556Z"
   },
   {
    "duration": 11,
    "start_time": "2022-04-13T18:23:47.580Z"
   },
   {
    "duration": 8,
    "start_time": "2022-04-13T18:23:47.592Z"
   },
   {
    "duration": 13,
    "start_time": "2022-04-13T18:23:47.602Z"
   },
   {
    "duration": 37,
    "start_time": "2022-04-13T18:23:47.617Z"
   },
   {
    "duration": 5,
    "start_time": "2022-04-13T18:23:47.655Z"
   },
   {
    "duration": 7,
    "start_time": "2022-04-13T18:23:47.662Z"
   },
   {
    "duration": 4,
    "start_time": "2022-04-13T18:23:47.671Z"
   },
   {
    "duration": 21,
    "start_time": "2022-04-13T18:24:29.993Z"
   },
   {
    "duration": 13,
    "start_time": "2022-04-13T18:24:56.231Z"
   },
   {
    "duration": 11,
    "start_time": "2022-04-13T18:31:30.071Z"
   },
   {
    "duration": 36,
    "start_time": "2022-04-13T18:32:03.183Z"
   },
   {
    "duration": 11,
    "start_time": "2022-04-13T18:33:10.769Z"
   },
   {
    "duration": 38,
    "start_time": "2022-04-13T18:34:13.089Z"
   },
   {
    "duration": 11,
    "start_time": "2022-04-13T18:35:03.008Z"
   },
   {
    "duration": 67,
    "start_time": "2022-04-13T18:40:54.662Z"
   }
  ],
  "colab": {
   "collapsed_sections": [
    "E0vqbgi9ay0H",
    "VUC88oWjTJw2"
   ],
   "name": "yandex_music_project.ipynb",
   "provenance": []
  },
  "kernelspec": {
   "display_name": "Python 3 (ipykernel)",
   "language": "python",
   "name": "python3"
  },
  "language_info": {
   "codemirror_mode": {
    "name": "ipython",
    "version": 3
   },
   "file_extension": ".py",
   "mimetype": "text/x-python",
   "name": "python",
   "nbconvert_exporter": "python",
   "pygments_lexer": "ipython3",
   "version": "3.9.12"
  },
  "toc": {
   "base_numbering": 1,
   "nav_menu": {},
   "number_sections": true,
   "sideBar": true,
   "skip_h1_title": true,
   "title_cell": "Table of Contents",
   "title_sidebar": "Contents",
   "toc_cell": false,
   "toc_position": {
    "height": "calc(100% - 180px)",
    "left": "10px",
    "top": "150px",
    "width": "200px"
   },
   "toc_section_display": true,
   "toc_window_display": false
  }
 },
 "nbformat": 4,
 "nbformat_minor": 1
}
