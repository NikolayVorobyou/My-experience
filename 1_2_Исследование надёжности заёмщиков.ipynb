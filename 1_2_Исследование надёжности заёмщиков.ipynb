{
 "cells": [
  {
   "cell_type": "markdown",
   "id": "314db860",
   "metadata": {},
   "source": [
    "# Исследование надёжности заёмщиков"
   ]
  },
  {
   "cell_type": "markdown",
   "id": "e793bb6e",
   "metadata": {},
   "source": [
    "# Содержание\n",
    "\n",
    "- [Описание проекта](#1)\n",
    "- [Общая информация о данных](#2)\n",
    "- [Предобработка данных](#3)\n",
    "- [Исследование надёжности заёмщиков](#4)\n",
    "- [Заключение](#5)"
   ]
  },
  {
   "cell_type": "markdown",
   "id": "1cb00a16",
   "metadata": {},
   "source": [
    "# Описание проекта <a id='1'></a>\n",
    "\n",
    "**Цель: выяснить, влияет ли семейное положение и количество детей клиента на факт погашения кредита в срок.**\n",
    "\n",
    "Заказчик — кредитный отдел банка. \n",
    "Входные данные от банка — статистика о платёжеспособности клиентов.\n",
    "Результаты исследования будут учтены при построении модели кредитного скоринга — специальной системы, которая оценивает способность потенциального заёмщика вернуть кредит банку."
   ]
  },
  {
   "cell_type": "markdown",
   "id": "abdd58f7",
   "metadata": {},
   "source": [
    "# Общая информация о данных <a id='2'></a>"
   ]
  },
  {
   "cell_type": "code",
   "execution_count": 1,
   "id": "c18b32a0",
   "metadata": {
    "scrolled": false
   },
   "outputs": [
    {
     "name": "stdout",
     "output_type": "stream",
     "text": [
      "<class 'pandas.core.frame.DataFrame'>\n",
      "RangeIndex: 21525 entries, 0 to 21524\n",
      "Data columns (total 12 columns):\n",
      " #   Column            Non-Null Count  Dtype  \n",
      "---  ------            --------------  -----  \n",
      " 0   children          21525 non-null  int64  \n",
      " 1   days_employed     19351 non-null  float64\n",
      " 2   dob_years         21525 non-null  int64  \n",
      " 3   education         21525 non-null  object \n",
      " 4   education_id      21525 non-null  int64  \n",
      " 5   family_status     21525 non-null  object \n",
      " 6   family_status_id  21525 non-null  int64  \n",
      " 7   gender            21525 non-null  object \n",
      " 8   income_type       21525 non-null  object \n",
      " 9   debt              21525 non-null  int64  \n",
      " 10  total_income      19351 non-null  float64\n",
      " 11  purpose           21525 non-null  object \n",
      "dtypes: float64(2), int64(5), object(5)\n",
      "memory usage: 2.0+ MB\n"
     ]
    },
    {
     "data": {
      "text/html": [
       "<div>\n",
       "<style scoped>\n",
       "    .dataframe tbody tr th:only-of-type {\n",
       "        vertical-align: middle;\n",
       "    }\n",
       "\n",
       "    .dataframe tbody tr th {\n",
       "        vertical-align: top;\n",
       "    }\n",
       "\n",
       "    .dataframe thead th {\n",
       "        text-align: right;\n",
       "    }\n",
       "</style>\n",
       "<table border=\"1\" class=\"dataframe\">\n",
       "  <thead>\n",
       "    <tr style=\"text-align: right;\">\n",
       "      <th></th>\n",
       "      <th>children</th>\n",
       "      <th>days_employed</th>\n",
       "      <th>dob_years</th>\n",
       "      <th>education</th>\n",
       "      <th>education_id</th>\n",
       "      <th>family_status</th>\n",
       "      <th>family_status_id</th>\n",
       "      <th>gender</th>\n",
       "      <th>income_type</th>\n",
       "      <th>debt</th>\n",
       "      <th>total_income</th>\n",
       "      <th>purpose</th>\n",
       "    </tr>\n",
       "  </thead>\n",
       "  <tbody>\n",
       "    <tr>\n",
       "      <th>12</th>\n",
       "      <td>0</td>\n",
       "      <td>NaN</td>\n",
       "      <td>65</td>\n",
       "      <td>среднее</td>\n",
       "      <td>1</td>\n",
       "      <td>гражданский брак</td>\n",
       "      <td>1</td>\n",
       "      <td>M</td>\n",
       "      <td>пенсионер</td>\n",
       "      <td>0</td>\n",
       "      <td>NaN</td>\n",
       "      <td>сыграть свадьбу</td>\n",
       "    </tr>\n",
       "    <tr>\n",
       "      <th>26</th>\n",
       "      <td>0</td>\n",
       "      <td>NaN</td>\n",
       "      <td>41</td>\n",
       "      <td>среднее</td>\n",
       "      <td>1</td>\n",
       "      <td>женат / замужем</td>\n",
       "      <td>0</td>\n",
       "      <td>M</td>\n",
       "      <td>госслужащий</td>\n",
       "      <td>0</td>\n",
       "      <td>NaN</td>\n",
       "      <td>образование</td>\n",
       "    </tr>\n",
       "    <tr>\n",
       "      <th>29</th>\n",
       "      <td>0</td>\n",
       "      <td>NaN</td>\n",
       "      <td>63</td>\n",
       "      <td>среднее</td>\n",
       "      <td>1</td>\n",
       "      <td>Не женат / не замужем</td>\n",
       "      <td>4</td>\n",
       "      <td>F</td>\n",
       "      <td>пенсионер</td>\n",
       "      <td>0</td>\n",
       "      <td>NaN</td>\n",
       "      <td>строительство жилой недвижимости</td>\n",
       "    </tr>\n",
       "    <tr>\n",
       "      <th>41</th>\n",
       "      <td>0</td>\n",
       "      <td>NaN</td>\n",
       "      <td>50</td>\n",
       "      <td>среднее</td>\n",
       "      <td>1</td>\n",
       "      <td>женат / замужем</td>\n",
       "      <td>0</td>\n",
       "      <td>F</td>\n",
       "      <td>госслужащий</td>\n",
       "      <td>0</td>\n",
       "      <td>NaN</td>\n",
       "      <td>сделка с подержанным автомобилем</td>\n",
       "    </tr>\n",
       "    <tr>\n",
       "      <th>55</th>\n",
       "      <td>0</td>\n",
       "      <td>NaN</td>\n",
       "      <td>54</td>\n",
       "      <td>среднее</td>\n",
       "      <td>1</td>\n",
       "      <td>гражданский брак</td>\n",
       "      <td>1</td>\n",
       "      <td>F</td>\n",
       "      <td>пенсионер</td>\n",
       "      <td>1</td>\n",
       "      <td>NaN</td>\n",
       "      <td>сыграть свадьбу</td>\n",
       "    </tr>\n",
       "    <tr>\n",
       "      <th>65</th>\n",
       "      <td>0</td>\n",
       "      <td>NaN</td>\n",
       "      <td>21</td>\n",
       "      <td>среднее</td>\n",
       "      <td>1</td>\n",
       "      <td>Не женат / не замужем</td>\n",
       "      <td>4</td>\n",
       "      <td>M</td>\n",
       "      <td>компаньон</td>\n",
       "      <td>0</td>\n",
       "      <td>NaN</td>\n",
       "      <td>операции с коммерческой недвижимостью</td>\n",
       "    </tr>\n",
       "    <tr>\n",
       "      <th>67</th>\n",
       "      <td>0</td>\n",
       "      <td>NaN</td>\n",
       "      <td>52</td>\n",
       "      <td>высшее</td>\n",
       "      <td>0</td>\n",
       "      <td>женат / замужем</td>\n",
       "      <td>0</td>\n",
       "      <td>F</td>\n",
       "      <td>пенсионер</td>\n",
       "      <td>0</td>\n",
       "      <td>NaN</td>\n",
       "      <td>покупка жилья для семьи</td>\n",
       "    </tr>\n",
       "    <tr>\n",
       "      <th>72</th>\n",
       "      <td>1</td>\n",
       "      <td>NaN</td>\n",
       "      <td>32</td>\n",
       "      <td>высшее</td>\n",
       "      <td>0</td>\n",
       "      <td>женат / замужем</td>\n",
       "      <td>0</td>\n",
       "      <td>M</td>\n",
       "      <td>госслужащий</td>\n",
       "      <td>0</td>\n",
       "      <td>NaN</td>\n",
       "      <td>операции с коммерческой недвижимостью</td>\n",
       "    </tr>\n",
       "    <tr>\n",
       "      <th>82</th>\n",
       "      <td>2</td>\n",
       "      <td>NaN</td>\n",
       "      <td>50</td>\n",
       "      <td>высшее</td>\n",
       "      <td>0</td>\n",
       "      <td>женат / замужем</td>\n",
       "      <td>0</td>\n",
       "      <td>F</td>\n",
       "      <td>сотрудник</td>\n",
       "      <td>0</td>\n",
       "      <td>NaN</td>\n",
       "      <td>жилье</td>\n",
       "    </tr>\n",
       "    <tr>\n",
       "      <th>83</th>\n",
       "      <td>0</td>\n",
       "      <td>NaN</td>\n",
       "      <td>52</td>\n",
       "      <td>среднее</td>\n",
       "      <td>1</td>\n",
       "      <td>женат / замужем</td>\n",
       "      <td>0</td>\n",
       "      <td>M</td>\n",
       "      <td>сотрудник</td>\n",
       "      <td>0</td>\n",
       "      <td>NaN</td>\n",
       "      <td>жилье</td>\n",
       "    </tr>\n",
       "  </tbody>\n",
       "</table>\n",
       "</div>"
      ],
      "text/plain": [
       "    children  days_employed  dob_years education  education_id  \\\n",
       "12         0            NaN         65   среднее             1   \n",
       "26         0            NaN         41   среднее             1   \n",
       "29         0            NaN         63   среднее             1   \n",
       "41         0            NaN         50   среднее             1   \n",
       "55         0            NaN         54   среднее             1   \n",
       "65         0            NaN         21   среднее             1   \n",
       "67         0            NaN         52    высшее             0   \n",
       "72         1            NaN         32    высшее             0   \n",
       "82         2            NaN         50    высшее             0   \n",
       "83         0            NaN         52   среднее             1   \n",
       "\n",
       "            family_status  family_status_id gender  income_type  debt  \\\n",
       "12       гражданский брак                 1      M    пенсионер     0   \n",
       "26        женат / замужем                 0      M  госслужащий     0   \n",
       "29  Не женат / не замужем                 4      F    пенсионер     0   \n",
       "41        женат / замужем                 0      F  госслужащий     0   \n",
       "55       гражданский брак                 1      F    пенсионер     1   \n",
       "65  Не женат / не замужем                 4      M    компаньон     0   \n",
       "67        женат / замужем                 0      F    пенсионер     0   \n",
       "72        женат / замужем                 0      M  госслужащий     0   \n",
       "82        женат / замужем                 0      F    сотрудник     0   \n",
       "83        женат / замужем                 0      M    сотрудник     0   \n",
       "\n",
       "    total_income                                purpose  \n",
       "12           NaN                        сыграть свадьбу  \n",
       "26           NaN                            образование  \n",
       "29           NaN       строительство жилой недвижимости  \n",
       "41           NaN       сделка с подержанным автомобилем  \n",
       "55           NaN                        сыграть свадьбу  \n",
       "65           NaN  операции с коммерческой недвижимостью  \n",
       "67           NaN                покупка жилья для семьи  \n",
       "72           NaN  операции с коммерческой недвижимостью  \n",
       "82           NaN                                  жилье  \n",
       "83           NaN                                  жилье  "
      ]
     },
     "metadata": {},
     "output_type": "display_data"
    },
    {
     "name": "stdout",
     "output_type": "stream",
     "text": [
      "children             0.000000\n",
      "days_employed       10.099884\n",
      "dob_years            0.000000\n",
      "education            0.000000\n",
      "education_id         0.000000\n",
      "family_status        0.000000\n",
      "family_status_id     0.000000\n",
      "gender               0.000000\n",
      "income_type          0.000000\n",
      "debt                 0.000000\n",
      "total_income        10.099884\n",
      "purpose              0.000000\n",
      "dtype: float64\n"
     ]
    }
   ],
   "source": [
    "import pandas as pd\n",
    "df = pd.read_csv('data.csv')\n",
    "df.info()\n",
    "display(df[df['total_income'].isna()].head(10))\n",
    "print(df.isna().mean()*100)"
   ]
  },
  {
   "cell_type": "markdown",
   "id": "12e83d8c",
   "metadata": {},
   "source": [
    "- В двух столбцах (days_employed, total_income) есть пропущенные значения, в каждом столбце примерно 10% от общего масива. Возможными  причинами появления пропусков могут быть: нежелание госсужащих (сотрудников, компаньонов) афишировать свои персональные данные, отсутствие стабильного дохода у пенсионеров. Однако исключать данные строки из общего массива данных не самое лучшее решение, ввиду наличия в них ценных сведений по интерисующим заказчика критериям. С учетом того что это количественные данные - лучше заменить пропуски медианным значением (среднее может сильно сместить данные).\n",
    "- Целесообразно заменить вещественный тип данных в столбце total_income на целочисленный."
   ]
  },
  {
   "cell_type": "code",
   "execution_count": 2,
   "id": "bdd7c4f9",
   "metadata": {},
   "outputs": [
    {
     "data": {
      "text/html": [
       "<div>\n",
       "<style scoped>\n",
       "    .dataframe tbody tr th:only-of-type {\n",
       "        vertical-align: middle;\n",
       "    }\n",
       "\n",
       "    .dataframe tbody tr th {\n",
       "        vertical-align: top;\n",
       "    }\n",
       "\n",
       "    .dataframe thead th {\n",
       "        text-align: right;\n",
       "    }\n",
       "</style>\n",
       "<table border=\"1\" class=\"dataframe\">\n",
       "  <thead>\n",
       "    <tr style=\"text-align: right;\">\n",
       "      <th></th>\n",
       "      <th>children</th>\n",
       "      <th>days_employed</th>\n",
       "      <th>dob_years</th>\n",
       "      <th>education</th>\n",
       "      <th>education_id</th>\n",
       "      <th>family_status</th>\n",
       "      <th>family_status_id</th>\n",
       "      <th>gender</th>\n",
       "      <th>income_type</th>\n",
       "      <th>debt</th>\n",
       "      <th>total_income</th>\n",
       "      <th>purpose</th>\n",
       "    </tr>\n",
       "  </thead>\n",
       "  <tbody>\n",
       "    <tr>\n",
       "      <th>21523</th>\n",
       "      <td>3</td>\n",
       "      <td>-3112.481705</td>\n",
       "      <td>38</td>\n",
       "      <td>среднее</td>\n",
       "      <td>1</td>\n",
       "      <td>женат / замужем</td>\n",
       "      <td>0</td>\n",
       "      <td>M</td>\n",
       "      <td>сотрудник</td>\n",
       "      <td>1</td>\n",
       "      <td>244093.050500</td>\n",
       "      <td>на покупку своего автомобиля</td>\n",
       "    </tr>\n",
       "    <tr>\n",
       "      <th>21524</th>\n",
       "      <td>2</td>\n",
       "      <td>-1984.507589</td>\n",
       "      <td>40</td>\n",
       "      <td>среднее</td>\n",
       "      <td>1</td>\n",
       "      <td>женат / замужем</td>\n",
       "      <td>0</td>\n",
       "      <td>F</td>\n",
       "      <td>сотрудник</td>\n",
       "      <td>0</td>\n",
       "      <td>82047.418899</td>\n",
       "      <td>на покупку автомобиля</td>\n",
       "    </tr>\n",
       "  </tbody>\n",
       "</table>\n",
       "</div>"
      ],
      "text/plain": [
       "       children  days_employed  dob_years education  education_id  \\\n",
       "21523         3   -3112.481705         38   среднее             1   \n",
       "21524         2   -1984.507589         40   среднее             1   \n",
       "\n",
       "         family_status  family_status_id gender income_type  debt  \\\n",
       "21523  женат / замужем                 0      M   сотрудник     1   \n",
       "21524  женат / замужем                 0      F   сотрудник     0   \n",
       "\n",
       "        total_income                       purpose  \n",
       "21523  244093.050500  на покупку своего автомобиля  \n",
       "21524   82047.418899         на покупку автомобиля  "
      ]
     },
     "metadata": {},
     "output_type": "display_data"
    },
    {
     "data": {
      "text/html": [
       "<div>\n",
       "<style scoped>\n",
       "    .dataframe tbody tr th:only-of-type {\n",
       "        vertical-align: middle;\n",
       "    }\n",
       "\n",
       "    .dataframe tbody tr th {\n",
       "        vertical-align: top;\n",
       "    }\n",
       "\n",
       "    .dataframe thead th {\n",
       "        text-align: right;\n",
       "    }\n",
       "</style>\n",
       "<table border=\"1\" class=\"dataframe\">\n",
       "  <thead>\n",
       "    <tr style=\"text-align: right;\">\n",
       "      <th></th>\n",
       "      <th>children</th>\n",
       "      <th>days_employed</th>\n",
       "      <th>dob_years</th>\n",
       "      <th>education</th>\n",
       "      <th>education_id</th>\n",
       "      <th>family_status</th>\n",
       "      <th>family_status_id</th>\n",
       "      <th>gender</th>\n",
       "      <th>income_type</th>\n",
       "      <th>debt</th>\n",
       "      <th>total_income</th>\n",
       "      <th>purpose</th>\n",
       "    </tr>\n",
       "  </thead>\n",
       "  <tbody>\n",
       "    <tr>\n",
       "      <th>0</th>\n",
       "      <td>1</td>\n",
       "      <td>-8437.673028</td>\n",
       "      <td>42</td>\n",
       "      <td>высшее</td>\n",
       "      <td>0</td>\n",
       "      <td>женат / замужем</td>\n",
       "      <td>0</td>\n",
       "      <td>F</td>\n",
       "      <td>сотрудник</td>\n",
       "      <td>0</td>\n",
       "      <td>253875.639453</td>\n",
       "      <td>покупка жилья</td>\n",
       "    </tr>\n",
       "    <tr>\n",
       "      <th>1</th>\n",
       "      <td>1</td>\n",
       "      <td>-4024.803754</td>\n",
       "      <td>36</td>\n",
       "      <td>среднее</td>\n",
       "      <td>1</td>\n",
       "      <td>женат / замужем</td>\n",
       "      <td>0</td>\n",
       "      <td>F</td>\n",
       "      <td>сотрудник</td>\n",
       "      <td>0</td>\n",
       "      <td>112080.014102</td>\n",
       "      <td>приобретение автомобиля</td>\n",
       "    </tr>\n",
       "  </tbody>\n",
       "</table>\n",
       "</div>"
      ],
      "text/plain": [
       "   children  days_employed  dob_years education  education_id  \\\n",
       "0         1   -8437.673028         42    высшее             0   \n",
       "1         1   -4024.803754         36   среднее             1   \n",
       "\n",
       "     family_status  family_status_id gender income_type  debt   total_income  \\\n",
       "0  женат / замужем                 0      F   сотрудник     0  253875.639453   \n",
       "1  женат / замужем                 0      F   сотрудник     0  112080.014102   \n",
       "\n",
       "                   purpose  \n",
       "0            покупка жилья  \n",
       "1  приобретение автомобиля  "
      ]
     },
     "metadata": {},
     "output_type": "display_data"
    },
    {
     "name": "stdout",
     "output_type": "stream",
     "text": [
      "\n",
      "education: ['высшее' 'среднее' 'Среднее' 'СРЕДНЕЕ' 'ВЫСШЕЕ' 'неоконченное высшее'\n",
      " 'начальное' 'Высшее' 'НЕОКОНЧЕННОЕ ВЫСШЕЕ' 'Неоконченное высшее'\n",
      " 'НАЧАЛЬНОЕ' 'Начальное' 'Ученая степень' 'УЧЕНАЯ СТЕПЕНЬ'\n",
      " 'ученая степень']\n",
      "\n",
      "children: [ 1  0  3  2 -1  4 20  5]\n",
      "\n",
      "education_id: [0 1 2 3 4]\n",
      "\n",
      "family_status: ['женат / замужем' 'гражданский брак' 'вдовец / вдова' 'в разводе'\n",
      " 'Не женат / не замужем']\n",
      "\n",
      "income_type: ['сотрудник' 'пенсионер' 'компаньон' 'госслужащий' 'безработный'\n",
      " 'предприниматель' 'студент' 'в декрете']\n",
      "\n",
      "purpose: ['покупка жилья' 'приобретение автомобиля' 'дополнительное образование'\n",
      " 'сыграть свадьбу' 'операции с жильем' 'образование'\n",
      " 'на проведение свадьбы' 'покупка жилья для семьи' 'покупка недвижимости'\n",
      " 'покупка коммерческой недвижимости' 'покупка жилой недвижимости'\n",
      " 'строительство собственной недвижимости' 'недвижимость'\n",
      " 'строительство недвижимости' 'на покупку подержанного автомобиля'\n",
      " 'на покупку своего автомобиля' 'операции с коммерческой недвижимостью'\n",
      " 'строительство жилой недвижимости' 'жилье'\n",
      " 'операции со своей недвижимостью' 'автомобили' 'заняться образованием'\n",
      " 'сделка с подержанным автомобилем' 'получение образования' 'автомобиль'\n",
      " 'свадьба' 'получение дополнительного образования' 'покупка своего жилья'\n",
      " 'операции с недвижимостью' 'получение высшего образования'\n",
      " 'свой автомобиль' 'сделка с автомобилем' 'профильное образование'\n",
      " 'высшее образование' 'покупка жилья для сдачи' 'на покупку автомобиля'\n",
      " 'ремонт жилью' 'заняться высшим образованием']\n"
     ]
    }
   ],
   "source": [
    "display(df.tail(2))\n",
    "display(df.head(2))\n",
    "print()\n",
    "print('education:', df['education'].unique())\n",
    "print()\n",
    "print('children:', df['children'].unique())\n",
    "print()\n",
    "print('education_id:', df['education_id'].unique())\n",
    "print()\n",
    "print('family_status:', df['family_status'].unique())\n",
    "print()\n",
    "print('income_type:', df['income_type'].unique())\n",
    "print()\n",
    "print('purpose:', df['purpose'].unique())"
   ]
  },
  {
   "cell_type": "markdown",
   "id": "3746a3f7",
   "metadata": {},
   "source": [
    "* В данных выявлены аномалии:  \n",
    "отрицательное количество дней трудового стажа и очень большие заначения стажа (свыше 1000 лет) в столбце days_employed (объяснить появление таких данных можно ошибкой при выгрузке данных; использовать этот столбец для анализа затруднительно); \n",
    "орицатетельное и очень большое количество детей в столбце children (можно объястить опечаткой при вводе данных; этим данным следут уделить дополнительное внимание).\n",
    "- Необходимо заменить неявные дубликаты: например в столбце education есть одни и те же значения, но записанные по-разному: с использованием заглавных и строчных букв.\n",
    "- Значения в столбце purpose следует распределить по укрупнённым категориям."
   ]
  },
  {
   "cell_type": "markdown",
   "id": "1c05d5b1",
   "metadata": {},
   "source": [
    "# Предобработка данных <a id='3'></a>"
   ]
  },
  {
   "cell_type": "markdown",
   "id": "cd306848",
   "metadata": {},
   "source": [
    "Заменим пропуски в столбцах days_employed, total_income медианным значением."
   ]
  },
  {
   "cell_type": "code",
   "execution_count": 3,
   "id": "c8714f1d",
   "metadata": {},
   "outputs": [
    {
     "name": "stdout",
     "output_type": "stream",
     "text": [
      "<class 'pandas.core.frame.DataFrame'>\n",
      "RangeIndex: 21525 entries, 0 to 21524\n",
      "Data columns (total 12 columns):\n",
      " #   Column            Non-Null Count  Dtype  \n",
      "---  ------            --------------  -----  \n",
      " 0   children          21525 non-null  int64  \n",
      " 1   days_employed     21525 non-null  float64\n",
      " 2   dob_years         21525 non-null  int64  \n",
      " 3   education         21525 non-null  object \n",
      " 4   education_id      21525 non-null  int64  \n",
      " 5   family_status     21525 non-null  object \n",
      " 6   family_status_id  21525 non-null  int64  \n",
      " 7   gender            21525 non-null  object \n",
      " 8   income_type       21525 non-null  object \n",
      " 9   debt              21525 non-null  int64  \n",
      " 10  total_income      21525 non-null  float64\n",
      " 11  purpose           21525 non-null  object \n",
      "dtypes: float64(2), int64(5), object(5)\n",
      "memory usage: 2.0+ MB\n"
     ]
    }
   ],
   "source": [
    "med_days = df['days_employed'].median()\n",
    "df['days_employed'] = df['days_employed'].fillna(value = med_days)\n",
    "\n",
    "med_total = df['total_income'].median()\n",
    "df['total_income'] = df['total_income'].fillna(value = med_total)\n",
    "df.info()\n"
   ]
  },
  {
   "cell_type": "markdown",
   "id": "b5d3c215",
   "metadata": {},
   "source": [
    "Обработка грубых ошибок. Заменим, вероятно появившиеся в резутальтате некорректного ввода или выгрузки, значения количества детей 20 и -1 на 2 и 1 соответственно."
   ]
  },
  {
   "cell_type": "code",
   "execution_count": 4,
   "id": "1893b27e",
   "metadata": {},
   "outputs": [
    {
     "name": "stdout",
     "output_type": "stream",
     "text": [
      "children: [1 0 3 2 4 5]\n"
     ]
    }
   ],
   "source": [
    "df.loc[df['children'] == 20, 'children'] = 2\n",
    "df.loc[df['children'] == -1, 'children'] = 1\n",
    "print('children:', df['children'].unique()) #проверка\n"
   ]
  },
  {
   "cell_type": "markdown",
   "id": "de82e828",
   "metadata": {},
   "source": [
    "Заменим вещественный тип данных в столбце total_income на целочисленный."
   ]
  },
  {
   "cell_type": "code",
   "execution_count": 5,
   "id": "47da44d2",
   "metadata": {},
   "outputs": [],
   "source": [
    "df['total_income'] = df['total_income'].astype('int') "
   ]
  },
  {
   "cell_type": "code",
   "execution_count": 6,
   "id": "40f5d8b5",
   "metadata": {},
   "outputs": [
    {
     "name": "stdout",
     "output_type": "stream",
     "text": [
      "<class 'pandas.core.frame.DataFrame'>\n",
      "RangeIndex: 21525 entries, 0 to 21524\n",
      "Data columns (total 12 columns):\n",
      " #   Column            Non-Null Count  Dtype  \n",
      "---  ------            --------------  -----  \n",
      " 0   children          21525 non-null  int64  \n",
      " 1   days_employed     21525 non-null  float64\n",
      " 2   dob_years         21525 non-null  int64  \n",
      " 3   education         21525 non-null  object \n",
      " 4   education_id      21525 non-null  int64  \n",
      " 5   family_status     21525 non-null  object \n",
      " 6   family_status_id  21525 non-null  int64  \n",
      " 7   gender            21525 non-null  object \n",
      " 8   income_type       21525 non-null  object \n",
      " 9   debt              21525 non-null  int64  \n",
      " 10  total_income      21525 non-null  int64  \n",
      " 11  purpose           21525 non-null  object \n",
      "dtypes: float64(1), int64(6), object(5)\n",
      "memory usage: 2.0+ MB\n"
     ]
    }
   ],
   "source": [
    "df.info()\n"
   ]
  },
  {
   "cell_type": "markdown",
   "id": "c0207d26",
   "metadata": {},
   "source": [
    "Обработаем неявные дубликаты (разный регистр в написании значений), которые могли появиться в результате ввода данных разными сотрудниками банка. Приведем к \"змеиному\" стилю значения столбцов education и family_status."
   ]
  },
  {
   "cell_type": "code",
   "execution_count": 7,
   "id": "7169099f",
   "metadata": {
    "scrolled": true
   },
   "outputs": [
    {
     "name": "stdout",
     "output_type": "stream",
     "text": [
      "education: ['высшее' 'среднее' 'неоконченное высшее' 'начальное' 'ученая степень']\n",
      "family_status: ['женат / замужем' 'гражданский брак' 'вдовец / вдова' 'в разводе'\n",
      " 'не женат / не замужем']\n"
     ]
    }
   ],
   "source": [
    "df['education'] = df['education'].str.lower() \n",
    "df['family_status'] = df['family_status'].str.lower()\n",
    "print('education:', df['education'].unique()) #проверка\n",
    "print('family_status:', df['family_status'].unique()) #проверка"
   ]
  },
  {
   "cell_type": "markdown",
   "id": "11eff6ef",
   "metadata": {},
   "source": [
    "Проверим наличие явных дубликатов"
   ]
  },
  {
   "cell_type": "code",
   "execution_count": 8,
   "id": "ec524798",
   "metadata": {},
   "outputs": [
    {
     "name": "stdout",
     "output_type": "stream",
     "text": [
      "Дубликатов в таблице: 71\n"
     ]
    }
   ],
   "source": [
    "print ('Дубликатов в таблице:', df.duplicated().sum())"
   ]
  },
  {
   "cell_type": "markdown",
   "id": "ff75a65f",
   "metadata": {},
   "source": [
    "Для удаления явных дубликатов применим метод позволяющий как удалить дубликаты, так и заменить индексацию на новую."
   ]
  },
  {
   "cell_type": "code",
   "execution_count": 9,
   "id": "0c4cac75",
   "metadata": {},
   "outputs": [
    {
     "name": "stdout",
     "output_type": "stream",
     "text": [
      "Дубликатов в таблице: 0\n"
     ]
    }
   ],
   "source": [
    "df = df.drop_duplicates().reset_index(drop=True) \n",
    "print ('Дубликатов в таблице:', df.duplicated().sum()) #проверка"
   ]
  },
  {
   "cell_type": "markdown",
   "id": "64ccc72d",
   "metadata": {},
   "source": [
    "Создим два новых датафрейма со столбцами:\n",
    "education_id и education — в первом;\n",
    "family_status_id и family_status — во втором."
   ]
  },
  {
   "cell_type": "code",
   "execution_count": 10,
   "id": "e03e3e68",
   "metadata": {},
   "outputs": [],
   "source": [
    "education_dict = df[['education_id', 'education']]\n",
    "family_status_dict = df[['family_status_id', 'family_status']]"
   ]
  },
  {
   "cell_type": "code",
   "execution_count": 11,
   "id": "b279f259",
   "metadata": {},
   "outputs": [],
   "source": [
    "df.drop(columns = ['education', 'family_status'], axis = 1)\n",
    "education_dict = education_dict.drop_duplicates().reset_index(drop=True)\n",
    "family_status_dict = family_status_dict.drop_duplicates().reset_index(drop=True)"
   ]
  },
  {
   "cell_type": "markdown",
   "id": "83b2f424",
   "metadata": {},
   "source": [
    "На основании диапазонов, указанных ниже, создадим функцию для формирования категорий:\n",
    "0–30000 — 'E';\n",
    "30001–50000 — 'D';\n",
    "50001–200000 — 'C';\n",
    "200001–1000000 — 'B';\n",
    "1000001 и выше — 'A'."
   ]
  },
  {
   "cell_type": "code",
   "execution_count": 12,
   "id": "bea490fd",
   "metadata": {},
   "outputs": [],
   "source": [
    "def income_group(income): \n",
    "    if income >= 0 and income <=30000: \n",
    "        return 'E'\n",
    "    if income >= 30001 and income <=50000: \n",
    "        return 'D'\n",
    "    if income >= 50001 and income <=200000: \n",
    "        return 'C'\n",
    "    if income >= 200001 and income <=1000000: \n",
    "        return 'B'\n",
    "    if income >= 1000001: \n",
    "        return 'A'"
   ]
  },
  {
   "cell_type": "markdown",
   "id": "a09edaaa",
   "metadata": {},
   "source": [
    "Создадим столбец total_income_category с категориями: 0–30000 — 'E'; 30001–50000 — 'D'; 50001–200000 — 'C'; 200001–1000000 — 'B'; 1000001 и выше — 'A'."
   ]
  },
  {
   "cell_type": "code",
   "execution_count": 13,
   "id": "f0ca740e",
   "metadata": {
    "scrolled": true
   },
   "outputs": [],
   "source": [
    "df['total_income_category'] = df['total_income'].apply(income_group) \n"
   ]
  },
  {
   "cell_type": "markdown",
   "id": "f595450f",
   "metadata": {},
   "source": [
    "Создадим функцию для преобразования данных столбца purpose и сформируем новый столбец purpose_category, в который войдут следующие категории:'операции с автомобилем',\n",
    "'операции с недвижимостью', 'проведение свадьбы', 'получение образования'."
   ]
  },
  {
   "cell_type": "code",
   "execution_count": 14,
   "id": "8195f98f",
   "metadata": {
    "scrolled": true
   },
   "outputs": [
    {
     "name": "stdout",
     "output_type": "stream",
     "text": [
      "операции с недвижимостью    10811\n",
      "операции с автомобилем       4306\n",
      "проведение свадьбы           4013\n",
      "получение образования        2324\n",
      "Name: purpose_category, dtype: int64\n"
     ]
    }
   ],
   "source": [
    "def purpose_group(purpose):\n",
    "    a = 'жиль'\n",
    "    b = 'недв'\n",
    "    c = 'авто'\n",
    "    d = 'образ'\n",
    "    e = 'свадь'\n",
    "    if a in purpose: \n",
    "        return 'операции с недвижимостью'\n",
    "    if b in purpose: \n",
    "        return 'операции с недвижимостью'\n",
    "    if c in purpose: \n",
    "        return 'операции с автомобилем'\n",
    "    if d in purpose: \n",
    "        return 'проведение свадьбы'\n",
    "    if e in purpose: \n",
    "        return 'получение образования'\n",
    "        \n",
    "    \n",
    "df['purpose_category'] = df['purpose'].apply(purpose_group)\n",
    "\n",
    "print(df['purpose_category'].value_counts()) #проверка\n"
   ]
  },
  {
   "cell_type": "markdown",
   "id": "58f59004",
   "metadata": {},
   "source": [
    "# Выводы\n",
    "\n",
    "В результате предварительной обработки данных:\n",
    "- Пропущенные зачения в столбцах days_employed, total_income заменены медианным значением.\n",
    "- Вещественный тип данных в столбце total_income заменён на целочисленный.\n",
    "- Орицатетельное количество детей в столбце children (-1) замено на 1. \n",
    "- Анамально большое малколичество детей в столбце children (20) заменено на 2.\n",
    "- Исключены явные дубликаты.\n",
    "- Заменены неявные дубликаты в столбце education.\n",
    "- Значения в столбцах purpose  и total_income распределены по укрупнённым категориям."
   ]
  },
  {
   "cell_type": "markdown",
   "id": "4b793612",
   "metadata": {},
   "source": [
    "# Исследование надёжности заёмщиков <a id='4'></a>"
   ]
  },
  {
   "cell_type": "markdown",
   "id": "7034c62f",
   "metadata": {},
   "source": [
    "## Анализ зависимости между количеством детей и возвратом кредита в срок. "
   ]
  },
  {
   "cell_type": "markdown",
   "id": "ec614edb",
   "metadata": {},
   "source": [
    "Определим есть ли зависимость между количеством детей и возвратом кредита в срок. Для анализа используем сводные таблицы. Расчитаем количество просроченных кредитов."
   ]
  },
  {
   "cell_type": "code",
   "execution_count": 15,
   "id": "51c4d9b3",
   "metadata": {
    "scrolled": true
   },
   "outputs": [
    {
     "data": {
      "text/html": [
       "<div>\n",
       "<style scoped>\n",
       "    .dataframe tbody tr th:only-of-type {\n",
       "        vertical-align: middle;\n",
       "    }\n",
       "\n",
       "    .dataframe tbody tr th {\n",
       "        vertical-align: top;\n",
       "    }\n",
       "\n",
       "    .dataframe thead th {\n",
       "        text-align: right;\n",
       "    }\n",
       "</style>\n",
       "<table border=\"1\" class=\"dataframe\">\n",
       "  <thead>\n",
       "    <tr style=\"text-align: right;\">\n",
       "      <th></th>\n",
       "      <th>debt</th>\n",
       "    </tr>\n",
       "    <tr>\n",
       "      <th>children</th>\n",
       "      <th></th>\n",
       "    </tr>\n",
       "  </thead>\n",
       "  <tbody>\n",
       "    <tr>\n",
       "      <th>0</th>\n",
       "      <td>1063</td>\n",
       "    </tr>\n",
       "    <tr>\n",
       "      <th>1</th>\n",
       "      <td>445</td>\n",
       "    </tr>\n",
       "    <tr>\n",
       "      <th>2</th>\n",
       "      <td>202</td>\n",
       "    </tr>\n",
       "    <tr>\n",
       "      <th>3</th>\n",
       "      <td>27</td>\n",
       "    </tr>\n",
       "    <tr>\n",
       "      <th>4</th>\n",
       "      <td>4</td>\n",
       "    </tr>\n",
       "    <tr>\n",
       "      <th>5</th>\n",
       "      <td>0</td>\n",
       "    </tr>\n",
       "  </tbody>\n",
       "</table>\n",
       "</div>"
      ],
      "text/plain": [
       "          debt\n",
       "children      \n",
       "0         1063\n",
       "1          445\n",
       "2          202\n",
       "3           27\n",
       "4            4\n",
       "5            0"
      ]
     },
     "metadata": {},
     "output_type": "display_data"
    }
   ],
   "source": [
    "\n",
    "data_pivot_cat_sum = df.pivot_table(index=['children'], values='debt', aggfunc='sum') \n",
    "display(data_pivot_cat_sum.head(20))\n"
   ]
  },
  {
   "cell_type": "markdown",
   "id": "69a43ff3",
   "metadata": {},
   "source": [
    "На первый взгляд, чем больше детей тем лучше платежеспособность и меньше просроченных кредитов. Однако если найти соотношение просроченных кредитов к общему количеству выданных в каждой категории увидим обратную зависимость. "
   ]
  },
  {
   "cell_type": "code",
   "execution_count": 16,
   "id": "cece6ff0",
   "metadata": {
    "scrolled": true
   },
   "outputs": [
    {
     "data": {
      "text/html": [
       "<div>\n",
       "<style scoped>\n",
       "    .dataframe tbody tr th:only-of-type {\n",
       "        vertical-align: middle;\n",
       "    }\n",
       "\n",
       "    .dataframe tbody tr th {\n",
       "        vertical-align: top;\n",
       "    }\n",
       "\n",
       "    .dataframe thead th {\n",
       "        text-align: right;\n",
       "    }\n",
       "</style>\n",
       "<table border=\"1\" class=\"dataframe\">\n",
       "  <thead>\n",
       "    <tr style=\"text-align: right;\">\n",
       "      <th></th>\n",
       "      <th>debt</th>\n",
       "    </tr>\n",
       "    <tr>\n",
       "      <th>children</th>\n",
       "      <th></th>\n",
       "    </tr>\n",
       "  </thead>\n",
       "  <tbody>\n",
       "    <tr>\n",
       "      <th>0</th>\n",
       "      <td>7.543822</td>\n",
       "    </tr>\n",
       "    <tr>\n",
       "      <th>1</th>\n",
       "      <td>9.165808</td>\n",
       "    </tr>\n",
       "    <tr>\n",
       "      <th>2</th>\n",
       "      <td>9.492481</td>\n",
       "    </tr>\n",
       "    <tr>\n",
       "      <th>3</th>\n",
       "      <td>8.181818</td>\n",
       "    </tr>\n",
       "    <tr>\n",
       "      <th>4</th>\n",
       "      <td>9.756098</td>\n",
       "    </tr>\n",
       "    <tr>\n",
       "      <th>5</th>\n",
       "      <td>0.000000</td>\n",
       "    </tr>\n",
       "  </tbody>\n",
       "</table>\n",
       "</div>"
      ],
      "text/plain": [
       "              debt\n",
       "children          \n",
       "0         7.543822\n",
       "1         9.165808\n",
       "2         9.492481\n",
       "3         8.181818\n",
       "4         9.756098\n",
       "5         0.000000"
      ]
     },
     "metadata": {},
     "output_type": "display_data"
    }
   ],
   "source": [
    "\n",
    "data_pivot_cat_sum = df.pivot_table(index=['children'], values='debt', aggfunc='sum') \n",
    "data_pivot_cat_count = df.pivot_table(index=['children'], values='debt', aggfunc='count') \n",
    "data_pivot_cat = data_pivot_cat_sum / data_pivot_cat_count * 100\n",
    "display(data_pivot_cat.head(20))\n"
   ]
  },
  {
   "cell_type": "markdown",
   "id": "b063a1c4",
   "metadata": {},
   "source": [
    "- Как видно из таблицы, **доля невозвращенных кредитов растёт с увеличением количества детей**. Снижение доли невозвращенных кредитов для 3-х детей можно объяснить наличием льгот для многодетных семей. Нулевые значения указывают на то что, кредиты в данной категории не выдавались.\n",
    "- Схожая тенденция наблюдается для всех кредитных категорий, за исключением категории \"получение образования\". "
   ]
  },
  {
   "cell_type": "code",
   "execution_count": 17,
   "id": "ffa0357e",
   "metadata": {
    "scrolled": true
   },
   "outputs": [
    {
     "data": {
      "text/html": [
       "<div>\n",
       "<style scoped>\n",
       "    .dataframe tbody tr th:only-of-type {\n",
       "        vertical-align: middle;\n",
       "    }\n",
       "\n",
       "    .dataframe tbody tr th {\n",
       "        vertical-align: top;\n",
       "    }\n",
       "\n",
       "    .dataframe thead th {\n",
       "        text-align: right;\n",
       "    }\n",
       "</style>\n",
       "<table border=\"1\" class=\"dataframe\">\n",
       "  <thead>\n",
       "    <tr style=\"text-align: right;\">\n",
       "      <th>purpose_category</th>\n",
       "      <th>операции с автомобилем</th>\n",
       "      <th>операции с недвижимостью</th>\n",
       "      <th>получение образования</th>\n",
       "      <th>проведение свадьбы</th>\n",
       "    </tr>\n",
       "    <tr>\n",
       "      <th>children</th>\n",
       "      <th></th>\n",
       "      <th></th>\n",
       "      <th></th>\n",
       "      <th></th>\n",
       "    </tr>\n",
       "  </thead>\n",
       "  <tbody>\n",
       "    <tr>\n",
       "      <th>0</th>\n",
       "      <td>8.541301</td>\n",
       "      <td>6.728866</td>\n",
       "      <td>7.516340</td>\n",
       "      <td>8.667676</td>\n",
       "    </tr>\n",
       "    <tr>\n",
       "      <th>1</th>\n",
       "      <td>10.677618</td>\n",
       "      <td>8.093889</td>\n",
       "      <td>9.550562</td>\n",
       "      <td>10.273973</td>\n",
       "    </tr>\n",
       "    <tr>\n",
       "      <th>2</th>\n",
       "      <td>12.048193</td>\n",
       "      <td>8.403361</td>\n",
       "      <td>6.696429</td>\n",
       "      <td>11.244019</td>\n",
       "    </tr>\n",
       "    <tr>\n",
       "      <th>3</th>\n",
       "      <td>8.333333</td>\n",
       "      <td>7.692308</td>\n",
       "      <td>15.625000</td>\n",
       "      <td>5.797101</td>\n",
       "    </tr>\n",
       "    <tr>\n",
       "      <th>4</th>\n",
       "      <td>10.000000</td>\n",
       "      <td>14.285714</td>\n",
       "      <td>0.000000</td>\n",
       "      <td>0.000000</td>\n",
       "    </tr>\n",
       "    <tr>\n",
       "      <th>5</th>\n",
       "      <td>0.000000</td>\n",
       "      <td>0.000000</td>\n",
       "      <td>0.000000</td>\n",
       "      <td>0.000000</td>\n",
       "    </tr>\n",
       "  </tbody>\n",
       "</table>\n",
       "</div>"
      ],
      "text/plain": [
       "purpose_category  операции с автомобилем  операции с недвижимостью  \\\n",
       "children                                                             \n",
       "0                               8.541301                  6.728866   \n",
       "1                              10.677618                  8.093889   \n",
       "2                              12.048193                  8.403361   \n",
       "3                               8.333333                  7.692308   \n",
       "4                              10.000000                 14.285714   \n",
       "5                               0.000000                  0.000000   \n",
       "\n",
       "purpose_category  получение образования  проведение свадьбы  \n",
       "children                                                     \n",
       "0                              7.516340            8.667676  \n",
       "1                              9.550562           10.273973  \n",
       "2                              6.696429           11.244019  \n",
       "3                             15.625000            5.797101  \n",
       "4                              0.000000            0.000000  \n",
       "5                              0.000000            0.000000  "
      ]
     },
     "metadata": {},
     "output_type": "display_data"
    }
   ],
   "source": [
    "\n",
    "data_pivot_cat_sum = df.pivot_table(index=['children'], columns='purpose_category', values='debt', aggfunc='sum') \n",
    "data_pivot_cat_count = df.pivot_table(index=['children'], columns='purpose_category', values='debt', aggfunc='count') \n",
    "data_pivot_cat = data_pivot_cat_sum / data_pivot_cat_count * 100\n",
    "display(data_pivot_cat.head(20))\n"
   ]
  },
  {
   "cell_type": "markdown",
   "id": "86554703",
   "metadata": {},
   "source": [
    "## Анализ зависимости между семейным положением и возвратом кредита в срок. "
   ]
  },
  {
   "cell_type": "code",
   "execution_count": 18,
   "id": "5ea14410",
   "metadata": {
    "scrolled": false
   },
   "outputs": [
    {
     "data": {
      "text/html": [
       "<div>\n",
       "<style scoped>\n",
       "    .dataframe tbody tr th:only-of-type {\n",
       "        vertical-align: middle;\n",
       "    }\n",
       "\n",
       "    .dataframe tbody tr th {\n",
       "        vertical-align: top;\n",
       "    }\n",
       "\n",
       "    .dataframe thead th {\n",
       "        text-align: right;\n",
       "    }\n",
       "</style>\n",
       "<table border=\"1\" class=\"dataframe\">\n",
       "  <thead>\n",
       "    <tr style=\"text-align: right;\">\n",
       "      <th></th>\n",
       "      <th>debt</th>\n",
       "    </tr>\n",
       "    <tr>\n",
       "      <th>family_status</th>\n",
       "      <th></th>\n",
       "    </tr>\n",
       "  </thead>\n",
       "  <tbody>\n",
       "    <tr>\n",
       "      <th>в разводе</th>\n",
       "      <td>7.112971</td>\n",
       "    </tr>\n",
       "    <tr>\n",
       "      <th>вдовец / вдова</th>\n",
       "      <td>6.569343</td>\n",
       "    </tr>\n",
       "    <tr>\n",
       "      <th>гражданский брак</th>\n",
       "      <td>9.347145</td>\n",
       "    </tr>\n",
       "    <tr>\n",
       "      <th>женат / замужем</th>\n",
       "      <td>7.545182</td>\n",
       "    </tr>\n",
       "    <tr>\n",
       "      <th>не женат / не замужем</th>\n",
       "      <td>9.750890</td>\n",
       "    </tr>\n",
       "  </tbody>\n",
       "</table>\n",
       "</div>"
      ],
      "text/plain": [
       "                           debt\n",
       "family_status                  \n",
       "в разводе              7.112971\n",
       "вдовец / вдова         6.569343\n",
       "гражданский брак       9.347145\n",
       "женат / замужем        7.545182\n",
       "не женат / не замужем  9.750890"
      ]
     },
     "metadata": {},
     "output_type": "display_data"
    }
   ],
   "source": [
    "data_pivot_fam_sum = df.pivot_table(index=['family_status'], values='debt', aggfunc='sum') \n",
    "data_pivot_fam_count = df.pivot_table(index=['family_status'], values='debt', aggfunc='count') \n",
    "data_pivot_fam = data_pivot_fam_sum / data_pivot_fam_count * 100\n",
    "display(data_pivot_fam)\n"
   ]
  },
  {
   "cell_type": "markdown",
   "id": "805ec8e4",
   "metadata": {},
   "source": [
    "Из данных таблицы видно, что наибольшая доля невозвращенных в срок редитов 9,75% и 9,35% приходится соответственно на категории \"не женат / не замужем\" и \"гражданский брак\". Наименьшая доля невозвращенных в срок редитов 7,55%, 7,11% и 6,57% приходится соответственно на категории \"женат / замужем\", \"в разводе\" и \"вдовец / вдова\"."
   ]
  },
  {
   "cell_type": "markdown",
   "id": "9ff895fc",
   "metadata": {},
   "source": [
    "Проанализируем, измененение отмеченной зависимости в разрезе кредитных категорий."
   ]
  },
  {
   "cell_type": "code",
   "execution_count": 19,
   "id": "98260f14",
   "metadata": {
    "scrolled": false
   },
   "outputs": [
    {
     "data": {
      "text/html": [
       "<div>\n",
       "<style scoped>\n",
       "    .dataframe tbody tr th:only-of-type {\n",
       "        vertical-align: middle;\n",
       "    }\n",
       "\n",
       "    .dataframe tbody tr th {\n",
       "        vertical-align: top;\n",
       "    }\n",
       "\n",
       "    .dataframe thead th {\n",
       "        text-align: right;\n",
       "    }\n",
       "</style>\n",
       "<table border=\"1\" class=\"dataframe\">\n",
       "  <thead>\n",
       "    <tr style=\"text-align: right;\">\n",
       "      <th>purpose_category</th>\n",
       "      <th>операции с автомобилем</th>\n",
       "      <th>операции с недвижимостью</th>\n",
       "      <th>получение образования</th>\n",
       "      <th>проведение свадьбы</th>\n",
       "    </tr>\n",
       "    <tr>\n",
       "      <th>family_status</th>\n",
       "      <th></th>\n",
       "      <th></th>\n",
       "      <th></th>\n",
       "      <th></th>\n",
       "    </tr>\n",
       "  </thead>\n",
       "  <tbody>\n",
       "    <tr>\n",
       "      <th>в разводе</th>\n",
       "      <td>7.473310</td>\n",
       "      <td>6.952663</td>\n",
       "      <td>NaN</td>\n",
       "      <td>7.142857</td>\n",
       "    </tr>\n",
       "    <tr>\n",
       "      <th>вдовец / вдова</th>\n",
       "      <td>9.174312</td>\n",
       "      <td>5.166052</td>\n",
       "      <td>NaN</td>\n",
       "      <td>7.537688</td>\n",
       "    </tr>\n",
       "    <tr>\n",
       "      <th>гражданский брак</th>\n",
       "      <td>11.751152</td>\n",
       "      <td>9.201213</td>\n",
       "      <td>8.003442</td>\n",
       "      <td>14.851485</td>\n",
       "    </tr>\n",
       "    <tr>\n",
       "      <th>женат / замужем</th>\n",
       "      <td>8.369883</td>\n",
       "      <td>6.934932</td>\n",
       "      <td>NaN</td>\n",
       "      <td>8.323699</td>\n",
       "    </tr>\n",
       "    <tr>\n",
       "      <th>не женат / не замужем</th>\n",
       "      <td>12.872841</td>\n",
       "      <td>8.145363</td>\n",
       "      <td>NaN</td>\n",
       "      <td>10.745234</td>\n",
       "    </tr>\n",
       "  </tbody>\n",
       "</table>\n",
       "</div>"
      ],
      "text/plain": [
       "purpose_category       операции с автомобилем  операции с недвижимостью  \\\n",
       "family_status                                                             \n",
       "в разводе                            7.473310                  6.952663   \n",
       "вдовец / вдова                       9.174312                  5.166052   \n",
       "гражданский брак                    11.751152                  9.201213   \n",
       "женат / замужем                      8.369883                  6.934932   \n",
       "не женат / не замужем               12.872841                  8.145363   \n",
       "\n",
       "purpose_category       получение образования  проведение свадьбы  \n",
       "family_status                                                     \n",
       "в разводе                                NaN            7.142857  \n",
       "вдовец / вдова                           NaN            7.537688  \n",
       "гражданский брак                    8.003442           14.851485  \n",
       "женат / замужем                          NaN            8.323699  \n",
       "не женат / не замужем                    NaN           10.745234  "
      ]
     },
     "metadata": {},
     "output_type": "display_data"
    }
   ],
   "source": [
    "data_pivot_fam_sum = df.pivot_table(index=['family_status'], columns='purpose_category', values='debt', aggfunc='sum') \n",
    "data_pivot_fam_count = df.pivot_table(index=['family_status'], columns='purpose_category', values='debt', aggfunc='count') \n",
    "data_pivot_fam = data_pivot_fam_sum / data_pivot_fam_count * 100\n",
    "display(data_pivot_fam)\n"
   ]
  },
  {
   "cell_type": "markdown",
   "id": "e123d690",
   "metadata": {},
   "source": [
    "Как видно из данных таблицы, отмеченная выше тенденция справедлива для всех кредитных каегорий:  наибольшая доля невозвращенных в срок редитов приходится на категории \"не женат / не замужем\" и \"гражданский брак\", наименьшая доля невозвращенных в срок редитов приходится на категории \"женат / замужем\", \"в разводе\" и \"вдовец / вдова\". Отсутствие значений (NaN) в столбце \"получение образования\" указывает на то что, кредиты в данной категории не выдавались."
   ]
  },
  {
   "cell_type": "markdown",
   "id": "5414a9c0",
   "metadata": {},
   "source": [
    "## Анализ зависимости между уровнем дохода и возвратом кредита в срок. "
   ]
  },
  {
   "cell_type": "code",
   "execution_count": 20,
   "id": "25ebf7c3",
   "metadata": {
    "scrolled": true
   },
   "outputs": [
    {
     "data": {
      "text/html": [
       "<div>\n",
       "<style scoped>\n",
       "    .dataframe tbody tr th:only-of-type {\n",
       "        vertical-align: middle;\n",
       "    }\n",
       "\n",
       "    .dataframe tbody tr th {\n",
       "        vertical-align: top;\n",
       "    }\n",
       "\n",
       "    .dataframe thead th {\n",
       "        text-align: right;\n",
       "    }\n",
       "</style>\n",
       "<table border=\"1\" class=\"dataframe\">\n",
       "  <thead>\n",
       "    <tr style=\"text-align: right;\">\n",
       "      <th></th>\n",
       "      <th>debt</th>\n",
       "    </tr>\n",
       "    <tr>\n",
       "      <th>total_income_category</th>\n",
       "      <th></th>\n",
       "    </tr>\n",
       "  </thead>\n",
       "  <tbody>\n",
       "    <tr>\n",
       "      <th>A</th>\n",
       "      <td>8.000000</td>\n",
       "    </tr>\n",
       "    <tr>\n",
       "      <th>B</th>\n",
       "      <td>7.062091</td>\n",
       "    </tr>\n",
       "    <tr>\n",
       "      <th>C</th>\n",
       "      <td>8.491508</td>\n",
       "    </tr>\n",
       "    <tr>\n",
       "      <th>D</th>\n",
       "      <td>6.000000</td>\n",
       "    </tr>\n",
       "    <tr>\n",
       "      <th>E</th>\n",
       "      <td>9.090909</td>\n",
       "    </tr>\n",
       "  </tbody>\n",
       "</table>\n",
       "</div>"
      ],
      "text/plain": [
       "                           debt\n",
       "total_income_category          \n",
       "A                      8.000000\n",
       "B                      7.062091\n",
       "C                      8.491508\n",
       "D                      6.000000\n",
       "E                      9.090909"
      ]
     },
     "metadata": {},
     "output_type": "display_data"
    }
   ],
   "source": [
    "data_pivot_inc_sum = df.pivot_table(index=['total_income_category'], values='debt', aggfunc='sum') \n",
    "data_pivot_inc_count = df.pivot_table(index=['total_income_category'], values='debt', aggfunc='count') \n",
    "data_pivot_inc = data_pivot_inc_sum / data_pivot_inc_count * 100\n",
    "display(data_pivot_inc.head(20))\n"
   ]
  },
  {
   "cell_type": "markdown",
   "id": "447e50c5",
   "metadata": {},
   "source": [
    "Очевидной зависимости между уровнем дохода и возвратом кредита в срок не наблюдается. Проанализируем как влияет уровень дохода на погашение кредита в срок в разрезе кредитных категорий."
   ]
  },
  {
   "cell_type": "code",
   "execution_count": 21,
   "id": "77de432f",
   "metadata": {
    "scrolled": false
   },
   "outputs": [
    {
     "data": {
      "text/html": [
       "<div>\n",
       "<style scoped>\n",
       "    .dataframe tbody tr th:only-of-type {\n",
       "        vertical-align: middle;\n",
       "    }\n",
       "\n",
       "    .dataframe tbody tr th {\n",
       "        vertical-align: top;\n",
       "    }\n",
       "\n",
       "    .dataframe thead th {\n",
       "        text-align: right;\n",
       "    }\n",
       "</style>\n",
       "<table border=\"1\" class=\"dataframe\">\n",
       "  <thead>\n",
       "    <tr style=\"text-align: right;\">\n",
       "      <th>purpose_category</th>\n",
       "      <th>операции с автомобилем</th>\n",
       "      <th>операции с недвижимостью</th>\n",
       "      <th>получение образования</th>\n",
       "      <th>проведение свадьбы</th>\n",
       "    </tr>\n",
       "    <tr>\n",
       "      <th>total_income_category</th>\n",
       "      <th></th>\n",
       "      <th></th>\n",
       "      <th></th>\n",
       "      <th></th>\n",
       "    </tr>\n",
       "  </thead>\n",
       "  <tbody>\n",
       "    <tr>\n",
       "      <th>A</th>\n",
       "      <td>0.000000</td>\n",
       "      <td>5.882353</td>\n",
       "      <td>0.000000</td>\n",
       "      <td>25.000000</td>\n",
       "    </tr>\n",
       "    <tr>\n",
       "      <th>B</th>\n",
       "      <td>8.341416</td>\n",
       "      <td>6.697819</td>\n",
       "      <td>5.137615</td>\n",
       "      <td>7.803790</td>\n",
       "    </tr>\n",
       "    <tr>\n",
       "      <th>C</th>\n",
       "      <td>9.596749</td>\n",
       "      <td>7.468622</td>\n",
       "      <td>8.913168</td>\n",
       "      <td>9.798746</td>\n",
       "    </tr>\n",
       "    <tr>\n",
       "      <th>D</th>\n",
       "      <td>13.888889</td>\n",
       "      <td>3.571429</td>\n",
       "      <td>8.823529</td>\n",
       "      <td>2.631579</td>\n",
       "    </tr>\n",
       "    <tr>\n",
       "      <th>E</th>\n",
       "      <td>0.000000</td>\n",
       "      <td>18.181818</td>\n",
       "      <td>0.000000</td>\n",
       "      <td>0.000000</td>\n",
       "    </tr>\n",
       "  </tbody>\n",
       "</table>\n",
       "</div>"
      ],
      "text/plain": [
       "purpose_category       операции с автомобилем  операции с недвижимостью  \\\n",
       "total_income_category                                                     \n",
       "A                                    0.000000                  5.882353   \n",
       "B                                    8.341416                  6.697819   \n",
       "C                                    9.596749                  7.468622   \n",
       "D                                   13.888889                  3.571429   \n",
       "E                                    0.000000                 18.181818   \n",
       "\n",
       "purpose_category       получение образования  проведение свадьбы  \n",
       "total_income_category                                             \n",
       "A                                   0.000000           25.000000  \n",
       "B                                   5.137615            7.803790  \n",
       "C                                   8.913168            9.798746  \n",
       "D                                   8.823529            2.631579  \n",
       "E                                   0.000000            0.000000  "
      ]
     },
     "metadata": {},
     "output_type": "display_data"
    }
   ],
   "source": [
    "data_pivot_inc_sum = df.pivot_table(index=['total_income_category'], columns='purpose_category', values='debt', aggfunc='sum') \n",
    "data_pivot_inc_count = df.pivot_table(index=['total_income_category'], columns='purpose_category', values='debt', aggfunc='count') \n",
    "data_pivot_inc = data_pivot_inc_sum / data_pivot_inc_count * 100\n",
    "display(data_pivot_inc.head(20))\n"
   ]
  },
  {
   "cell_type": "markdown",
   "id": "9e3686a1",
   "metadata": {},
   "source": [
    "Анализируя долю возврата кредита в срок от уровня дохода в разрезе категорий, однозначного вывода о наличии зависимости о между уровнем дохода и возвратом кредита в срок сделать нельзя. Проанализируем объём выборок в разрезе уровня доходов и платёжных категориий."
   ]
  },
  {
   "cell_type": "code",
   "execution_count": 22,
   "id": "88cd6172",
   "metadata": {},
   "outputs": [
    {
     "data": {
      "text/html": [
       "<div>\n",
       "<style scoped>\n",
       "    .dataframe tbody tr th:only-of-type {\n",
       "        vertical-align: middle;\n",
       "    }\n",
       "\n",
       "    .dataframe tbody tr th {\n",
       "        vertical-align: top;\n",
       "    }\n",
       "\n",
       "    .dataframe thead th {\n",
       "        text-align: right;\n",
       "    }\n",
       "</style>\n",
       "<table border=\"1\" class=\"dataframe\">\n",
       "  <thead>\n",
       "    <tr style=\"text-align: right;\">\n",
       "      <th>purpose_category</th>\n",
       "      <th>операции с автомобилем</th>\n",
       "      <th>операции с недвижимостью</th>\n",
       "      <th>получение образования</th>\n",
       "      <th>проведение свадьбы</th>\n",
       "    </tr>\n",
       "    <tr>\n",
       "      <th>total_income_category</th>\n",
       "      <th></th>\n",
       "      <th></th>\n",
       "      <th></th>\n",
       "      <th></th>\n",
       "    </tr>\n",
       "  </thead>\n",
       "  <tbody>\n",
       "    <tr>\n",
       "      <th>A</th>\n",
       "      <td>0</td>\n",
       "      <td>1</td>\n",
       "      <td>0</td>\n",
       "      <td>1</td>\n",
       "    </tr>\n",
       "    <tr>\n",
       "      <th>B</th>\n",
       "      <td>86</td>\n",
       "      <td>172</td>\n",
       "      <td>28</td>\n",
       "      <td>70</td>\n",
       "    </tr>\n",
       "    <tr>\n",
       "      <th>C</th>\n",
       "      <td>307</td>\n",
       "      <td>601</td>\n",
       "      <td>155</td>\n",
       "      <td>297</td>\n",
       "    </tr>\n",
       "    <tr>\n",
       "      <th>D</th>\n",
       "      <td>10</td>\n",
       "      <td>6</td>\n",
       "      <td>3</td>\n",
       "      <td>2</td>\n",
       "    </tr>\n",
       "    <tr>\n",
       "      <th>E</th>\n",
       "      <td>0</td>\n",
       "      <td>2</td>\n",
       "      <td>0</td>\n",
       "      <td>0</td>\n",
       "    </tr>\n",
       "  </tbody>\n",
       "</table>\n",
       "</div>"
      ],
      "text/plain": [
       "purpose_category       операции с автомобилем  операции с недвижимостью  \\\n",
       "total_income_category                                                     \n",
       "A                                           0                         1   \n",
       "B                                          86                       172   \n",
       "C                                         307                       601   \n",
       "D                                          10                         6   \n",
       "E                                           0                         2   \n",
       "\n",
       "purpose_category       получение образования  проведение свадьбы  \n",
       "total_income_category                                             \n",
       "A                                          0                   1  \n",
       "B                                         28                  70  \n",
       "C                                        155                 297  \n",
       "D                                          3                   2  \n",
       "E                                          0                   0  "
      ]
     },
     "metadata": {},
     "output_type": "display_data"
    },
    {
     "data": {
      "text/html": [
       "<div>\n",
       "<style scoped>\n",
       "    .dataframe tbody tr th:only-of-type {\n",
       "        vertical-align: middle;\n",
       "    }\n",
       "\n",
       "    .dataframe tbody tr th {\n",
       "        vertical-align: top;\n",
       "    }\n",
       "\n",
       "    .dataframe thead th {\n",
       "        text-align: right;\n",
       "    }\n",
       "</style>\n",
       "<table border=\"1\" class=\"dataframe\">\n",
       "  <thead>\n",
       "    <tr style=\"text-align: right;\">\n",
       "      <th>purpose_category</th>\n",
       "      <th>операции с автомобилем</th>\n",
       "      <th>операции с недвижимостью</th>\n",
       "      <th>получение образования</th>\n",
       "      <th>проведение свадьбы</th>\n",
       "    </tr>\n",
       "    <tr>\n",
       "      <th>total_income_category</th>\n",
       "      <th></th>\n",
       "      <th></th>\n",
       "      <th></th>\n",
       "      <th></th>\n",
       "    </tr>\n",
       "  </thead>\n",
       "  <tbody>\n",
       "    <tr>\n",
       "      <th>A</th>\n",
       "      <td>2</td>\n",
       "      <td>17</td>\n",
       "      <td>2</td>\n",
       "      <td>4</td>\n",
       "    </tr>\n",
       "    <tr>\n",
       "      <th>B</th>\n",
       "      <td>1031</td>\n",
       "      <td>2568</td>\n",
       "      <td>545</td>\n",
       "      <td>897</td>\n",
       "    </tr>\n",
       "    <tr>\n",
       "      <th>C</th>\n",
       "      <td>3199</td>\n",
       "      <td>8047</td>\n",
       "      <td>1739</td>\n",
       "      <td>3031</td>\n",
       "    </tr>\n",
       "    <tr>\n",
       "      <th>D</th>\n",
       "      <td>72</td>\n",
       "      <td>168</td>\n",
       "      <td>34</td>\n",
       "      <td>76</td>\n",
       "    </tr>\n",
       "    <tr>\n",
       "      <th>E</th>\n",
       "      <td>2</td>\n",
       "      <td>11</td>\n",
       "      <td>4</td>\n",
       "      <td>5</td>\n",
       "    </tr>\n",
       "  </tbody>\n",
       "</table>\n",
       "</div>"
      ],
      "text/plain": [
       "purpose_category       операции с автомобилем  операции с недвижимостью  \\\n",
       "total_income_category                                                     \n",
       "A                                           2                        17   \n",
       "B                                        1031                      2568   \n",
       "C                                        3199                      8047   \n",
       "D                                          72                       168   \n",
       "E                                           2                        11   \n",
       "\n",
       "purpose_category       получение образования  проведение свадьбы  \n",
       "total_income_category                                             \n",
       "A                                          2                   4  \n",
       "B                                        545                 897  \n",
       "C                                       1739                3031  \n",
       "D                                         34                  76  \n",
       "E                                          4                   5  "
      ]
     },
     "metadata": {},
     "output_type": "display_data"
    }
   ],
   "source": [
    "display(data_pivot_inc_sum.head(20))\n",
    "display(data_pivot_inc_count.head(20))"
   ]
  },
  {
   "cell_type": "markdown",
   "id": "4feb90eb",
   "metadata": {},
   "source": [
    "Исключив из анализа, категории дохода A, D, E, объём выборок в которых пренебрежимо мал (менее 3%) по сравнению с выборками В и С. Можно сделать вывод о наличии зависимости о между уровнем дохода и возвратом кредита в срок - **доля кредитов невозвращённых в срок уменьшается с увеличением уровня дохода для всех кредитных категорий.**  "
   ]
  },
  {
   "cell_type": "markdown",
   "id": "86c77b97",
   "metadata": {},
   "source": [
    "## Оценка влияния цели кредита на его возврат в срок. "
   ]
  },
  {
   "cell_type": "code",
   "execution_count": 23,
   "id": "4a387508",
   "metadata": {
    "scrolled": true
   },
   "outputs": [
    {
     "data": {
      "text/html": [
       "<div>\n",
       "<style scoped>\n",
       "    .dataframe tbody tr th:only-of-type {\n",
       "        vertical-align: middle;\n",
       "    }\n",
       "\n",
       "    .dataframe tbody tr th {\n",
       "        vertical-align: top;\n",
       "    }\n",
       "\n",
       "    .dataframe thead th {\n",
       "        text-align: right;\n",
       "    }\n",
       "</style>\n",
       "<table border=\"1\" class=\"dataframe\">\n",
       "  <thead>\n",
       "    <tr style=\"text-align: right;\">\n",
       "      <th></th>\n",
       "      <th>debt</th>\n",
       "    </tr>\n",
       "    <tr>\n",
       "      <th>purpose_category</th>\n",
       "      <th></th>\n",
       "    </tr>\n",
       "  </thead>\n",
       "  <tbody>\n",
       "    <tr>\n",
       "      <th>операции с автомобилем</th>\n",
       "      <td>9.359034</td>\n",
       "    </tr>\n",
       "    <tr>\n",
       "      <th>операции с недвижимостью</th>\n",
       "      <td>7.233373</td>\n",
       "    </tr>\n",
       "    <tr>\n",
       "      <th>получение образования</th>\n",
       "      <td>8.003442</td>\n",
       "    </tr>\n",
       "    <tr>\n",
       "      <th>проведение свадьбы</th>\n",
       "      <td>9.220035</td>\n",
       "    </tr>\n",
       "  </tbody>\n",
       "</table>\n",
       "</div>"
      ],
      "text/plain": [
       "                              debt\n",
       "purpose_category                  \n",
       "операции с автомобилем    9.359034\n",
       "операции с недвижимостью  7.233373\n",
       "получение образования     8.003442\n",
       "проведение свадьбы        9.220035"
      ]
     },
     "metadata": {},
     "output_type": "display_data"
    }
   ],
   "source": [
    "data_pivot_pur_sum = df.pivot_table(index=['purpose_category'], values='debt', aggfunc='sum') \n",
    "data_pivot_pur_count = df.pivot_table(index=['purpose_category'], values='debt', aggfunc='count') \n",
    "data_pivot_pur = data_pivot_pur_sum / data_pivot_pur_count * 100\n",
    "display(data_pivot_pur)"
   ]
  },
  {
   "cell_type": "markdown",
   "id": "bb775f0a",
   "metadata": {},
   "source": [
    "Наименьшая доля невозвращенных в срок кредитов принадлежит категории \"операции с недвижимостью\" - 7,23%, наибольшая - \"операции с автомобилем\" - 9,36%. Проанализируем, каким категориям кредитополучателей свойственно задерживание платежей."
   ]
  },
  {
   "cell_type": "code",
   "execution_count": 24,
   "id": "115cb4f9",
   "metadata": {
    "scrolled": true
   },
   "outputs": [
    {
     "data": {
      "text/html": [
       "<div>\n",
       "<style scoped>\n",
       "    .dataframe tbody tr th:only-of-type {\n",
       "        vertical-align: middle;\n",
       "    }\n",
       "\n",
       "    .dataframe tbody tr th {\n",
       "        vertical-align: top;\n",
       "    }\n",
       "\n",
       "    .dataframe thead th {\n",
       "        text-align: right;\n",
       "    }\n",
       "</style>\n",
       "<table border=\"1\" class=\"dataframe\">\n",
       "  <thead>\n",
       "    <tr style=\"text-align: right;\">\n",
       "      <th>family_status</th>\n",
       "      <th>в разводе</th>\n",
       "      <th>вдовец / вдова</th>\n",
       "      <th>гражданский брак</th>\n",
       "      <th>женат / замужем</th>\n",
       "      <th>не женат / не замужем</th>\n",
       "    </tr>\n",
       "    <tr>\n",
       "      <th>purpose_category</th>\n",
       "      <th></th>\n",
       "      <th></th>\n",
       "      <th></th>\n",
       "      <th></th>\n",
       "      <th></th>\n",
       "    </tr>\n",
       "  </thead>\n",
       "  <tbody>\n",
       "    <tr>\n",
       "      <th>операции с автомобилем</th>\n",
       "      <td>7.473310</td>\n",
       "      <td>9.174312</td>\n",
       "      <td>11.751152</td>\n",
       "      <td>8.369883</td>\n",
       "      <td>12.872841</td>\n",
       "    </tr>\n",
       "    <tr>\n",
       "      <th>операции с недвижимостью</th>\n",
       "      <td>6.952663</td>\n",
       "      <td>5.166052</td>\n",
       "      <td>9.201213</td>\n",
       "      <td>6.934932</td>\n",
       "      <td>8.145363</td>\n",
       "    </tr>\n",
       "    <tr>\n",
       "      <th>получение образования</th>\n",
       "      <td>NaN</td>\n",
       "      <td>NaN</td>\n",
       "      <td>8.003442</td>\n",
       "      <td>NaN</td>\n",
       "      <td>NaN</td>\n",
       "    </tr>\n",
       "    <tr>\n",
       "      <th>проведение свадьбы</th>\n",
       "      <td>7.142857</td>\n",
       "      <td>7.537688</td>\n",
       "      <td>14.851485</td>\n",
       "      <td>8.323699</td>\n",
       "      <td>10.745234</td>\n",
       "    </tr>\n",
       "  </tbody>\n",
       "</table>\n",
       "</div>"
      ],
      "text/plain": [
       "family_status             в разводе  вдовец / вдова  гражданский брак  \\\n",
       "purpose_category                                                        \n",
       "операции с автомобилем     7.473310        9.174312         11.751152   \n",
       "операции с недвижимостью   6.952663        5.166052          9.201213   \n",
       "получение образования           NaN             NaN          8.003442   \n",
       "проведение свадьбы         7.142857        7.537688         14.851485   \n",
       "\n",
       "family_status             женат / замужем  не женат / не замужем  \n",
       "purpose_category                                                  \n",
       "операции с автомобилем           8.369883              12.872841  \n",
       "операции с недвижимостью         6.934932               8.145363  \n",
       "получение образования                 NaN                    NaN  \n",
       "проведение свадьбы               8.323699              10.745234  "
      ]
     },
     "metadata": {},
     "output_type": "display_data"
    }
   ],
   "source": [
    "data_pivot_pur_sum = df.pivot_table(index=['purpose_category'], columns='family_status',  values='debt', aggfunc='sum') \n",
    "data_pivot_pur_count = df.pivot_table(index=['purpose_category'], columns='family_status',  values='debt', aggfunc='count') \n",
    "data_pivot_pur = data_pivot_pur_sum / data_pivot_pur_count * 100\n",
    "display(data_pivot_pur)"
   ]
  },
  {
   "cell_type": "markdown",
   "id": "f6dff836",
   "metadata": {},
   "source": [
    "Из данных таблицы видно, что существенно увеличивают долю просроченных платежей такие категории как: \"гражданский брак\" и \"не женат / не замужем\". "
   ]
  },
  {
   "cell_type": "markdown",
   "id": "065753ae",
   "metadata": {
    "id": "RY51YJYu_Zcv"
   },
   "source": [
    "**Выводы**\n",
    "\n",
    "В результате анализа данных о платёжеспособности клиентов:\n",
    "\n",
    "- найдена зависимость между количеством детей и возвратом кредита в срок.\n",
    "- выделены категории граждан по семейному положению имеющие большую долю задержек платежей по кредитам.\n",
    "- найдена зависимость между уровнем дохода и возвратом кредита в срок.\n",
    "- определены цели кредита по которым с большей и меньшей долей задержек платежей по кредитам.\n"
   ]
  },
  {
   "cell_type": "markdown",
   "id": "08c803fe",
   "metadata": {},
   "source": [
    "# Заключение <a id='5'></a>"
   ]
  },
  {
   "cell_type": "markdown",
   "id": "2bde9ee2",
   "metadata": {},
   "source": [
    "По результатам исследования:\n",
    "1. установлено, что **доля невозвращенных кредитов растёт с увеличением количества детей**;\n",
    "отмечено, снижение доли невозвращенных кредитов для кредитополучателей с 3-мя детьми, что объясняется наличием льгот для многодетных семей;\n",
    "2. определено, что **наибольшая доля невозвращенных в срок редитов 9,75% и 9,35% приходится соответственно на категории \"не женат / не замужем\" и \"гражданский брак\", наименьшая доля невозвращенных в срок кредитов 7,55%, 7,11% и 6,57% приходится соответственно на категории \"женат / замужем\", \"в разводе\" и \"вдовец / вдова\"**;\n",
    "3. установлено, что **доля кредитов невозвращённых в срок уменьшается с увеличением уровня дохода для всех кредитных вкатегорий;**\n",
    "4. определено, что **наименьшая доля невозвращенных в срок кредитов принадлежит категории \"операции с недвижимостью\" - 7,23%, наибольшая - \"операции с автомобилем\" - 9,36%**, при этом существенно увеличивают долю просроченных платежей такие категории как: \"гражданский брак\" и \"не женат / не замужем\".\n",
    "\n"
   ]
  },
  {
   "cell_type": "code",
   "execution_count": null,
   "id": "edc49d0f",
   "metadata": {},
   "outputs": [],
   "source": []
  }
 ],
 "metadata": {
  "ExecuteTimeLog": [
   {
    "duration": 1018,
    "start_time": "2022-04-27T09:46:31.983Z"
   },
   {
    "duration": 26,
    "start_time": "2022-04-27T09:46:33.004Z"
   },
   {
    "duration": 29,
    "start_time": "2022-04-27T09:46:33.032Z"
   },
   {
    "duration": 9,
    "start_time": "2022-04-27T09:46:33.062Z"
   },
   {
    "duration": 3,
    "start_time": "2022-04-27T09:46:33.074Z"
   },
   {
    "duration": 32,
    "start_time": "2022-04-27T09:46:33.079Z"
   },
   {
    "duration": 40,
    "start_time": "2022-04-27T09:46:33.113Z"
   },
   {
    "duration": 18,
    "start_time": "2022-04-27T09:46:33.154Z"
   },
   {
    "duration": 66,
    "start_time": "2022-04-27T09:46:33.174Z"
   },
   {
    "duration": 7,
    "start_time": "2022-04-27T09:46:33.241Z"
   },
   {
    "duration": 6,
    "start_time": "2022-04-27T09:46:33.250Z"
   },
   {
    "duration": 12,
    "start_time": "2022-04-27T09:46:33.257Z"
   },
   {
    "duration": 13,
    "start_time": "2022-04-27T09:46:33.271Z"
   },
   {
    "duration": 50,
    "start_time": "2022-04-27T09:46:33.287Z"
   },
   {
    "duration": 33,
    "start_time": "2022-04-27T09:46:33.341Z"
   },
   {
    "duration": 30,
    "start_time": "2022-04-27T09:46:33.375Z"
   },
   {
    "duration": 26,
    "start_time": "2022-04-27T09:46:33.411Z"
   },
   {
    "duration": 41,
    "start_time": "2022-04-27T09:46:33.438Z"
   },
   {
    "duration": 46,
    "start_time": "2022-04-27T09:46:33.481Z"
   },
   {
    "duration": 36,
    "start_time": "2022-04-27T09:46:33.528Z"
   },
   {
    "duration": 10,
    "start_time": "2022-04-27T09:46:33.565Z"
   },
   {
    "duration": 32,
    "start_time": "2022-04-27T09:46:33.577Z"
   },
   {
    "duration": 40,
    "start_time": "2022-04-27T09:46:33.611Z"
   },
   {
    "duration": 23,
    "start_time": "2022-04-27T09:48:41.522Z"
   },
   {
    "duration": 12,
    "start_time": "2022-04-27T09:48:44.941Z"
   },
   {
    "duration": 12,
    "start_time": "2022-04-27T09:48:48.047Z"
   },
   {
    "duration": 13,
    "start_time": "2022-04-27T09:48:50.860Z"
   },
   {
    "duration": 12,
    "start_time": "2022-04-27T09:48:53.840Z"
   },
   {
    "duration": 12,
    "start_time": "2022-04-27T09:49:00.968Z"
   },
   {
    "duration": 32,
    "start_time": "2022-04-27T09:49:10.755Z"
   },
   {
    "duration": 28,
    "start_time": "2022-04-27T09:49:17.526Z"
   },
   {
    "duration": 27,
    "start_time": "2022-04-27T09:49:25.487Z"
   },
   {
    "duration": 24,
    "start_time": "2022-04-27T09:50:44.052Z"
   },
   {
    "duration": 20,
    "start_time": "2022-04-27T09:50:53.577Z"
   },
   {
    "duration": 247,
    "start_time": "2022-04-27T10:06:11.587Z"
   },
   {
    "duration": 623,
    "start_time": "2022-05-02T08:06:48.242Z"
   },
   {
    "duration": 29,
    "start_time": "2022-05-02T08:06:48.867Z"
   },
   {
    "duration": 17,
    "start_time": "2022-05-02T08:06:48.907Z"
   },
   {
    "duration": 8,
    "start_time": "2022-05-02T08:06:48.926Z"
   },
   {
    "duration": 4,
    "start_time": "2022-05-02T08:06:48.935Z"
   },
   {
    "duration": 16,
    "start_time": "2022-05-02T08:06:48.941Z"
   },
   {
    "duration": 58,
    "start_time": "2022-05-02T08:06:48.958Z"
   },
   {
    "duration": 19,
    "start_time": "2022-05-02T08:06:49.018Z"
   },
   {
    "duration": 35,
    "start_time": "2022-05-02T08:06:49.038Z"
   },
   {
    "duration": 5,
    "start_time": "2022-05-02T08:06:49.076Z"
   },
   {
    "duration": 19,
    "start_time": "2022-05-02T08:06:49.108Z"
   },
   {
    "duration": 4,
    "start_time": "2022-05-02T08:06:49.128Z"
   },
   {
    "duration": 11,
    "start_time": "2022-05-02T08:06:49.133Z"
   },
   {
    "duration": 14,
    "start_time": "2022-05-02T08:06:49.145Z"
   },
   {
    "duration": 15,
    "start_time": "2022-05-02T08:06:49.161Z"
   },
   {
    "duration": 20,
    "start_time": "2022-05-02T08:06:49.207Z"
   },
   {
    "duration": 31,
    "start_time": "2022-05-02T08:06:49.228Z"
   },
   {
    "duration": 48,
    "start_time": "2022-05-02T08:06:49.261Z"
   },
   {
    "duration": 36,
    "start_time": "2022-05-02T08:06:49.310Z"
   },
   {
    "duration": 20,
    "start_time": "2022-05-02T08:06:49.348Z"
   },
   {
    "duration": 54,
    "start_time": "2022-05-02T08:06:49.370Z"
   },
   {
    "duration": 11,
    "start_time": "2022-05-02T08:06:49.426Z"
   },
   {
    "duration": 21,
    "start_time": "2022-05-02T08:06:49.439Z"
   },
   {
    "duration": 61,
    "start_time": "2022-05-02T08:06:49.462Z"
   },
   {
    "duration": 3,
    "start_time": "2022-05-02T08:09:15.248Z"
   },
   {
    "duration": 4,
    "start_time": "2022-05-02T08:09:17.234Z"
   },
   {
    "duration": 69,
    "start_time": "2022-05-02T08:09:19.165Z"
   },
   {
    "duration": 22,
    "start_time": "2022-05-02T08:09:20.696Z"
   },
   {
    "duration": 6,
    "start_time": "2022-05-02T08:09:25.220Z"
   },
   {
    "duration": 10,
    "start_time": "2022-05-02T08:09:29.723Z"
   },
   {
    "duration": 59,
    "start_time": "2022-05-02T08:10:22.878Z"
   },
   {
    "duration": 58,
    "start_time": "2022-05-02T08:13:20.115Z"
   },
   {
    "duration": 634,
    "start_time": "2022-05-03T21:40:44.161Z"
   },
   {
    "duration": 37,
    "start_time": "2022-05-03T21:40:44.797Z"
   },
   {
    "duration": 16,
    "start_time": "2022-05-03T21:40:44.835Z"
   },
   {
    "duration": 7,
    "start_time": "2022-05-03T21:40:44.852Z"
   },
   {
    "duration": 7,
    "start_time": "2022-05-03T21:40:44.860Z"
   },
   {
    "duration": 22,
    "start_time": "2022-05-03T21:40:44.869Z"
   },
   {
    "duration": 48,
    "start_time": "2022-05-03T21:40:44.893Z"
   },
   {
    "duration": 17,
    "start_time": "2022-05-03T21:40:44.943Z"
   },
   {
    "duration": 34,
    "start_time": "2022-05-03T21:40:44.961Z"
   },
   {
    "duration": 29,
    "start_time": "2022-05-03T21:40:44.998Z"
   },
   {
    "duration": 19,
    "start_time": "2022-05-03T21:40:45.029Z"
   },
   {
    "duration": 4,
    "start_time": "2022-05-03T21:40:45.049Z"
   },
   {
    "duration": 15,
    "start_time": "2022-05-03T21:40:45.054Z"
   },
   {
    "duration": 11,
    "start_time": "2022-05-03T21:40:45.070Z"
   },
   {
    "duration": 17,
    "start_time": "2022-05-03T21:40:45.083Z"
   },
   {
    "duration": 38,
    "start_time": "2022-05-03T21:40:45.102Z"
   },
   {
    "duration": 31,
    "start_time": "2022-05-03T21:40:45.141Z"
   },
   {
    "duration": 20,
    "start_time": "2022-05-03T21:40:45.173Z"
   },
   {
    "duration": 62,
    "start_time": "2022-05-03T21:40:45.195Z"
   },
   {
    "duration": 18,
    "start_time": "2022-05-03T21:40:45.258Z"
   },
   {
    "duration": 51,
    "start_time": "2022-05-03T21:40:45.278Z"
   },
   {
    "duration": 11,
    "start_time": "2022-05-03T21:40:45.331Z"
   },
   {
    "duration": 21,
    "start_time": "2022-05-03T21:40:45.343Z"
   },
   {
    "duration": 69,
    "start_time": "2022-05-03T21:40:45.366Z"
   }
  ],
  "kernelspec": {
   "display_name": "Python 3 (ipykernel)",
   "language": "python",
   "name": "python3"
  },
  "language_info": {
   "codemirror_mode": {
    "name": "ipython",
    "version": 3
   },
   "file_extension": ".py",
   "mimetype": "text/x-python",
   "name": "python",
   "nbconvert_exporter": "python",
   "pygments_lexer": "ipython3",
   "version": "3.9.12"
  },
  "toc": {
   "base_numbering": 1,
   "nav_menu": {},
   "number_sections": true,
   "sideBar": true,
   "skip_h1_title": true,
   "title_cell": "Table of Contents",
   "title_sidebar": "Contents",
   "toc_cell": false,
   "toc_position": {},
   "toc_section_display": true,
   "toc_window_display": false
  }
 },
 "nbformat": 4,
 "nbformat_minor": 5
}
