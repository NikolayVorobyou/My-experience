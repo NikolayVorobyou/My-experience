{
 "cells": [
  {
   "cell_type": "markdown",
   "id": "8d510ad1",
   "metadata": {},
   "source": [
    "# Критерии успешности игр"
   ]
  },
  {
   "cell_type": "markdown",
   "id": "e793bb6e",
   "metadata": {},
   "source": [
    "# Содержание\n",
    "\n",
    "- [Описание проекта](#1)\n",
    "- [Общая информация о данных](#2)\n",
    "- [Подготовка данных](#3)\n",
    "- [Анализ данных](#4)\n",
    "- [Составление портрета пользователя по регионам](#7)\n",
    "- [Проверка гипотез](#5)\n",
    "- [Заключение](#6)"
   ]
  },
  {
   "cell_type": "markdown",
   "id": "1cb00a16",
   "metadata": {},
   "source": [
    "# Описание проекта <a id='1'></a>\n",
    "\n",
    "**Цель: Выявить определяющие успешность игры закономерности.**\n",
    "\n",
    "На основе данных из открытых источников (до 2016 года: исторические данные о продажах игр, оценки пользователей и экспертов, жанры и платформы (например, Xbox или PlayStation) необходимо выявить определяющие успешность игры закономерности, что позволит сделать ставку на потенциально популярный продукт и спланировать рекламные кампании.\n",
    "В наборе данных попадается аббревиатура ESRB (Entertainment Software Rating Board) — это ассоциация, определяющая возрастной рейтинг компьютерных игр. ESRB оценивает игровой контент и присваивает ему подходящую возрастную категорию, например, «Для взрослых», «Для детей младшего возраста» или «Для подростков»..\n",
    "\n",
    "Путь к данным: \n",
    "- /datasets/games.csv"
   ]
  },
  {
   "cell_type": "markdown",
   "id": "abdd58f7",
   "metadata": {},
   "source": [
    "# Общая информация о данных <a id='2'></a>"
   ]
  },
  {
   "cell_type": "markdown",
   "id": "5e8b94c9",
   "metadata": {},
   "source": [
    "Согласно документации к данным:\n",
    "\n",
    "- Name — название игры\n",
    "- Platform — платформа\n",
    "- Year_of_Release — год выпуска\n",
    "- Genre — жанр игры\n",
    "- NA_sales — продажи в Северной Америке (миллионы проданных копий)\n",
    "- EU_sales — продажи в Европе (миллионы проданных копий)\n",
    "- JP_sales — продажи в Японии (миллионы проданных копий)\n",
    "- Other_sales — продажи в других странах (миллионы проданных копий)\n",
    "- Critic_Score — оценка критиков (максимум 100)\n",
    "- User_Score — оценка пользователей (максимум 10)\n",
    "- Rating — рейтинг от организации ESRB (англ. Entertainment Software Rating Board). Эта ассоциация определяет рейтинг компьютерных игр и присваивает им подходящую возрастную категорию.\n",
    "\n",
    "\n",
    "Данные за 2016 год могут быть неполными."
   ]
  },
  {
   "cell_type": "markdown",
   "id": "7fc480ba",
   "metadata": {},
   "source": [
    "# Подготовка данных <a id='3'></a>"
   ]
  },
  {
   "cell_type": "markdown",
   "id": "10222280",
   "metadata": {},
   "source": [
    "Оценим:\n",
    "- общую информацию о данных;\n",
    "- содержание строк с нулевыми значениями;\n",
    "- содержание колонок в первых и последних строках таблицы;\n",
    "- уникальные значения в колонках.\n"
   ]
  },
  {
   "cell_type": "code",
   "execution_count": 1,
   "id": "739bf409",
   "metadata": {
    "scrolled": false
   },
   "outputs": [
    {
     "data": {
      "text/html": [
       "<div>\n",
       "<style scoped>\n",
       "    .dataframe tbody tr th:only-of-type {\n",
       "        vertical-align: middle;\n",
       "    }\n",
       "\n",
       "    .dataframe tbody tr th {\n",
       "        vertical-align: top;\n",
       "    }\n",
       "\n",
       "    .dataframe thead th {\n",
       "        text-align: right;\n",
       "    }\n",
       "</style>\n",
       "<table border=\"1\" class=\"dataframe\">\n",
       "  <thead>\n",
       "    <tr style=\"text-align: right;\">\n",
       "      <th></th>\n",
       "      <th>Name</th>\n",
       "      <th>Platform</th>\n",
       "      <th>Year_of_Release</th>\n",
       "      <th>Genre</th>\n",
       "      <th>NA_sales</th>\n",
       "      <th>EU_sales</th>\n",
       "      <th>JP_sales</th>\n",
       "      <th>Other_sales</th>\n",
       "      <th>Critic_Score</th>\n",
       "      <th>User_Score</th>\n",
       "      <th>Rating</th>\n",
       "    </tr>\n",
       "  </thead>\n",
       "  <tbody>\n",
       "    <tr>\n",
       "      <th>0</th>\n",
       "      <td>Wii Sports</td>\n",
       "      <td>Wii</td>\n",
       "      <td>2006.0</td>\n",
       "      <td>Sports</td>\n",
       "      <td>41.36</td>\n",
       "      <td>28.96</td>\n",
       "      <td>3.77</td>\n",
       "      <td>8.45</td>\n",
       "      <td>76.0</td>\n",
       "      <td>8</td>\n",
       "      <td>E</td>\n",
       "    </tr>\n",
       "    <tr>\n",
       "      <th>1</th>\n",
       "      <td>Super Mario Bros.</td>\n",
       "      <td>NES</td>\n",
       "      <td>1985.0</td>\n",
       "      <td>Platform</td>\n",
       "      <td>29.08</td>\n",
       "      <td>3.58</td>\n",
       "      <td>6.81</td>\n",
       "      <td>0.77</td>\n",
       "      <td>NaN</td>\n",
       "      <td>NaN</td>\n",
       "      <td>NaN</td>\n",
       "    </tr>\n",
       "    <tr>\n",
       "      <th>2</th>\n",
       "      <td>Mario Kart Wii</td>\n",
       "      <td>Wii</td>\n",
       "      <td>2008.0</td>\n",
       "      <td>Racing</td>\n",
       "      <td>15.68</td>\n",
       "      <td>12.76</td>\n",
       "      <td>3.79</td>\n",
       "      <td>3.29</td>\n",
       "      <td>82.0</td>\n",
       "      <td>8.3</td>\n",
       "      <td>E</td>\n",
       "    </tr>\n",
       "    <tr>\n",
       "      <th>3</th>\n",
       "      <td>Wii Sports Resort</td>\n",
       "      <td>Wii</td>\n",
       "      <td>2009.0</td>\n",
       "      <td>Sports</td>\n",
       "      <td>15.61</td>\n",
       "      <td>10.93</td>\n",
       "      <td>3.28</td>\n",
       "      <td>2.95</td>\n",
       "      <td>80.0</td>\n",
       "      <td>8</td>\n",
       "      <td>E</td>\n",
       "    </tr>\n",
       "    <tr>\n",
       "      <th>4</th>\n",
       "      <td>Pokemon Red/Pokemon Blue</td>\n",
       "      <td>GB</td>\n",
       "      <td>1996.0</td>\n",
       "      <td>Role-Playing</td>\n",
       "      <td>11.27</td>\n",
       "      <td>8.89</td>\n",
       "      <td>10.22</td>\n",
       "      <td>1.00</td>\n",
       "      <td>NaN</td>\n",
       "      <td>NaN</td>\n",
       "      <td>NaN</td>\n",
       "    </tr>\n",
       "    <tr>\n",
       "      <th>5</th>\n",
       "      <td>Tetris</td>\n",
       "      <td>GB</td>\n",
       "      <td>1989.0</td>\n",
       "      <td>Puzzle</td>\n",
       "      <td>23.20</td>\n",
       "      <td>2.26</td>\n",
       "      <td>4.22</td>\n",
       "      <td>0.58</td>\n",
       "      <td>NaN</td>\n",
       "      <td>NaN</td>\n",
       "      <td>NaN</td>\n",
       "    </tr>\n",
       "    <tr>\n",
       "      <th>6</th>\n",
       "      <td>New Super Mario Bros.</td>\n",
       "      <td>DS</td>\n",
       "      <td>2006.0</td>\n",
       "      <td>Platform</td>\n",
       "      <td>11.28</td>\n",
       "      <td>9.14</td>\n",
       "      <td>6.50</td>\n",
       "      <td>2.88</td>\n",
       "      <td>89.0</td>\n",
       "      <td>8.5</td>\n",
       "      <td>E</td>\n",
       "    </tr>\n",
       "    <tr>\n",
       "      <th>7</th>\n",
       "      <td>Wii Play</td>\n",
       "      <td>Wii</td>\n",
       "      <td>2006.0</td>\n",
       "      <td>Misc</td>\n",
       "      <td>13.96</td>\n",
       "      <td>9.18</td>\n",
       "      <td>2.93</td>\n",
       "      <td>2.84</td>\n",
       "      <td>58.0</td>\n",
       "      <td>6.6</td>\n",
       "      <td>E</td>\n",
       "    </tr>\n",
       "    <tr>\n",
       "      <th>8</th>\n",
       "      <td>New Super Mario Bros. Wii</td>\n",
       "      <td>Wii</td>\n",
       "      <td>2009.0</td>\n",
       "      <td>Platform</td>\n",
       "      <td>14.44</td>\n",
       "      <td>6.94</td>\n",
       "      <td>4.70</td>\n",
       "      <td>2.24</td>\n",
       "      <td>87.0</td>\n",
       "      <td>8.4</td>\n",
       "      <td>E</td>\n",
       "    </tr>\n",
       "    <tr>\n",
       "      <th>9</th>\n",
       "      <td>Duck Hunt</td>\n",
       "      <td>NES</td>\n",
       "      <td>1984.0</td>\n",
       "      <td>Shooter</td>\n",
       "      <td>26.93</td>\n",
       "      <td>0.63</td>\n",
       "      <td>0.28</td>\n",
       "      <td>0.47</td>\n",
       "      <td>NaN</td>\n",
       "      <td>NaN</td>\n",
       "      <td>NaN</td>\n",
       "    </tr>\n",
       "  </tbody>\n",
       "</table>\n",
       "</div>"
      ],
      "text/plain": [
       "                        Name Platform  Year_of_Release         Genre  \\\n",
       "0                 Wii Sports      Wii           2006.0        Sports   \n",
       "1          Super Mario Bros.      NES           1985.0      Platform   \n",
       "2             Mario Kart Wii      Wii           2008.0        Racing   \n",
       "3          Wii Sports Resort      Wii           2009.0        Sports   \n",
       "4   Pokemon Red/Pokemon Blue       GB           1996.0  Role-Playing   \n",
       "5                     Tetris       GB           1989.0        Puzzle   \n",
       "6      New Super Mario Bros.       DS           2006.0      Platform   \n",
       "7                   Wii Play      Wii           2006.0          Misc   \n",
       "8  New Super Mario Bros. Wii      Wii           2009.0      Platform   \n",
       "9                  Duck Hunt      NES           1984.0       Shooter   \n",
       "\n",
       "   NA_sales  EU_sales  JP_sales  Other_sales  Critic_Score User_Score Rating  \n",
       "0     41.36     28.96      3.77         8.45          76.0          8      E  \n",
       "1     29.08      3.58      6.81         0.77           NaN        NaN    NaN  \n",
       "2     15.68     12.76      3.79         3.29          82.0        8.3      E  \n",
       "3     15.61     10.93      3.28         2.95          80.0          8      E  \n",
       "4     11.27      8.89     10.22         1.00           NaN        NaN    NaN  \n",
       "5     23.20      2.26      4.22         0.58           NaN        NaN    NaN  \n",
       "6     11.28      9.14      6.50         2.88          89.0        8.5      E  \n",
       "7     13.96      9.18      2.93         2.84          58.0        6.6      E  \n",
       "8     14.44      6.94      4.70         2.24          87.0        8.4      E  \n",
       "9     26.93      0.63      0.28         0.47           NaN        NaN    NaN  "
      ]
     },
     "metadata": {},
     "output_type": "display_data"
    }
   ],
   "source": [
    "import pandas as pd\n",
    "import matplotlib.pyplot as plt\n",
    "from scipy import stats as st\n",
    "import numpy as np\n",
    "import math\n",
    "df = pd.read_csv('/datasets/games.csv')\n",
    "\n",
    "display(df.head(10))"
   ]
  },
  {
   "cell_type": "code",
   "execution_count": 2,
   "id": "10860270",
   "metadata": {
    "scrolled": false
   },
   "outputs": [
    {
     "name": "stdout",
     "output_type": "stream",
     "text": [
      "<class 'pandas.core.frame.DataFrame'>\n",
      "RangeIndex: 16715 entries, 0 to 16714\n",
      "Data columns (total 11 columns):\n",
      " #   Column           Non-Null Count  Dtype  \n",
      "---  ------           --------------  -----  \n",
      " 0   Name             16713 non-null  object \n",
      " 1   Platform         16715 non-null  object \n",
      " 2   Year_of_Release  16446 non-null  float64\n",
      " 3   Genre            16713 non-null  object \n",
      " 4   NA_sales         16715 non-null  float64\n",
      " 5   EU_sales         16715 non-null  float64\n",
      " 6   JP_sales         16715 non-null  float64\n",
      " 7   Other_sales      16715 non-null  float64\n",
      " 8   Critic_Score     8137 non-null   float64\n",
      " 9   User_Score       10014 non-null  object \n",
      " 10  Rating           9949 non-null   object \n",
      "dtypes: float64(6), object(5)\n",
      "memory usage: 1.4+ MB\n"
     ]
    }
   ],
   "source": [
    "df.info()"
   ]
  },
  {
   "cell_type": "markdown",
   "id": "863bf02e",
   "metadata": {
    "scrolled": false
   },
   "source": [
    "Приведем названия столбцов к нижнему регистру. Преобразуем данные в столбце year_of_release в тип int ('обойдя' наличие незаполненных ячеек; необходимости преобразовывать в к типу time нет ввиду наличия только года, а тип int сбережет ресурсы системы), а также данные в столбце user_score в тип float (это позволит проводить математические операции с данными столбца).\n",
    "\n",
    "Строковое значение 'tbd' (вероятно означающее: To Be Determined (будет определено)) в столбце с оценкой пользователей не несет полезной для анализа информации. Заменим его на NaN.\n",
    "\n",
    "В данных присутствует достаточно большое количество пропусков (что могло стать следствием неполноты открытых источников, из которых бралась информация). С целью недопущения внесения искажений в результаты анализа влияния исследуемых параметров, заменять отсутствующие значения средними или медианными значениями не будем."
   ]
  },
  {
   "cell_type": "code",
   "execution_count": 3,
   "id": "9397156f",
   "metadata": {
    "scrolled": false
   },
   "outputs": [
    {
     "name": "stdout",
     "output_type": "stream",
     "text": [
      "<class 'pandas.core.frame.DataFrame'>\n",
      "RangeIndex: 16715 entries, 0 to 16714\n",
      "Data columns (total 11 columns):\n",
      " #   Column           Non-Null Count  Dtype  \n",
      "---  ------           --------------  -----  \n",
      " 0   name             16713 non-null  object \n",
      " 1   platform         16715 non-null  object \n",
      " 2   year_of_release  16446 non-null  Int64  \n",
      " 3   genre            16713 non-null  object \n",
      " 4   na_sales         16715 non-null  float64\n",
      " 5   eu_sales         16715 non-null  float64\n",
      " 6   jp_sales         16715 non-null  float64\n",
      " 7   other_sales      16715 non-null  float64\n",
      " 8   critic_score     8137 non-null   float64\n",
      " 9   user_score       7590 non-null   float64\n",
      " 10  rating           9949 non-null   object \n",
      "dtypes: Int64(1), float64(6), object(4)\n",
      "memory usage: 1.4+ MB\n"
     ]
    },
    {
     "data": {
      "text/html": [
       "<div>\n",
       "<style scoped>\n",
       "    .dataframe tbody tr th:only-of-type {\n",
       "        vertical-align: middle;\n",
       "    }\n",
       "\n",
       "    .dataframe tbody tr th {\n",
       "        vertical-align: top;\n",
       "    }\n",
       "\n",
       "    .dataframe thead th {\n",
       "        text-align: right;\n",
       "    }\n",
       "</style>\n",
       "<table border=\"1\" class=\"dataframe\">\n",
       "  <thead>\n",
       "    <tr style=\"text-align: right;\">\n",
       "      <th></th>\n",
       "      <th>name</th>\n",
       "      <th>platform</th>\n",
       "      <th>year_of_release</th>\n",
       "      <th>genre</th>\n",
       "      <th>na_sales</th>\n",
       "      <th>eu_sales</th>\n",
       "      <th>jp_sales</th>\n",
       "      <th>other_sales</th>\n",
       "      <th>critic_score</th>\n",
       "      <th>user_score</th>\n",
       "      <th>rating</th>\n",
       "    </tr>\n",
       "  </thead>\n",
       "  <tbody>\n",
       "    <tr>\n",
       "      <th>0</th>\n",
       "      <td>Wii Sports</td>\n",
       "      <td>Wii</td>\n",
       "      <td>2006</td>\n",
       "      <td>Sports</td>\n",
       "      <td>41.36</td>\n",
       "      <td>28.96</td>\n",
       "      <td>3.77</td>\n",
       "      <td>8.45</td>\n",
       "      <td>76.0</td>\n",
       "      <td>8.0</td>\n",
       "      <td>E</td>\n",
       "    </tr>\n",
       "    <tr>\n",
       "      <th>1</th>\n",
       "      <td>Super Mario Bros.</td>\n",
       "      <td>NES</td>\n",
       "      <td>1985</td>\n",
       "      <td>Platform</td>\n",
       "      <td>29.08</td>\n",
       "      <td>3.58</td>\n",
       "      <td>6.81</td>\n",
       "      <td>0.77</td>\n",
       "      <td>NaN</td>\n",
       "      <td>NaN</td>\n",
       "      <td>NaN</td>\n",
       "    </tr>\n",
       "    <tr>\n",
       "      <th>2</th>\n",
       "      <td>Mario Kart Wii</td>\n",
       "      <td>Wii</td>\n",
       "      <td>2008</td>\n",
       "      <td>Racing</td>\n",
       "      <td>15.68</td>\n",
       "      <td>12.76</td>\n",
       "      <td>3.79</td>\n",
       "      <td>3.29</td>\n",
       "      <td>82.0</td>\n",
       "      <td>8.3</td>\n",
       "      <td>E</td>\n",
       "    </tr>\n",
       "    <tr>\n",
       "      <th>3</th>\n",
       "      <td>Wii Sports Resort</td>\n",
       "      <td>Wii</td>\n",
       "      <td>2009</td>\n",
       "      <td>Sports</td>\n",
       "      <td>15.61</td>\n",
       "      <td>10.93</td>\n",
       "      <td>3.28</td>\n",
       "      <td>2.95</td>\n",
       "      <td>80.0</td>\n",
       "      <td>8.0</td>\n",
       "      <td>E</td>\n",
       "    </tr>\n",
       "    <tr>\n",
       "      <th>4</th>\n",
       "      <td>Pokemon Red/Pokemon Blue</td>\n",
       "      <td>GB</td>\n",
       "      <td>1996</td>\n",
       "      <td>Role-Playing</td>\n",
       "      <td>11.27</td>\n",
       "      <td>8.89</td>\n",
       "      <td>10.22</td>\n",
       "      <td>1.00</td>\n",
       "      <td>NaN</td>\n",
       "      <td>NaN</td>\n",
       "      <td>NaN</td>\n",
       "    </tr>\n",
       "  </tbody>\n",
       "</table>\n",
       "</div>"
      ],
      "text/plain": [
       "                       name platform  year_of_release         genre  na_sales  \\\n",
       "0                Wii Sports      Wii             2006        Sports     41.36   \n",
       "1         Super Mario Bros.      NES             1985      Platform     29.08   \n",
       "2            Mario Kart Wii      Wii             2008        Racing     15.68   \n",
       "3         Wii Sports Resort      Wii             2009        Sports     15.61   \n",
       "4  Pokemon Red/Pokemon Blue       GB             1996  Role-Playing     11.27   \n",
       "\n",
       "   eu_sales  jp_sales  other_sales  critic_score  user_score rating  \n",
       "0     28.96      3.77         8.45          76.0         8.0      E  \n",
       "1      3.58      6.81         0.77           NaN         NaN    NaN  \n",
       "2     12.76      3.79         3.29          82.0         8.3      E  \n",
       "3     10.93      3.28         2.95          80.0         8.0      E  \n",
       "4      8.89     10.22         1.00           NaN         NaN    NaN  "
      ]
     },
     "metadata": {},
     "output_type": "display_data"
    }
   ],
   "source": [
    "df = df.rename(columns={'Name':'name', 'Platform':'platform', 'Year_of_Release':'year_of_release',\n",
    "                        'Genre':'genre', 'NA_sales':'na_sales', 'EU_sales':'eu_sales',\n",
    "                        'JP_sales':'jp_sales', 'Other_sales':'other_sales', 'Critic_Score':'critic_score',\n",
    "                        'User_Score':'user_score', 'Rating':'rating'})\n",
    "\n",
    "df['user_score'] = df['user_score'].replace('tbd', np.NaN)\n",
    "df['user_score'] = df['user_score'].astype('float64')\n",
    "df['year_of_release'] = pd.array(df['year_of_release'], dtype=pd.Int64Dtype())\n",
    "df.info()\n",
    "display(df.head())"
   ]
  },
  {
   "cell_type": "markdown",
   "id": "6f044e81",
   "metadata": {},
   "source": [
    "В колонках name, genre есть два пропуска. Посмотрим на них."
   ]
  },
  {
   "cell_type": "code",
   "execution_count": 4,
   "id": "71358064",
   "metadata": {
    "scrolled": true
   },
   "outputs": [
    {
     "data": {
      "text/html": [
       "<div>\n",
       "<style scoped>\n",
       "    .dataframe tbody tr th:only-of-type {\n",
       "        vertical-align: middle;\n",
       "    }\n",
       "\n",
       "    .dataframe tbody tr th {\n",
       "        vertical-align: top;\n",
       "    }\n",
       "\n",
       "    .dataframe thead th {\n",
       "        text-align: right;\n",
       "    }\n",
       "</style>\n",
       "<table border=\"1\" class=\"dataframe\">\n",
       "  <thead>\n",
       "    <tr style=\"text-align: right;\">\n",
       "      <th></th>\n",
       "      <th>name</th>\n",
       "      <th>platform</th>\n",
       "      <th>year_of_release</th>\n",
       "      <th>genre</th>\n",
       "      <th>na_sales</th>\n",
       "      <th>eu_sales</th>\n",
       "      <th>jp_sales</th>\n",
       "      <th>other_sales</th>\n",
       "      <th>critic_score</th>\n",
       "      <th>user_score</th>\n",
       "      <th>rating</th>\n",
       "    </tr>\n",
       "  </thead>\n",
       "  <tbody>\n",
       "    <tr>\n",
       "      <th>659</th>\n",
       "      <td>NaN</td>\n",
       "      <td>GEN</td>\n",
       "      <td>1993</td>\n",
       "      <td>NaN</td>\n",
       "      <td>1.78</td>\n",
       "      <td>0.53</td>\n",
       "      <td>0.00</td>\n",
       "      <td>0.08</td>\n",
       "      <td>NaN</td>\n",
       "      <td>NaN</td>\n",
       "      <td>NaN</td>\n",
       "    </tr>\n",
       "    <tr>\n",
       "      <th>14244</th>\n",
       "      <td>NaN</td>\n",
       "      <td>GEN</td>\n",
       "      <td>1993</td>\n",
       "      <td>NaN</td>\n",
       "      <td>0.00</td>\n",
       "      <td>0.00</td>\n",
       "      <td>0.03</td>\n",
       "      <td>0.00</td>\n",
       "      <td>NaN</td>\n",
       "      <td>NaN</td>\n",
       "      <td>NaN</td>\n",
       "    </tr>\n",
       "  </tbody>\n",
       "</table>\n",
       "</div>"
      ],
      "text/plain": [
       "      name platform  year_of_release genre  na_sales  eu_sales  jp_sales  \\\n",
       "659    NaN      GEN             1993   NaN      1.78      0.53      0.00   \n",
       "14244  NaN      GEN             1993   NaN      0.00      0.00      0.03   \n",
       "\n",
       "       other_sales  critic_score  user_score rating  \n",
       "659           0.08           NaN         NaN    NaN  \n",
       "14244         0.00           NaN         NaN    NaN  "
      ]
     },
     "metadata": {},
     "output_type": "display_data"
    }
   ],
   "source": [
    "display(df[df['name'].isna()].head(10))"
   ]
  },
  {
   "cell_type": "markdown",
   "id": "4bf2f98e",
   "metadata": {},
   "source": [
    "В строках отсутствуют записи о жанре и названии игры и др. Однако при формировании выборок два значения не окажут существенного влияния на результат, удалим их."
   ]
  },
  {
   "cell_type": "code",
   "execution_count": 5,
   "id": "4f848815",
   "metadata": {},
   "outputs": [],
   "source": [
    "df = df.dropna(subset=['genre'])\n"
   ]
  },
  {
   "cell_type": "markdown",
   "id": "1eabaad9",
   "metadata": {},
   "source": [
    "Проверим наличие неявных дубликатов в данных."
   ]
  },
  {
   "cell_type": "code",
   "execution_count": 6,
   "id": "78c5bf16",
   "metadata": {
    "scrolled": false
   },
   "outputs": [
    {
     "name": "stdout",
     "output_type": "stream",
     "text": [
      "platform: ['Wii' 'NES' 'GB' 'DS' 'X360' 'PS3' 'PS2' 'SNES' 'GBA' 'PS4' '3DS' 'N64'\n",
      " 'PS' 'XB' 'PC' '2600' 'PSP' 'XOne' 'WiiU' 'GC' 'GEN' 'DC' 'PSV' 'SAT'\n",
      " 'SCD' 'WS' 'NG' 'TG16' '3DO' 'GG' 'PCFX']\n",
      "genre: ['Sports' 'Platform' 'Racing' 'Role-Playing' 'Puzzle' 'Misc' 'Shooter'\n",
      " 'Simulation' 'Action' 'Fighting' 'Adventure' 'Strategy']\n",
      "user_score: [8.  nan 8.3 8.5 6.6 8.4 8.6 7.7 6.3 7.4 8.2 9.  7.9 8.1 8.7 7.1 3.4 5.3\n",
      " 4.8 3.2 8.9 6.4 7.8 7.5 2.6 7.2 9.2 7.  7.3 4.3 7.6 5.7 5.  9.1 6.5 8.8\n",
      " 6.9 9.4 6.8 6.1 6.7 5.4 4.  4.9 4.5 9.3 6.2 4.2 6.  3.7 4.1 5.8 5.6 5.5\n",
      " 4.4 4.6 5.9 3.9 3.1 2.9 5.2 3.3 4.7 5.1 3.5 2.5 1.9 3.  2.7 2.2 2.  9.5\n",
      " 2.1 3.6 2.8 1.8 3.8 0.  1.6 9.6 2.4 1.7 1.1 0.3 1.5 0.7 1.2 2.3 0.5 1.3\n",
      " 0.2 0.6 1.4 0.9 1.  9.7]\n",
      "rating: ['E' nan 'M' 'T' 'E10+' 'K-A' 'AO' 'EC' 'RP']\n",
      "critic_score: [76. nan 82. 80. 89. 58. 87. 91. 61. 97. 95. 77. 88. 83. 94. 93. 85. 86.\n",
      " 98. 96. 90. 84. 73. 74. 78. 92. 71. 72. 68. 62. 49. 67. 81. 66. 56. 79.\n",
      " 70. 59. 64. 75. 60. 63. 69. 50. 25. 42. 44. 55. 48. 57. 29. 47. 65. 54.\n",
      " 20. 53. 37. 38. 33. 52. 30. 32. 43. 45. 51. 40. 46. 39. 34. 35. 41. 36.\n",
      " 28. 31. 27. 26. 19. 23. 24. 21. 17. 22. 13.]\n"
     ]
    }
   ],
   "source": [
    "print('platform:', df['platform'].unique())\n",
    "print('genre:', df['genre'].unique())\n",
    "print('user_score:', df['user_score'].unique())\n",
    "print('rating:', df['rating'].unique())\n",
    "print('critic_score:', df['critic_score'].unique())"
   ]
  },
  {
   "cell_type": "markdown",
   "id": "338a30ab",
   "metadata": {},
   "source": [
    "Неявные дубликаты не обнаружены.\n",
    "\n",
    "Посчитаем суммарные продажи во всех регионах."
   ]
  },
  {
   "cell_type": "code",
   "execution_count": 7,
   "id": "07cfc615",
   "metadata": {},
   "outputs": [],
   "source": [
    "df['sales'] = df[['na_sales','eu_sales','jp_sales', 'other_sales']].sum(axis = 1)\n"
   ]
  },
  {
   "cell_type": "markdown",
   "id": "159dd813",
   "metadata": {},
   "source": [
    "Заменим отсутствующие значения в столбце rating на not."
   ]
  },
  {
   "cell_type": "code",
   "execution_count": 8,
   "id": "67efd827",
   "metadata": {},
   "outputs": [],
   "source": [
    "df['rating'] = df['rating'].fillna(value='not')"
   ]
  },
  {
   "cell_type": "markdown",
   "id": "065753ae",
   "metadata": {
    "id": "RY51YJYu_Zcv"
   },
   "source": [
    "**Выводы**\n",
    "\n",
    "По результатам подготовки данных:\n",
    "\n",
    "- названия столбцов приведены к нижнему регистру\n",
    "- данные в столбце year_of_release преобразованы в тип int ('обойдя' наличие незаполненных ячеек; необходимости преобразовывать в к типу time нет ввиду наличия только года)\n",
    "- данные в столбце user_score преобразованы в тип float (это позволит проводить математические операции с данными столбца)\n",
    "- неявные дубликаты в данных не обнаружены\n",
    "- с целью недопущения внесения искажений в результаты анализа влияния исследуемых параметров, замена отсутствующих значений средними или медианными значениями не проводилась\n",
    "- строковое значение 'tbd' (вероятно означающее: To Be Determined (будет определено)) заменено на NaN\n",
    "- расчитаны суммарные продажи во всех регионах"
   ]
  },
  {
   "cell_type": "markdown",
   "id": "ef2555e7",
   "metadata": {},
   "source": [
    "# Анализ данных <a id='4'></a>"
   ]
  },
  {
   "cell_type": "markdown",
   "id": "3e0b1c31",
   "metadata": {},
   "source": [
    "Посмотрим и проанализируем как выпускались игры по годам. "
   ]
  },
  {
   "cell_type": "code",
   "execution_count": 9,
   "id": "d9ca125a",
   "metadata": {
    "scrolled": false
   },
   "outputs": [
    {
     "data": {
      "text/plain": [
       "<AxesSubplot:xlabel='year_of_release'>"
      ]
     },
     "execution_count": 9,
     "metadata": {},
     "output_type": "execute_result"
    },
    {
     "data": {
      "image/png": "[encoded data removed]",
      "text/plain": [
       "<Figure size 720x360 with 1 Axes>"
      ]
     },
     "metadata": {
      "needs_background": "light"
     },
     "output_type": "display_data"
    }
   ],
   "source": [
    "df_year = df.pivot_table(index=['year_of_release'], values='name', aggfunc=['count'])\n",
    "df_year.plot(y = 'count', kind='bar', figsize = (10, 5), grid=True) "
   ]
  },
  {
   "cell_type": "markdown",
   "id": "f228b783",
   "metadata": {},
   "source": [
    "На графике можно выделить несколько характерных периодов: период с 1980 по 1993 - характеризующийся сравнительно (по отношению к другим периодам) небольшим количеством (до 60) выпускаемых в год игр, период с 1994 по 2011 - характеризующийся бурным ростом количества выпускаемых в год игр (до 1427 в 2008 году) с небольшим снижением до 1136 в 2011 году, период с 2012 по 2016 годы - характеризующийся сначала стремительным уменьшением количества выпускаемых в год игр (почти в 2 раза - 2012 по сравнению с 2011), и примерно одинаковым количеством выпускаемых в год игр (около 600) с 2012 по 2016 годы. **Стабильно устойчивые показатели за 2012 - 2016 годы позволяют выбрать этот период для составления прогноза на 2017 год.**"
   ]
  },
  {
   "cell_type": "markdown",
   "id": "31199453",
   "metadata": {},
   "source": [
    "Построим график продаж по платформам."
   ]
  },
  {
   "cell_type": "code",
   "execution_count": 10,
   "id": "e8b583fa",
   "metadata": {
    "scrolled": false
   },
   "outputs": [
    {
     "data": {
      "text/plain": [
       "<AxesSubplot:xlabel='platform'>"
      ]
     },
     "execution_count": 10,
     "metadata": {},
     "output_type": "execute_result"
    },
    {
     "data": {
      "image/png": "[encoded data removed]",
      "text/plain": [
       "<Figure size 720x360 with 1 Axes>"
      ]
     },
     "metadata": {
      "needs_background": "light"
     },
     "output_type": "display_data"
    }
   ],
   "source": [
    "df_platform_sum = df.pivot_table(index=['platform'], values='sales', aggfunc=['sum'])\n",
    "df_platform_sum.columns = ['platform_sum']\n",
    "df_platform_sum.sort_values('platform_sum').plot(y = 'platform_sum', kind='bar', figsize = (10, 5), grid=True) "
   ]
  },
  {
   "cell_type": "markdown",
   "id": "0bd3e771",
   "metadata": {},
   "source": [
    "Явные лидеры по объёму продаж, платформы: PS, DS, Wii, PS3, X360, PS2.\n",
    "\n",
    "Построим диаграммы продаж игр для этих платформ по годам."
   ]
  },
  {
   "cell_type": "code",
   "execution_count": 11,
   "id": "bd919207",
   "metadata": {
    "scrolled": true
   },
   "outputs": [
    {
     "data": {
      "text/plain": [
       "<AxesSubplot:xlabel='year_of_release'>"
      ]
     },
     "execution_count": 11,
     "metadata": {},
     "output_type": "execute_result"
    },
    {
     "data": {
      "image/png": "[encoded data removed]",
      "text/plain": [
       "<Figure size 1296x360 with 1 Axes>"
      ]
     },
     "metadata": {
      "needs_background": "light"
     },
     "output_type": "display_data"
    }
   ],
   "source": [
    "df_platform_max_sales = df.query('platform == \"PS\" or platform == \"DS\" or platform == \"Wii\" or platform == \"PS3\" or platform == \"X360\" or platform == \"PS2\"')\n",
    "df_platform_max_sales_year = df_platform_max_sales.pivot_table(index=['year_of_release'], columns = ['platform'], values='sales', aggfunc=['sum'])\n",
    "df_platform_max_sales_year.columns = ['DS', 'PS', 'PS2', 'PS3', 'Wii', 'X360']\n",
    "\n",
    "df_platform_max_sales_year.plot(kind='bar', figsize = (18, 5), width = 1.3, alpha=0.6, grid=True)"
   ]
  },
  {
   "cell_type": "markdown",
   "id": "f9886696",
   "metadata": {},
   "source": [
    "Из диаграммы видно что, жизненный цикл платформы составляет порядка 10 лет. У каждой платформы можно выделить характерные периоды: роста  продаж, длящиеся 2-4 года, затем  пик продаж, длящийся 1-4 года, и спад продаж, длящийся 4-5 лет. \n",
    "\n",
    "Для выбора потенциально прибыльных платформ проанализируем период с 2011 по 2016 годы. Учитывая, что данные за 2016 год не полные, данные за 2016 год в анализе учитывать не будем. Определим какие платформы лидируют по продажам, растут, падают. Выберем несколько растущих платформ."
   ]
  },
  {
   "cell_type": "code",
   "execution_count": 12,
   "id": "b2b9d0d4",
   "metadata": {
    "scrolled": false
   },
   "outputs": [
    {
     "data": {
      "text/plain": [
       "<AxesSubplot:xlabel='year_of_release'>"
      ]
     },
     "execution_count": 12,
     "metadata": {},
     "output_type": "execute_result"
    },
    {
     "data": {
      "image/png": "[encoded data removed]",
      "text/plain": [
       "<Figure size 1008x432 with 1 Axes>"
      ]
     },
     "metadata": {
      "needs_background": "light"
     },
     "output_type": "display_data"
    }
   ],
   "source": [
    "df_last_years = df.query('2010 < year_of_release < 2016')\n",
    "df_last_years_sales = df_last_years.pivot_table(index=['year_of_release'], columns = ['platform'], values='sales', aggfunc=['sum'])\n",
    "df_last_years_sales.columns = ['3DS', 'DS', 'PC', 'PS2', 'PS3', 'PS4', 'PSP', 'PSV', 'Wii', 'WiiU', 'X360', 'XOne']\n",
    "\n",
    "df_last_years_sales.plot(kind='bar', figsize = (14, 6), width = 0.7, alpha=0.9, grid=True)"
   ]
  },
  {
   "cell_type": "markdown",
   "id": "f6c31b0f",
   "metadata": {},
   "source": [
    "Из графика видно, что платформы 3DS, DS, PC, PS3, PSP, Wii, X360 падают по продажам, их не стои выбирать как перспективные. Растущие платформы XOne, PS4 - перспективные. Можно предположить что продажи в 2016 и 2017 году по платформам XOne, PS4 будут расти, или остануться примерно такими как в 2015 году."
   ]
  },
  {
   "cell_type": "markdown",
   "id": "4a9a423a",
   "metadata": {},
   "source": [
    "Построим график «ящик с усами» по глобальным продажам игр в разбивке по платформам. "
   ]
  },
  {
   "cell_type": "code",
   "execution_count": 13,
   "id": "94521dc1",
   "metadata": {
    "scrolled": true
   },
   "outputs": [
    {
     "data": {
      "text/plain": [
       "<AxesSubplot:>"
      ]
     },
     "execution_count": 13,
     "metadata": {},
     "output_type": "execute_result"
    },
    {
     "data": {
      "image/png": "[encoded data removed]",
      "text/plain": [
       "<Figure size 432x288 with 1 Axes>"
      ]
     },
     "metadata": {
      "needs_background": "light"
     },
     "output_type": "display_data"
    }
   ],
   "source": [
    "df_last_years_sales.boxplot()"
   ]
  },
  {
   "cell_type": "markdown",
   "id": "73fd0c6b",
   "metadata": {},
   "source": [
    "Анализируя «ящик с усами» видно, что платформы  DS, PC, PSP, Wii имеют небольшой разброс данных по сравнению с PS3, PS4, X360; XOne 3DS имеют примерно одинаковый, сравнительно небольшой разброс данных. Стоит отметить большие (свыше 140) верхние значения   1,5IQR для PS3, X360; их медианные и средние значения, также значительно выше по сравнинию с другими платформами. На основании вышеизложенного можно предположить что потенциал прибыльности платформы PS4 выше по сравнению с XOne. \n",
    "\n",
    "Численные значения характеристики распределения по каждой платформе приведены ниже."
   ]
  },
  {
   "cell_type": "code",
   "execution_count": 14,
   "id": "2a0a29f0",
   "metadata": {
    "scrolled": true
   },
   "outputs": [
    {
     "data": {
      "text/html": [
       "<div>\n",
       "<style scoped>\n",
       "    .dataframe tbody tr th:only-of-type {\n",
       "        vertical-align: middle;\n",
       "    }\n",
       "\n",
       "    .dataframe tbody tr th {\n",
       "        vertical-align: top;\n",
       "    }\n",
       "\n",
       "    .dataframe thead th {\n",
       "        text-align: right;\n",
       "    }\n",
       "</style>\n",
       "<table border=\"1\" class=\"dataframe\">\n",
       "  <thead>\n",
       "    <tr style=\"text-align: right;\">\n",
       "      <th></th>\n",
       "      <th>3DS</th>\n",
       "      <th>DS</th>\n",
       "      <th>PC</th>\n",
       "      <th>PS2</th>\n",
       "      <th>PS3</th>\n",
       "      <th>PS4</th>\n",
       "      <th>PSP</th>\n",
       "      <th>PSV</th>\n",
       "      <th>Wii</th>\n",
       "      <th>WiiU</th>\n",
       "      <th>X360</th>\n",
       "      <th>XOne</th>\n",
       "    </tr>\n",
       "  </thead>\n",
       "  <tbody>\n",
       "    <tr>\n",
       "      <th>count</th>\n",
       "      <td>5.000000</td>\n",
       "      <td>3.000000</td>\n",
       "      <td>5.000000</td>\n",
       "      <td>1.00</td>\n",
       "      <td>5.000000</td>\n",
       "      <td>3.000000</td>\n",
       "      <td>5.000000</td>\n",
       "      <td>5.000000</td>\n",
       "      <td>5.000000</td>\n",
       "      <td>4.000000</td>\n",
       "      <td>5.000000</td>\n",
       "      <td>3.00000</td>\n",
       "    </tr>\n",
       "    <tr>\n",
       "      <th>mean</th>\n",
       "      <td>48.534000</td>\n",
       "      <td>12.910000</td>\n",
       "      <td>18.486000</td>\n",
       "      <td>0.45</td>\n",
       "      <td>88.394000</td>\n",
       "      <td>81.630000</td>\n",
       "      <td>5.802000</td>\n",
       "      <td>9.912000</td>\n",
       "      <td>18.968000</td>\n",
       "      <td>19.397500</td>\n",
       "      <td>75.772000</td>\n",
       "      <td>44.39000</td>\n",
       "    </tr>\n",
       "    <tr>\n",
       "      <th>std</th>\n",
       "      <td>13.612262</td>\n",
       "      <td>12.429397</td>\n",
       "      <td>10.721725</td>\n",
       "      <td>NaN</td>\n",
       "      <td>55.740771</td>\n",
       "      <td>49.103561</td>\n",
       "      <td>7.387558</td>\n",
       "      <td>4.613428</td>\n",
       "      <td>24.081485</td>\n",
       "      <td>2.867489</td>\n",
       "      <td>52.743149</td>\n",
       "      <td>22.23117</td>\n",
       "    </tr>\n",
       "    <tr>\n",
       "      <th>min</th>\n",
       "      <td>27.780000</td>\n",
       "      <td>1.540000</td>\n",
       "      <td>8.520000</td>\n",
       "      <td>0.45</td>\n",
       "      <td>16.820000</td>\n",
       "      <td>25.990000</td>\n",
       "      <td>0.120000</td>\n",
       "      <td>4.630000</td>\n",
       "      <td>1.140000</td>\n",
       "      <td>16.350000</td>\n",
       "      <td>11.960000</td>\n",
       "      <td>18.96000</td>\n",
       "    </tr>\n",
       "    <tr>\n",
       "      <th>25%</th>\n",
       "      <td>43.760000</td>\n",
       "      <td>6.275000</td>\n",
       "      <td>12.380000</td>\n",
       "      <td>0.45</td>\n",
       "      <td>47.760000</td>\n",
       "      <td>62.995000</td>\n",
       "      <td>0.240000</td>\n",
       "      <td>6.250000</td>\n",
       "      <td>3.750000</td>\n",
       "      <td>17.257500</td>\n",
       "      <td>34.740000</td>\n",
       "      <td>36.51500</td>\n",
       "    </tr>\n",
       "    <tr>\n",
       "      <th>50%</th>\n",
       "      <td>51.360000</td>\n",
       "      <td>11.010000</td>\n",
       "      <td>13.280000</td>\n",
       "      <td>0.45</td>\n",
       "      <td>107.360000</td>\n",
       "      <td>100.000000</td>\n",
       "      <td>3.140000</td>\n",
       "      <td>10.590000</td>\n",
       "      <td>8.590000</td>\n",
       "      <td>19.605000</td>\n",
       "      <td>88.580000</td>\n",
       "      <td>54.07000</td>\n",
       "    </tr>\n",
       "    <tr>\n",
       "      <th>75%</th>\n",
       "      <td>56.570000</td>\n",
       "      <td>18.595000</td>\n",
       "      <td>23.220000</td>\n",
       "      <td>0.45</td>\n",
       "      <td>113.250000</td>\n",
       "      <td>109.450000</td>\n",
       "      <td>7.690000</td>\n",
       "      <td>11.900000</td>\n",
       "      <td>21.710000</td>\n",
       "      <td>21.745000</td>\n",
       "      <td>99.740000</td>\n",
       "      <td>57.10500</td>\n",
       "    </tr>\n",
       "    <tr>\n",
       "      <th>max</th>\n",
       "      <td>63.200000</td>\n",
       "      <td>26.180000</td>\n",
       "      <td>35.030000</td>\n",
       "      <td>0.45</td>\n",
       "      <td>156.780000</td>\n",
       "      <td>118.900000</td>\n",
       "      <td>17.820000</td>\n",
       "      <td>16.190000</td>\n",
       "      <td>59.650000</td>\n",
       "      <td>22.030000</td>\n",
       "      <td>143.840000</td>\n",
       "      <td>60.14000</td>\n",
       "    </tr>\n",
       "  </tbody>\n",
       "</table>\n",
       "</div>"
      ],
      "text/plain": [
       "             3DS         DS         PC   PS2         PS3         PS4  \\\n",
       "count   5.000000   3.000000   5.000000  1.00    5.000000    3.000000   \n",
       "mean   48.534000  12.910000  18.486000  0.45   88.394000   81.630000   \n",
       "std    13.612262  12.429397  10.721725   NaN   55.740771   49.103561   \n",
       "min    27.780000   1.540000   8.520000  0.45   16.820000   25.990000   \n",
       "25%    43.760000   6.275000  12.380000  0.45   47.760000   62.995000   \n",
       "50%    51.360000  11.010000  13.280000  0.45  107.360000  100.000000   \n",
       "75%    56.570000  18.595000  23.220000  0.45  113.250000  109.450000   \n",
       "max    63.200000  26.180000  35.030000  0.45  156.780000  118.900000   \n",
       "\n",
       "             PSP        PSV        Wii       WiiU        X360      XOne  \n",
       "count   5.000000   5.000000   5.000000   4.000000    5.000000   3.00000  \n",
       "mean    5.802000   9.912000  18.968000  19.397500   75.772000  44.39000  \n",
       "std     7.387558   4.613428  24.081485   2.867489   52.743149  22.23117  \n",
       "min     0.120000   4.630000   1.140000  16.350000   11.960000  18.96000  \n",
       "25%     0.240000   6.250000   3.750000  17.257500   34.740000  36.51500  \n",
       "50%     3.140000  10.590000   8.590000  19.605000   88.580000  54.07000  \n",
       "75%     7.690000  11.900000  21.710000  21.745000   99.740000  57.10500  \n",
       "max    17.820000  16.190000  59.650000  22.030000  143.840000  60.14000  "
      ]
     },
     "execution_count": 14,
     "metadata": {},
     "output_type": "execute_result"
    }
   ],
   "source": [
    "df_last_years_sales.describe()  "
   ]
  },
  {
   "cell_type": "markdown",
   "id": "156d411a",
   "metadata": {},
   "source": [
    "Построим диаграммы рассеяния и посчитаем корреляцию между отзывами и продажами."
   ]
  },
  {
   "cell_type": "code",
   "execution_count": 15,
   "id": "8ab825f6",
   "metadata": {},
   "outputs": [],
   "source": [
    "df_ps2 = df.query('platform == \"PS2\"')\n",
    "df_ps3 = df.query('platform == \"PS3\"')\n",
    "df_ps4 = df.query('platform == \"PS4\"')\n",
    "df_XOne = df.query('platform == \"XOne\"')\n"
   ]
  },
  {
   "cell_type": "code",
   "execution_count": 16,
   "id": "80f920be",
   "metadata": {
    "scrolled": false
   },
   "outputs": [
    {
     "data": {
      "text/plain": [
       "<AxesSubplot:xlabel='critic_score', ylabel='sales'>"
      ]
     },
     "execution_count": 16,
     "metadata": {},
     "output_type": "execute_result"
    },
    {
     "data": {
      "image/png": "[encoded data removed]",
      "text/plain": [
       "<Figure size 432x288 with 1 Axes>"
      ]
     },
     "metadata": {
      "needs_background": "light"
     },
     "output_type": "display_data"
    }
   ],
   "source": [
    "df_ps2.plot(x='critic_score', y='sales', kind='scatter', alpha=0.3)"
   ]
  },
  {
   "cell_type": "code",
   "execution_count": 17,
   "id": "da6cfbc8",
   "metadata": {
    "scrolled": true
   },
   "outputs": [
    {
     "data": {
      "text/plain": [
       "<AxesSubplot:xlabel='user_score', ylabel='sales'>"
      ]
     },
     "execution_count": 17,
     "metadata": {},
     "output_type": "execute_result"
    },
    {
     "data": {
      "image/png": "[encoded data removed]",
      "text/plain": [
       "<Figure size 432x288 with 1 Axes>"
      ]
     },
     "metadata": {
      "needs_background": "light"
     },
     "output_type": "display_data"
    }
   ],
   "source": [
    "df_ps2.plot(x='user_score', y='sales', kind='scatter', alpha=0.3)"
   ]
  },
  {
   "cell_type": "code",
   "execution_count": 18,
   "id": "5f6f2594",
   "metadata": {
    "scrolled": false
   },
   "outputs": [
    {
     "data": {
      "text/plain": [
       "<AxesSubplot:xlabel='critic_score', ylabel='sales'>"
      ]
     },
     "execution_count": 18,
     "metadata": {},
     "output_type": "execute_result"
    },
    {
     "data": {
      "image/png": "[encoded data removed]",
      "text/plain": [
       "<Figure size 432x288 with 1 Axes>"
      ]
     },
     "metadata": {
      "needs_background": "light"
     },
     "output_type": "display_data"
    }
   ],
   "source": [
    "df_ps3.plot(x='critic_score', y='sales', kind='scatter', alpha=0.3)"
   ]
  },
  {
   "cell_type": "code",
   "execution_count": 19,
   "id": "1288d566",
   "metadata": {
    "scrolled": true
   },
   "outputs": [
    {
     "data": {
      "text/plain": [
       "<AxesSubplot:xlabel='user_score', ylabel='sales'>"
      ]
     },
     "execution_count": 19,
     "metadata": {},
     "output_type": "execute_result"
    },
    {
     "data": {
      "image/png": "[encoded data removed]",
      "text/plain": [
       "<Figure size 432x288 with 1 Axes>"
      ]
     },
     "metadata": {
      "needs_background": "light"
     },
     "output_type": "display_data"
    }
   ],
   "source": [
    "df_ps3.plot(x='user_score', y='sales', kind='scatter', alpha=0.3)"
   ]
  },
  {
   "cell_type": "code",
   "execution_count": 20,
   "id": "0a01de05",
   "metadata": {
    "scrolled": false
   },
   "outputs": [
    {
     "data": {
      "text/plain": [
       "<AxesSubplot:xlabel='critic_score', ylabel='sales'>"
      ]
     },
     "execution_count": 20,
     "metadata": {},
     "output_type": "execute_result"
    },
    {
     "data": {
      "image/png": "[encoded data removed]",
      "text/plain": [
       "<Figure size 432x288 with 1 Axes>"
      ]
     },
     "metadata": {
      "needs_background": "light"
     },
     "output_type": "display_data"
    }
   ],
   "source": [
    "df_ps4.plot(x='critic_score', y='sales', kind='scatter', alpha=0.3)"
   ]
  },
  {
   "cell_type": "code",
   "execution_count": 21,
   "id": "64ac49b3",
   "metadata": {
    "scrolled": true
   },
   "outputs": [
    {
     "data": {
      "text/plain": [
       "<AxesSubplot:xlabel='user_score', ylabel='sales'>"
      ]
     },
     "execution_count": 21,
     "metadata": {},
     "output_type": "execute_result"
    },
    {
     "data": {
      "image/png": "[encoded data removed]",
      "text/plain": [
       "<Figure size 432x288 with 1 Axes>"
      ]
     },
     "metadata": {
      "needs_background": "light"
     },
     "output_type": "display_data"
    }
   ],
   "source": [
    "df_ps4.plot(x='user_score', y='sales', kind='scatter', alpha=0.3)"
   ]
  },
  {
   "cell_type": "code",
   "execution_count": 22,
   "id": "696d886b",
   "metadata": {
    "scrolled": false
   },
   "outputs": [
    {
     "data": {
      "text/plain": [
       "<AxesSubplot:xlabel='critic_score', ylabel='sales'>"
      ]
     },
     "execution_count": 22,
     "metadata": {},
     "output_type": "execute_result"
    },
    {
     "data": {
      "image/png": "[encoded data removed]",
      "text/plain": [
       "<Figure size 432x288 with 1 Axes>"
      ]
     },
     "metadata": {
      "needs_background": "light"
     },
     "output_type": "display_data"
    }
   ],
   "source": [
    "df_XOne.plot(x='critic_score', y='sales', kind='scatter', alpha=0.3)"
   ]
  },
  {
   "cell_type": "code",
   "execution_count": 23,
   "id": "e8dd2370",
   "metadata": {
    "scrolled": true
   },
   "outputs": [
    {
     "data": {
      "text/plain": [
       "<AxesSubplot:xlabel='user_score', ylabel='sales'>"
      ]
     },
     "execution_count": 23,
     "metadata": {},
     "output_type": "execute_result"
    },
    {
     "data": {
      "image/png": "[encoded data removed]",
      "text/plain": [
       "<Figure size 432x288 with 1 Axes>"
      ]
     },
     "metadata": {
      "needs_background": "light"
     },
     "output_type": "display_data"
    }
   ],
   "source": [
    "df_XOne.plot(x='user_score', y='sales', kind='scatter', alpha=0.3)"
   ]
  },
  {
   "cell_type": "code",
   "execution_count": 24,
   "id": "5fa858fa",
   "metadata": {
    "scrolled": true
   },
   "outputs": [
    {
     "name": "stdout",
     "output_type": "stream",
     "text": [
      "ps2_corr: 0.39543454945454865\n",
      "ps2_corr_user: 0.17286551112058185\n",
      "ps3_corr: 0.43243156856420595\n",
      "ps3_corr_user: 0.12669133936341698\n",
      "ps4_corr: 0.4065679020617816\n",
      "ps4_corr_user: -0.03195711020455643\n",
      "XOne_corr: 0.4169983280084017\n",
      "corr_all: 0.2455066871773633\n"
     ]
    }
   ],
   "source": [
    "print('ps2_corr:', df_ps2['critic_score'].corr(df_ps2['sales'])) \n",
    "print('ps2_corr_user:', df_ps2['user_score'].corr(df_ps2['sales'])) \n",
    "print('ps3_corr:', df_ps3['critic_score'].corr(df_ps3['sales'])) \n",
    "print('ps3_corr_user:', df_ps3['user_score'].corr(df_ps3['sales'])) \n",
    "print('ps4_corr:', df_ps4['critic_score'].corr(df_ps4['sales'])) \n",
    "print('ps4_corr_user:', df_ps4['user_score'].corr(df_ps4['sales'])) \n",
    "print('XOne_corr:', df_XOne['critic_score'].corr(df_XOne['sales'])) \n",
    "\n",
    "\n",
    "print('corr_all:', df['critic_score'].corr(df['sales'])) \n"
   ]
  },
  {
   "cell_type": "markdown",
   "id": "c70caa62",
   "metadata": {},
   "source": [
    "Построенные для топовых платформ диаграммы рассеяния и расчитанные коэффициенты коряляции показывают наличие взаимосвязи между отзывами и продажами, слабой - между отзывами критиков и продажами и  очень слабой - с отзывами пользователей и продажами. При этом для всей выборки связь еще слабее."
   ]
  },
  {
   "cell_type": "markdown",
   "id": "60e7c4fd",
   "metadata": {},
   "source": [
    "Построим диаграмму распеделения медианных значений продаж по жанрам. "
   ]
  },
  {
   "cell_type": "code",
   "execution_count": 25,
   "id": "7d08abef",
   "metadata": {
    "scrolled": false
   },
   "outputs": [
    {
     "data": {
      "text/plain": [
       "<AxesSubplot:xlabel='genre'>"
      ]
     },
     "execution_count": 25,
     "metadata": {},
     "output_type": "execute_result"
    },
    {
     "data": {
      "image/png": "[encoded data removed]",
      "text/plain": [
       "<Figure size 720x360 with 1 Axes>"
      ]
     },
     "metadata": {
      "needs_background": "light"
     },
     "output_type": "display_data"
    }
   ],
   "source": [
    "df_genre_sum = df.pivot_table(index=['genre'], values='sales', aggfunc=['median'])\n",
    "df_genre_sum.columns = ['genre_sum']\n",
    "df_genre_sum.sort_values('genre_sum').plot(y = 'genre_sum', kind='bar', figsize = (10, 5), grid=True) \n"
   ]
  },
  {
   "cell_type": "code",
   "execution_count": 26,
   "id": "652dba54",
   "metadata": {
    "scrolled": false
   },
   "outputs": [
    {
     "data": {
      "text/plain": [
       "<AxesSubplot:xlabel='genre'>"
      ]
     },
     "execution_count": 26,
     "metadata": {},
     "output_type": "execute_result"
    },
    {
     "data": {
      "image/png": "[encoded data removed]",
      "text/plain": [
       "<Figure size 720x360 with 1 Axes>"
      ]
     },
     "metadata": {
      "needs_background": "light"
     },
     "output_type": "display_data"
    }
   ],
   "source": [
    "df_genre_sum_last_years = df_last_years.pivot_table(index=['genre'], values='sales', aggfunc=['median'])\n",
    "df_genre_sum_last_years.columns = ['genre_sum']\n",
    "df_genre_sum_last_years.sort_values('genre_sum').plot(y = 'genre_sum', kind='bar', figsize = (10, 5), grid=True) "
   ]
  },
  {
   "cell_type": "markdown",
   "id": "150fccfc",
   "metadata": {},
   "source": [
    "Как видно из диаграмм что за весь наблюдаемый период наиболее прибыльными являются жанры Shooter и Platform наименее прибыльные Adventure. Если анализировать данные за последние 5 лет видно что пользователи также отдают предпочтение жанрам Shooter и Platform, причем явно лидирует Shooter. На последнем месте Adventure."
   ]
  },
  {
   "cell_type": "markdown",
   "id": "444a15a9",
   "metadata": {},
   "source": [
    "# Составление портрета пользователя по регионам <a id='7'></a>"
   ]
  },
  {
   "cell_type": "markdown",
   "id": "1d377f8b",
   "metadata": {},
   "source": [
    "Определим для каждого региона самые популярные платформы.\n"
   ]
  },
  {
   "cell_type": "code",
   "execution_count": 27,
   "id": "8c87fad7",
   "metadata": {},
   "outputs": [
    {
     "data": {
      "text/plain": [
       "array([<AxesSubplot:ylabel='na_sum'>, <AxesSubplot:ylabel='eu_sum'>,\n",
       "       <AxesSubplot:ylabel='jp_sum'>], dtype=object)"
      ]
     },
     "execution_count": 27,
     "metadata": {},
     "output_type": "execute_result"
    },
    {
     "data": {
      "image/png": "[encoded data removed]",
      "text/plain": [
       "<Figure size 1152x576 with 3 Axes>"
      ]
     },
     "metadata": {},
     "output_type": "display_data"
    }
   ],
   "source": [
    "df_na_platform = df_last_years.pivot_table(index=['platform'], values='na_sales', aggfunc=['sum'])\n",
    "df_eu_platform = df_last_years.pivot_table(index=['platform'], values='eu_sales', aggfunc=['sum'])\n",
    "df_jp_platform = df_last_years.pivot_table(index=['platform'], values='jp_sales', aggfunc=['sum'])\n",
    "\n",
    "df_na_platform.columns = ['na_sum']\n",
    "df_eu_platform.columns = ['eu_sum']\n",
    "df_jp_platform.columns = ['jp_sum']\n",
    "\n",
    "df_na_platform_top = df_na_platform.query('na_sum > 50')\n",
    "df_eu_platform_top = df_eu_platform.query('eu_sum > 50')\n",
    "df_jp_platform_top = df_jp_platform.query('jp_sum > 11')\n",
    "\n",
    "df_platform_full = pd.merge(df_na_platform_top, df_eu_platform_top, on=['platform'], how='outer')\n",
    "df_platform_full = pd.merge(df_platform_full, df_jp_platform_top, on=['platform'], how='outer')\n",
    "\n",
    "df_platform_full.plot(subplots=True, kind='pie', autopct='%1.1f%%', figsize = (16, 8), grid=True) "
   ]
  },
  {
   "cell_type": "markdown",
   "id": "8e475fb1",
   "metadata": {},
   "source": [
    "Из диаграмм видно, что в Америке наиболее популярна платформа Х360 (35%), затем идет PS3 (26%) затем с примерно одинаковыми долями PS4, 3DS, XOne при этом примечательно что последняя входит в топ 5 только в Америке. В Европе наибольшую популярность имеют PS3(32%), Х360(23%), PS4(21%) с общим объемом продаж почти 80%, 3DS и PC занимают всего 22% рынка. В Японии явно отличающаяся картина: платформы 3DS(23%), PS3(23%) более 70% рынка и отсутствующие в топ 5 платфрмы PSP PSV WiiU почти 30%. При этом стоит отметить всеобщую популярность(25-32%) платформы PS3."
   ]
  },
  {
   "cell_type": "markdown",
   "id": "fe586d10",
   "metadata": {},
   "source": [
    "Определим для каждого региона самые популярные жанры.\n"
   ]
  },
  {
   "cell_type": "code",
   "execution_count": 28,
   "id": "15f82bd5",
   "metadata": {
    "scrolled": true
   },
   "outputs": [
    {
     "data": {
      "text/plain": [
       "array([<AxesSubplot:ylabel='na_sum'>, <AxesSubplot:ylabel='eu_sum'>,\n",
       "       <AxesSubplot:ylabel='jp_sum'>], dtype=object)"
      ]
     },
     "execution_count": 28,
     "metadata": {},
     "output_type": "execute_result"
    },
    {
     "data": {
      "image/png": "[encoded data removed]",
      "text/plain": [
       "<Figure size 1152x576 with 3 Axes>"
      ]
     },
     "metadata": {},
     "output_type": "display_data"
    }
   ],
   "source": [
    "df_na = df_last_years.pivot_table(index=['genre'], values='na_sales', aggfunc=['sum'])\n",
    "df_eu = df_last_years.pivot_table(index=['genre'], values='eu_sales', aggfunc=['sum'])\n",
    "df_jp = df_last_years.pivot_table(index=['genre'], values='jp_sales', aggfunc=['sum'])\n",
    "\n",
    "df_na.columns = ['na_sum']\n",
    "df_eu.columns = ['eu_sum']\n",
    "df_jp.columns = ['jp_sum']\n",
    "\n",
    "df_na_top = df_na.query('na_sum > 68')\n",
    "df_eu_top = df_eu.query('eu_sum > 39')\n",
    "df_jp_top = df_jp.query('jp_sum > 11.5')\n",
    "\n",
    "df_genre_full = pd.merge(df_na_top, df_eu_top, on=['genre'], how='outer')\n",
    "df_genre_full = pd.merge(df_genre_full, df_jp_top, on=['genre'], how='outer')\n",
    "\n",
    "df_genre_full.plot(subplots=True, kind='pie', autopct='%1.1f%%', figsize = (16, 8), grid=True) "
   ]
  },
  {
   "cell_type": "markdown",
   "id": "4c807ea8",
   "metadata": {},
   "source": [
    "Из диаграмм видно практически полное совпадение популярных жанров в Америке и Европе: Action, Shooter, Sports занимают почти 80% продаж, Role-Playing, Misc - 22%. Стоит отметить что в Японии такие жанры как Action и Misc имеют примерно такую же популярность как в Европе и Америке. При этом большой сегмент (43%) занимают Role-Playing."
   ]
  },
  {
   "cell_type": "code",
   "execution_count": 29,
   "id": "e6ffbc05",
   "metadata": {
    "scrolled": false
   },
   "outputs": [],
   "source": [
    "df_na_esrb = df_last_years.pivot_table(index=['rating'], values='na_sales', aggfunc=['sum'])\n",
    "df_eu_esrb = df_last_years.pivot_table(index=['rating'], values='eu_sales', aggfunc=['sum'])\n",
    "df_jp_esrb = df_last_years.pivot_table(index=['rating'], values='jp_sales', aggfunc=['sum'])\n",
    "\n",
    "df_na_esrb.columns = ['na_sales']\n",
    "df_eu_esrb.columns = ['eu_sales']\n",
    "df_jp_esrb.columns = ['jp_sales']\n",
    "\n",
    "df_esrb_full = pd.merge(df_na_esrb, df_eu_esrb, on=['rating'], how='outer')\n",
    "df_esrb_full = pd.merge(df_esrb_full, df_jp_esrb, on=['rating'], how='outer')\n",
    "\n",
    "# display(df_esrb_full)\n",
    "\n",
    "# df_last_years"
   ]
  },
  {
   "cell_type": "code",
   "execution_count": 30,
   "id": "fed6a4b7",
   "metadata": {},
   "outputs": [
    {
     "data": {
      "text/plain": [
       "array([<AxesSubplot:ylabel='na_sales'>, <AxesSubplot:ylabel='eu_sales'>,\n",
       "       <AxesSubplot:ylabel='jp_sales'>], dtype=object)"
      ]
     },
     "execution_count": 30,
     "metadata": {},
     "output_type": "execute_result"
    },
    {
     "data": {
      "image/png": "[encoded data removed]",
      "text/plain": [
       "<Figure size 1152x576 with 3 Axes>"
      ]
     },
     "metadata": {},
     "output_type": "display_data"
    }
   ],
   "source": [
    "df_esrb_full.plot(subplots=True, kind='pie', autopct='%1.1f%%', figsize = (16, 8), grid=True) "
   ]
  },
  {
   "cell_type": "markdown",
   "id": "967b2fc2",
   "metadata": {},
   "source": [
    "Из диаграмм видно, что в Европе и Америке продажи игр по сегментам рейтинга ESRB распределены одинаково. Большую часть продаж занимают игры с рейтингом М («M» («Mature») — «Для взрослых», 37%), игры без рейтинга занимают всего 15-18%. Очевидно, что в  Японии наличие рейтинга ESRB не играет ключевого значения, - более 50% игр продаётся без рейтинга."
   ]
  },
  {
   "cell_type": "markdown",
   "id": "292e6df2",
   "metadata": {},
   "source": [
    "# Проверка гипотез <a id='5'></a>"
   ]
  },
  {
   "cell_type": "markdown",
   "id": "434e8a72",
   "metadata": {},
   "source": [
    "Сформируем и оценим данные для анализа."
   ]
  },
  {
   "cell_type": "code",
   "execution_count": 31,
   "id": "a46c546d",
   "metadata": {},
   "outputs": [
    {
     "data": {
      "text/html": [
       "<div>\n",
       "<style scoped>\n",
       "    .dataframe tbody tr th:only-of-type {\n",
       "        vertical-align: middle;\n",
       "    }\n",
       "\n",
       "    .dataframe tbody tr th {\n",
       "        vertical-align: top;\n",
       "    }\n",
       "\n",
       "    .dataframe thead tr th {\n",
       "        text-align: left;\n",
       "    }\n",
       "\n",
       "    .dataframe thead tr:last-of-type th {\n",
       "        text-align: right;\n",
       "    }\n",
       "</style>\n",
       "<table border=\"1\" class=\"dataframe\">\n",
       "  <thead>\n",
       "    <tr>\n",
       "      <th></th>\n",
       "      <th>mean</th>\n",
       "      <th>var</th>\n",
       "      <th>std</th>\n",
       "    </tr>\n",
       "    <tr>\n",
       "      <th></th>\n",
       "      <th>user_score</th>\n",
       "      <th>user_score</th>\n",
       "      <th>user_score</th>\n",
       "    </tr>\n",
       "    <tr>\n",
       "      <th>platform</th>\n",
       "      <th></th>\n",
       "      <th></th>\n",
       "      <th></th>\n",
       "    </tr>\n",
       "  </thead>\n",
       "  <tbody>\n",
       "    <tr>\n",
       "      <th>PC</th>\n",
       "      <td>7.062468</td>\n",
       "      <td>2.340787</td>\n",
       "      <td>1.529963</td>\n",
       "    </tr>\n",
       "    <tr>\n",
       "      <th>XB</th>\n",
       "      <td>7.500512</td>\n",
       "      <td>2.279675</td>\n",
       "      <td>1.509859</td>\n",
       "    </tr>\n",
       "  </tbody>\n",
       "</table>\n",
       "</div>"
      ],
      "text/plain": [
       "               mean        var        std\n",
       "         user_score user_score user_score\n",
       "platform                                 \n",
       "PC         7.062468   2.340787   1.529963\n",
       "XB         7.500512   2.279675   1.509859"
      ]
     },
     "execution_count": 31,
     "metadata": {},
     "output_type": "execute_result"
    }
   ],
   "source": [
    "df_xb_pc = df.query('platform == \"XB\" or platform == \"PC\"')\n",
    "df_xb = df.query('platform == \"XB\" and user_score >= 0')\n",
    "df_pc = df.query('platform == \"PC\" and user_score >= 0')\n",
    "\n",
    "df_xb_pc_char = df_xb_pc.pivot_table(index=['platform'], values='user_score', aggfunc=['mean', 'var', 'std'])\n",
    "df_xb_pc_char\n",
    "\n"
   ]
  },
  {
   "cell_type": "markdown",
   "id": "8bf05660",
   "metadata": {},
   "source": [
    "Выдвинем нулевую гипотезу: средние пользовательские рейтинги платформ Xbox One и PC равны, альтернативная гипотеза - средние пользовательские рейтинги платформ Xbox One и PC  различаются.\n",
    "С учётом того, что работаем с сформированными из гененральных совокупностей выборками, для проверки используем специальный метод  проверки гипотез о равенстве среднего двух генеральных совокупностей по взятым из них выборкам (t-тест): scipy.stats.ttest_ind (благодаря ЦПТ этот метод можно применить, - если размер выборки составляет хотя бы несколько десятков значений, выборочные средние, которые можно получить из одной и той же генеральной совокупности, будут распределены нормально вокруг истинного среднего этой совокупности; это утверждение верно, даже если сама генеральная совокупность не распределена нормально). Критический уровень статистической значимости примем равным 0,05, если p-value окажется меньше него - отвергнем гипотезу"
   ]
  },
  {
   "cell_type": "code",
   "execution_count": 32,
   "id": "d59ddfb1",
   "metadata": {},
   "outputs": [
    {
     "name": "stdout",
     "output_type": "stream",
     "text": [
      "p-значение: 1.7410111940926608e-07\n",
      "Отвергаем нулевую гипотезу. Средние пользовательские рейтинги платформ Xbox One и PC различаются.\n"
     ]
    }
   ],
   "source": [
    "alpha = .05 # критический уровень статистической значимости\n",
    "# если p-value окажется меньше него - отвергнем гипотезу\n",
    "\n",
    "results = st.ttest_ind(\n",
    "    df_xb['user_score'], \n",
    "    df_pc['user_score'])\n",
    "\n",
    "print('p-значение:', results.pvalue)\n",
    "\n",
    "if results.pvalue < alpha:\n",
    "    print(\"Отвергаем нулевую гипотезу. Средние пользовательские рейтинги платформ Xbox One и PC различаются.\")\n",
    "else:\n",
    "    print(\"Не получилось отвергнуть нулевую гипотезую. Средние пользовательские рейтинги платформ Xbox One и PC равны.\") "
   ]
  },
  {
   "cell_type": "markdown",
   "id": "d6c12784",
   "metadata": {},
   "source": [
    "Выдвинем нулевую гипотезу: cредние пользовательские рейтинги жанров Action и Sports равны, альтернативная гипотеза - cредние пользовательские рейтинги жанров Action (англ. «действие», экшен-игры) и Sports (англ. «спортивные соревнования») не равны.  Учитывая некоторое отличие дисперсий, укажем equal_var = False. "
   ]
  },
  {
   "cell_type": "code",
   "execution_count": 33,
   "id": "1ef56fe0",
   "metadata": {},
   "outputs": [
    {
     "data": {
      "text/html": [
       "<div>\n",
       "<style scoped>\n",
       "    .dataframe tbody tr th:only-of-type {\n",
       "        vertical-align: middle;\n",
       "    }\n",
       "\n",
       "    .dataframe tbody tr th {\n",
       "        vertical-align: top;\n",
       "    }\n",
       "\n",
       "    .dataframe thead tr th {\n",
       "        text-align: left;\n",
       "    }\n",
       "\n",
       "    .dataframe thead tr:last-of-type th {\n",
       "        text-align: right;\n",
       "    }\n",
       "</style>\n",
       "<table border=\"1\" class=\"dataframe\">\n",
       "  <thead>\n",
       "    <tr>\n",
       "      <th></th>\n",
       "      <th>mean</th>\n",
       "      <th>var</th>\n",
       "      <th>std</th>\n",
       "    </tr>\n",
       "    <tr>\n",
       "      <th></th>\n",
       "      <th>user_score</th>\n",
       "      <th>user_score</th>\n",
       "      <th>user_score</th>\n",
       "    </tr>\n",
       "    <tr>\n",
       "      <th>genre</th>\n",
       "      <th></th>\n",
       "      <th></th>\n",
       "      <th></th>\n",
       "    </tr>\n",
       "  </thead>\n",
       "  <tbody>\n",
       "    <tr>\n",
       "      <th>Action</th>\n",
       "      <td>7.054044</td>\n",
       "      <td>2.031747</td>\n",
       "      <td>1.425394</td>\n",
       "    </tr>\n",
       "    <tr>\n",
       "      <th>Sports</th>\n",
       "      <td>6.961197</td>\n",
       "      <td>2.596515</td>\n",
       "      <td>1.611370</td>\n",
       "    </tr>\n",
       "  </tbody>\n",
       "</table>\n",
       "</div>"
      ],
      "text/plain": [
       "             mean        var        std\n",
       "       user_score user_score user_score\n",
       "genre                                  \n",
       "Action   7.054044   2.031747   1.425394\n",
       "Sports   6.961197   2.596515   1.611370"
      ]
     },
     "execution_count": 33,
     "metadata": {},
     "output_type": "execute_result"
    }
   ],
   "source": [
    "df_action_sports = df.query('genre == \"Action\" or genre == \"Sports\"')\n",
    "df_action = df.query('genre == \"Action\" and user_score >= 0')\n",
    "df_sports = df.query('genre == \"Sports\" and user_score >= 0')\n",
    "\n",
    "df_action_sports_char = df_action_sports.pivot_table(index=['genre'], values='user_score', aggfunc=['mean', 'var', 'std'])\n",
    "df_action_sports_char"
   ]
  },
  {
   "cell_type": "code",
   "execution_count": 34,
   "id": "8de60e10",
   "metadata": {
    "scrolled": true
   },
   "outputs": [
    {
     "name": "stdout",
     "output_type": "stream",
     "text": [
      "p-значение: 1.6723325756706098e-07\n",
      "Отвергаем нулевую гипотезу. Средние пользовательские рейтинги жанров Action и Sports различаются.\n"
     ]
    }
   ],
   "source": [
    "alpha = .05 # критический уровень статистической значимости\n",
    "# если p-value окажется меньше него - отвергнем гипотезу\n",
    "\n",
    "results = st.ttest_ind(\n",
    "    df_xb['user_score'], \n",
    "    df_pc['user_score'], equal_var = False)\n",
    "\n",
    "print('p-значение:', results.pvalue)\n",
    "\n",
    "if results.pvalue < alpha:\n",
    "    print(\"Отвергаем нулевую гипотезу. Средние пользовательские рейтинги жанров Action и Sports различаются.\")\n",
    "else:\n",
    "    print(\"Не получилось отвергнуть нулевую гипотезую. Средние пользовательские рейтинги жанров Action и Sports равны.\") "
   ]
  },
  {
   "cell_type": "markdown",
   "id": "08c803fe",
   "metadata": {},
   "source": [
    "# Заключение <a id='6'></a>"
   ]
  },
  {
   "cell_type": "markdown",
   "id": "a52011d2",
   "metadata": {},
   "source": [
    "При подготовке данных:\n",
    "- названия столбцов приведены к нижнему регистру\n",
    "- данные в столбце year_of_release преобразованы в тип int ('обойдя' наличие незаполненных ячеек; необходимости преобразовывать в к типу time нет ввиду наличия только года)\n",
    "- данные в столбце user_score преобразованы в тип float (это позволит проводить математические операции с данными столбца)\n",
    "- неявные дубликаты в данных не обнаружены\n",
    "- с целью недопущения внесения искажений в результаты анализа влияния исследуемых параметров, замена отсутствующих значений средними или медианными значениями не проводилась\n",
    "- строковое значение 'tbd' (вероятно означающее: To Be Determined (будет определено)) заменено на NaN\n",
    "- расчитаны суммарные продажи во всех регионах\n",
    "\n",
    "В результате анализа:\n",
    "- выделены несколько характерных периодов: период с 1980 по 1993 - характеризующийся сравнительно (по отношению к другим периодам) небольшим количеством (до 60) выпускаемых в год игр, период с 1994 по 2011 - характеризующийся бурным ростом количества выпускаемых в год игр (до 1427 в 2008 году) с небольшим снижением до 1136 в 2011 году, период с 2012 по 2016 годы - характеризующийся сначала стремительным уменьшением количества выпускаемых в год игр (почти в 2 раза - 2012 по сравнению с 2011), и примерно одинаковым количеством выпускаемых в год игр (около 600) с 2012 по 2016 годы.\n",
    "- **стабильно устойчивые показатели за 2012 - 2016 годы позволили выбрать этот период для составления прогноза на 2017 год.**\n",
    "- определены явные лидеры по объёму продаж, это платформы: PS, DS, Wii, PS3, X360, PS2.\n",
    "- определено, что жизненный цикл платформы составляет порядка 10 лет. У каждой платформы выделили характерные периоды: роста  продаж, длящиеся 2-4 года, затем  пик продаж, длящийся 1-4 года, и спад продаж, длящийся 4-5 лет. \n",
    "- определено, что платформы 3DS, DS, PC, PS3, PSP, Wii, X360 падают по продажам, их не стоит выбирать как перспективные.\n",
    "- **определены перспективные \"растущие\" платформы XOne, PS4. Предположительно продажи в 2016 и 2017 году по платформам XOne, PS4 будут расти, или остануться примерно такими как в 2015 году.**\n",
    "- показано, что платформы  DS, PC, PSP, Wii имеют небольшой разброс данных по сравнению с PS3, PS4, X360. Платформы XOne 3DS имеют примерно одинаковый, сравнительно небольшой разброс данных. Отмечены,  большие (свыше 140) верхние значения   1,5IQR для PS3, X360; а также то что их медианные и средние значения, также значительно выше по сравнинию с другими платформами. На основании вышеизложенного можно предположить что потенциал прибыльности платформы PS4 выше по сравнению с XOne.\n",
    "- **построенные для топовых платформ диаграммы рассеяния и расчитанные коэффициенты коряляции показали наличие взаимосвязи между отзывами и продажами: слабой - между отзывами критиков и продажами (к.к - 0,4) и  очень слабой - с отзывами пользователей и продажами. При этом для всей выборки связь еще слабее (к.к 0,25)**.\n",
    "- **определено, xnj за весь наблюдаемый период наиболее прибыльными являются жанры Shooter и Platform наименее прибыльные Adventure. Если анализировать данные за последние 5 лет видно что пользователи также отдают предпочтение жанрам Shooter и Platform, причем явно лидирует Shooter. На последнем месте Adventure.**\n",
    "\n",
    "По построенным круговым диаграммам:\n",
    "- **определено, что в Америке наиболее популярна платформа Х360 (35%), затем идет PS3 (26%) затем с примерно одинаковыми долями PS4, 3DS, XOne при этом примечательно что последняя входит в топ 5 только в Америке. В Европе наибольшую популярность имеют PS3(32%), Х360(23%), PS4(21%) с общим объемом продаж почти 80%, 3DS и PC занимают всего 22% рынка. В Японии явно отличающаяся картина: платформы 3DS(47%), PS3(25%)  и отсутствующие в топ 5 в Европе и Америке - платфрмы PSP, PSV, WiiU - почти 30%. При этом стоит отметить всеобщую популярность(25-32%) платформы PS3.**\n",
    "- **определено, что Америке и Европе жанры Action, Shooter, Sports занимают почти 80% продаж, Role-Playing, Misc - 22%. В Японии такие жанры как Action и Misc имеют примерно такую же популярность как в Европе и Америке. При этом большой сегмент (43%) занимают Role-Playing.**\n",
    "- **определено, что в Европе и Америке продажи игр по сегментам рейтинга ESRB распределены одинаково. Большую часть продаж занимают игры с рейтингом М («M» («Mature») — «Для взрослых», 37%), игры без рейтинга занимают всего 15-18%. Очевидно, что в  Японии наличие рейтинга ESRB не играет ключевого значения, - более 50% игр продаётся без рейтинга.**\n",
    "\n",
    "По результатам проверки гипотез.\n",
    "- выдвинутая нулевая гипотеза: \"средние пользовательские рейтинги платформ Xbox One и PC равны\" отвергнута. Определено, что средние пользовательские рейтинги платформ Xbox One и PC различаются.\n",
    "- выдвинутая нулевая гипотеза: \"cредние пользовательские рейтинги жанров Action и Sports равны\" отвергнута. Определено, что средние пользовательские рейтинги жанров Action и Sports различаются."
   ]
  }
 ],
 "metadata": {
  "ExecuteTimeLog": [
   {
    "duration": 1018,
    "start_time": "2022-04-27T09:46:31.983Z"
   },
   {
    "duration": 26,
    "start_time": "2022-04-27T09:46:33.004Z"
   },
   {
    "duration": 29,
    "start_time": "2022-04-27T09:46:33.032Z"
   },
   {
    "duration": 9,
    "start_time": "2022-04-27T09:46:33.062Z"
   },
   {
    "duration": 3,
    "start_time": "2022-04-27T09:46:33.074Z"
   },
   {
    "duration": 32,
    "start_time": "2022-04-27T09:46:33.079Z"
   },
   {
    "duration": 40,
    "start_time": "2022-04-27T09:46:33.113Z"
   },
   {
    "duration": 18,
    "start_time": "2022-04-27T09:46:33.154Z"
   },
   {
    "duration": 66,
    "start_time": "2022-04-27T09:46:33.174Z"
   },
   {
    "duration": 7,
    "start_time": "2022-04-27T09:46:33.241Z"
   },
   {
    "duration": 6,
    "start_time": "2022-04-27T09:46:33.250Z"
   },
   {
    "duration": 12,
    "start_time": "2022-04-27T09:46:33.257Z"
   },
   {
    "duration": 13,
    "start_time": "2022-04-27T09:46:33.271Z"
   },
   {
    "duration": 50,
    "start_time": "2022-04-27T09:46:33.287Z"
   },
   {
    "duration": 33,
    "start_time": "2022-04-27T09:46:33.341Z"
   },
   {
    "duration": 30,
    "start_time": "2022-04-27T09:46:33.375Z"
   },
   {
    "duration": 26,
    "start_time": "2022-04-27T09:46:33.411Z"
   },
   {
    "duration": 41,
    "start_time": "2022-04-27T09:46:33.438Z"
   },
   {
    "duration": 46,
    "start_time": "2022-04-27T09:46:33.481Z"
   },
   {
    "duration": 36,
    "start_time": "2022-04-27T09:46:33.528Z"
   },
   {
    "duration": 10,
    "start_time": "2022-04-27T09:46:33.565Z"
   },
   {
    "duration": 32,
    "start_time": "2022-04-27T09:46:33.577Z"
   },
   {
    "duration": 40,
    "start_time": "2022-04-27T09:46:33.611Z"
   },
   {
    "duration": 23,
    "start_time": "2022-04-27T09:48:41.522Z"
   },
   {
    "duration": 12,
    "start_time": "2022-04-27T09:48:44.941Z"
   },
   {
    "duration": 12,
    "start_time": "2022-04-27T09:48:48.047Z"
   },
   {
    "duration": 13,
    "start_time": "2022-04-27T09:48:50.860Z"
   },
   {
    "duration": 12,
    "start_time": "2022-04-27T09:48:53.840Z"
   },
   {
    "duration": 12,
    "start_time": "2022-04-27T09:49:00.968Z"
   },
   {
    "duration": 32,
    "start_time": "2022-04-27T09:49:10.755Z"
   },
   {
    "duration": 28,
    "start_time": "2022-04-27T09:49:17.526Z"
   },
   {
    "duration": 27,
    "start_time": "2022-04-27T09:49:25.487Z"
   },
   {
    "duration": 24,
    "start_time": "2022-04-27T09:50:44.052Z"
   },
   {
    "duration": 20,
    "start_time": "2022-04-27T09:50:53.577Z"
   },
   {
    "duration": 247,
    "start_time": "2022-04-27T10:06:11.587Z"
   },
   {
    "duration": 623,
    "start_time": "2022-05-02T08:06:48.242Z"
   },
   {
    "duration": 29,
    "start_time": "2022-05-02T08:06:48.867Z"
   },
   {
    "duration": 17,
    "start_time": "2022-05-02T08:06:48.907Z"
   },
   {
    "duration": 8,
    "start_time": "2022-05-02T08:06:48.926Z"
   },
   {
    "duration": 4,
    "start_time": "2022-05-02T08:06:48.935Z"
   },
   {
    "duration": 16,
    "start_time": "2022-05-02T08:06:48.941Z"
   },
   {
    "duration": 58,
    "start_time": "2022-05-02T08:06:48.958Z"
   },
   {
    "duration": 19,
    "start_time": "2022-05-02T08:06:49.018Z"
   },
   {
    "duration": 35,
    "start_time": "2022-05-02T08:06:49.038Z"
   },
   {
    "duration": 5,
    "start_time": "2022-05-02T08:06:49.076Z"
   },
   {
    "duration": 19,
    "start_time": "2022-05-02T08:06:49.108Z"
   },
   {
    "duration": 4,
    "start_time": "2022-05-02T08:06:49.128Z"
   },
   {
    "duration": 11,
    "start_time": "2022-05-02T08:06:49.133Z"
   },
   {
    "duration": 14,
    "start_time": "2022-05-02T08:06:49.145Z"
   },
   {
    "duration": 15,
    "start_time": "2022-05-02T08:06:49.161Z"
   },
   {
    "duration": 20,
    "start_time": "2022-05-02T08:06:49.207Z"
   },
   {
    "duration": 31,
    "start_time": "2022-05-02T08:06:49.228Z"
   },
   {
    "duration": 48,
    "start_time": "2022-05-02T08:06:49.261Z"
   },
   {
    "duration": 36,
    "start_time": "2022-05-02T08:06:49.310Z"
   },
   {
    "duration": 20,
    "start_time": "2022-05-02T08:06:49.348Z"
   },
   {
    "duration": 54,
    "start_time": "2022-05-02T08:06:49.370Z"
   },
   {
    "duration": 11,
    "start_time": "2022-05-02T08:06:49.426Z"
   },
   {
    "duration": 21,
    "start_time": "2022-05-02T08:06:49.439Z"
   },
   {
    "duration": 61,
    "start_time": "2022-05-02T08:06:49.462Z"
   },
   {
    "duration": 3,
    "start_time": "2022-05-02T08:09:15.248Z"
   },
   {
    "duration": 4,
    "start_time": "2022-05-02T08:09:17.234Z"
   },
   {
    "duration": 69,
    "start_time": "2022-05-02T08:09:19.165Z"
   },
   {
    "duration": 22,
    "start_time": "2022-05-02T08:09:20.696Z"
   },
   {
    "duration": 6,
    "start_time": "2022-05-02T08:09:25.220Z"
   },
   {
    "duration": 10,
    "start_time": "2022-05-02T08:09:29.723Z"
   },
   {
    "duration": 59,
    "start_time": "2022-05-02T08:10:22.878Z"
   },
   {
    "duration": 58,
    "start_time": "2022-05-02T08:13:20.115Z"
   },
   {
    "duration": 1308,
    "start_time": "2022-05-25T07:33:00.322Z"
   },
   {
    "duration": 0,
    "start_time": "2022-05-25T07:33:01.633Z"
   },
   {
    "duration": 0,
    "start_time": "2022-05-25T07:33:01.634Z"
   },
   {
    "duration": 0,
    "start_time": "2022-05-25T07:33:01.638Z"
   },
   {
    "duration": 0,
    "start_time": "2022-05-25T07:33:01.639Z"
   },
   {
    "duration": 0,
    "start_time": "2022-05-25T07:33:01.639Z"
   },
   {
    "duration": 0,
    "start_time": "2022-05-25T07:33:01.640Z"
   },
   {
    "duration": 0,
    "start_time": "2022-05-25T07:33:01.641Z"
   },
   {
    "duration": 0,
    "start_time": "2022-05-25T07:33:01.642Z"
   },
   {
    "duration": 0,
    "start_time": "2022-05-25T07:33:01.644Z"
   },
   {
    "duration": 0,
    "start_time": "2022-05-25T07:33:01.645Z"
   },
   {
    "duration": 0,
    "start_time": "2022-05-25T07:33:01.646Z"
   },
   {
    "duration": 0,
    "start_time": "2022-05-25T07:33:01.647Z"
   },
   {
    "duration": 0,
    "start_time": "2022-05-25T07:33:01.648Z"
   },
   {
    "duration": 0,
    "start_time": "2022-05-25T07:33:01.648Z"
   },
   {
    "duration": 0,
    "start_time": "2022-05-25T07:33:01.649Z"
   },
   {
    "duration": 0,
    "start_time": "2022-05-25T07:33:01.650Z"
   },
   {
    "duration": 0,
    "start_time": "2022-05-25T07:33:01.652Z"
   },
   {
    "duration": 0,
    "start_time": "2022-05-25T07:33:01.653Z"
   },
   {
    "duration": 0,
    "start_time": "2022-05-25T07:33:01.654Z"
   },
   {
    "duration": 0,
    "start_time": "2022-05-25T07:33:01.655Z"
   },
   {
    "duration": 0,
    "start_time": "2022-05-25T07:33:01.656Z"
   },
   {
    "duration": 0,
    "start_time": "2022-05-25T07:33:01.657Z"
   },
   {
    "duration": 1,
    "start_time": "2022-05-25T07:33:01.657Z"
   },
   {
    "duration": 0,
    "start_time": "2022-05-25T07:33:01.659Z"
   },
   {
    "duration": 0,
    "start_time": "2022-05-25T07:33:01.660Z"
   },
   {
    "duration": 204,
    "start_time": "2022-05-25T07:33:31.470Z"
   },
   {
    "duration": 509,
    "start_time": "2022-05-25T07:34:09.638Z"
   },
   {
    "duration": 1612,
    "start_time": "2022-05-25T07:36:06.090Z"
   },
   {
    "duration": 3,
    "start_time": "2022-05-25T07:36:07.704Z"
   },
   {
    "duration": 42,
    "start_time": "2022-05-25T07:36:07.708Z"
   },
   {
    "duration": 378,
    "start_time": "2022-05-25T07:36:07.753Z"
   },
   {
    "duration": 207,
    "start_time": "2022-05-25T07:36:08.136Z"
   },
   {
    "duration": 168,
    "start_time": "2022-05-25T07:36:08.347Z"
   },
   {
    "duration": 144,
    "start_time": "2022-05-25T07:36:08.517Z"
   },
   {
    "duration": 144,
    "start_time": "2022-05-25T07:36:08.662Z"
   },
   {
    "duration": 27,
    "start_time": "2022-05-25T07:36:08.808Z"
   },
   {
    "duration": 27,
    "start_time": "2022-05-25T07:36:08.837Z"
   },
   {
    "duration": 18,
    "start_time": "2022-05-25T07:36:08.866Z"
   },
   {
    "duration": 6,
    "start_time": "2022-05-25T07:36:08.886Z"
   },
   {
    "duration": 4,
    "start_time": "2022-05-25T07:36:08.893Z"
   },
   {
    "duration": 32,
    "start_time": "2022-05-25T07:36:08.934Z"
   },
   {
    "duration": 8,
    "start_time": "2022-05-25T07:36:08.968Z"
   },
   {
    "duration": 8,
    "start_time": "2022-05-25T07:36:08.978Z"
   },
   {
    "duration": 42,
    "start_time": "2022-05-25T07:36:08.987Z"
   },
   {
    "duration": 61,
    "start_time": "2022-05-25T07:36:09.031Z"
   },
   {
    "duration": 70,
    "start_time": "2022-05-25T07:36:09.094Z"
   },
   {
    "duration": 71,
    "start_time": "2022-05-25T07:36:09.166Z"
   },
   {
    "duration": 29,
    "start_time": "2022-05-25T07:36:09.239Z"
   },
   {
    "duration": 25,
    "start_time": "2022-05-25T07:36:09.270Z"
   },
   {
    "duration": 238,
    "start_time": "2022-05-25T07:36:09.297Z"
   },
   {
    "duration": 234,
    "start_time": "2022-05-25T07:36:09.537Z"
   },
   {
    "duration": 5,
    "start_time": "2022-05-25T07:36:09.772Z"
   },
   {
    "duration": 20,
    "start_time": "2022-05-25T07:36:09.778Z"
   },
   {
    "duration": 11,
    "start_time": "2022-05-25T07:36:09.799Z"
   },
   {
    "duration": 13,
    "start_time": "2022-05-25T07:36:30.846Z"
   },
   {
    "duration": 40,
    "start_time": "2022-05-25T07:36:50.399Z"
   },
   {
    "duration": 43,
    "start_time": "2022-05-25T07:37:34.811Z"
   },
   {
    "duration": 141,
    "start_time": "2022-05-25T07:41:23.990Z"
   },
   {
    "duration": 54,
    "start_time": "2022-05-25T07:41:47.441Z"
   },
   {
    "duration": 72,
    "start_time": "2022-06-19T12:48:26.244Z"
   },
   {
    "duration": 48,
    "start_time": "2022-06-19T12:56:43.567Z"
   }
  ],
  "kernelspec": {
   "display_name": "Python 3 (ipykernel)",
   "language": "python",
   "name": "python3"
  },
  "language_info": {
   "codemirror_mode": {
    "name": "ipython",
    "version": 3
   },
   "file_extension": ".py",
   "mimetype": "text/x-python",
   "name": "python",
   "nbconvert_exporter": "python",
   "pygments_lexer": "ipython3",
   "version": "3.9.12"
  },
  "toc": {
   "base_numbering": 1,
   "nav_menu": {},
   "number_sections": true,
   "sideBar": true,
   "skip_h1_title": true,
   "title_cell": "Table of Contents",
   "title_sidebar": "Contents",
   "toc_cell": false,
   "toc_position": {},
   "toc_section_display": true,
   "toc_window_display": false
  }
 },
 "nbformat": 4,
 "nbformat_minor": 5
}
