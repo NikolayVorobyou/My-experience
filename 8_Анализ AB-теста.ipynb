{
 "cells": [
  {
   "cell_type": "markdown",
   "id": "8d510ad1",
   "metadata": {},
   "source": [
    "# Приоритизация гипотез. Анализ A/B-теста"
   ]
  },
  {
   "cell_type": "markdown",
   "id": "e793bb6e",
   "metadata": {},
   "source": [
    "# Содержание\n",
    "\n",
    "- [Описание проекта](#1)\n",
    "- [Общая информация о данных](#2)\n",
    "- [Часть 1. Приоритизация гипотез](#3)\n",
    "- [Часть 2. Анализ A/B-теста](#4)\n",
    "- [Заключение](#6)"
   ]
  },
  {
   "cell_type": "markdown",
   "id": "1cb00a16",
   "metadata": {},
   "source": [
    "# Описание проекта <a id='1'></a>\n",
    "\n",
    "**Цель: Приоритизировать гипотезы, проанализировать результаты A/B-теста.**\n",
    "\n",
    "Путь к данным: \n",
    "- /datasets/hypothesis.csv. \n",
    "- /datasets/orders.csv. \n",
    "- /datasets/visitors.csv."
   ]
  },
  {
   "cell_type": "markdown",
   "id": "abdd58f7",
   "metadata": {},
   "source": [
    "# Общая информация о данных <a id='2'></a>"
   ]
  },
  {
   "cell_type": "markdown",
   "id": "7fc480ba",
   "metadata": {},
   "source": [
    "# Часть 1. Приоритизация гипотез. <a id='3'></a>"
   ]
  },
  {
   "cell_type": "markdown",
   "id": "7ba42e35",
   "metadata": {},
   "source": [
    "Импортируем необходимые инструменты."
   ]
  },
  {
   "cell_type": "code",
   "execution_count": 1,
   "id": "a4b64728",
   "metadata": {},
   "outputs": [],
   "source": [
    "import pandas as pd\n",
    "import datetime as dt \n",
    "import numpy as np \n",
    "import matplotlib.pyplot as plt \n",
    "from pandas.plotting import register_matplotlib_converters \n",
    "import warnings \n",
    "import scipy.stats as stats \n",
    "import math as mth \n"
   ]
  },
  {
   "cell_type": "markdown",
   "id": "f1239732",
   "metadata": {},
   "source": [
    "Приоритизация гипотез фреймворком ICE.\n",
    "\n",
    "Ознакомимся с данными."
   ]
  },
  {
   "cell_type": "code",
   "execution_count": 2,
   "id": "d5685820",
   "metadata": {
    "scrolled": false
   },
   "outputs": [
    {
     "data": {
      "text/html": [
       "<div>\n",
       "<style scoped>\n",
       "    .dataframe tbody tr th:only-of-type {\n",
       "        vertical-align: middle;\n",
       "    }\n",
       "\n",
       "    .dataframe tbody tr th {\n",
       "        vertical-align: top;\n",
       "    }\n",
       "\n",
       "    .dataframe thead th {\n",
       "        text-align: right;\n",
       "    }\n",
       "</style>\n",
       "<table border=\"1\" class=\"dataframe\">\n",
       "  <thead>\n",
       "    <tr style=\"text-align: right;\">\n",
       "      <th></th>\n",
       "      <th>Hypothesis</th>\n",
       "      <th>Reach</th>\n",
       "      <th>Impact</th>\n",
       "      <th>Confidence</th>\n",
       "      <th>Efforts</th>\n",
       "    </tr>\n",
       "  </thead>\n",
       "  <tbody>\n",
       "    <tr>\n",
       "      <th>0</th>\n",
       "      <td>Добавить два новых канала привлечения трафика,...</td>\n",
       "      <td>3</td>\n",
       "      <td>10</td>\n",
       "      <td>8</td>\n",
       "      <td>6</td>\n",
       "    </tr>\n",
       "    <tr>\n",
       "      <th>1</th>\n",
       "      <td>Запустить собственную службу доставки, что сок...</td>\n",
       "      <td>2</td>\n",
       "      <td>5</td>\n",
       "      <td>4</td>\n",
       "      <td>10</td>\n",
       "    </tr>\n",
       "    <tr>\n",
       "      <th>2</th>\n",
       "      <td>Добавить блоки рекомендаций товаров на сайт ин...</td>\n",
       "      <td>8</td>\n",
       "      <td>3</td>\n",
       "      <td>7</td>\n",
       "      <td>3</td>\n",
       "    </tr>\n",
       "    <tr>\n",
       "      <th>3</th>\n",
       "      <td>Изменить структура категорий, что увеличит кон...</td>\n",
       "      <td>8</td>\n",
       "      <td>3</td>\n",
       "      <td>3</td>\n",
       "      <td>8</td>\n",
       "    </tr>\n",
       "    <tr>\n",
       "      <th>4</th>\n",
       "      <td>Изменить цвет фона главной страницы, чтобы уве...</td>\n",
       "      <td>3</td>\n",
       "      <td>1</td>\n",
       "      <td>1</td>\n",
       "      <td>1</td>\n",
       "    </tr>\n",
       "    <tr>\n",
       "      <th>5</th>\n",
       "      <td>Добавить страницу отзывов клиентов о магазине,...</td>\n",
       "      <td>3</td>\n",
       "      <td>2</td>\n",
       "      <td>2</td>\n",
       "      <td>3</td>\n",
       "    </tr>\n",
       "    <tr>\n",
       "      <th>6</th>\n",
       "      <td>Показать на главной странице баннеры с актуаль...</td>\n",
       "      <td>5</td>\n",
       "      <td>3</td>\n",
       "      <td>8</td>\n",
       "      <td>3</td>\n",
       "    </tr>\n",
       "    <tr>\n",
       "      <th>7</th>\n",
       "      <td>Добавить форму подписки на все основные страни...</td>\n",
       "      <td>10</td>\n",
       "      <td>7</td>\n",
       "      <td>8</td>\n",
       "      <td>5</td>\n",
       "    </tr>\n",
       "    <tr>\n",
       "      <th>8</th>\n",
       "      <td>Запустить акцию, дающую скидку на товар в день...</td>\n",
       "      <td>1</td>\n",
       "      <td>9</td>\n",
       "      <td>9</td>\n",
       "      <td>5</td>\n",
       "    </tr>\n",
       "  </tbody>\n",
       "</table>\n",
       "</div>"
      ],
      "text/plain": [
       "                                          Hypothesis  Reach  Impact  \\\n",
       "0  Добавить два новых канала привлечения трафика,...      3      10   \n",
       "1  Запустить собственную службу доставки, что сок...      2       5   \n",
       "2  Добавить блоки рекомендаций товаров на сайт ин...      8       3   \n",
       "3  Изменить структура категорий, что увеличит кон...      8       3   \n",
       "4  Изменить цвет фона главной страницы, чтобы уве...      3       1   \n",
       "5  Добавить страницу отзывов клиентов о магазине,...      3       2   \n",
       "6  Показать на главной странице баннеры с актуаль...      5       3   \n",
       "7  Добавить форму подписки на все основные страни...     10       7   \n",
       "8  Запустить акцию, дающую скидку на товар в день...      1       9   \n",
       "\n",
       "   Confidence  Efforts  \n",
       "0           8        6  \n",
       "1           4       10  \n",
       "2           7        3  \n",
       "3           3        8  \n",
       "4           1        1  \n",
       "5           2        3  \n",
       "6           8        3  \n",
       "7           8        5  \n",
       "8           9        5  "
      ]
     },
     "metadata": {},
     "output_type": "display_data"
    }
   ],
   "source": [
    "data = pd.read_csv('/datasets/hypothesis.csv', sep=',')\n",
    "orders = pd.read_csv('/datasets/orders.csv', sep=',') \n",
    "visitors = pd.read_csv('/datasets/visitors.csv', sep=',')\n",
    "\n",
    "display(data)"
   ]
  },
  {
   "cell_type": "markdown",
   "id": "b45bd97f",
   "metadata": {},
   "source": [
    "Приведем название колонок к \"змеиному регистру\". Добавим столбец ICE и отсортируем данные по убыванию."
   ]
  },
  {
   "cell_type": "code",
   "execution_count": 3,
   "id": "3a131cd8",
   "metadata": {
    "scrolled": false
   },
   "outputs": [
    {
     "data": {
      "text/html": [
       "<div>\n",
       "<style scoped>\n",
       "    .dataframe tbody tr th:only-of-type {\n",
       "        vertical-align: middle;\n",
       "    }\n",
       "\n",
       "    .dataframe tbody tr th {\n",
       "        vertical-align: top;\n",
       "    }\n",
       "\n",
       "    .dataframe thead th {\n",
       "        text-align: right;\n",
       "    }\n",
       "</style>\n",
       "<table border=\"1\" class=\"dataframe\">\n",
       "  <thead>\n",
       "    <tr style=\"text-align: right;\">\n",
       "      <th></th>\n",
       "      <th>hypothesis</th>\n",
       "      <th>ICE</th>\n",
       "    </tr>\n",
       "  </thead>\n",
       "  <tbody>\n",
       "    <tr>\n",
       "      <th>8</th>\n",
       "      <td>Запустить акцию, дающую скидку на товар в день...</td>\n",
       "      <td>16.200000</td>\n",
       "    </tr>\n",
       "    <tr>\n",
       "      <th>0</th>\n",
       "      <td>Добавить два новых канала привлечения трафика,...</td>\n",
       "      <td>13.333333</td>\n",
       "    </tr>\n",
       "    <tr>\n",
       "      <th>7</th>\n",
       "      <td>Добавить форму подписки на все основные страни...</td>\n",
       "      <td>11.200000</td>\n",
       "    </tr>\n",
       "    <tr>\n",
       "      <th>6</th>\n",
       "      <td>Показать на главной странице баннеры с актуаль...</td>\n",
       "      <td>8.000000</td>\n",
       "    </tr>\n",
       "    <tr>\n",
       "      <th>2</th>\n",
       "      <td>Добавить блоки рекомендаций товаров на сайт ин...</td>\n",
       "      <td>7.000000</td>\n",
       "    </tr>\n",
       "    <tr>\n",
       "      <th>1</th>\n",
       "      <td>Запустить собственную службу доставки, что сок...</td>\n",
       "      <td>2.000000</td>\n",
       "    </tr>\n",
       "    <tr>\n",
       "      <th>5</th>\n",
       "      <td>Добавить страницу отзывов клиентов о магазине,...</td>\n",
       "      <td>1.333333</td>\n",
       "    </tr>\n",
       "    <tr>\n",
       "      <th>3</th>\n",
       "      <td>Изменить структура категорий, что увеличит кон...</td>\n",
       "      <td>1.125000</td>\n",
       "    </tr>\n",
       "    <tr>\n",
       "      <th>4</th>\n",
       "      <td>Изменить цвет фона главной страницы, чтобы уве...</td>\n",
       "      <td>1.000000</td>\n",
       "    </tr>\n",
       "  </tbody>\n",
       "</table>\n",
       "</div>"
      ],
      "text/plain": [
       "                                          hypothesis        ICE\n",
       "8  Запустить акцию, дающую скидку на товар в день...  16.200000\n",
       "0  Добавить два новых канала привлечения трафика,...  13.333333\n",
       "7  Добавить форму подписки на все основные страни...  11.200000\n",
       "6  Показать на главной странице баннеры с актуаль...   8.000000\n",
       "2  Добавить блоки рекомендаций товаров на сайт ин...   7.000000\n",
       "1  Запустить собственную службу доставки, что сок...   2.000000\n",
       "5  Добавить страницу отзывов клиентов о магазине,...   1.333333\n",
       "3  Изменить структура категорий, что увеличит кон...   1.125000\n",
       "4  Изменить цвет фона главной страницы, чтобы уве...   1.000000"
      ]
     },
     "metadata": {},
     "output_type": "display_data"
    }
   ],
   "source": [
    "data.columns = data.columns.str.lower().str.replace(' ', '_')\n",
    "data['ICE'] = ((data['impact']*data['confidence'])/data['efforts'])  \n",
    "display((data[['hypothesis', 'ICE']]).sort_values(by='ICE', ascending=False)) "
   ]
  },
  {
   "cell_type": "markdown",
   "id": "4cbfd915",
   "metadata": {},
   "source": [
    "Приоритизация гипотез фреймворком RICE. На первых местах гипотезы 8, 0. Добавим столбец RICE и отсортируем данные по убыванию, посмотрим как изменится картина."
   ]
  },
  {
   "cell_type": "code",
   "execution_count": 4,
   "id": "a8603b20",
   "metadata": {
    "scrolled": true
   },
   "outputs": [
    {
     "data": {
      "text/html": [
       "<div>\n",
       "<style scoped>\n",
       "    .dataframe tbody tr th:only-of-type {\n",
       "        vertical-align: middle;\n",
       "    }\n",
       "\n",
       "    .dataframe tbody tr th {\n",
       "        vertical-align: top;\n",
       "    }\n",
       "\n",
       "    .dataframe thead th {\n",
       "        text-align: right;\n",
       "    }\n",
       "</style>\n",
       "<table border=\"1\" class=\"dataframe\">\n",
       "  <thead>\n",
       "    <tr style=\"text-align: right;\">\n",
       "      <th></th>\n",
       "      <th>hypothesis</th>\n",
       "      <th>ICE</th>\n",
       "      <th>RICE</th>\n",
       "    </tr>\n",
       "  </thead>\n",
       "  <tbody>\n",
       "    <tr>\n",
       "      <th>7</th>\n",
       "      <td>Добавить форму подписки на все основные страни...</td>\n",
       "      <td>11.200000</td>\n",
       "      <td>112.0</td>\n",
       "    </tr>\n",
       "    <tr>\n",
       "      <th>2</th>\n",
       "      <td>Добавить блоки рекомендаций товаров на сайт ин...</td>\n",
       "      <td>7.000000</td>\n",
       "      <td>56.0</td>\n",
       "    </tr>\n",
       "    <tr>\n",
       "      <th>0</th>\n",
       "      <td>Добавить два новых канала привлечения трафика,...</td>\n",
       "      <td>13.333333</td>\n",
       "      <td>40.0</td>\n",
       "    </tr>\n",
       "    <tr>\n",
       "      <th>6</th>\n",
       "      <td>Показать на главной странице баннеры с актуаль...</td>\n",
       "      <td>8.000000</td>\n",
       "      <td>40.0</td>\n",
       "    </tr>\n",
       "    <tr>\n",
       "      <th>8</th>\n",
       "      <td>Запустить акцию, дающую скидку на товар в день...</td>\n",
       "      <td>16.200000</td>\n",
       "      <td>16.2</td>\n",
       "    </tr>\n",
       "    <tr>\n",
       "      <th>3</th>\n",
       "      <td>Изменить структура категорий, что увеличит кон...</td>\n",
       "      <td>1.125000</td>\n",
       "      <td>9.0</td>\n",
       "    </tr>\n",
       "    <tr>\n",
       "      <th>1</th>\n",
       "      <td>Запустить собственную службу доставки, что сок...</td>\n",
       "      <td>2.000000</td>\n",
       "      <td>4.0</td>\n",
       "    </tr>\n",
       "    <tr>\n",
       "      <th>5</th>\n",
       "      <td>Добавить страницу отзывов клиентов о магазине,...</td>\n",
       "      <td>1.333333</td>\n",
       "      <td>4.0</td>\n",
       "    </tr>\n",
       "    <tr>\n",
       "      <th>4</th>\n",
       "      <td>Изменить цвет фона главной страницы, чтобы уве...</td>\n",
       "      <td>1.000000</td>\n",
       "      <td>3.0</td>\n",
       "    </tr>\n",
       "  </tbody>\n",
       "</table>\n",
       "</div>"
      ],
      "text/plain": [
       "                                          hypothesis        ICE   RICE\n",
       "7  Добавить форму подписки на все основные страни...  11.200000  112.0\n",
       "2  Добавить блоки рекомендаций товаров на сайт ин...   7.000000   56.0\n",
       "0  Добавить два новых канала привлечения трафика,...  13.333333   40.0\n",
       "6  Показать на главной странице баннеры с актуаль...   8.000000   40.0\n",
       "8  Запустить акцию, дающую скидку на товар в день...  16.200000   16.2\n",
       "3  Изменить структура категорий, что увеличит кон...   1.125000    9.0\n",
       "1  Запустить собственную службу доставки, что сок...   2.000000    4.0\n",
       "5  Добавить страницу отзывов клиентов о магазине,...   1.333333    4.0\n",
       "4  Изменить цвет фона главной страницы, чтобы уве...   1.000000    3.0"
      ]
     },
     "metadata": {},
     "output_type": "display_data"
    }
   ],
   "source": [
    "data['RICE'] = ((data['reach']*data['impact']*data['confidence'])/data['efforts'])  \n",
    "display((data[['hypothesis', 'ICE', 'RICE']]).sort_values(by='RICE', ascending=False)) "
   ]
  },
  {
   "cell_type": "markdown",
   "id": "5d69a4bb",
   "metadata": {},
   "source": [
    "Применение фреймворка RICE вывело на первые позиции гипотезы по номерами 7, 2 вместо гипотез 8, 0 для фреймворка ICE. Это произошло из-за большего охвата пользователей которых затрагивает изменение (для гипотез 7, 2 Reach равен 10 и 8 против 3 и 1)."
   ]
  },
  {
   "cell_type": "markdown",
   "id": "ef2555e7",
   "metadata": {},
   "source": [
    "# Часть 2. Анализ A/B-теста <a id='4'></a>"
   ]
  },
  {
   "cell_type": "markdown",
   "id": "24d77a44",
   "metadata": {},
   "source": [
    "Ознакомимся с данными."
   ]
  },
  {
   "cell_type": "code",
   "execution_count": 5,
   "id": "fa00a747",
   "metadata": {
    "scrolled": false
   },
   "outputs": [
    {
     "data": {
      "text/html": [
       "<div>\n",
       "<style scoped>\n",
       "    .dataframe tbody tr th:only-of-type {\n",
       "        vertical-align: middle;\n",
       "    }\n",
       "\n",
       "    .dataframe tbody tr th {\n",
       "        vertical-align: top;\n",
       "    }\n",
       "\n",
       "    .dataframe thead th {\n",
       "        text-align: right;\n",
       "    }\n",
       "</style>\n",
       "<table border=\"1\" class=\"dataframe\">\n",
       "  <thead>\n",
       "    <tr style=\"text-align: right;\">\n",
       "      <th></th>\n",
       "      <th>transactionId</th>\n",
       "      <th>visitorId</th>\n",
       "      <th>date</th>\n",
       "      <th>revenue</th>\n",
       "      <th>group</th>\n",
       "    </tr>\n",
       "  </thead>\n",
       "  <tbody>\n",
       "    <tr>\n",
       "      <th>0</th>\n",
       "      <td>3667963787</td>\n",
       "      <td>3312258926</td>\n",
       "      <td>2019-08-15</td>\n",
       "      <td>1650</td>\n",
       "      <td>B</td>\n",
       "    </tr>\n",
       "    <tr>\n",
       "      <th>1</th>\n",
       "      <td>2804400009</td>\n",
       "      <td>3642806036</td>\n",
       "      <td>2019-08-15</td>\n",
       "      <td>730</td>\n",
       "      <td>B</td>\n",
       "    </tr>\n",
       "    <tr>\n",
       "      <th>2</th>\n",
       "      <td>2961555356</td>\n",
       "      <td>4069496402</td>\n",
       "      <td>2019-08-15</td>\n",
       "      <td>400</td>\n",
       "      <td>A</td>\n",
       "    </tr>\n",
       "    <tr>\n",
       "      <th>3</th>\n",
       "      <td>3797467345</td>\n",
       "      <td>1196621759</td>\n",
       "      <td>2019-08-15</td>\n",
       "      <td>9759</td>\n",
       "      <td>B</td>\n",
       "    </tr>\n",
       "    <tr>\n",
       "      <th>4</th>\n",
       "      <td>2282983706</td>\n",
       "      <td>2322279887</td>\n",
       "      <td>2019-08-15</td>\n",
       "      <td>2308</td>\n",
       "      <td>B</td>\n",
       "    </tr>\n",
       "    <tr>\n",
       "      <th>...</th>\n",
       "      <td>...</td>\n",
       "      <td>...</td>\n",
       "      <td>...</td>\n",
       "      <td>...</td>\n",
       "      <td>...</td>\n",
       "    </tr>\n",
       "    <tr>\n",
       "      <th>1192</th>\n",
       "      <td>2662137336</td>\n",
       "      <td>3733762160</td>\n",
       "      <td>2019-08-14</td>\n",
       "      <td>6490</td>\n",
       "      <td>B</td>\n",
       "    </tr>\n",
       "    <tr>\n",
       "      <th>1193</th>\n",
       "      <td>2203539145</td>\n",
       "      <td>370388673</td>\n",
       "      <td>2019-08-14</td>\n",
       "      <td>3190</td>\n",
       "      <td>A</td>\n",
       "    </tr>\n",
       "    <tr>\n",
       "      <th>1194</th>\n",
       "      <td>1807773912</td>\n",
       "      <td>573423106</td>\n",
       "      <td>2019-08-14</td>\n",
       "      <td>10550</td>\n",
       "      <td>A</td>\n",
       "    </tr>\n",
       "    <tr>\n",
       "      <th>1195</th>\n",
       "      <td>1947021204</td>\n",
       "      <td>1614305549</td>\n",
       "      <td>2019-08-14</td>\n",
       "      <td>100</td>\n",
       "      <td>A</td>\n",
       "    </tr>\n",
       "    <tr>\n",
       "      <th>1196</th>\n",
       "      <td>3936777065</td>\n",
       "      <td>2108080724</td>\n",
       "      <td>2019-08-15</td>\n",
       "      <td>202740</td>\n",
       "      <td>B</td>\n",
       "    </tr>\n",
       "  </tbody>\n",
       "</table>\n",
       "<p>1197 rows × 5 columns</p>\n",
       "</div>"
      ],
      "text/plain": [
       "      transactionId   visitorId        date  revenue group\n",
       "0        3667963787  3312258926  2019-08-15     1650     B\n",
       "1        2804400009  3642806036  2019-08-15      730     B\n",
       "2        2961555356  4069496402  2019-08-15      400     A\n",
       "3        3797467345  1196621759  2019-08-15     9759     B\n",
       "4        2282983706  2322279887  2019-08-15     2308     B\n",
       "...             ...         ...         ...      ...   ...\n",
       "1192     2662137336  3733762160  2019-08-14     6490     B\n",
       "1193     2203539145   370388673  2019-08-14     3190     A\n",
       "1194     1807773912   573423106  2019-08-14    10550     A\n",
       "1195     1947021204  1614305549  2019-08-14      100     A\n",
       "1196     3936777065  2108080724  2019-08-15   202740     B\n",
       "\n",
       "[1197 rows x 5 columns]"
      ]
     },
     "metadata": {},
     "output_type": "display_data"
    },
    {
     "name": "stdout",
     "output_type": "stream",
     "text": [
      "\n",
      "<class 'pandas.core.frame.DataFrame'>\n",
      "RangeIndex: 1197 entries, 0 to 1196\n",
      "Data columns (total 5 columns):\n",
      " #   Column         Non-Null Count  Dtype \n",
      "---  ------         --------------  ----- \n",
      " 0   transactionId  1197 non-null   int64 \n",
      " 1   visitorId      1197 non-null   int64 \n",
      " 2   date           1197 non-null   object\n",
      " 3   revenue        1197 non-null   int64 \n",
      " 4   group          1197 non-null   object\n",
      "dtypes: int64(3), object(2)\n",
      "memory usage: 46.9+ KB\n",
      "\n"
     ]
    },
    {
     "data": {
      "text/html": [
       "<div>\n",
       "<style scoped>\n",
       "    .dataframe tbody tr th:only-of-type {\n",
       "        vertical-align: middle;\n",
       "    }\n",
       "\n",
       "    .dataframe tbody tr th {\n",
       "        vertical-align: top;\n",
       "    }\n",
       "\n",
       "    .dataframe thead th {\n",
       "        text-align: right;\n",
       "    }\n",
       "</style>\n",
       "<table border=\"1\" class=\"dataframe\">\n",
       "  <thead>\n",
       "    <tr style=\"text-align: right;\">\n",
       "      <th></th>\n",
       "      <th>date</th>\n",
       "      <th>group</th>\n",
       "      <th>visitors</th>\n",
       "    </tr>\n",
       "  </thead>\n",
       "  <tbody>\n",
       "    <tr>\n",
       "      <th>0</th>\n",
       "      <td>2019-08-01</td>\n",
       "      <td>A</td>\n",
       "      <td>719</td>\n",
       "    </tr>\n",
       "    <tr>\n",
       "      <th>1</th>\n",
       "      <td>2019-08-02</td>\n",
       "      <td>A</td>\n",
       "      <td>619</td>\n",
       "    </tr>\n",
       "    <tr>\n",
       "      <th>2</th>\n",
       "      <td>2019-08-03</td>\n",
       "      <td>A</td>\n",
       "      <td>507</td>\n",
       "    </tr>\n",
       "    <tr>\n",
       "      <th>3</th>\n",
       "      <td>2019-08-04</td>\n",
       "      <td>A</td>\n",
       "      <td>717</td>\n",
       "    </tr>\n",
       "    <tr>\n",
       "      <th>4</th>\n",
       "      <td>2019-08-05</td>\n",
       "      <td>A</td>\n",
       "      <td>756</td>\n",
       "    </tr>\n",
       "    <tr>\n",
       "      <th>...</th>\n",
       "      <td>...</td>\n",
       "      <td>...</td>\n",
       "      <td>...</td>\n",
       "    </tr>\n",
       "    <tr>\n",
       "      <th>57</th>\n",
       "      <td>2019-08-27</td>\n",
       "      <td>B</td>\n",
       "      <td>720</td>\n",
       "    </tr>\n",
       "    <tr>\n",
       "      <th>58</th>\n",
       "      <td>2019-08-28</td>\n",
       "      <td>B</td>\n",
       "      <td>654</td>\n",
       "    </tr>\n",
       "    <tr>\n",
       "      <th>59</th>\n",
       "      <td>2019-08-29</td>\n",
       "      <td>B</td>\n",
       "      <td>531</td>\n",
       "    </tr>\n",
       "    <tr>\n",
       "      <th>60</th>\n",
       "      <td>2019-08-30</td>\n",
       "      <td>B</td>\n",
       "      <td>490</td>\n",
       "    </tr>\n",
       "    <tr>\n",
       "      <th>61</th>\n",
       "      <td>2019-08-31</td>\n",
       "      <td>B</td>\n",
       "      <td>718</td>\n",
       "    </tr>\n",
       "  </tbody>\n",
       "</table>\n",
       "<p>62 rows × 3 columns</p>\n",
       "</div>"
      ],
      "text/plain": [
       "          date group  visitors\n",
       "0   2019-08-01     A       719\n",
       "1   2019-08-02     A       619\n",
       "2   2019-08-03     A       507\n",
       "3   2019-08-04     A       717\n",
       "4   2019-08-05     A       756\n",
       "..         ...   ...       ...\n",
       "57  2019-08-27     B       720\n",
       "58  2019-08-28     B       654\n",
       "59  2019-08-29     B       531\n",
       "60  2019-08-30     B       490\n",
       "61  2019-08-31     B       718\n",
       "\n",
       "[62 rows x 3 columns]"
      ]
     },
     "metadata": {},
     "output_type": "display_data"
    },
    {
     "name": "stdout",
     "output_type": "stream",
     "text": [
      "\n",
      "<class 'pandas.core.frame.DataFrame'>\n",
      "RangeIndex: 62 entries, 0 to 61\n",
      "Data columns (total 3 columns):\n",
      " #   Column    Non-Null Count  Dtype \n",
      "---  ------    --------------  ----- \n",
      " 0   date      62 non-null     object\n",
      " 1   group     62 non-null     object\n",
      " 2   visitors  62 non-null     int64 \n",
      "dtypes: int64(1), object(2)\n",
      "memory usage: 1.6+ KB\n"
     ]
    }
   ],
   "source": [
    "display(orders)\n",
    "print()\n",
    "orders.info()\n",
    "print()\n",
    "display(visitors)\n",
    "print()\n",
    "visitors.info()"
   ]
  },
  {
   "cell_type": "markdown",
   "id": "f0ee6be7",
   "metadata": {},
   "source": [
    "В таблице с покупками 1197 строк, каждая из которых содержит данные о каждом заказе (transactionId) для каждого пользователя (visitorId). Незаполненных ячеек нет. В таблице с посетителями 62 строки, каждая из которых содержит данные о количестве посетителей (visitors) из конкретной группы(group) в конкретную дату августа 2019 года (date)."
   ]
  },
  {
   "cell_type": "markdown",
   "id": "636c199a",
   "metadata": {},
   "source": [
    "Дадим столбцам понятные названия."
   ]
  },
  {
   "cell_type": "code",
   "execution_count": 6,
   "id": "ab45009c",
   "metadata": {
    "scrolled": false
   },
   "outputs": [],
   "source": [
    "orders.columns = ['orderId', 'userId', 'date', 'revenue', 'group']\n"
   ]
  },
  {
   "cell_type": "markdown",
   "id": "651387b5",
   "metadata": {},
   "source": [
    "Приведем данные в столбцах с датами к типу datetime."
   ]
  },
  {
   "cell_type": "code",
   "execution_count": 7,
   "id": "e8e9ef21",
   "metadata": {
    "scrolled": false
   },
   "outputs": [],
   "source": [
    "orders['date'] = orders['date'].map( \n",
    "    lambda x: dt.datetime.strptime(x, '%Y-%m-%d') \n",
    ") \n",
    "visitors['date'] = visitors['date'].map( \n",
    "    lambda x: dt.datetime.strptime(x, '%Y-%m-%d') \n",
    ") "
   ]
  },
  {
   "cell_type": "markdown",
   "id": "7b53d1e4",
   "metadata": {},
   "source": [
    "Проверим наличие дубликатов в данных."
   ]
  },
  {
   "cell_type": "code",
   "execution_count": 8,
   "id": "0d3e54bd",
   "metadata": {
    "scrolled": false
   },
   "outputs": [
    {
     "name": "stdout",
     "output_type": "stream",
     "text": [
      "Дубликатов в таблице orders: 0\n",
      "Дубликатов в таблице visitors: 0\n"
     ]
    }
   ],
   "source": [
    "print('Дубликатов в таблице orders:', orders.duplicated().sum())\n",
    "print('Дубликатов в таблице visitors:', visitors.duplicated().sum())\n"
   ]
  },
  {
   "cell_type": "markdown",
   "id": "390c564b",
   "metadata": {},
   "source": [
    "Посчитаем сколько пользователей участвуют в тесте."
   ]
  },
  {
   "cell_type": "code",
   "execution_count": 9,
   "id": "4b991a28",
   "metadata": {
    "scrolled": false
   },
   "outputs": [
    {
     "name": "stdout",
     "output_type": "stream",
     "text": [
      "userId    1031\n",
      "dtype: int64\n",
      "\n",
      "  group  userId\n",
      "0     A     503\n",
      "1     B     586\n"
     ]
    }
   ],
   "source": [
    "print(orders.agg( \n",
    "    {'userId': 'nunique'} \n",
    "))\n",
    "print()\n",
    "print(orders.groupby('group', as_index=False).agg( \n",
    "    {'userId': 'nunique'} \n",
    "))"
   ]
  },
  {
   "cell_type": "markdown",
   "id": "737c2298",
   "metadata": {},
   "source": [
    "Пользователей в группах больше чем принявших участие в тесте. Найдем этих пользователей и операции которые они совершили."
   ]
  },
  {
   "cell_type": "code",
   "execution_count": 10,
   "id": "11ee9c4e",
   "metadata": {},
   "outputs": [
    {
     "data": {
      "text/html": [
       "<div>\n",
       "<style scoped>\n",
       "    .dataframe tbody tr th:only-of-type {\n",
       "        vertical-align: middle;\n",
       "    }\n",
       "\n",
       "    .dataframe tbody tr th {\n",
       "        vertical-align: top;\n",
       "    }\n",
       "\n",
       "    .dataframe thead th {\n",
       "        text-align: right;\n",
       "    }\n",
       "</style>\n",
       "<table border=\"1\" class=\"dataframe\">\n",
       "  <thead>\n",
       "    <tr style=\"text-align: right;\">\n",
       "      <th></th>\n",
       "      <th>orderId_x</th>\n",
       "      <th>userId</th>\n",
       "      <th>date_x</th>\n",
       "      <th>revenue_x</th>\n",
       "      <th>group_x</th>\n",
       "      <th>orderId_y</th>\n",
       "      <th>date_y</th>\n",
       "      <th>revenue_y</th>\n",
       "      <th>group_y</th>\n",
       "    </tr>\n",
       "  </thead>\n",
       "  <tbody>\n",
       "    <tr>\n",
       "      <th>0</th>\n",
       "      <td>2961555356</td>\n",
       "      <td>4069496402</td>\n",
       "      <td>2019-08-15</td>\n",
       "      <td>400</td>\n",
       "      <td>A</td>\n",
       "      <td>1473132782</td>\n",
       "      <td>2019-08-12</td>\n",
       "      <td>640</td>\n",
       "      <td>B</td>\n",
       "    </tr>\n",
       "    <tr>\n",
       "      <th>1</th>\n",
       "      <td>2223239646</td>\n",
       "      <td>199603092</td>\n",
       "      <td>2019-08-15</td>\n",
       "      <td>3488</td>\n",
       "      <td>A</td>\n",
       "      <td>437656952</td>\n",
       "      <td>2019-08-02</td>\n",
       "      <td>3488</td>\n",
       "      <td>B</td>\n",
       "    </tr>\n",
       "    <tr>\n",
       "      <th>2</th>\n",
       "      <td>62794304</td>\n",
       "      <td>199603092</td>\n",
       "      <td>2019-08-22</td>\n",
       "      <td>6976</td>\n",
       "      <td>A</td>\n",
       "      <td>437656952</td>\n",
       "      <td>2019-08-02</td>\n",
       "      <td>3488</td>\n",
       "      <td>B</td>\n",
       "    </tr>\n",
       "    <tr>\n",
       "      <th>3</th>\n",
       "      <td>2971973105</td>\n",
       "      <td>199603092</td>\n",
       "      <td>2019-08-27</td>\n",
       "      <td>2790</td>\n",
       "      <td>A</td>\n",
       "      <td>437656952</td>\n",
       "      <td>2019-08-02</td>\n",
       "      <td>3488</td>\n",
       "      <td>B</td>\n",
       "    </tr>\n",
       "    <tr>\n",
       "      <th>4</th>\n",
       "      <td>1941707234</td>\n",
       "      <td>199603092</td>\n",
       "      <td>2019-08-12</td>\n",
       "      <td>6438</td>\n",
       "      <td>A</td>\n",
       "      <td>437656952</td>\n",
       "      <td>2019-08-02</td>\n",
       "      <td>3488</td>\n",
       "      <td>B</td>\n",
       "    </tr>\n",
       "  </tbody>\n",
       "</table>\n",
       "</div>"
      ],
      "text/plain": [
       "    orderId_x      userId     date_x  revenue_x group_x   orderId_y  \\\n",
       "0  2961555356  4069496402 2019-08-15        400       A  1473132782   \n",
       "1  2223239646   199603092 2019-08-15       3488       A   437656952   \n",
       "2    62794304   199603092 2019-08-22       6976       A   437656952   \n",
       "3  2971973105   199603092 2019-08-27       2790       A   437656952   \n",
       "4  1941707234   199603092 2019-08-12       6438       A   437656952   \n",
       "\n",
       "      date_y  revenue_y group_y  \n",
       "0 2019-08-12        640       B  \n",
       "1 2019-08-02       3488       B  \n",
       "2 2019-08-02       3488       B  \n",
       "3 2019-08-02       3488       B  \n",
       "4 2019-08-02       3488       B  "
      ]
     },
     "metadata": {},
     "output_type": "display_data"
    },
    {
     "name": "stdout",
     "output_type": "stream",
     "text": [
      "Пересекающихся пользователей: 58\n"
     ]
    }
   ],
   "source": [
    "Ausers = orders[orders['group']=='A'] \n",
    "Busers = orders[orders['group']=='B'] \n",
    "ABusers = Ausers.merge(Busers, left_on=['userId'], right_on=['userId'])\n",
    "ABusersID = ABusers['userId'].drop_duplicates().sort_values()\n",
    "display(ABusers.head(5)) \n",
    "print('Пересекающихся пользователей:', ABusersID.shape[0])   "
   ]
  },
  {
   "cell_type": "markdown",
   "id": "4f5edaf6",
   "metadata": {},
   "source": [
    "Всего в тесте приняло участие 1031 пользователей. При этом суммарное количество уникальных пользователей групп А и В превышает общее количество пользователей принявших участие в тесте, это указывает на то, что часть пользователей пересекается. И если бы идентификаторы пользователей (userId) были в двух исходных датафреймах, их необходимо было удалить из анализа. В противном случае их следуе оставить, - как минимум результаты расчета конверсии будут верны."
   ]
  },
  {
   "cell_type": "markdown",
   "id": "51c63bcd",
   "metadata": {},
   "source": [
    "Создадим датафрейм с кумулятивными данными."
   ]
  },
  {
   "cell_type": "code",
   "execution_count": 11,
   "id": "920d4bb1",
   "metadata": {},
   "outputs": [],
   "source": [
    "# создаем массив уникальных пар значений дат и групп теста \n",
    "datesGroups = orders[['date','group']].drop_duplicates() \n",
    "\n",
    "# получаем агрегированные кумулятивные по дням данные о заказах  \n",
    "ordersAggregated = datesGroups.apply(\n",
    "    lambda x: orders[\n",
    "        np.logical_and(\n",
    "            orders['date'] <= x['date'], orders['group'] == x['group']\n",
    "        )].agg({'date' : 'max', 'group' : 'max', 'orderId' : 'nunique',\n",
    "                'userId' : 'nunique', 'revenue' : 'sum'}),\n",
    "    axis=1\n",
    ").sort_values(by=['date','group']) \n",
    "\n",
    "# получаем агрегированные кумулятивные по дням данные о посетителях интернет-магазина  \n",
    "visitorsAggregated = datesGroups.apply(\n",
    "    lambda x: visitors[\n",
    "        np.logical_and(\n",
    "            visitors['date'] <= x['date'], visitors['group'] == x['group']\n",
    "        )].agg({'date' : 'max', 'group' : 'max', 'visitors' : 'sum'}), axis=1\n",
    ").sort_values(by=['date','group']) \n",
    "\n",
    "# объединяем кумулятивные данные в одной таблице и присваиваем ее столбцам понятные названия \n",
    "cumulativeData = ordersAggregated.merge(\n",
    "    visitorsAggregated, left_on=['date', 'group'], right_on=['date', 'group']) \n",
    "\n",
    "cumulativeData.columns = ['date', 'group', 'orders', 'buyers', 'revenue', 'visitors'] \n"
   ]
  },
  {
   "cell_type": "markdown",
   "id": "e3529550",
   "metadata": {},
   "source": [
    "Построим график кумулятивной выручки по группам."
   ]
  },
  {
   "cell_type": "code",
   "execution_count": 12,
   "id": "e7e3079a",
   "metadata": {},
   "outputs": [
    {
     "data": {
      "text/plain": [
       "''"
      ]
     },
     "execution_count": 12,
     "metadata": {},
     "output_type": "execute_result"
    },
    {
     "data": {
      "image/png": "[encoded data removed]",
      "text/plain": [
       "<Figure size 1080x360 with 1 Axes>"
      ]
     },
     "metadata": {
      "needs_background": "light"
     },
     "output_type": "display_data"
    }
   ],
   "source": [
    "# датафрейм с кумулятивным количеством заказов и кумулятивной выручкой по дням в группе А \n",
    "cumulativeRevenueA = cumulativeData[cumulativeData['group']=='A'][['date','revenue', 'orders']] \n",
    "\n",
    "# датафрейм с кумулятивным количеством заказов и кумулятивной выручкой по дням в группе B \n",
    "cumulativeRevenueB = cumulativeData[cumulativeData['group']=='B'][['date','revenue', 'orders']] \n",
    "\n",
    "# задаем размер графика\n",
    "plt.figure(figsize=(15, 5))\n",
    "\n",
    "# Строим график выручки группы А \n",
    "plt.plot(cumulativeRevenueA['date'], cumulativeRevenueA['revenue'], label='A') \n",
    "\n",
    "# Строим график выручки группы B \n",
    "plt.plot(cumulativeRevenueB['date'], cumulativeRevenueB['revenue'], label='B') \n",
    "\n",
    "plt.xlabel('Дата')\n",
    "plt.ylabel('Кумулятивная выручка') \n",
    "plt.title('Кумулятивная выручка по группам') \n",
    "plt.legend()\n",
    ";"
   ]
  },
  {
   "cell_type": "markdown",
   "id": "e46a3401",
   "metadata": {},
   "source": [
    "Выручка равномерно увеличивается в течение всего теста. Хороший знак. График выручки группы В в одной точке резко растёт (создаётся впечатление что группа В значительно лучше группы А). Это может сигнализировать о всплеске числа заказов, либо о появлении очень дорогих заказов в выборке. Проверим это позже. \n",
    "\n",
    "Построим графики среднего чека по группам — разделим кумулятивную выручку на кумулятивное число заказов. "
   ]
  },
  {
   "cell_type": "code",
   "execution_count": 13,
   "id": "1009f6e1",
   "metadata": {
    "scrolled": false
   },
   "outputs": [
    {
     "data": {
      "text/plain": [
       "''"
      ]
     },
     "execution_count": 13,
     "metadata": {},
     "output_type": "execute_result"
    },
    {
     "data": {
      "image/png": "[encoded data removed]",
      "text/plain": [
       "<Figure size 1080x360 with 1 Axes>"
      ]
     },
     "metadata": {
      "needs_background": "light"
     },
     "output_type": "display_data"
    }
   ],
   "source": [
    "plt.figure(figsize=(15, 5))\n",
    "\n",
    "plt.plot(cumulativeRevenueA['date'], cumulativeRevenueA['revenue']/cumulativeRevenueA['orders'], label='A') \n",
    "plt.plot(cumulativeRevenueB['date'], cumulativeRevenueB['revenue']/cumulativeRevenueB['orders'], label='B') \n",
    "\n",
    "plt.xlabel('Дата')\n",
    "plt.ylabel('Средний чек') \n",
    "plt.title('Кумулятивный средний чек по группам') \n",
    "plt.legend()\n",
    ";"
   ]
  },
  {
   "cell_type": "markdown",
   "id": "894adf27",
   "metadata": {},
   "source": [
    "Средний чек в первой половине теста сильно колеблется и становится равномерным во второй половине теста. В середине теста средний чек группы В имеет резкий всплеск (возможно в группу B попали крупные заказы). После значительных колебаний среднего чека в первой половине теста (с общей тенденцией к росту в обеих группах) средний чек группы А сохранил рост, а в группе В наметилась тенденция по снижению среднего чека.\n",
    "\n",
    "Построим график относительного различия для среднего чека. Добавим горизонтальную ось методом axhline(): "
   ]
  },
  {
   "cell_type": "code",
   "execution_count": 14,
   "id": "4110e3c1",
   "metadata": {},
   "outputs": [
    {
     "data": {
      "text/plain": [
       "''"
      ]
     },
     "execution_count": 14,
     "metadata": {},
     "output_type": "execute_result"
    },
    {
     "data": {
      "image/png": "[encoded data removed]",
      "text/plain": [
       "<Figure size 1080x360 with 1 Axes>"
      ]
     },
     "metadata": {
      "needs_background": "light"
     },
     "output_type": "display_data"
    }
   ],
   "source": [
    "plt.figure(figsize=(15, 5))\n",
    "\n",
    "# собираем данные в одном датафрейме \n",
    "mergedCumulativeRevenue = cumulativeRevenueA.merge(\n",
    "    cumulativeRevenueB, left_on='date', right_on='date', how='left', suffixes=['A', 'B']) \n",
    " \n",
    "# cтроим отношение средних чеков \n",
    "plt.plot(mergedCumulativeRevenue['date'],\n",
    "         (mergedCumulativeRevenue['revenueB']/mergedCumulativeRevenue['ordersB'])/(mergedCumulativeRevenue['revenueA']/mergedCumulativeRevenue['ordersA'])-1) \n",
    " \n",
    "plt.xlabel('Дата')\n",
    "plt.ylabel(' ') \n",
    "plt.title('График относительного изменения кумулятивного среднего чека группы B к группе A') \n",
    "\n",
    "# добавляем ось X \n",
    "plt.axhline(y=0, color='black', linestyle='--')\n",
    ";"
   ]
  },
  {
   "cell_type": "markdown",
   "id": "a5fba163",
   "metadata": {},
   "source": [
    "В первой половине теста график различия среднего чека между сегментами резко «скачет». Вероятно это связано с наличием крупных заказы и выбросов. Вернёмся к ним позже. \n",
    "\n",
    "Проанализируем график кумулятивной конверсии. "
   ]
  },
  {
   "cell_type": "code",
   "execution_count": 15,
   "id": "1b509776",
   "metadata": {},
   "outputs": [
    {
     "data": {
      "text/plain": [
       "''"
      ]
     },
     "execution_count": 15,
     "metadata": {},
     "output_type": "execute_result"
    },
    {
     "data": {
      "image/png": "[encoded data removed]",
      "text/plain": [
       "<Figure size 1080x360 with 1 Axes>"
      ]
     },
     "metadata": {
      "needs_background": "light"
     },
     "output_type": "display_data"
    }
   ],
   "source": [
    "cumulativeData['conversion'] = cumulativeData['orders']/cumulativeData['visitors'] \n",
    " \n",
    "# отделяем данные по группе A \n",
    "cumulativeDataA = cumulativeData[cumulativeData['group']=='A'] \n",
    " \n",
    "# отделяем данные по группе B \n",
    "cumulativeDataB = cumulativeData[cumulativeData['group']=='B'] \n",
    "\n",
    "plt.figure(figsize=(15, 5))\n",
    "\n",
    "# строим графики \n",
    "plt.plot(cumulativeDataA['date'], cumulativeDataA['conversion'], label='A') \n",
    "plt.plot(cumulativeDataB['date'], cumulativeDataB['conversion'], label='B') \n",
    "\n",
    "plt.xlabel('Дата')\n",
    "plt.ylabel(' ') \n",
    "plt.title('График кумулятивной конверсии по группам') \n",
    "plt.legend()\n",
    "plt.axhline(y=0.034, color='black', linestyle='--')\n",
    "plt.axhline(y=0.03, color='black', linestyle='--')\n",
    ";"
   ]
  },
  {
   "cell_type": "markdown",
   "id": "333129bb",
   "metadata": {},
   "source": [
    "В начале теста конверсии значительно колебались около одного значения, но затем конверсия группы В вырвалась вперёд и со второй половины теста наметилась тенденция к её снижению, а конверсия группы А просела и зафиксировалась. \n",
    "\n",
    "Построим график относительного различия кумулятивных конверсий."
   ]
  },
  {
   "cell_type": "code",
   "execution_count": 16,
   "id": "3dd818e5",
   "metadata": {},
   "outputs": [
    {
     "data": {
      "text/plain": [
       "''"
      ]
     },
     "execution_count": 16,
     "metadata": {},
     "output_type": "execute_result"
    },
    {
     "data": {
      "image/png": "[encoded data removed]",
      "text/plain": [
       "<Figure size 1080x360 with 1 Axes>"
      ]
     },
     "metadata": {
      "needs_background": "light"
     },
     "output_type": "display_data"
    }
   ],
   "source": [
    "mergedCumulativeConversions = cumulativeDataA[\n",
    "    ['date','conversion']].merge(\n",
    "    cumulativeDataB[\n",
    "        ['date','conversion']], left_on='date', right_on='date', how='left', suffixes=['A', 'B']) \n",
    "\n",
    "plt.figure(figsize=(15, 5))\n",
    "\n",
    "plt.plot(mergedCumulativeConversions['date'],\n",
    "         mergedCumulativeConversions['conversionB']/mergedCumulativeConversions['conversionA']-1) \n",
    "\n",
    "plt.xlabel('Дата')\n",
    "plt.ylabel(' ') \n",
    "plt.title('График относительного изменения кумулятивной конверсии группы B к группе A') \n",
    "\n",
    "plt.axhline(y=0, color='black', linestyle='--') \n",
    "plt.axhline(y=0.15, color='grey', linestyle='--')\n",
    ";"
   ]
  },
  {
   "cell_type": "markdown",
   "id": "a220efe8",
   "metadata": {},
   "source": [
    "В начале теста группа B проигрывала группе A, затем вырвалась вперёд. Потом её конверсия снова падала, но теперь постепенно растёт. Сейчас делать какие-либо выводы по тесту рано. Возможно после анализа аномалий ситуация изменится."
   ]
  },
  {
   "cell_type": "markdown",
   "id": "4b980d4c",
   "metadata": {},
   "source": [
    "Построим точечный график количества заказов по пользователям."
   ]
  },
  {
   "cell_type": "code",
   "execution_count": 17,
   "id": "d88e676a",
   "metadata": {},
   "outputs": [
    {
     "data": {
      "image/png": "[encoded data removed]",
      "text/plain": [
       "<Figure size 432x288 with 1 Axes>"
      ]
     },
     "metadata": {
      "needs_background": "light"
     },
     "output_type": "display_data"
    }
   ],
   "source": [
    "ordersByUsers = ( \n",
    "    orders.groupby('userId', as_index=False) \n",
    "    .agg({'orderId': 'nunique'}) \n",
    ") \n",
    " \n",
    "ordersByUsers.columns = ['userId', 'orders'] \n",
    "\n",
    "\n",
    "x_values = pd.Series(range(0,len(ordersByUsers))) \n",
    " \n",
    "plt.scatter(x_values, ordersByUsers['orders']) \n",
    "\n",
    "plt.xlabel('Пользователь')\n",
    "plt.ylabel('Количество заказов') \n",
    "plt.title('Точечный график количества заказов по пользователям') ;"
   ]
  },
  {
   "cell_type": "markdown",
   "id": "6f053c34",
   "metadata": {},
   "source": [
    "Из графика видно что, много пользователей с 1-2 заказами. Их точная доля не ясна — непонятно, считать их аномалиями или нет. \n",
    "\n",
    "Посчитаем 95-й и 99-й перцентили количества заказов на одного пользователя."
   ]
  },
  {
   "cell_type": "code",
   "execution_count": 18,
   "id": "95eddafb",
   "metadata": {},
   "outputs": [
    {
     "name": "stdout",
     "output_type": "stream",
     "text": [
      "[2. 4.]\n"
     ]
    }
   ],
   "source": [
    "print(np.percentile(ordersByUsers['orders'], [95, 99]))\n"
   ]
  },
  {
   "cell_type": "markdown",
   "id": "10513f8f",
   "metadata": {},
   "source": [
    "Не более 5% пользователей оформляли больше 2 заказов. И 1% пользователей заказывали более 4 раз. \n",
    "\n",
    "Разумно выбрать 2 заказа на одного пользователя за верхнюю границу числа заказов, и отсеять 5% аномальных пользователей по ней."
   ]
  },
  {
   "cell_type": "code",
   "execution_count": 19,
   "id": "6605fac0",
   "metadata": {},
   "outputs": [],
   "source": [
    "por = np.percentile(ordersByUsers['orders'], [95])"
   ]
  },
  {
   "cell_type": "markdown",
   "id": "6f1e9950",
   "metadata": {},
   "source": [
    "Построим точечный график стоимостей заказов."
   ]
  },
  {
   "cell_type": "code",
   "execution_count": 20,
   "id": "c3ac2ab0",
   "metadata": {},
   "outputs": [
    {
     "data": {
      "image/png": "[encoded data removed]",
      "text/plain": [
       "<Figure size 432x288 with 1 Axes>"
      ]
     },
     "metadata": {
      "needs_background": "light"
     },
     "output_type": "display_data"
    }
   ],
   "source": [
    "x_values = pd.Series(range(0,len(orders['revenue']))) \n",
    "plt.scatter(x_values, orders['revenue'])\n",
    "\n",
    "plt.xlabel('Заказ')\n",
    "plt.ylabel('Стоимость заказа') \n",
    "plt.title('Точечный график стоимостей заказов') ;"
   ]
  },
  {
   "cell_type": "markdown",
   "id": "db617a03",
   "metadata": {},
   "source": [
    "График слабо информативен. Исключим самые сильные выбросы установив масштаб осей."
   ]
  },
  {
   "cell_type": "code",
   "execution_count": 21,
   "id": "eb3d11c5",
   "metadata": {},
   "outputs": [
    {
     "data": {
      "image/png": "[encoded data removed]",
      "text/plain": [
       "<Figure size 432x288 with 1 Axes>"
      ]
     },
     "metadata": {
      "needs_background": "light"
     },
     "output_type": "display_data"
    }
   ],
   "source": [
    "x_values = pd.Series(range(0,len(orders['revenue']))) \n",
    "plt.scatter(x_values, orders['revenue'])\n",
    "\n",
    "plt.axis([0, 1250, 0, 250000]) \n",
    "plt.xlabel('Заказ')\n",
    "plt.ylabel('Стоимость заказа') \n",
    "plt.title('Точечный график стоимостей заказов') ;"
   ]
  },
  {
   "cell_type": "markdown",
   "id": "6a052856",
   "metadata": {},
   "source": [
    "Как и предполагали: в данных есть аномально большие заказы. По графику видно, что свыше 50000 р. заказы единичны. Однако принято отсеивать от 1% до 5% наблюдений с крайними значениями. \n",
    "Посчитаем 95-й и 99-й перцентили стоимостей заказов."
   ]
  },
  {
   "cell_type": "code",
   "execution_count": 22,
   "id": "82e07e30",
   "metadata": {
    "scrolled": false
   },
   "outputs": [
    {
     "name": "stdout",
     "output_type": "stream",
     "text": [
      "[28000.  58233.2]\n"
     ]
    }
   ],
   "source": [
    "print(np.percentile(orders['revenue'], [95, 99]))"
   ]
  },
  {
   "cell_type": "markdown",
   "id": "cb80134c",
   "metadata": {},
   "source": [
    "Не более 5% заказов дороже 28000 рублей и не более 1% дороже 58233.2 рублей. За верхнюю гарницу примем заказ дороже 40 000 рублей. Так мы уберём от 1% до 5% пользователей с дорогими заказами."
   ]
  },
  {
   "cell_type": "markdown",
   "id": "c4a8ddca",
   "metadata": {},
   "source": [
    "Рассчитаем статистическую значимость различий в конверсии между группами по «сырым» данным. Для этого подготовим данные."
   ]
  },
  {
   "cell_type": "code",
   "execution_count": 23,
   "id": "5af4fc35",
   "metadata": {
    "scrolled": true
   },
   "outputs": [],
   "source": [
    "visitorsADaily = visitors[visitors['group'] == 'A'][['date', 'visitors']] \n",
    "visitorsADaily.columns = ['date', 'visitorsPerDateA'] \n",
    " \n",
    "visitorsACummulative = visitorsADaily.apply( \n",
    "    lambda x: visitorsADaily[visitorsADaily['date'] <= x['date']].agg( \n",
    "        {'date': 'max', 'visitorsPerDateA': 'sum'} \n",
    "    ), \n",
    "    axis=1, \n",
    ") \n",
    "visitorsACummulative.columns = ['date', 'visitorsCummulativeA'] \n",
    " \n",
    "visitorsBDaily = visitors[visitors['group'] == 'B'][['date', 'visitors']] \n",
    "visitorsBDaily.columns = ['date', 'visitorsPerDateB'] \n",
    " \n",
    "visitorsBCummulative = visitorsBDaily.apply( \n",
    "    lambda x: visitorsBDaily[visitorsBDaily['date'] <= x['date']].agg( \n",
    "        {'date': 'max', 'visitorsPerDateB': 'sum'} \n",
    "    ), \n",
    "    axis=1, \n",
    ") \n",
    "visitorsBCummulative.columns = ['date', 'visitorsCummulativeB'] \n",
    " \n",
    "ordersADaily = ( \n",
    "    orders[orders['group'] == 'A'][['date', 'orderId', 'userId', 'revenue']] \n",
    "    .groupby('date', as_index=False) \n",
    "    .agg({'orderId': pd.Series.nunique, 'revenue': 'sum'}) \n",
    ") \n",
    "ordersADaily.columns = ['date', 'ordersPerDateA', 'revenuePerDateA'] \n",
    " \n",
    "ordersACummulative = ordersADaily.apply( \n",
    "    lambda x: ordersADaily[ordersADaily['date'] <= x['date']].agg( \n",
    "        {'date': 'max', 'ordersPerDateA': 'sum', 'revenuePerDateA': 'sum'} \n",
    "    ), \n",
    "    axis=1, \n",
    ").sort_values(by=['date']) \n",
    "ordersACummulative.columns = [ \n",
    "    'date', \n",
    "    'ordersCummulativeA', \n",
    "    'revenueCummulativeA', \n",
    "] \n",
    " \n",
    "ordersBDaily = ( \n",
    "    orders[orders['group'] == 'B'][['date', 'orderId', 'userId', 'revenue']] \n",
    "    .groupby('date', as_index=False) \n",
    "    .agg({'orderId': pd.Series.nunique, 'revenue': 'sum'}) \n",
    ") \n",
    "ordersBDaily.columns = ['date', 'ordersPerDateB', 'revenuePerDateB'] \n",
    " \n",
    "ordersBCummulative = ordersBDaily.apply( \n",
    "    lambda x: ordersBDaily[ordersBDaily['date'] <= x['date']].agg( \n",
    "        {'date': 'max', 'ordersPerDateB': 'sum', 'revenuePerDateB': 'sum'} \n",
    "    ), \n",
    "    axis=1, \n",
    ").sort_values(by=['date']) \n",
    "ordersBCummulative.columns = [ \n",
    "    'date', \n",
    "    'ordersCummulativeB', \n",
    "    'revenueCummulativeB', \n",
    "] \n",
    " \n",
    "data = ( \n",
    "    ordersADaily.merge( \n",
    "        ordersBDaily, left_on='date', right_on='date', how='left' \n",
    "    ) \n",
    "    .merge(ordersACummulative, left_on='date', right_on='date', how='left') \n",
    "    .merge(ordersBCummulative, left_on='date', right_on='date', how='left') \n",
    "    .merge(visitorsADaily, left_on='date', right_on='date', how='left') \n",
    "    .merge(visitorsBDaily, left_on='date', right_on='date', how='left') \n",
    "    .merge(visitorsACummulative, left_on='date', right_on='date', how='left') \n",
    "    .merge(visitorsBCummulative, left_on='date', right_on='date', how='left') \n",
    ") \n"
   ]
  },
  {
   "cell_type": "markdown",
   "id": "3db1f6f4",
   "metadata": {},
   "source": [
    "Создадим переменные ordersByUsersA и ordersByUsersB со столбцами ['userId', 'orders']. В них для пользователей, которые заказывали хотя бы 1 раз, укажем число совершённых заказов. Объявим переменные sampleA и sampleB, в которых пользователям из разных групп будет соответствовать количество заказов. Тем, кто ничего не заказал, будут соответствовать нули. Это нужно, чтобы подготовить выборки к проверке критерием Манна-Уитни. \n",
    "\n",
    "Переменная sampleA будет состоять из двух частей: \n",
    "\n",
    "Список с количеством заказов для каждого из пользователей: ordersByUsersA['orders']. \n",
    "\n",
    "Нули для пользователей, которые ничего не заказывали. Их количество равно разнице между суммой посетителей и количеством записей о заказах: data['visitorsPerDateA'].sum() - len(ordersByUsersA['orders']).  "
   ]
  },
  {
   "cell_type": "code",
   "execution_count": 24,
   "id": "348893bd",
   "metadata": {},
   "outputs": [],
   "source": [
    "ordersByUsersA = ( \n",
    "    orders[orders['group'] == 'A'] \n",
    "    .groupby('userId', as_index=False) \n",
    "    .agg({'orderId': pd.Series.nunique}) \n",
    ") \n",
    "ordersByUsersA.columns = ['userId', 'orders'] \n",
    " \n",
    "ordersByUsersB = ( \n",
    "    orders[orders['group'] == 'B'] \n",
    "    .groupby('userId', as_index=False) \n",
    "    .agg({'orderId': pd.Series.nunique}) \n",
    ") \n",
    "ordersByUsersB.columns = ['userId', 'orders'] \n",
    " \n",
    "sampleA = pd.concat( \n",
    "    [ \n",
    "        ordersByUsersA['orders'], \n",
    "        pd.Series( \n",
    "            0, \n",
    "            index=np.arange( \n",
    "                data['visitorsPerDateA'].sum() - len(ordersByUsersA['orders']) \n",
    "            ), \n",
    "            name='orders', \n",
    "        ), \n",
    "    ], \n",
    "    axis=0, \n",
    ") \n",
    " \n",
    "sampleB = pd.concat( \n",
    "    [ \n",
    "        ordersByUsersB['orders'], \n",
    "        pd.Series( \n",
    "            0, \n",
    "            index=np.arange( \n",
    "                data['visitorsPerDateB'].sum() - len(ordersByUsersB['orders']) \n",
    "            ), \n",
    "            name='orders', \n",
    "        ), \n",
    "    ], \n",
    "    axis=0, \n",
    ") "
   ]
  },
  {
   "cell_type": "markdown",
   "id": "a2df4389",
   "metadata": {},
   "source": [
    "Рассчитаем статистическую значимость различий в конверсии между группами по «сырым» данным.\n",
    "Сформулируем гипотезы. Нулевая: различий в конверсии между группами нет. Альтернативная: различия в конверсии между группами есть. Примем уровень alpha = 5%. Применим статистический критерий Манна-Уитни к полученным выборкам: \n"
   ]
  },
  {
   "cell_type": "code",
   "execution_count": 25,
   "id": "1da0ddc0",
   "metadata": {},
   "outputs": [
    {
     "name": "stdout",
     "output_type": "stream",
     "text": [
      "P-value = 0.017\n",
      "Относительное увеличение в конверсии =  0.138\n"
     ]
    }
   ],
   "source": [
    "print('P-value =', \"{0:.3f}\".format(stats.mannwhitneyu(sampleA, sampleB)[1]))\n",
    "print('Относительное увеличение в конверсии = ', '{0:.3f}'.format(sampleB.mean()/sampleA.mean()-1))"
   ]
  },
  {
   "cell_type": "markdown",
   "id": "868cc9da",
   "metadata": {},
   "source": [
    "P-value=0,017 меньше 0.05. Значит, по сырым данным нулевую гипотезу можно было бы отвергнуть и считать,что различия в конверсии между группами есть. Относительное увеличение в конверсии почти 14%."
   ]
  },
  {
   "cell_type": "markdown",
   "id": "6c7d5b95",
   "metadata": {},
   "source": [
    "Теперь проверим статистическую значимость различий в среднем чеке между группами. Нулевая гипотеза: различий в среднем чеке между группами нет. Альтернативная гипотеза: различия в среднем чеке между группами есть. Примем уровень alpha = 5%.\n",
    "\n",
    "Чтобы рассчитать статистическую значимость различий в среднем чеке, передадим критерию mannwhitneyu() данные о выручке с заказов. Найдём также относительные различия в среднем чеке между группами: \n",
    "\n"
   ]
  },
  {
   "cell_type": "code",
   "execution_count": 26,
   "id": "1790c141",
   "metadata": {},
   "outputs": [
    {
     "name": "stdout",
     "output_type": "stream",
     "text": [
      "P-value = 0.729\n",
      "Относительное различие в среднем чеке между группами = 0.259\n"
     ]
    }
   ],
   "source": [
    "print('P-value =', '{0:.3f}'.format(stats.mannwhitneyu(orders[orders['group']=='A']['revenue'], orders[orders['group']=='B']['revenue'])[1])) \n",
    "print('Относительное различие в среднем чеке между группами =', '{0:.3f}'.format(orders[orders['group']=='B']['revenue'].mean()/orders[orders['group']=='A']['revenue'].mean()-1)) "
   ]
  },
  {
   "cell_type": "markdown",
   "id": "6e256041",
   "metadata": {},
   "source": [
    "P-value = 0.729 значительно больше 0.05. Значит, причин отвергать нулевую гипотезу и считать, что в среднем чеке есть различия, нет. При этом однако, средний чек группы B значительно больше среднего чека группы A. Возможно такое большое различие вызвано наличием аномальных значений."
   ]
  },
  {
   "cell_type": "markdown",
   "id": "c20c56da",
   "metadata": {},
   "source": [
    "Рассчитаем статистическую значимость различий в конверсии между группами по «очищенным» данным. Сформулируем гипотезы. Нулевая: различий в конверсии между группами нет. Альтернативная: различия в конверсии между группами есть. "
   ]
  },
  {
   "cell_type": "markdown",
   "id": "3fe6e7e4",
   "metadata": {},
   "source": [
    "Отметим, что расчитанные ранее 95-й и 99-й перцентили средних чеков равны 28000 и 58233.2 рублям. А 95-й и 99-й перцентили количества заказов на одного пользователя равны 2 и 4 заказа на пользователя. \n",
    "\n",
    "Примем за аномальных пользователей тех, кто совершил от 2 заказов или совершил заказ дороже 40 000 рублей. Так мы уберём 5% пользователей с наибольшим числом заказов и от 1% до 5% пользователей с дорогими заказами. Сделаем срезы пользователей с числом заказов больше 2 — usersWithManyOrders и пользователей, совершивших заказы дороже 40 000 — usersWithExpensiveOrders. Объединим их в таблице abnormalUsers. \n",
    "\n",
    "Узнаем, сколько всего аномальных пользователей атрибутом shape. "
   ]
  },
  {
   "cell_type": "code",
   "execution_count": 27,
   "id": "c80c72c5",
   "metadata": {
    "scrolled": true
   },
   "outputs": [
    {
     "data": {
      "text/plain": [
       "1099    148427295\n",
       "18      199603092\n",
       "23      237748145\n",
       "37      249864742\n",
       "684     358944393\n",
       "Name: userId, dtype: int64"
      ]
     },
     "metadata": {},
     "output_type": "display_data"
    },
    {
     "name": "stdout",
     "output_type": "stream",
     "text": [
      "Аномальных пользователей: 45\n"
     ]
    }
   ],
   "source": [
    "usersWithManyOrders = pd.concat( \n",
    "    [ \n",
    "        ordersByUsersA[ordersByUsersA['orders'] > por[0]]['userId'], \n",
    "        ordersByUsersB[ordersByUsersB['orders'] > por[0]]['userId'], \n",
    "    ], \n",
    "    axis=0, \n",
    ") \n",
    "usersWithExpensiveOrders = orders[orders['revenue'] > 40000]['userId'] \n",
    "abnormalUsers = ( \n",
    "    pd.concat([usersWithManyOrders, usersWithExpensiveOrders], axis=0) \n",
    "    .drop_duplicates() \n",
    "    .sort_values() \n",
    ") \n",
    "\n",
    "display(abnormalUsers.head(5)) \n",
    "\n",
    "print('Аномальных пользователей:', abnormalUsers.shape[0])   "
   ]
  },
  {
   "cell_type": "markdown",
   "id": "d5691468",
   "metadata": {},
   "source": [
    "Всего 45 аномальных пользователей. \n",
    "\n",
    "Узнаем, как их действия повлияли на результаты теста. Подготовим выборки количества заказов по пользователям по группам теста. Посчитаем статистическую значимость различий в конверсии между группами теста по очищенным данным. "
   ]
  },
  {
   "cell_type": "code",
   "execution_count": 28,
   "id": "9d28e5ab",
   "metadata": {
    "scrolled": false
   },
   "outputs": [
    {
     "name": "stdout",
     "output_type": "stream",
     "text": [
      "P-value = 0.007\n",
      "Относительное увеличение конверсии = 0.188\n"
     ]
    }
   ],
   "source": [
    "sampleAFiltered = pd.concat( \n",
    "    [ \n",
    "        ordersByUsersA[ \n",
    "            np.logical_not(ordersByUsersA['userId'].isin(abnormalUsers)) \n",
    "        ]['orders'], \n",
    "        pd.Series( \n",
    "            0, \n",
    "            index=np.arange( \n",
    "                data['visitorsPerDateA'].sum() - len(ordersByUsersA['orders']) \n",
    "            ), \n",
    "            name='orders', \n",
    "        ), \n",
    "    ], \n",
    "    axis=0, \n",
    ") \n",
    " \n",
    "sampleBFiltered = pd.concat( \n",
    "    [ \n",
    "        ordersByUsersB[ \n",
    "            np.logical_not(ordersByUsersB['userId'].isin(abnormalUsers)) \n",
    "        ]['orders'], \n",
    "        pd.Series( \n",
    "            0, \n",
    "            index=np.arange( \n",
    "                data['visitorsPerDateB'].sum() - len(ordersByUsersB['orders']) \n",
    "            ), \n",
    "            name='orders', \n",
    "        ), \n",
    "    ], \n",
    "    axis=0, \n",
    ")\n",
    "\n",
    "print('P-value =', '{0:.3f}'.format(stats.mannwhitneyu(sampleAFiltered, sampleBFiltered)[1]))\n",
    "print('Относительное увеличение конверсии =', '{0:.3f}'.format(sampleBFiltered.mean()/sampleAFiltered.mean()-1))\n"
   ]
  },
  {
   "cell_type": "markdown",
   "id": "0d721183",
   "metadata": {},
   "source": [
    "После удаления аномальных значений P-value=0,007 - значительно меньше 0.05. Значит можно отвергнуть нулевую гипотезу и считать, что в конверсии есть различия. Относительное увеличение конверсии почти 19%."
   ]
  },
  {
   "cell_type": "markdown",
   "id": "171b5249",
   "metadata": {},
   "source": [
    "Рассчитаем статистическую значимость различий в среднем чеке заказа между группами по «очищенным» данным."
   ]
  },
  {
   "cell_type": "code",
   "execution_count": 29,
   "id": "930e2f00",
   "metadata": {
    "scrolled": true
   },
   "outputs": [
    {
     "name": "stdout",
     "output_type": "stream",
     "text": [
      "P-value = 0.944\n",
      "Относительное изменение среднего чека = 0.058\n"
     ]
    }
   ],
   "source": [
    "usersWithManyOrders = pd.concat( \n",
    "\n",
    "    [ \n",
    "\n",
    "        ordersByUsersA[ordersByUsersA['orders'] > por[0]]['userId'], \n",
    "\n",
    "        ordersByUsersB[ordersByUsersB['orders'] > por[0]]['userId'], \n",
    "\n",
    "    ], \n",
    "\n",
    "    axis=0, \n",
    "\n",
    ") \n",
    "\n",
    "usersWithExpensiveOrders = orders[orders['revenue'] > 40000]['userId'] \n",
    "\n",
    "abnormalUsers = ( \n",
    "\n",
    "    pd.concat([usersWithManyOrders, usersWithExpensiveOrders], axis=0) \n",
    "\n",
    "    .drop_duplicates() \n",
    "\n",
    "    .sort_values() \n",
    "\n",
    ") \n",
    "\n",
    "  \n",
    "print('P-value =', '{0:.3f}'.format( \n",
    "\n",
    "        stats.mannwhitneyu( \n",
    "\n",
    "            orders[ \n",
    "\n",
    "                np.logical_and( \n",
    "\n",
    "                    orders['group'] == 'A', \n",
    "\n",
    "                    np.logical_not(orders['userId'].isin(abnormalUsers)), \n",
    "\n",
    "                ) \n",
    "\n",
    "            ]['revenue'], \n",
    "\n",
    "            orders[ \n",
    "\n",
    "                np.logical_and( \n",
    "\n",
    "                    orders['group'] == 'B', \n",
    "\n",
    "                    np.logical_not(orders['userId'].isin(abnormalUsers)), \n",
    "\n",
    "                ) \n",
    "\n",
    "            ]['revenue'], \n",
    "\n",
    "        )[1] \n",
    "\n",
    "    ) \n",
    "\n",
    ") \n",
    "\n",
    "  \n",
    "\n",
    "print('Относительное изменение среднего чека =', \"{0:.3f}\".format( \n",
    "\n",
    "        orders[ \n",
    "\n",
    "            np.logical_and( \n",
    "\n",
    "                orders['group'] == 'B', \n",
    "\n",
    "                np.logical_not(orders['userId'].isin(abnormalUsers)), \n",
    "\n",
    "            ) \n",
    "\n",
    "        ]['revenue'].mean() \n",
    "\n",
    "        / orders[ \n",
    "\n",
    "            np.logical_and( \n",
    "\n",
    "                orders['group'] == 'A', \n",
    "\n",
    "                np.logical_not(orders['userId'].isin(abnormalUsers)), \n",
    "\n",
    "            ) \n",
    "\n",
    "        ]['revenue'].mean() \n",
    "\n",
    "        - 1 \n",
    "\n",
    "    ) \n",
    "\n",
    ")  "
   ]
  },
  {
   "cell_type": "markdown",
   "id": "e1ce79c5",
   "metadata": {},
   "source": [
    "После устранения аномалий P-value стал еще больше. Значит, причин отвергать нулевую гипотезу и считать, что в среднем чеке есть различия, нет. При этом также, после устранения аномалий, различие среднего чека между группами уменьшилось почти в 5 раз (а при фильтрации 5% данных (средний чек не более 28000) группа А даже несколько опережает группу В)."
   ]
  },
  {
   "cell_type": "markdown",
   "id": "08c803fe",
   "metadata": {},
   "source": [
    "# Заключение <a id='6'></a>"
   ]
  },
  {
   "cell_type": "markdown",
   "id": "e7ee0c8d",
   "metadata": {},
   "source": [
    "Часть 1. Приоритизация гипотез.\n",
    "\n",
    "Применение фреймворка RICE вывело на первые позиции гипотезы по номерами 7, 2 вместо гипотез 8, 0 для фреймворка ICE. Это произошло из-за большего охвата пользователей которых затрагивает изменение (для гипотез 7, 2 Reach равен 10 и 8 против 3 и 1).\n",
    "\n",
    "Часть 2. Анализ A/B-теста\n",
    "\n",
    "Имеющиеся факты: \n",
    "\n",
    "Есть статистически значимое различие по конверсии между группами как по «сырым», так и по данным после фильтрации аномалий; \n",
    "\n",
    "Нет статистически значимого различия по среднему чеку между группами ни по «сырым», ни по данным после фильтрации аномалий; \n",
    "\n",
    "График различия конверсии между группами сообщает, что результаты группы B лучше группы A, относительное изменение почти 19%.\n",
    "\n",
    "**Исходя из обнаруженных фактов, тест следует остановить и зафиксировать победу группы В. Предложенные изменения для группы B оправдали себя и способствовали увеличению конверсии.** \n"
   ]
  }
 ],
 "metadata": {
  "ExecuteTimeLog": [
   {
    "duration": 1018,
    "start_time": "2022-04-27T09:46:31.983Z"
   },
   {
    "duration": 26,
    "start_time": "2022-04-27T09:46:33.004Z"
   },
   {
    "duration": 29,
    "start_time": "2022-04-27T09:46:33.032Z"
   },
   {
    "duration": 9,
    "start_time": "2022-04-27T09:46:33.062Z"
   },
   {
    "duration": 3,
    "start_time": "2022-04-27T09:46:33.074Z"
   },
   {
    "duration": 32,
    "start_time": "2022-04-27T09:46:33.079Z"
   },
   {
    "duration": 40,
    "start_time": "2022-04-27T09:46:33.113Z"
   },
   {
    "duration": 18,
    "start_time": "2022-04-27T09:46:33.154Z"
   },
   {
    "duration": 66,
    "start_time": "2022-04-27T09:46:33.174Z"
   },
   {
    "duration": 7,
    "start_time": "2022-04-27T09:46:33.241Z"
   },
   {
    "duration": 6,
    "start_time": "2022-04-27T09:46:33.250Z"
   },
   {
    "duration": 12,
    "start_time": "2022-04-27T09:46:33.257Z"
   },
   {
    "duration": 13,
    "start_time": "2022-04-27T09:46:33.271Z"
   },
   {
    "duration": 50,
    "start_time": "2022-04-27T09:46:33.287Z"
   },
   {
    "duration": 33,
    "start_time": "2022-04-27T09:46:33.341Z"
   },
   {
    "duration": 30,
    "start_time": "2022-04-27T09:46:33.375Z"
   },
   {
    "duration": 26,
    "start_time": "2022-04-27T09:46:33.411Z"
   },
   {
    "duration": 41,
    "start_time": "2022-04-27T09:46:33.438Z"
   },
   {
    "duration": 46,
    "start_time": "2022-04-27T09:46:33.481Z"
   },
   {
    "duration": 36,
    "start_time": "2022-04-27T09:46:33.528Z"
   },
   {
    "duration": 10,
    "start_time": "2022-04-27T09:46:33.565Z"
   },
   {
    "duration": 32,
    "start_time": "2022-04-27T09:46:33.577Z"
   },
   {
    "duration": 40,
    "start_time": "2022-04-27T09:46:33.611Z"
   },
   {
    "duration": 23,
    "start_time": "2022-04-27T09:48:41.522Z"
   },
   {
    "duration": 12,
    "start_time": "2022-04-27T09:48:44.941Z"
   },
   {
    "duration": 12,
    "start_time": "2022-04-27T09:48:48.047Z"
   },
   {
    "duration": 13,
    "start_time": "2022-04-27T09:48:50.860Z"
   },
   {
    "duration": 12,
    "start_time": "2022-04-27T09:48:53.840Z"
   },
   {
    "duration": 12,
    "start_time": "2022-04-27T09:49:00.968Z"
   },
   {
    "duration": 32,
    "start_time": "2022-04-27T09:49:10.755Z"
   },
   {
    "duration": 28,
    "start_time": "2022-04-27T09:49:17.526Z"
   },
   {
    "duration": 27,
    "start_time": "2022-04-27T09:49:25.487Z"
   },
   {
    "duration": 24,
    "start_time": "2022-04-27T09:50:44.052Z"
   },
   {
    "duration": 20,
    "start_time": "2022-04-27T09:50:53.577Z"
   },
   {
    "duration": 247,
    "start_time": "2022-04-27T10:06:11.587Z"
   },
   {
    "duration": 623,
    "start_time": "2022-05-02T08:06:48.242Z"
   },
   {
    "duration": 29,
    "start_time": "2022-05-02T08:06:48.867Z"
   },
   {
    "duration": 17,
    "start_time": "2022-05-02T08:06:48.907Z"
   },
   {
    "duration": 8,
    "start_time": "2022-05-02T08:06:48.926Z"
   },
   {
    "duration": 4,
    "start_time": "2022-05-02T08:06:48.935Z"
   },
   {
    "duration": 16,
    "start_time": "2022-05-02T08:06:48.941Z"
   },
   {
    "duration": 58,
    "start_time": "2022-05-02T08:06:48.958Z"
   },
   {
    "duration": 19,
    "start_time": "2022-05-02T08:06:49.018Z"
   },
   {
    "duration": 35,
    "start_time": "2022-05-02T08:06:49.038Z"
   },
   {
    "duration": 5,
    "start_time": "2022-05-02T08:06:49.076Z"
   },
   {
    "duration": 19,
    "start_time": "2022-05-02T08:06:49.108Z"
   },
   {
    "duration": 4,
    "start_time": "2022-05-02T08:06:49.128Z"
   },
   {
    "duration": 11,
    "start_time": "2022-05-02T08:06:49.133Z"
   },
   {
    "duration": 14,
    "start_time": "2022-05-02T08:06:49.145Z"
   },
   {
    "duration": 15,
    "start_time": "2022-05-02T08:06:49.161Z"
   },
   {
    "duration": 20,
    "start_time": "2022-05-02T08:06:49.207Z"
   },
   {
    "duration": 31,
    "start_time": "2022-05-02T08:06:49.228Z"
   },
   {
    "duration": 48,
    "start_time": "2022-05-02T08:06:49.261Z"
   },
   {
    "duration": 36,
    "start_time": "2022-05-02T08:06:49.310Z"
   },
   {
    "duration": 20,
    "start_time": "2022-05-02T08:06:49.348Z"
   },
   {
    "duration": 54,
    "start_time": "2022-05-02T08:06:49.370Z"
   },
   {
    "duration": 11,
    "start_time": "2022-05-02T08:06:49.426Z"
   },
   {
    "duration": 21,
    "start_time": "2022-05-02T08:06:49.439Z"
   },
   {
    "duration": 61,
    "start_time": "2022-05-02T08:06:49.462Z"
   },
   {
    "duration": 3,
    "start_time": "2022-05-02T08:09:15.248Z"
   },
   {
    "duration": 4,
    "start_time": "2022-05-02T08:09:17.234Z"
   },
   {
    "duration": 69,
    "start_time": "2022-05-02T08:09:19.165Z"
   },
   {
    "duration": 22,
    "start_time": "2022-05-02T08:09:20.696Z"
   },
   {
    "duration": 6,
    "start_time": "2022-05-02T08:09:25.220Z"
   },
   {
    "duration": 10,
    "start_time": "2022-05-02T08:09:29.723Z"
   },
   {
    "duration": 59,
    "start_time": "2022-05-02T08:10:22.878Z"
   },
   {
    "duration": 58,
    "start_time": "2022-05-02T08:13:20.115Z"
   },
   {
    "duration": 1308,
    "start_time": "2022-05-25T07:33:00.322Z"
   },
   {
    "duration": 0,
    "start_time": "2022-05-25T07:33:01.633Z"
   },
   {
    "duration": 0,
    "start_time": "2022-05-25T07:33:01.634Z"
   },
   {
    "duration": 0,
    "start_time": "2022-05-25T07:33:01.638Z"
   },
   {
    "duration": 0,
    "start_time": "2022-05-25T07:33:01.639Z"
   },
   {
    "duration": 0,
    "start_time": "2022-05-25T07:33:01.639Z"
   },
   {
    "duration": 0,
    "start_time": "2022-05-25T07:33:01.640Z"
   },
   {
    "duration": 0,
    "start_time": "2022-05-25T07:33:01.641Z"
   },
   {
    "duration": 0,
    "start_time": "2022-05-25T07:33:01.642Z"
   },
   {
    "duration": 0,
    "start_time": "2022-05-25T07:33:01.644Z"
   },
   {
    "duration": 0,
    "start_time": "2022-05-25T07:33:01.645Z"
   },
   {
    "duration": 0,
    "start_time": "2022-05-25T07:33:01.646Z"
   },
   {
    "duration": 0,
    "start_time": "2022-05-25T07:33:01.647Z"
   },
   {
    "duration": 0,
    "start_time": "2022-05-25T07:33:01.648Z"
   },
   {
    "duration": 0,
    "start_time": "2022-05-25T07:33:01.648Z"
   },
   {
    "duration": 0,
    "start_time": "2022-05-25T07:33:01.649Z"
   },
   {
    "duration": 0,
    "start_time": "2022-05-25T07:33:01.650Z"
   },
   {
    "duration": 0,
    "start_time": "2022-05-25T07:33:01.652Z"
   },
   {
    "duration": 0,
    "start_time": "2022-05-25T07:33:01.653Z"
   },
   {
    "duration": 0,
    "start_time": "2022-05-25T07:33:01.654Z"
   },
   {
    "duration": 0,
    "start_time": "2022-05-25T07:33:01.655Z"
   },
   {
    "duration": 0,
    "start_time": "2022-05-25T07:33:01.656Z"
   },
   {
    "duration": 0,
    "start_time": "2022-05-25T07:33:01.657Z"
   },
   {
    "duration": 1,
    "start_time": "2022-05-25T07:33:01.657Z"
   },
   {
    "duration": 0,
    "start_time": "2022-05-25T07:33:01.659Z"
   },
   {
    "duration": 0,
    "start_time": "2022-05-25T07:33:01.660Z"
   },
   {
    "duration": 204,
    "start_time": "2022-05-25T07:33:31.470Z"
   },
   {
    "duration": 509,
    "start_time": "2022-05-25T07:34:09.638Z"
   },
   {
    "duration": 1612,
    "start_time": "2022-05-25T07:36:06.090Z"
   },
   {
    "duration": 3,
    "start_time": "2022-05-25T07:36:07.704Z"
   },
   {
    "duration": 42,
    "start_time": "2022-05-25T07:36:07.708Z"
   },
   {
    "duration": 378,
    "start_time": "2022-05-25T07:36:07.753Z"
   },
   {
    "duration": 207,
    "start_time": "2022-05-25T07:36:08.136Z"
   },
   {
    "duration": 168,
    "start_time": "2022-05-25T07:36:08.347Z"
   },
   {
    "duration": 144,
    "start_time": "2022-05-25T07:36:08.517Z"
   },
   {
    "duration": 144,
    "start_time": "2022-05-25T07:36:08.662Z"
   },
   {
    "duration": 27,
    "start_time": "2022-05-25T07:36:08.808Z"
   },
   {
    "duration": 27,
    "start_time": "2022-05-25T07:36:08.837Z"
   },
   {
    "duration": 18,
    "start_time": "2022-05-25T07:36:08.866Z"
   },
   {
    "duration": 6,
    "start_time": "2022-05-25T07:36:08.886Z"
   },
   {
    "duration": 4,
    "start_time": "2022-05-25T07:36:08.893Z"
   },
   {
    "duration": 32,
    "start_time": "2022-05-25T07:36:08.934Z"
   },
   {
    "duration": 8,
    "start_time": "2022-05-25T07:36:08.968Z"
   },
   {
    "duration": 8,
    "start_time": "2022-05-25T07:36:08.978Z"
   },
   {
    "duration": 42,
    "start_time": "2022-05-25T07:36:08.987Z"
   },
   {
    "duration": 61,
    "start_time": "2022-05-25T07:36:09.031Z"
   },
   {
    "duration": 70,
    "start_time": "2022-05-25T07:36:09.094Z"
   },
   {
    "duration": 71,
    "start_time": "2022-05-25T07:36:09.166Z"
   },
   {
    "duration": 29,
    "start_time": "2022-05-25T07:36:09.239Z"
   },
   {
    "duration": 25,
    "start_time": "2022-05-25T07:36:09.270Z"
   },
   {
    "duration": 238,
    "start_time": "2022-05-25T07:36:09.297Z"
   },
   {
    "duration": 234,
    "start_time": "2022-05-25T07:36:09.537Z"
   },
   {
    "duration": 5,
    "start_time": "2022-05-25T07:36:09.772Z"
   },
   {
    "duration": 20,
    "start_time": "2022-05-25T07:36:09.778Z"
   },
   {
    "duration": 11,
    "start_time": "2022-05-25T07:36:09.799Z"
   },
   {
    "duration": 13,
    "start_time": "2022-05-25T07:36:30.846Z"
   },
   {
    "duration": 40,
    "start_time": "2022-05-25T07:36:50.399Z"
   },
   {
    "duration": 43,
    "start_time": "2022-05-25T07:37:34.811Z"
   },
   {
    "duration": 141,
    "start_time": "2022-05-25T07:41:23.990Z"
   },
   {
    "duration": 54,
    "start_time": "2022-05-25T07:41:47.441Z"
   },
   {
    "duration": 1203,
    "start_time": "2022-08-28T10:07:52.986Z"
   },
   {
    "duration": 210,
    "start_time": "2022-08-28T10:07:54.191Z"
   },
   {
    "duration": 10,
    "start_time": "2022-08-28T10:07:54.403Z"
   },
   {
    "duration": 10,
    "start_time": "2022-08-28T10:07:54.415Z"
   },
   {
    "duration": 13,
    "start_time": "2022-08-28T10:07:54.426Z"
   },
   {
    "duration": 4,
    "start_time": "2022-08-28T10:07:54.440Z"
   },
   {
    "duration": 24,
    "start_time": "2022-08-28T10:07:54.446Z"
   },
   {
    "duration": 284,
    "start_time": "2022-08-28T10:07:54.472Z"
   },
   {
    "duration": 304,
    "start_time": "2022-08-28T10:07:54.758Z"
   },
   {
    "duration": 221,
    "start_time": "2022-08-28T10:07:55.064Z"
   },
   {
    "duration": 363,
    "start_time": "2022-08-28T10:07:55.287Z"
   },
   {
    "duration": 339,
    "start_time": "2022-08-28T10:07:55.652Z"
   },
   {
    "duration": 317,
    "start_time": "2022-08-28T10:07:55.993Z"
   },
   {
    "duration": 137,
    "start_time": "2022-08-28T10:07:56.312Z"
   },
   {
    "duration": 5,
    "start_time": "2022-08-28T10:07:56.450Z"
   },
   {
    "duration": 140,
    "start_time": "2022-08-28T10:07:56.457Z"
   },
   {
    "duration": 4,
    "start_time": "2022-08-28T10:07:56.598Z"
   },
   {
    "duration": 219,
    "start_time": "2022-08-28T10:07:56.604Z"
   },
   {
    "duration": 132,
    "start_time": "2022-08-28T10:07:56.824Z"
   },
   {
    "duration": 22,
    "start_time": "2022-08-28T10:07:56.957Z"
   },
   {
    "duration": 9,
    "start_time": "2022-08-28T10:07:56.981Z"
   },
   {
    "duration": 8,
    "start_time": "2022-08-28T10:07:56.991Z"
   },
   {
    "duration": 51,
    "start_time": "2022-08-28T10:07:57.000Z"
   },
   {
    "duration": 17,
    "start_time": "2022-08-28T10:07:57.052Z"
   },
   {
    "duration": 1038,
    "start_time": "2022-08-28T10:14:39.728Z"
   },
   {
    "duration": 81,
    "start_time": "2022-08-28T10:14:40.768Z"
   },
   {
    "duration": 9,
    "start_time": "2022-08-28T10:14:40.850Z"
   },
   {
    "duration": 8,
    "start_time": "2022-08-28T10:14:40.861Z"
   },
   {
    "duration": 11,
    "start_time": "2022-08-28T10:14:40.871Z"
   },
   {
    "duration": 6,
    "start_time": "2022-08-28T10:14:40.884Z"
   },
   {
    "duration": 16,
    "start_time": "2022-08-28T10:14:40.891Z"
   },
   {
    "duration": 275,
    "start_time": "2022-08-28T10:14:40.908Z"
   },
   {
    "duration": 284,
    "start_time": "2022-08-28T10:14:41.184Z"
   },
   {
    "duration": 216,
    "start_time": "2022-08-28T10:14:41.470Z"
   },
   {
    "duration": 296,
    "start_time": "2022-08-28T10:14:41.688Z"
   },
   {
    "duration": 311,
    "start_time": "2022-08-28T10:14:41.986Z"
   },
   {
    "duration": 295,
    "start_time": "2022-08-28T10:14:42.298Z"
   },
   {
    "duration": 144,
    "start_time": "2022-08-28T10:14:42.596Z"
   },
   {
    "duration": 5,
    "start_time": "2022-08-28T10:14:42.741Z"
   },
   {
    "duration": 145,
    "start_time": "2022-08-28T10:14:42.747Z"
   },
   {
    "duration": 5,
    "start_time": "2022-08-28T10:14:42.893Z"
   },
   {
    "duration": 220,
    "start_time": "2022-08-28T10:14:42.899Z"
   },
   {
    "duration": 137,
    "start_time": "2022-08-28T10:14:43.121Z"
   },
   {
    "duration": 23,
    "start_time": "2022-08-28T10:14:43.260Z"
   },
   {
    "duration": 10,
    "start_time": "2022-08-28T10:14:43.284Z"
   },
   {
    "duration": 8,
    "start_time": "2022-08-28T10:14:43.296Z"
   },
   {
    "duration": 56,
    "start_time": "2022-08-28T10:14:43.306Z"
   },
   {
    "duration": 17,
    "start_time": "2022-08-28T10:14:43.364Z"
   },
   {
    "duration": 1281,
    "start_time": "2022-09-06T11:01:18.484Z"
   },
   {
    "duration": 243,
    "start_time": "2022-09-06T11:01:19.768Z"
   },
   {
    "duration": 16,
    "start_time": "2022-09-06T11:01:20.017Z"
   },
   {
    "duration": 17,
    "start_time": "2022-09-06T11:01:20.036Z"
   },
   {
    "duration": 62,
    "start_time": "2022-09-06T11:01:20.055Z"
   },
   {
    "duration": 5,
    "start_time": "2022-09-06T11:01:20.120Z"
   },
   {
    "duration": 35,
    "start_time": "2022-09-06T11:01:20.127Z"
   },
   {
    "duration": 15,
    "start_time": "2022-09-06T11:01:20.164Z"
   },
   {
    "duration": 11,
    "start_time": "2022-09-06T11:01:20.182Z"
   },
   {
    "duration": 41,
    "start_time": "2022-09-06T11:01:20.205Z"
   },
   {
    "duration": 323,
    "start_time": "2022-09-06T11:01:20.248Z"
   },
   {
    "duration": 405,
    "start_time": "2022-09-06T11:01:20.573Z"
   },
   {
    "duration": 252,
    "start_time": "2022-09-06T11:01:20.980Z"
   },
   {
    "duration": 370,
    "start_time": "2022-09-06T11:01:21.234Z"
   },
   {
    "duration": 386,
    "start_time": "2022-09-06T11:01:21.608Z"
   },
   {
    "duration": 438,
    "start_time": "2022-09-06T11:01:22.002Z"
   },
   {
    "duration": 210,
    "start_time": "2022-09-06T11:01:22.443Z"
   },
   {
    "duration": 4,
    "start_time": "2022-09-06T11:01:22.655Z"
   },
   {
    "duration": 14,
    "start_time": "2022-09-06T11:01:22.661Z"
   },
   {
    "duration": 171,
    "start_time": "2022-09-06T11:01:22.677Z"
   },
   {
    "duration": 173,
    "start_time": "2022-09-06T11:01:22.850Z"
   },
   {
    "duration": 6,
    "start_time": "2022-09-06T11:01:23.025Z"
   },
   {
    "duration": 360,
    "start_time": "2022-09-06T11:01:23.033Z"
   },
   {
    "duration": 160,
    "start_time": "2022-09-06T11:01:23.395Z"
   },
   {
    "duration": 23,
    "start_time": "2022-09-06T11:01:23.557Z"
   },
   {
    "duration": 39,
    "start_time": "2022-09-06T11:01:23.582Z"
   },
   {
    "duration": 25,
    "start_time": "2022-09-06T11:01:23.623Z"
   },
   {
    "duration": 29,
    "start_time": "2022-09-06T11:01:23.651Z"
   },
   {
    "duration": 35,
    "start_time": "2022-09-06T11:01:23.682Z"
   }
  ],
  "kernelspec": {
   "display_name": "Python 3 (ipykernel)",
   "language": "python",
   "name": "python3"
  },
  "language_info": {
   "codemirror_mode": {
    "name": "ipython",
    "version": 3
   },
   "file_extension": ".py",
   "mimetype": "text/x-python",
   "name": "python",
   "nbconvert_exporter": "python",
   "pygments_lexer": "ipython3",
   "version": "3.9.12"
  },
  "toc": {
   "base_numbering": 1,
   "nav_menu": {},
   "number_sections": true,
   "sideBar": true,
   "skip_h1_title": true,
   "title_cell": "Table of Contents",
   "title_sidebar": "Contents",
   "toc_cell": false,
   "toc_position": {},
   "toc_section_display": true,
   "toc_window_display": false
  }
 },
 "nbformat": 4,
 "nbformat_minor": 5
}
