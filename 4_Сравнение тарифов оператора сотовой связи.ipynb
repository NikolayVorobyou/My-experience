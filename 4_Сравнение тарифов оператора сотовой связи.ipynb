{
 "cells": [
  {
   "cell_type": "markdown",
   "id": "8d510ad1",
   "metadata": {},
   "source": [
    "# Сравнение тарифов оператора сотовой связи"
   ]
  },
  {
   "cell_type": "markdown",
   "id": "e793bb6e",
   "metadata": {},
   "source": [
    "# Содержание\n",
    "\n",
    "- [Описание проекта](#1)\n",
    "- [Общая информация о данных](#2)\n",
    "- [Подготовка данных](#3)\n",
    "- [Анализ данных](#4)\n",
    "- [Проверка гипотез](#5)\n",
    "- [Заключение](#6)"
   ]
  },
  {
   "cell_type": "markdown",
   "id": "1cb00a16",
   "metadata": {},
   "source": [
    "# Описание проекта <a id='1'></a>\n",
    "\n",
    "**Цель: Установить, какой тариф приносит больше денег.**\n",
    "\n",
    "На основе данных о 500 пользователях оператора сотовой связи определить какой тариф приносит больше денег.\n"
   ]
  },
  {
   "cell_type": "markdown",
   "id": "abdd58f7",
   "metadata": {},
   "source": [
    "# Общая информация о данных <a id='2'></a>"
   ]
  },
  {
   "cell_type": "code",
   "execution_count": 2,
   "id": "c18b32a0",
   "metadata": {
    "scrolled": false
   },
   "outputs": [
    {
     "name": "stdout",
     "output_type": "stream",
     "text": [
      "<class 'pandas.core.frame.DataFrame'>\n",
      "RangeIndex: 202607 entries, 0 to 202606\n",
      "Data columns (total 4 columns):\n",
      " #   Column     Non-Null Count   Dtype  \n",
      "---  ------     --------------   -----  \n",
      " 0   id         202607 non-null  object \n",
      " 1   call_date  202607 non-null  object \n",
      " 2   duration   202607 non-null  float64\n",
      " 3   user_id    202607 non-null  int64  \n",
      "dtypes: float64(1), int64(1), object(2)\n",
      "memory usage: 6.2+ MB\n"
     ]
    },
    {
     "data": {
      "text/html": [
       "<div>\n",
       "<style scoped>\n",
       "    .dataframe tbody tr th:only-of-type {\n",
       "        vertical-align: middle;\n",
       "    }\n",
       "\n",
       "    .dataframe tbody tr th {\n",
       "        vertical-align: top;\n",
       "    }\n",
       "\n",
       "    .dataframe thead th {\n",
       "        text-align: right;\n",
       "    }\n",
       "</style>\n",
       "<table border=\"1\" class=\"dataframe\">\n",
       "  <thead>\n",
       "    <tr style=\"text-align: right;\">\n",
       "      <th></th>\n",
       "      <th>id</th>\n",
       "      <th>call_date</th>\n",
       "      <th>duration</th>\n",
       "      <th>user_id</th>\n",
       "    </tr>\n",
       "  </thead>\n",
       "  <tbody>\n",
       "    <tr>\n",
       "      <th>0</th>\n",
       "      <td>1000_0</td>\n",
       "      <td>2018-07-25</td>\n",
       "      <td>0.00</td>\n",
       "      <td>1000</td>\n",
       "    </tr>\n",
       "    <tr>\n",
       "      <th>1</th>\n",
       "      <td>1000_1</td>\n",
       "      <td>2018-08-17</td>\n",
       "      <td>0.00</td>\n",
       "      <td>1000</td>\n",
       "    </tr>\n",
       "    <tr>\n",
       "      <th>2</th>\n",
       "      <td>1000_2</td>\n",
       "      <td>2018-06-11</td>\n",
       "      <td>2.85</td>\n",
       "      <td>1000</td>\n",
       "    </tr>\n",
       "    <tr>\n",
       "      <th>3</th>\n",
       "      <td>1000_3</td>\n",
       "      <td>2018-09-21</td>\n",
       "      <td>13.80</td>\n",
       "      <td>1000</td>\n",
       "    </tr>\n",
       "    <tr>\n",
       "      <th>4</th>\n",
       "      <td>1000_4</td>\n",
       "      <td>2018-12-15</td>\n",
       "      <td>5.18</td>\n",
       "      <td>1000</td>\n",
       "    </tr>\n",
       "  </tbody>\n",
       "</table>\n",
       "</div>"
      ],
      "text/plain": [
       "       id   call_date  duration  user_id\n",
       "0  1000_0  2018-07-25      0.00     1000\n",
       "1  1000_1  2018-08-17      0.00     1000\n",
       "2  1000_2  2018-06-11      2.85     1000\n",
       "3  1000_3  2018-09-21     13.80     1000\n",
       "4  1000_4  2018-12-15      5.18     1000"
      ]
     },
     "metadata": {},
     "output_type": "display_data"
    },
    {
     "name": "stdout",
     "output_type": "stream",
     "text": [
      "<class 'pandas.core.frame.DataFrame'>\n",
      "RangeIndex: 149396 entries, 0 to 149395\n",
      "Data columns (total 5 columns):\n",
      " #   Column        Non-Null Count   Dtype  \n",
      "---  ------        --------------   -----  \n",
      " 0   Unnamed: 0    149396 non-null  int64  \n",
      " 1   id            149396 non-null  object \n",
      " 2   mb_used       149396 non-null  float64\n",
      " 3   session_date  149396 non-null  object \n",
      " 4   user_id       149396 non-null  int64  \n",
      "dtypes: float64(1), int64(2), object(2)\n",
      "memory usage: 5.7+ MB\n"
     ]
    },
    {
     "data": {
      "text/html": [
       "<div>\n",
       "<style scoped>\n",
       "    .dataframe tbody tr th:only-of-type {\n",
       "        vertical-align: middle;\n",
       "    }\n",
       "\n",
       "    .dataframe tbody tr th {\n",
       "        vertical-align: top;\n",
       "    }\n",
       "\n",
       "    .dataframe thead th {\n",
       "        text-align: right;\n",
       "    }\n",
       "</style>\n",
       "<table border=\"1\" class=\"dataframe\">\n",
       "  <thead>\n",
       "    <tr style=\"text-align: right;\">\n",
       "      <th></th>\n",
       "      <th>Unnamed: 0</th>\n",
       "      <th>id</th>\n",
       "      <th>mb_used</th>\n",
       "      <th>session_date</th>\n",
       "      <th>user_id</th>\n",
       "    </tr>\n",
       "  </thead>\n",
       "  <tbody>\n",
       "    <tr>\n",
       "      <th>0</th>\n",
       "      <td>0</td>\n",
       "      <td>1000_0</td>\n",
       "      <td>112.95</td>\n",
       "      <td>2018-11-25</td>\n",
       "      <td>1000</td>\n",
       "    </tr>\n",
       "    <tr>\n",
       "      <th>1</th>\n",
       "      <td>1</td>\n",
       "      <td>1000_1</td>\n",
       "      <td>1052.81</td>\n",
       "      <td>2018-09-07</td>\n",
       "      <td>1000</td>\n",
       "    </tr>\n",
       "    <tr>\n",
       "      <th>2</th>\n",
       "      <td>2</td>\n",
       "      <td>1000_2</td>\n",
       "      <td>1197.26</td>\n",
       "      <td>2018-06-25</td>\n",
       "      <td>1000</td>\n",
       "    </tr>\n",
       "    <tr>\n",
       "      <th>3</th>\n",
       "      <td>3</td>\n",
       "      <td>1000_3</td>\n",
       "      <td>550.27</td>\n",
       "      <td>2018-08-22</td>\n",
       "      <td>1000</td>\n",
       "    </tr>\n",
       "    <tr>\n",
       "      <th>4</th>\n",
       "      <td>4</td>\n",
       "      <td>1000_4</td>\n",
       "      <td>302.56</td>\n",
       "      <td>2018-09-24</td>\n",
       "      <td>1000</td>\n",
       "    </tr>\n",
       "  </tbody>\n",
       "</table>\n",
       "</div>"
      ],
      "text/plain": [
       "   Unnamed: 0      id  mb_used session_date  user_id\n",
       "0           0  1000_0   112.95   2018-11-25     1000\n",
       "1           1  1000_1  1052.81   2018-09-07     1000\n",
       "2           2  1000_2  1197.26   2018-06-25     1000\n",
       "3           3  1000_3   550.27   2018-08-22     1000\n",
       "4           4  1000_4   302.56   2018-09-24     1000"
      ]
     },
     "metadata": {},
     "output_type": "display_data"
    },
    {
     "name": "stdout",
     "output_type": "stream",
     "text": [
      "<class 'pandas.core.frame.DataFrame'>\n",
      "RangeIndex: 123036 entries, 0 to 123035\n",
      "Data columns (total 3 columns):\n",
      " #   Column        Non-Null Count   Dtype \n",
      "---  ------        --------------   ----- \n",
      " 0   id            123036 non-null  object\n",
      " 1   message_date  123036 non-null  object\n",
      " 2   user_id       123036 non-null  int64 \n",
      "dtypes: int64(1), object(2)\n",
      "memory usage: 2.8+ MB\n"
     ]
    },
    {
     "data": {
      "text/html": [
       "<div>\n",
       "<style scoped>\n",
       "    .dataframe tbody tr th:only-of-type {\n",
       "        vertical-align: middle;\n",
       "    }\n",
       "\n",
       "    .dataframe tbody tr th {\n",
       "        vertical-align: top;\n",
       "    }\n",
       "\n",
       "    .dataframe thead th {\n",
       "        text-align: right;\n",
       "    }\n",
       "</style>\n",
       "<table border=\"1\" class=\"dataframe\">\n",
       "  <thead>\n",
       "    <tr style=\"text-align: right;\">\n",
       "      <th></th>\n",
       "      <th>id</th>\n",
       "      <th>message_date</th>\n",
       "      <th>user_id</th>\n",
       "    </tr>\n",
       "  </thead>\n",
       "  <tbody>\n",
       "    <tr>\n",
       "      <th>0</th>\n",
       "      <td>1000_0</td>\n",
       "      <td>2018-06-27</td>\n",
       "      <td>1000</td>\n",
       "    </tr>\n",
       "    <tr>\n",
       "      <th>1</th>\n",
       "      <td>1000_1</td>\n",
       "      <td>2018-10-08</td>\n",
       "      <td>1000</td>\n",
       "    </tr>\n",
       "    <tr>\n",
       "      <th>2</th>\n",
       "      <td>1000_2</td>\n",
       "      <td>2018-08-04</td>\n",
       "      <td>1000</td>\n",
       "    </tr>\n",
       "    <tr>\n",
       "      <th>3</th>\n",
       "      <td>1000_3</td>\n",
       "      <td>2018-06-16</td>\n",
       "      <td>1000</td>\n",
       "    </tr>\n",
       "    <tr>\n",
       "      <th>4</th>\n",
       "      <td>1000_4</td>\n",
       "      <td>2018-12-05</td>\n",
       "      <td>1000</td>\n",
       "    </tr>\n",
       "  </tbody>\n",
       "</table>\n",
       "</div>"
      ],
      "text/plain": [
       "       id message_date  user_id\n",
       "0  1000_0   2018-06-27     1000\n",
       "1  1000_1   2018-10-08     1000\n",
       "2  1000_2   2018-08-04     1000\n",
       "3  1000_3   2018-06-16     1000\n",
       "4  1000_4   2018-12-05     1000"
      ]
     },
     "metadata": {},
     "output_type": "display_data"
    },
    {
     "name": "stdout",
     "output_type": "stream",
     "text": [
      "<class 'pandas.core.frame.DataFrame'>\n",
      "RangeIndex: 2 entries, 0 to 1\n",
      "Data columns (total 8 columns):\n",
      " #   Column                 Non-Null Count  Dtype \n",
      "---  ------                 --------------  ----- \n",
      " 0   messages_included      2 non-null      int64 \n",
      " 1   mb_per_month_included  2 non-null      int64 \n",
      " 2   minutes_included       2 non-null      int64 \n",
      " 3   rub_monthly_fee        2 non-null      int64 \n",
      " 4   rub_per_gb             2 non-null      int64 \n",
      " 5   rub_per_message        2 non-null      int64 \n",
      " 6   rub_per_minute         2 non-null      int64 \n",
      " 7   tariff_name            2 non-null      object\n",
      "dtypes: int64(7), object(1)\n",
      "memory usage: 256.0+ bytes\n"
     ]
    },
    {
     "data": {
      "text/html": [
       "<div>\n",
       "<style scoped>\n",
       "    .dataframe tbody tr th:only-of-type {\n",
       "        vertical-align: middle;\n",
       "    }\n",
       "\n",
       "    .dataframe tbody tr th {\n",
       "        vertical-align: top;\n",
       "    }\n",
       "\n",
       "    .dataframe thead th {\n",
       "        text-align: right;\n",
       "    }\n",
       "</style>\n",
       "<table border=\"1\" class=\"dataframe\">\n",
       "  <thead>\n",
       "    <tr style=\"text-align: right;\">\n",
       "      <th></th>\n",
       "      <th>messages_included</th>\n",
       "      <th>mb_per_month_included</th>\n",
       "      <th>minutes_included</th>\n",
       "      <th>rub_monthly_fee</th>\n",
       "      <th>rub_per_gb</th>\n",
       "      <th>rub_per_message</th>\n",
       "      <th>rub_per_minute</th>\n",
       "      <th>tariff_name</th>\n",
       "    </tr>\n",
       "  </thead>\n",
       "  <tbody>\n",
       "    <tr>\n",
       "      <th>0</th>\n",
       "      <td>50</td>\n",
       "      <td>15360</td>\n",
       "      <td>500</td>\n",
       "      <td>550</td>\n",
       "      <td>200</td>\n",
       "      <td>3</td>\n",
       "      <td>3</td>\n",
       "      <td>smart</td>\n",
       "    </tr>\n",
       "    <tr>\n",
       "      <th>1</th>\n",
       "      <td>1000</td>\n",
       "      <td>30720</td>\n",
       "      <td>3000</td>\n",
       "      <td>1950</td>\n",
       "      <td>150</td>\n",
       "      <td>1</td>\n",
       "      <td>1</td>\n",
       "      <td>ultra</td>\n",
       "    </tr>\n",
       "  </tbody>\n",
       "</table>\n",
       "</div>"
      ],
      "text/plain": [
       "   messages_included  mb_per_month_included  minutes_included  \\\n",
       "0                 50                  15360               500   \n",
       "1               1000                  30720              3000   \n",
       "\n",
       "   rub_monthly_fee  rub_per_gb  rub_per_message  rub_per_minute tariff_name  \n",
       "0              550         200                3               3       smart  \n",
       "1             1950         150                1               1       ultra  "
      ]
     },
     "metadata": {},
     "output_type": "display_data"
    },
    {
     "name": "stdout",
     "output_type": "stream",
     "text": [
      "<class 'pandas.core.frame.DataFrame'>\n",
      "RangeIndex: 500 entries, 0 to 499\n",
      "Data columns (total 8 columns):\n",
      " #   Column      Non-Null Count  Dtype \n",
      "---  ------      --------------  ----- \n",
      " 0   user_id     500 non-null    int64 \n",
      " 1   age         500 non-null    int64 \n",
      " 2   churn_date  38 non-null     object\n",
      " 3   city        500 non-null    object\n",
      " 4   first_name  500 non-null    object\n",
      " 5   last_name   500 non-null    object\n",
      " 6   reg_date    500 non-null    object\n",
      " 7   tariff      500 non-null    object\n",
      "dtypes: int64(2), object(6)\n",
      "memory usage: 31.4+ KB\n"
     ]
    },
    {
     "data": {
      "text/html": [
       "<div>\n",
       "<style scoped>\n",
       "    .dataframe tbody tr th:only-of-type {\n",
       "        vertical-align: middle;\n",
       "    }\n",
       "\n",
       "    .dataframe tbody tr th {\n",
       "        vertical-align: top;\n",
       "    }\n",
       "\n",
       "    .dataframe thead th {\n",
       "        text-align: right;\n",
       "    }\n",
       "</style>\n",
       "<table border=\"1\" class=\"dataframe\">\n",
       "  <thead>\n",
       "    <tr style=\"text-align: right;\">\n",
       "      <th></th>\n",
       "      <th>user_id</th>\n",
       "      <th>age</th>\n",
       "      <th>churn_date</th>\n",
       "      <th>city</th>\n",
       "      <th>first_name</th>\n",
       "      <th>last_name</th>\n",
       "      <th>reg_date</th>\n",
       "      <th>tariff</th>\n",
       "    </tr>\n",
       "  </thead>\n",
       "  <tbody>\n",
       "    <tr>\n",
       "      <th>0</th>\n",
       "      <td>1000</td>\n",
       "      <td>52</td>\n",
       "      <td>NaN</td>\n",
       "      <td>Краснодар</td>\n",
       "      <td>Рафаил</td>\n",
       "      <td>Верещагин</td>\n",
       "      <td>2018-05-25</td>\n",
       "      <td>ultra</td>\n",
       "    </tr>\n",
       "    <tr>\n",
       "      <th>1</th>\n",
       "      <td>1001</td>\n",
       "      <td>41</td>\n",
       "      <td>NaN</td>\n",
       "      <td>Москва</td>\n",
       "      <td>Иван</td>\n",
       "      <td>Ежов</td>\n",
       "      <td>2018-11-01</td>\n",
       "      <td>smart</td>\n",
       "    </tr>\n",
       "    <tr>\n",
       "      <th>2</th>\n",
       "      <td>1002</td>\n",
       "      <td>59</td>\n",
       "      <td>NaN</td>\n",
       "      <td>Стерлитамак</td>\n",
       "      <td>Евгений</td>\n",
       "      <td>Абрамович</td>\n",
       "      <td>2018-06-17</td>\n",
       "      <td>smart</td>\n",
       "    </tr>\n",
       "    <tr>\n",
       "      <th>3</th>\n",
       "      <td>1003</td>\n",
       "      <td>23</td>\n",
       "      <td>NaN</td>\n",
       "      <td>Москва</td>\n",
       "      <td>Белла</td>\n",
       "      <td>Белякова</td>\n",
       "      <td>2018-08-17</td>\n",
       "      <td>ultra</td>\n",
       "    </tr>\n",
       "    <tr>\n",
       "      <th>4</th>\n",
       "      <td>1004</td>\n",
       "      <td>68</td>\n",
       "      <td>NaN</td>\n",
       "      <td>Новокузнецк</td>\n",
       "      <td>Татьяна</td>\n",
       "      <td>Авдеенко</td>\n",
       "      <td>2018-05-14</td>\n",
       "      <td>ultra</td>\n",
       "    </tr>\n",
       "  </tbody>\n",
       "</table>\n",
       "</div>"
      ],
      "text/plain": [
       "   user_id  age churn_date         city first_name  last_name    reg_date  \\\n",
       "0     1000   52        NaN    Краснодар     Рафаил  Верещагин  2018-05-25   \n",
       "1     1001   41        NaN       Москва       Иван       Ежов  2018-11-01   \n",
       "2     1002   59        NaN  Стерлитамак    Евгений  Абрамович  2018-06-17   \n",
       "3     1003   23        NaN       Москва      Белла   Белякова  2018-08-17   \n",
       "4     1004   68        NaN  Новокузнецк    Татьяна   Авдеенко  2018-05-14   \n",
       "\n",
       "  tariff  \n",
       "0  ultra  \n",
       "1  smart  \n",
       "2  smart  \n",
       "3  ultra  \n",
       "4  ultra  "
      ]
     },
     "metadata": {},
     "output_type": "display_data"
    }
   ],
   "source": [
    "import pandas as pd\n",
    "import matplotlib.pyplot as plt\n",
    "from scipy import stats as st\n",
    "import numpy as np\n",
    "import math\n",
    "\n",
    "calls = pd.read_csv('calls.csv', sep=',')\n",
    "internet = pd.read_csv('internet.csv', sep=',')\n",
    "messages = pd.read_csv('messages.csv', sep=',')\n",
    "tariffs = pd.read_csv('tariffs.csv', sep=',')\n",
    "users = pd.read_csv('users.csv', sep=',')\n",
    "\n",
    "calls.info()\n",
    "display(calls.head())\n",
    "\n",
    "internet.info()\n",
    "display(internet.head())\n",
    "\n",
    "messages.info()\n",
    "display(messages.head())\n",
    "\n",
    "tariffs.info()\n",
    "display(tariffs.head())\n",
    "\n",
    "users.info()\n",
    "display(users.head())\n",
    "\n"
   ]
  },
  {
   "cell_type": "markdown",
   "id": "61206695",
   "metadata": {},
   "source": [
    "По результатам ознакомления с базами данных, стоит отметить практически полное отсутствие незаполненных записей (это хорошо).\n",
    "\n",
    "Посмотрим содержание ячеек в, малозаполненном, столбце churn_date. "
   ]
  },
  {
   "cell_type": "code",
   "execution_count": 3,
   "id": "26149c44",
   "metadata": {
    "scrolled": false
   },
   "outputs": [
    {
     "data": {
      "text/html": [
       "<div>\n",
       "<style scoped>\n",
       "    .dataframe tbody tr th:only-of-type {\n",
       "        vertical-align: middle;\n",
       "    }\n",
       "\n",
       "    .dataframe tbody tr th {\n",
       "        vertical-align: top;\n",
       "    }\n",
       "\n",
       "    .dataframe thead th {\n",
       "        text-align: right;\n",
       "    }\n",
       "</style>\n",
       "<table border=\"1\" class=\"dataframe\">\n",
       "  <thead>\n",
       "    <tr style=\"text-align: right;\">\n",
       "      <th></th>\n",
       "      <th>user_id</th>\n",
       "      <th>age</th>\n",
       "      <th>churn_date</th>\n",
       "      <th>city</th>\n",
       "      <th>first_name</th>\n",
       "      <th>last_name</th>\n",
       "      <th>reg_date</th>\n",
       "      <th>tariff</th>\n",
       "    </tr>\n",
       "  </thead>\n",
       "  <tbody>\n",
       "    <tr>\n",
       "      <th>371</th>\n",
       "      <td>1371</td>\n",
       "      <td>50</td>\n",
       "      <td>2018-12-30</td>\n",
       "      <td>Омск</td>\n",
       "      <td>Ириней</td>\n",
       "      <td>Трофимов</td>\n",
       "      <td>2018-12-25</td>\n",
       "      <td>smart</td>\n",
       "    </tr>\n",
       "    <tr>\n",
       "      <th>64</th>\n",
       "      <td>1064</td>\n",
       "      <td>55</td>\n",
       "      <td>2018-12-26</td>\n",
       "      <td>Якутск</td>\n",
       "      <td>Динара</td>\n",
       "      <td>Алфеева</td>\n",
       "      <td>2018-03-17</td>\n",
       "      <td>smart</td>\n",
       "    </tr>\n",
       "    <tr>\n",
       "      <th>399</th>\n",
       "      <td>1399</td>\n",
       "      <td>31</td>\n",
       "      <td>2018-12-25</td>\n",
       "      <td>Уфа</td>\n",
       "      <td>Алиса</td>\n",
       "      <td>Абрашина</td>\n",
       "      <td>2018-11-06</td>\n",
       "      <td>ultra</td>\n",
       "    </tr>\n",
       "    <tr>\n",
       "      <th>438</th>\n",
       "      <td>1438</td>\n",
       "      <td>24</td>\n",
       "      <td>2018-12-24</td>\n",
       "      <td>Екатеринбург</td>\n",
       "      <td>Нателла</td>\n",
       "      <td>Бородина</td>\n",
       "      <td>2018-10-05</td>\n",
       "      <td>smart</td>\n",
       "    </tr>\n",
       "    <tr>\n",
       "      <th>128</th>\n",
       "      <td>1128</td>\n",
       "      <td>51</td>\n",
       "      <td>2018-12-23</td>\n",
       "      <td>Волжский</td>\n",
       "      <td>Ксения</td>\n",
       "      <td>Агаева</td>\n",
       "      <td>2018-12-15</td>\n",
       "      <td>ultra</td>\n",
       "    </tr>\n",
       "    <tr>\n",
       "      <th>242</th>\n",
       "      <td>1242</td>\n",
       "      <td>39</td>\n",
       "      <td>2018-12-21</td>\n",
       "      <td>Хабаровск</td>\n",
       "      <td>Радим</td>\n",
       "      <td>Федосеев</td>\n",
       "      <td>2018-11-18</td>\n",
       "      <td>smart</td>\n",
       "    </tr>\n",
       "    <tr>\n",
       "      <th>422</th>\n",
       "      <td>1422</td>\n",
       "      <td>60</td>\n",
       "      <td>2018-12-21</td>\n",
       "      <td>Москва</td>\n",
       "      <td>Клара</td>\n",
       "      <td>Устинова</td>\n",
       "      <td>2018-10-12</td>\n",
       "      <td>smart</td>\n",
       "    </tr>\n",
       "    <tr>\n",
       "      <th>206</th>\n",
       "      <td>1206</td>\n",
       "      <td>35</td>\n",
       "      <td>2018-12-20</td>\n",
       "      <td>Москва</td>\n",
       "      <td>Елена</td>\n",
       "      <td>Шарапова</td>\n",
       "      <td>2018-11-03</td>\n",
       "      <td>smart</td>\n",
       "    </tr>\n",
       "    <tr>\n",
       "      <th>20</th>\n",
       "      <td>1020</td>\n",
       "      <td>59</td>\n",
       "      <td>2018-12-18</td>\n",
       "      <td>Чита</td>\n",
       "      <td>Тала</td>\n",
       "      <td>Костина</td>\n",
       "      <td>2018-10-22</td>\n",
       "      <td>smart</td>\n",
       "    </tr>\n",
       "    <tr>\n",
       "      <th>163</th>\n",
       "      <td>1163</td>\n",
       "      <td>21</td>\n",
       "      <td>2018-12-16</td>\n",
       "      <td>Москва</td>\n",
       "      <td>Лев</td>\n",
       "      <td>Вишневский</td>\n",
       "      <td>2018-11-03</td>\n",
       "      <td>smart</td>\n",
       "    </tr>\n",
       "    <tr>\n",
       "      <th>416</th>\n",
       "      <td>1416</td>\n",
       "      <td>50</td>\n",
       "      <td>2018-12-14</td>\n",
       "      <td>Санкт-Петербург</td>\n",
       "      <td>Валерия</td>\n",
       "      <td>Ёлчина</td>\n",
       "      <td>2018-07-16</td>\n",
       "      <td>ultra</td>\n",
       "    </tr>\n",
       "    <tr>\n",
       "      <th>63</th>\n",
       "      <td>1063</td>\n",
       "      <td>45</td>\n",
       "      <td>2018-12-11</td>\n",
       "      <td>Тула</td>\n",
       "      <td>Таира</td>\n",
       "      <td>Климова</td>\n",
       "      <td>2018-04-12</td>\n",
       "      <td>ultra</td>\n",
       "    </tr>\n",
       "    <tr>\n",
       "      <th>62</th>\n",
       "      <td>1062</td>\n",
       "      <td>24</td>\n",
       "      <td>2018-12-09</td>\n",
       "      <td>Москва</td>\n",
       "      <td>Александр</td>\n",
       "      <td>Коршунов</td>\n",
       "      <td>2018-11-16</td>\n",
       "      <td>smart</td>\n",
       "    </tr>\n",
       "    <tr>\n",
       "      <th>65</th>\n",
       "      <td>1065</td>\n",
       "      <td>53</td>\n",
       "      <td>2018-12-09</td>\n",
       "      <td>Москва</td>\n",
       "      <td>Роза</td>\n",
       "      <td>Игнатова</td>\n",
       "      <td>2018-03-08</td>\n",
       "      <td>smart</td>\n",
       "    </tr>\n",
       "    <tr>\n",
       "      <th>201</th>\n",
       "      <td>1201</td>\n",
       "      <td>32</td>\n",
       "      <td>2018-12-03</td>\n",
       "      <td>Москва</td>\n",
       "      <td>Геннадий</td>\n",
       "      <td>Веселов</td>\n",
       "      <td>2018-08-06</td>\n",
       "      <td>ultra</td>\n",
       "    </tr>\n",
       "    <tr>\n",
       "      <th>90</th>\n",
       "      <td>1090</td>\n",
       "      <td>54</td>\n",
       "      <td>2018-12-03</td>\n",
       "      <td>Череповец</td>\n",
       "      <td>Екатерина</td>\n",
       "      <td>Астафьева</td>\n",
       "      <td>2018-10-11</td>\n",
       "      <td>ultra</td>\n",
       "    </tr>\n",
       "    <tr>\n",
       "      <th>232</th>\n",
       "      <td>1232</td>\n",
       "      <td>60</td>\n",
       "      <td>2018-11-30</td>\n",
       "      <td>Томск</td>\n",
       "      <td>Виктория</td>\n",
       "      <td>Ларина</td>\n",
       "      <td>2018-10-07</td>\n",
       "      <td>smart</td>\n",
       "    </tr>\n",
       "    <tr>\n",
       "      <th>355</th>\n",
       "      <td>1355</td>\n",
       "      <td>33</td>\n",
       "      <td>2018-11-27</td>\n",
       "      <td>Киров</td>\n",
       "      <td>Сара</td>\n",
       "      <td>Абрикосова</td>\n",
       "      <td>2018-07-21</td>\n",
       "      <td>smart</td>\n",
       "    </tr>\n",
       "    <tr>\n",
       "      <th>353</th>\n",
       "      <td>1353</td>\n",
       "      <td>57</td>\n",
       "      <td>2018-11-26</td>\n",
       "      <td>Санкт-Петербург</td>\n",
       "      <td>Доминика</td>\n",
       "      <td>Анищенко</td>\n",
       "      <td>2018-04-22</td>\n",
       "      <td>smart</td>\n",
       "    </tr>\n",
       "    <tr>\n",
       "      <th>293</th>\n",
       "      <td>1293</td>\n",
       "      <td>39</td>\n",
       "      <td>2018-11-22</td>\n",
       "      <td>Санкт-Петербург</td>\n",
       "      <td>Эдита</td>\n",
       "      <td>Дубинина</td>\n",
       "      <td>2018-09-05</td>\n",
       "      <td>smart</td>\n",
       "    </tr>\n",
       "    <tr>\n",
       "      <th>34</th>\n",
       "      <td>1034</td>\n",
       "      <td>66</td>\n",
       "      <td>2018-11-21</td>\n",
       "      <td>Вологда</td>\n",
       "      <td>Святослав</td>\n",
       "      <td>Бондарев</td>\n",
       "      <td>2018-08-26</td>\n",
       "      <td>smart</td>\n",
       "    </tr>\n",
       "    <tr>\n",
       "      <th>367</th>\n",
       "      <td>1367</td>\n",
       "      <td>43</td>\n",
       "      <td>2018-11-16</td>\n",
       "      <td>Москва</td>\n",
       "      <td>Всеволод</td>\n",
       "      <td>Антоненко</td>\n",
       "      <td>2018-09-14</td>\n",
       "      <td>ultra</td>\n",
       "    </tr>\n",
       "    <tr>\n",
       "      <th>271</th>\n",
       "      <td>1271</td>\n",
       "      <td>69</td>\n",
       "      <td>2018-11-13</td>\n",
       "      <td>Челябинск</td>\n",
       "      <td>Аурелия</td>\n",
       "      <td>Чижова</td>\n",
       "      <td>2018-07-14</td>\n",
       "      <td>ultra</td>\n",
       "    </tr>\n",
       "    <tr>\n",
       "      <th>161</th>\n",
       "      <td>1161</td>\n",
       "      <td>65</td>\n",
       "      <td>2018-11-07</td>\n",
       "      <td>Набережные Челны</td>\n",
       "      <td>Татьяна</td>\n",
       "      <td>Голованова</td>\n",
       "      <td>2018-07-03</td>\n",
       "      <td>smart</td>\n",
       "    </tr>\n",
       "    <tr>\n",
       "      <th>343</th>\n",
       "      <td>1343</td>\n",
       "      <td>30</td>\n",
       "      <td>2018-10-28</td>\n",
       "      <td>Кострома</td>\n",
       "      <td>Анита</td>\n",
       "      <td>Верещагина</td>\n",
       "      <td>2018-08-15</td>\n",
       "      <td>ultra</td>\n",
       "    </tr>\n",
       "    <tr>\n",
       "      <th>370</th>\n",
       "      <td>1370</td>\n",
       "      <td>48</td>\n",
       "      <td>2018-10-27</td>\n",
       "      <td>Новороссийск</td>\n",
       "      <td>Гектор</td>\n",
       "      <td>Сысоев</td>\n",
       "      <td>2018-02-06</td>\n",
       "      <td>smart</td>\n",
       "    </tr>\n",
       "    <tr>\n",
       "      <th>498</th>\n",
       "      <td>1498</td>\n",
       "      <td>68</td>\n",
       "      <td>2018-10-25</td>\n",
       "      <td>Владикавказ</td>\n",
       "      <td>Всеволод</td>\n",
       "      <td>Акимчин</td>\n",
       "      <td>2018-07-19</td>\n",
       "      <td>smart</td>\n",
       "    </tr>\n",
       "    <tr>\n",
       "      <th>56</th>\n",
       "      <td>1056</td>\n",
       "      <td>73</td>\n",
       "      <td>2018-10-14</td>\n",
       "      <td>Иркутск</td>\n",
       "      <td>Радислав</td>\n",
       "      <td>Артемьев</td>\n",
       "      <td>2018-04-13</td>\n",
       "      <td>smart</td>\n",
       "    </tr>\n",
       "    <tr>\n",
       "      <th>51</th>\n",
       "      <td>1051</td>\n",
       "      <td>37</td>\n",
       "      <td>2018-10-14</td>\n",
       "      <td>Москва</td>\n",
       "      <td>Кристина</td>\n",
       "      <td>Сомова</td>\n",
       "      <td>2018-05-28</td>\n",
       "      <td>smart</td>\n",
       "    </tr>\n",
       "    <tr>\n",
       "      <th>19</th>\n",
       "      <td>1019</td>\n",
       "      <td>63</td>\n",
       "      <td>2018-10-05</td>\n",
       "      <td>Томск</td>\n",
       "      <td>Игнатий</td>\n",
       "      <td>Круглов</td>\n",
       "      <td>2018-05-16</td>\n",
       "      <td>ultra</td>\n",
       "    </tr>\n",
       "    <tr>\n",
       "      <th>265</th>\n",
       "      <td>1265</td>\n",
       "      <td>24</td>\n",
       "      <td>2018-10-04</td>\n",
       "      <td>Омск</td>\n",
       "      <td>Радим</td>\n",
       "      <td>Адамов</td>\n",
       "      <td>2018-06-24</td>\n",
       "      <td>ultra</td>\n",
       "    </tr>\n",
       "    <tr>\n",
       "      <th>191</th>\n",
       "      <td>1191</td>\n",
       "      <td>64</td>\n",
       "      <td>2018-10-03</td>\n",
       "      <td>Набережные Челны</td>\n",
       "      <td>Александр</td>\n",
       "      <td>Акиндинов</td>\n",
       "      <td>2018-06-30</td>\n",
       "      <td>smart</td>\n",
       "    </tr>\n",
       "    <tr>\n",
       "      <th>50</th>\n",
       "      <td>1050</td>\n",
       "      <td>44</td>\n",
       "      <td>2018-10-03</td>\n",
       "      <td>Тюмень</td>\n",
       "      <td>Рузана</td>\n",
       "      <td>Аничкина</td>\n",
       "      <td>2018-06-16</td>\n",
       "      <td>ultra</td>\n",
       "    </tr>\n",
       "    <tr>\n",
       "      <th>392</th>\n",
       "      <td>1392</td>\n",
       "      <td>54</td>\n",
       "      <td>2018-09-27</td>\n",
       "      <td>Челябинск</td>\n",
       "      <td>Алла</td>\n",
       "      <td>Беликова</td>\n",
       "      <td>2018-02-27</td>\n",
       "      <td>ultra</td>\n",
       "    </tr>\n",
       "    <tr>\n",
       "      <th>480</th>\n",
       "      <td>1480</td>\n",
       "      <td>29</td>\n",
       "      <td>2018-09-26</td>\n",
       "      <td>Новокузнецк</td>\n",
       "      <td>Гелена</td>\n",
       "      <td>Емельянова</td>\n",
       "      <td>2018-02-14</td>\n",
       "      <td>smart</td>\n",
       "    </tr>\n",
       "    <tr>\n",
       "      <th>255</th>\n",
       "      <td>1255</td>\n",
       "      <td>40</td>\n",
       "      <td>2018-09-02</td>\n",
       "      <td>Саранск</td>\n",
       "      <td>Серафима</td>\n",
       "      <td>Пономарева</td>\n",
       "      <td>2018-02-19</td>\n",
       "      <td>ultra</td>\n",
       "    </tr>\n",
       "    <tr>\n",
       "      <th>71</th>\n",
       "      <td>1071</td>\n",
       "      <td>20</td>\n",
       "      <td>2018-08-31</td>\n",
       "      <td>Омск</td>\n",
       "      <td>Гектор</td>\n",
       "      <td>Чумаков</td>\n",
       "      <td>2018-01-09</td>\n",
       "      <td>smart</td>\n",
       "    </tr>\n",
       "    <tr>\n",
       "      <th>254</th>\n",
       "      <td>1254</td>\n",
       "      <td>75</td>\n",
       "      <td>2018-08-17</td>\n",
       "      <td>Москва</td>\n",
       "      <td>Александра</td>\n",
       "      <td>Сухарева</td>\n",
       "      <td>2018-01-04</td>\n",
       "      <td>ultra</td>\n",
       "    </tr>\n",
       "    <tr>\n",
       "      <th>0</th>\n",
       "      <td>1000</td>\n",
       "      <td>52</td>\n",
       "      <td>NaN</td>\n",
       "      <td>Краснодар</td>\n",
       "      <td>Рафаил</td>\n",
       "      <td>Верещагин</td>\n",
       "      <td>2018-05-25</td>\n",
       "      <td>ultra</td>\n",
       "    </tr>\n",
       "    <tr>\n",
       "      <th>1</th>\n",
       "      <td>1001</td>\n",
       "      <td>41</td>\n",
       "      <td>NaN</td>\n",
       "      <td>Москва</td>\n",
       "      <td>Иван</td>\n",
       "      <td>Ежов</td>\n",
       "      <td>2018-11-01</td>\n",
       "      <td>smart</td>\n",
       "    </tr>\n",
       "  </tbody>\n",
       "</table>\n",
       "</div>"
      ],
      "text/plain": [
       "     user_id  age  churn_date              city  first_name   last_name  \\\n",
       "371     1371   50  2018-12-30              Омск      Ириней    Трофимов   \n",
       "64      1064   55  2018-12-26            Якутск      Динара     Алфеева   \n",
       "399     1399   31  2018-12-25               Уфа       Алиса    Абрашина   \n",
       "438     1438   24  2018-12-24      Екатеринбург     Нателла    Бородина   \n",
       "128     1128   51  2018-12-23          Волжский      Ксения      Агаева   \n",
       "242     1242   39  2018-12-21         Хабаровск       Радим    Федосеев   \n",
       "422     1422   60  2018-12-21            Москва       Клара    Устинова   \n",
       "206     1206   35  2018-12-20            Москва       Елена    Шарапова   \n",
       "20      1020   59  2018-12-18              Чита        Тала     Костина   \n",
       "163     1163   21  2018-12-16            Москва         Лев  Вишневский   \n",
       "416     1416   50  2018-12-14   Санкт-Петербург     Валерия      Ёлчина   \n",
       "63      1063   45  2018-12-11              Тула       Таира     Климова   \n",
       "62      1062   24  2018-12-09            Москва   Александр    Коршунов   \n",
       "65      1065   53  2018-12-09            Москва        Роза    Игнатова   \n",
       "201     1201   32  2018-12-03            Москва    Геннадий     Веселов   \n",
       "90      1090   54  2018-12-03         Череповец   Екатерина   Астафьева   \n",
       "232     1232   60  2018-11-30             Томск    Виктория      Ларина   \n",
       "355     1355   33  2018-11-27             Киров        Сара  Абрикосова   \n",
       "353     1353   57  2018-11-26   Санкт-Петербург    Доминика    Анищенко   \n",
       "293     1293   39  2018-11-22   Санкт-Петербург       Эдита    Дубинина   \n",
       "34      1034   66  2018-11-21           Вологда   Святослав    Бондарев   \n",
       "367     1367   43  2018-11-16            Москва    Всеволод   Антоненко   \n",
       "271     1271   69  2018-11-13         Челябинск     Аурелия      Чижова   \n",
       "161     1161   65  2018-11-07  Набережные Челны     Татьяна  Голованова   \n",
       "343     1343   30  2018-10-28          Кострома       Анита  Верещагина   \n",
       "370     1370   48  2018-10-27      Новороссийск      Гектор      Сысоев   \n",
       "498     1498   68  2018-10-25       Владикавказ    Всеволод     Акимчин   \n",
       "56      1056   73  2018-10-14           Иркутск    Радислав    Артемьев   \n",
       "51      1051   37  2018-10-14            Москва    Кристина      Сомова   \n",
       "19      1019   63  2018-10-05             Томск     Игнатий     Круглов   \n",
       "265     1265   24  2018-10-04              Омск       Радим      Адамов   \n",
       "191     1191   64  2018-10-03  Набережные Челны   Александр   Акиндинов   \n",
       "50      1050   44  2018-10-03            Тюмень      Рузана    Аничкина   \n",
       "392     1392   54  2018-09-27         Челябинск        Алла    Беликова   \n",
       "480     1480   29  2018-09-26       Новокузнецк      Гелена  Емельянова   \n",
       "255     1255   40  2018-09-02           Саранск    Серафима  Пономарева   \n",
       "71      1071   20  2018-08-31              Омск      Гектор     Чумаков   \n",
       "254     1254   75  2018-08-17            Москва  Александра    Сухарева   \n",
       "0       1000   52         NaN         Краснодар      Рафаил   Верещагин   \n",
       "1       1001   41         NaN            Москва        Иван        Ежов   \n",
       "\n",
       "       reg_date tariff  \n",
       "371  2018-12-25  smart  \n",
       "64   2018-03-17  smart  \n",
       "399  2018-11-06  ultra  \n",
       "438  2018-10-05  smart  \n",
       "128  2018-12-15  ultra  \n",
       "242  2018-11-18  smart  \n",
       "422  2018-10-12  smart  \n",
       "206  2018-11-03  smart  \n",
       "20   2018-10-22  smart  \n",
       "163  2018-11-03  smart  \n",
       "416  2018-07-16  ultra  \n",
       "63   2018-04-12  ultra  \n",
       "62   2018-11-16  smart  \n",
       "65   2018-03-08  smart  \n",
       "201  2018-08-06  ultra  \n",
       "90   2018-10-11  ultra  \n",
       "232  2018-10-07  smart  \n",
       "355  2018-07-21  smart  \n",
       "353  2018-04-22  smart  \n",
       "293  2018-09-05  smart  \n",
       "34   2018-08-26  smart  \n",
       "367  2018-09-14  ultra  \n",
       "271  2018-07-14  ultra  \n",
       "161  2018-07-03  smart  \n",
       "343  2018-08-15  ultra  \n",
       "370  2018-02-06  smart  \n",
       "498  2018-07-19  smart  \n",
       "56   2018-04-13  smart  \n",
       "51   2018-05-28  smart  \n",
       "19   2018-05-16  ultra  \n",
       "265  2018-06-24  ultra  \n",
       "191  2018-06-30  smart  \n",
       "50   2018-06-16  ultra  \n",
       "392  2018-02-27  ultra  \n",
       "480  2018-02-14  smart  \n",
       "255  2018-02-19  ultra  \n",
       "71   2018-01-09  smart  \n",
       "254  2018-01-04  ultra  \n",
       "0    2018-05-25  ultra  \n",
       "1    2018-11-01  smart  "
      ]
     },
     "metadata": {},
     "output_type": "display_data"
    }
   ],
   "source": [
    "df_users = users.sort_values(by='churn_date', ascending=False) \n",
    "display(df_users.head(40))"
   ]
  },
  {
   "cell_type": "markdown",
   "id": "fb1b5018",
   "metadata": {},
   "source": [
    "Подавляющее большинство абонентов пользовались тарифом более половины года, - оставим все строки в датафрэйме.\n",
    "\n",
    "\n",
    "Проверим данные на наличие явных дубликатов, проверим наличие \"вбросов\". Посмотрим как распределены данные."
   ]
  },
  {
   "cell_type": "code",
   "execution_count": 4,
   "id": "49022830",
   "metadata": {
    "scrolled": false
   },
   "outputs": [
    {
     "name": "stdout",
     "output_type": "stream",
     "text": [
      "<class 'pandas.core.frame.DataFrame'>\n",
      "RangeIndex: 202607 entries, 0 to 202606\n",
      "Data columns (total 4 columns):\n",
      " #   Column     Non-Null Count   Dtype  \n",
      "---  ------     --------------   -----  \n",
      " 0   id         202607 non-null  object \n",
      " 1   call_date  202607 non-null  object \n",
      " 2   duration   202607 non-null  float64\n",
      " 3   user_id    202607 non-null  int64  \n",
      "dtypes: float64(1), int64(1), object(2)\n",
      "memory usage: 6.2+ MB\n",
      "<class 'pandas.core.frame.DataFrame'>\n",
      "RangeIndex: 149396 entries, 0 to 149395\n",
      "Data columns (total 5 columns):\n",
      " #   Column        Non-Null Count   Dtype  \n",
      "---  ------        --------------   -----  \n",
      " 0   Unnamed: 0    149396 non-null  int64  \n",
      " 1   id            149396 non-null  object \n",
      " 2   mb_used       149396 non-null  float64\n",
      " 3   session_date  149396 non-null  object \n",
      " 4   user_id       149396 non-null  int64  \n",
      "dtypes: float64(1), int64(2), object(2)\n",
      "memory usage: 5.7+ MB\n",
      "<class 'pandas.core.frame.DataFrame'>\n",
      "RangeIndex: 123036 entries, 0 to 123035\n",
      "Data columns (total 3 columns):\n",
      " #   Column        Non-Null Count   Dtype \n",
      "---  ------        --------------   ----- \n",
      " 0   id            123036 non-null  object\n",
      " 1   message_date  123036 non-null  object\n",
      " 2   user_id       123036 non-null  int64 \n",
      "dtypes: int64(1), object(2)\n",
      "memory usage: 2.8+ MB\n",
      "<class 'pandas.core.frame.DataFrame'>\n",
      "RangeIndex: 500 entries, 0 to 499\n",
      "Data columns (total 8 columns):\n",
      " #   Column      Non-Null Count  Dtype \n",
      "---  ------      --------------  ----- \n",
      " 0   user_id     500 non-null    int64 \n",
      " 1   age         500 non-null    int64 \n",
      " 2   churn_date  38 non-null     object\n",
      " 3   city        500 non-null    object\n",
      " 4   first_name  500 non-null    object\n",
      " 5   last_name   500 non-null    object\n",
      " 6   reg_date    500 non-null    object\n",
      " 7   tariff      500 non-null    object\n",
      "dtypes: int64(2), object(6)\n",
      "memory usage: 31.4+ KB\n"
     ]
    }
   ],
   "source": [
    "\n",
    "calls = calls.drop_duplicates().reset_index(drop=True)\n",
    "internet = internet.drop_duplicates().reset_index(drop=True)\n",
    "messages = messages.drop_duplicates().reset_index(drop=True)\n",
    "users = users.drop_duplicates().reset_index(drop=True)\n",
    "\n",
    "calls.info()\n",
    "internet.info()\n",
    "messages.info()\n",
    "users.info()\n"
   ]
  },
  {
   "cell_type": "markdown",
   "id": "99f9e52f",
   "metadata": {},
   "source": [
    "Дубликатов в данных не обнаружено."
   ]
  },
  {
   "cell_type": "code",
   "execution_count": 5,
   "id": "38b6f01f",
   "metadata": {
    "scrolled": false
   },
   "outputs": [
    {
     "data": {
      "text/plain": [
       "Text(0.5, 1.0, 'Длительность разговора, мин')"
      ]
     },
     "execution_count": 5,
     "metadata": {},
     "output_type": "execute_result"
    },
    {
     "data": {
      "image/png": "[encoded data removed]",
      "text/plain": [
       "<Figure size 432x288 with 1 Axes>"
      ]
     },
     "metadata": {
      "needs_background": "light"
     },
     "output_type": "display_data"
    }
   ],
   "source": [
    "calls['duration'].hist(bins=20)\n",
    "plt.title('Длительность разговора, мин')"
   ]
  },
  {
   "cell_type": "markdown",
   "id": "89087296",
   "metadata": {},
   "source": [
    "Нулями обозначены пропущенные звонки, поэтому их не удаляем. Длительность разговоров не превышает 40 минут, подозрительно длинных звонков нет."
   ]
  },
  {
   "cell_type": "code",
   "execution_count": 6,
   "id": "ff728303",
   "metadata": {
    "scrolled": false
   },
   "outputs": [
    {
     "data": {
      "text/plain": [
       "Text(0.5, 1.0, 'Интернет трафик, мб')"
      ]
     },
     "execution_count": 6,
     "metadata": {},
     "output_type": "execute_result"
    },
    {
     "data": {
      "image/png": "[encoded data removed]",
      "text/plain": [
       "<Figure size 432x288 with 1 Axes>"
      ]
     },
     "metadata": {
      "needs_background": "light"
     },
     "output_type": "display_data"
    }
   ],
   "source": [
    "internet['mb_used'].hist(bins=20)\n",
    "plt.title('Интернет трафик, мб')"
   ]
  },
  {
   "cell_type": "markdown",
   "id": "c67a8bb5",
   "metadata": {},
   "source": [
    "Нулями вероятно обозначены несостоявшиеся сессии, поэтому их не удаляем. Израсходованный трафик за сессию не превышает 1750 мб, подозрительно длинных сессий нет.\n",
    "\n",
    "\n",
    "Pаменим тип данных в колонках с датами на соответствующий ему - dt. Добавим колонки с месяцем оказанной услуги."
   ]
  },
  {
   "cell_type": "code",
   "execution_count": 7,
   "id": "4af911a7",
   "metadata": {},
   "outputs": [],
   "source": [
    "calls['call_date'] = pd.to_datetime(\n",
    "    calls['call_date'], format='%Y-%m-%d')\n",
    "\n",
    "calls['month'] = calls['call_date'].dt.month\n",
    "\n",
    "\n",
    "internet['session_date'] = pd.to_datetime(\n",
    "    internet['session_date'], format='%Y-%m-%d')\n",
    "\n",
    "internet['month'] = internet['session_date'].dt.month\n",
    "\n",
    "\n",
    "messages['message_date'] = pd.to_datetime(\n",
    "    messages['message_date'], format='%Y-%m-%d')\n",
    "\n",
    "messages['month'] = messages['message_date'].dt.month\n"
   ]
  },
  {
   "cell_type": "markdown",
   "id": "7fc480ba",
   "metadata": {},
   "source": [
    "# Подготовка данных <a id='3'></a>"
   ]
  },
  {
   "cell_type": "markdown",
   "id": "10222280",
   "metadata": {},
   "source": [
    "Составим алгорим работы с данными. \n",
    "- в соответствии с условиями оператора связи, рассчитаем целочисленные округлённые в большую сторону значения затраченных на разговоры минут, отправленных СМС, израсходованного интернет трафика;\n",
    "- выделим отдельные столбцы с месяцем в котором была оказана услуга;\n",
    "- составим сводные таблицы user_id и сумм помесячного использования услуг (звонков, смс, интернет);\n",
    "- объеденим таблицы по пользователю и месяцу;\n",
    "- объединим общую таблицу с данными о тарифах;\n",
    "- рассчитаем стоимость оказанных услуг."
   ]
  },
  {
   "cell_type": "code",
   "execution_count": 8,
   "id": "d12fd3f1",
   "metadata": {
    "scrolled": true
   },
   "outputs": [],
   "source": [
    "\n",
    "calls['duration_int'] = np.ceil(calls['duration']).astype('int')\n",
    "\n",
    "calls_in_month = calls.pivot_table(index=['user_id', 'month'], values='duration_int', aggfunc=['sum', 'count'])\n",
    "\n",
    "calls_in_month.columns = ['call_sum', 'call_count']\n",
    "\n"
   ]
  },
  {
   "cell_type": "code",
   "execution_count": 9,
   "id": "0bf98edc",
   "metadata": {
    "scrolled": true
   },
   "outputs": [],
   "source": [
    "\n",
    "messages_in_month = messages.pivot_table(index=['user_id', 'month'], values='id', aggfunc=['count'])\n",
    "\n",
    "messages_in_month.columns = ['messages_count']\n"
   ]
  },
  {
   "cell_type": "code",
   "execution_count": 10,
   "id": "3b81cd33",
   "metadata": {},
   "outputs": [],
   "source": [
    "\n",
    "internet['gb_used'] = np.ceil(internet['mb_used'] / 1024).astype('int')\n",
    "\n",
    "internet_in_month = internet.pivot_table(index=['user_id', 'month'], values='gb_used', aggfunc=['sum'])\n",
    "\n",
    "internet_in_month.columns = ['internet_sum']\n"
   ]
  },
  {
   "cell_type": "code",
   "execution_count": 11,
   "id": "8ca34e78",
   "metadata": {
    "scrolled": true
   },
   "outputs": [],
   "source": [
    "users_interval = pd.merge(messages_in_month, calls_in_month, on=['user_id', 'month'], how='outer')\n",
    "users_interval = pd.merge(users_interval, internet_in_month, on=['user_id', 'month'], how='outer')\n",
    "users_interval_reset_index = users_interval.reset_index() \n",
    "\n",
    "users_full = pd.merge(users_interval_reset_index, users, on=['user_id'], how='left')\n"
   ]
  },
  {
   "cell_type": "markdown",
   "id": "4d963a59",
   "metadata": {},
   "source": [
    "Заменим пропущенные значения на \"0\"."
   ]
  },
  {
   "cell_type": "code",
   "execution_count": 12,
   "id": "f04f5297",
   "metadata": {},
   "outputs": [],
   "source": [
    "users_full=users_full.fillna(0)"
   ]
  },
  {
   "cell_type": "markdown",
   "id": "41612041",
   "metadata": {},
   "source": [
    "Периеименуем столбец 'tariff' в 'tariff_name' и объединим исходную таблицу с данными о тарифах."
   ]
  },
  {
   "cell_type": "code",
   "execution_count": 13,
   "id": "55558043",
   "metadata": {},
   "outputs": [],
   "source": [
    "users_full.rename(columns = {'tariff' : 'tariff_name'}, inplace = True)"
   ]
  },
  {
   "cell_type": "code",
   "execution_count": 14,
   "id": "797e382b",
   "metadata": {},
   "outputs": [],
   "source": [
    "users_full = pd.merge(users_full, tariffs, on=['tariff_name'], how='outer')"
   ]
  },
  {
   "cell_type": "markdown",
   "id": "7751a12f",
   "metadata": {},
   "source": [
    "Рассчитаем превышение включённых в тариф услуг. Обнулим отрицательные (\"недоиспользованные\") значения."
   ]
  },
  {
   "cell_type": "code",
   "execution_count": 15,
   "id": "fe9808a8",
   "metadata": {},
   "outputs": [],
   "source": [
    "users_full['extra_minutes_1'] = users_full['call_sum'] - users_full['minutes_included']\n",
    "users_full['extra_messages_1'] = users_full['messages_count'] - users_full['messages_included']\n",
    "users_full['extra_internet_1'] = users_full['internet_sum'] - users_full['mb_per_month_included'] / 1024"
   ]
  },
  {
   "cell_type": "code",
   "execution_count": 16,
   "id": "0b376f2b",
   "metadata": {
    "scrolled": true
   },
   "outputs": [],
   "source": [
    "users_full['extra_minutes'] = users_full['extra_minutes_1'].clip(0)\n",
    "users_full['extra_messages'] = users_full['extra_messages_1'].clip(0)\n",
    "users_full['extra_internet'] = users_full['extra_internet_1'].clip(0)\n"
   ]
  },
  {
   "cell_type": "markdown",
   "id": "2fa202ec",
   "metadata": {},
   "source": [
    "Рассчитаем стоимость оказанных дополнительных услуг каждому абоненту в месяц. Общую стоимость услуги для каждого абонента в месяц."
   ]
  },
  {
   "cell_type": "code",
   "execution_count": 17,
   "id": "0775db97",
   "metadata": {
    "scrolled": true
   },
   "outputs": [
    {
     "data": {
      "text/html": [
       "<div>\n",
       "<style scoped>\n",
       "    .dataframe tbody tr th:only-of-type {\n",
       "        vertical-align: middle;\n",
       "    }\n",
       "\n",
       "    .dataframe tbody tr th {\n",
       "        vertical-align: top;\n",
       "    }\n",
       "\n",
       "    .dataframe thead th {\n",
       "        text-align: right;\n",
       "    }\n",
       "</style>\n",
       "<table border=\"1\" class=\"dataframe\">\n",
       "  <thead>\n",
       "    <tr style=\"text-align: right;\">\n",
       "      <th></th>\n",
       "      <th>user_id</th>\n",
       "      <th>month</th>\n",
       "      <th>messages_count</th>\n",
       "      <th>call_sum</th>\n",
       "      <th>call_count</th>\n",
       "      <th>internet_sum</th>\n",
       "      <th>age</th>\n",
       "      <th>churn_date</th>\n",
       "      <th>city</th>\n",
       "      <th>first_name</th>\n",
       "      <th>...</th>\n",
       "      <th>extra_minutes_1</th>\n",
       "      <th>extra_messages_1</th>\n",
       "      <th>extra_internet_1</th>\n",
       "      <th>extra_minutes</th>\n",
       "      <th>extra_messages</th>\n",
       "      <th>extra_internet</th>\n",
       "      <th>cost_minutes</th>\n",
       "      <th>cost_messages</th>\n",
       "      <th>cost_internet</th>\n",
       "      <th>cost_total</th>\n",
       "    </tr>\n",
       "  </thead>\n",
       "  <tbody>\n",
       "    <tr>\n",
       "      <th>0</th>\n",
       "      <td>1000</td>\n",
       "      <td>5</td>\n",
       "      <td>22.0</td>\n",
       "      <td>159.0</td>\n",
       "      <td>22.0</td>\n",
       "      <td>4.0</td>\n",
       "      <td>52</td>\n",
       "      <td>0</td>\n",
       "      <td>Краснодар</td>\n",
       "      <td>Рафаил</td>\n",
       "      <td>...</td>\n",
       "      <td>-2841.0</td>\n",
       "      <td>-978.0</td>\n",
       "      <td>-26.0</td>\n",
       "      <td>0.0</td>\n",
       "      <td>0.0</td>\n",
       "      <td>0.0</td>\n",
       "      <td>0.0</td>\n",
       "      <td>0.0</td>\n",
       "      <td>0.0</td>\n",
       "      <td>1950.0</td>\n",
       "    </tr>\n",
       "    <tr>\n",
       "      <th>1</th>\n",
       "      <td>1000</td>\n",
       "      <td>6</td>\n",
       "      <td>60.0</td>\n",
       "      <td>172.0</td>\n",
       "      <td>43.0</td>\n",
       "      <td>49.0</td>\n",
       "      <td>52</td>\n",
       "      <td>0</td>\n",
       "      <td>Краснодар</td>\n",
       "      <td>Рафаил</td>\n",
       "      <td>...</td>\n",
       "      <td>-2828.0</td>\n",
       "      <td>-940.0</td>\n",
       "      <td>19.0</td>\n",
       "      <td>0.0</td>\n",
       "      <td>0.0</td>\n",
       "      <td>19.0</td>\n",
       "      <td>0.0</td>\n",
       "      <td>0.0</td>\n",
       "      <td>2850.0</td>\n",
       "      <td>4800.0</td>\n",
       "    </tr>\n",
       "    <tr>\n",
       "      <th>2</th>\n",
       "      <td>1000</td>\n",
       "      <td>7</td>\n",
       "      <td>75.0</td>\n",
       "      <td>340.0</td>\n",
       "      <td>47.0</td>\n",
       "      <td>28.0</td>\n",
       "      <td>52</td>\n",
       "      <td>0</td>\n",
       "      <td>Краснодар</td>\n",
       "      <td>Рафаил</td>\n",
       "      <td>...</td>\n",
       "      <td>-2660.0</td>\n",
       "      <td>-925.0</td>\n",
       "      <td>-2.0</td>\n",
       "      <td>0.0</td>\n",
       "      <td>0.0</td>\n",
       "      <td>0.0</td>\n",
       "      <td>0.0</td>\n",
       "      <td>0.0</td>\n",
       "      <td>0.0</td>\n",
       "      <td>1950.0</td>\n",
       "    </tr>\n",
       "    <tr>\n",
       "      <th>3</th>\n",
       "      <td>1000</td>\n",
       "      <td>8</td>\n",
       "      <td>81.0</td>\n",
       "      <td>408.0</td>\n",
       "      <td>52.0</td>\n",
       "      <td>27.0</td>\n",
       "      <td>52</td>\n",
       "      <td>0</td>\n",
       "      <td>Краснодар</td>\n",
       "      <td>Рафаил</td>\n",
       "      <td>...</td>\n",
       "      <td>-2592.0</td>\n",
       "      <td>-919.0</td>\n",
       "      <td>-3.0</td>\n",
       "      <td>0.0</td>\n",
       "      <td>0.0</td>\n",
       "      <td>0.0</td>\n",
       "      <td>0.0</td>\n",
       "      <td>0.0</td>\n",
       "      <td>0.0</td>\n",
       "      <td>1950.0</td>\n",
       "    </tr>\n",
       "    <tr>\n",
       "      <th>4</th>\n",
       "      <td>1000</td>\n",
       "      <td>9</td>\n",
       "      <td>57.0</td>\n",
       "      <td>466.0</td>\n",
       "      <td>58.0</td>\n",
       "      <td>26.0</td>\n",
       "      <td>52</td>\n",
       "      <td>0</td>\n",
       "      <td>Краснодар</td>\n",
       "      <td>Рафаил</td>\n",
       "      <td>...</td>\n",
       "      <td>-2534.0</td>\n",
       "      <td>-943.0</td>\n",
       "      <td>-4.0</td>\n",
       "      <td>0.0</td>\n",
       "      <td>0.0</td>\n",
       "      <td>0.0</td>\n",
       "      <td>0.0</td>\n",
       "      <td>0.0</td>\n",
       "      <td>0.0</td>\n",
       "      <td>1950.0</td>\n",
       "    </tr>\n",
       "  </tbody>\n",
       "</table>\n",
       "<p>5 rows × 30 columns</p>\n",
       "</div>"
      ],
      "text/plain": [
       "   user_id  month  messages_count  call_sum  call_count  internet_sum  age  \\\n",
       "0     1000      5            22.0     159.0        22.0           4.0   52   \n",
       "1     1000      6            60.0     172.0        43.0          49.0   52   \n",
       "2     1000      7            75.0     340.0        47.0          28.0   52   \n",
       "3     1000      8            81.0     408.0        52.0          27.0   52   \n",
       "4     1000      9            57.0     466.0        58.0          26.0   52   \n",
       "\n",
       "  churn_date       city first_name  ... extra_minutes_1 extra_messages_1  \\\n",
       "0          0  Краснодар     Рафаил  ...         -2841.0           -978.0   \n",
       "1          0  Краснодар     Рафаил  ...         -2828.0           -940.0   \n",
       "2          0  Краснодар     Рафаил  ...         -2660.0           -925.0   \n",
       "3          0  Краснодар     Рафаил  ...         -2592.0           -919.0   \n",
       "4          0  Краснодар     Рафаил  ...         -2534.0           -943.0   \n",
       "\n",
       "  extra_internet_1  extra_minutes  extra_messages  extra_internet  \\\n",
       "0            -26.0            0.0             0.0             0.0   \n",
       "1             19.0            0.0             0.0            19.0   \n",
       "2             -2.0            0.0             0.0             0.0   \n",
       "3             -3.0            0.0             0.0             0.0   \n",
       "4             -4.0            0.0             0.0             0.0   \n",
       "\n",
       "   cost_minutes  cost_messages  cost_internet  cost_total  \n",
       "0           0.0            0.0            0.0      1950.0  \n",
       "1           0.0            0.0         2850.0      4800.0  \n",
       "2           0.0            0.0            0.0      1950.0  \n",
       "3           0.0            0.0            0.0      1950.0  \n",
       "4           0.0            0.0            0.0      1950.0  \n",
       "\n",
       "[5 rows x 30 columns]"
      ]
     },
     "execution_count": 17,
     "metadata": {},
     "output_type": "execute_result"
    }
   ],
   "source": [
    "users_full['cost_minutes'] = users_full['extra_minutes'] * users_full['rub_per_minute']\n",
    "users_full['cost_messages'] = users_full['extra_messages'] * users_full['rub_per_message']\n",
    "users_full['cost_internet'] = users_full['extra_internet'] * users_full['rub_per_gb']\n",
    "users_full['cost_total'] = users_full['cost_minutes'] + users_full['cost_messages'] + users_full['cost_internet'] + users_full['rub_monthly_fee']\n",
    "\n",
    "users_full.head()\n"
   ]
  },
  {
   "cell_type": "markdown",
   "id": "065753ae",
   "metadata": {
    "id": "RY51YJYu_Zcv"
   },
   "source": [
    "**Выводы**\n",
    "\n",
    "По результатам подготовки данных для каждого пользователя рассчитаны:\n",
    "- количество сделанных звонков и израсходованных минут разговора по месяцам;\n",
    "- количество отправленных сообщений по месяцам;\n",
    "- объем израсходованного интернет-трафика по месяцам;\n",
    "- помесячная выручка (общая и в разрезе каждой услуги) в соответствии с тарифным планом."
   ]
  },
  {
   "cell_type": "markdown",
   "id": "ef2555e7",
   "metadata": {},
   "source": [
    "# Анализ данных <a id='4'></a>"
   ]
  },
  {
   "cell_type": "markdown",
   "id": "a90c23fb",
   "metadata": {},
   "source": [
    "Построим сводные таблицы с помесячными данными (величиной оказанной услуги, количеством пользователей, средним значением, дисперсией, и стандартным отклонением) в разрезе каждой услуги для каждого из тарифов."
   ]
  },
  {
   "cell_type": "code",
   "execution_count": 18,
   "id": "5320d9eb",
   "metadata": {
    "scrolled": false
   },
   "outputs": [
    {
     "data": {
      "text/html": [
       "<div>\n",
       "<style scoped>\n",
       "    .dataframe tbody tr th:only-of-type {\n",
       "        vertical-align: middle;\n",
       "    }\n",
       "\n",
       "    .dataframe tbody tr th {\n",
       "        vertical-align: top;\n",
       "    }\n",
       "\n",
       "    .dataframe thead tr th {\n",
       "        text-align: left;\n",
       "    }\n",
       "\n",
       "    .dataframe thead tr:last-of-type th {\n",
       "        text-align: right;\n",
       "    }\n",
       "</style>\n",
       "<table border=\"1\" class=\"dataframe\">\n",
       "  <thead>\n",
       "    <tr>\n",
       "      <th></th>\n",
       "      <th colspan=\"2\" halign=\"left\">sum</th>\n",
       "      <th colspan=\"2\" halign=\"left\">count</th>\n",
       "      <th colspan=\"2\" halign=\"left\">mean</th>\n",
       "      <th colspan=\"2\" halign=\"left\">var</th>\n",
       "      <th colspan=\"2\" halign=\"left\">std</th>\n",
       "    </tr>\n",
       "    <tr>\n",
       "      <th>tariff_name</th>\n",
       "      <th>smart</th>\n",
       "      <th>ultra</th>\n",
       "      <th>smart</th>\n",
       "      <th>ultra</th>\n",
       "      <th>smart</th>\n",
       "      <th>ultra</th>\n",
       "      <th>smart</th>\n",
       "      <th>ultra</th>\n",
       "      <th>smart</th>\n",
       "      <th>ultra</th>\n",
       "    </tr>\n",
       "    <tr>\n",
       "      <th>month</th>\n",
       "      <th></th>\n",
       "      <th></th>\n",
       "      <th></th>\n",
       "      <th></th>\n",
       "      <th></th>\n",
       "      <th></th>\n",
       "      <th></th>\n",
       "      <th></th>\n",
       "      <th></th>\n",
       "      <th></th>\n",
       "    </tr>\n",
       "  </thead>\n",
       "  <tbody>\n",
       "    <tr>\n",
       "      <th>1</th>\n",
       "      <td>6931.0</td>\n",
       "      <td>3853.0</td>\n",
       "      <td>34</td>\n",
       "      <td>9</td>\n",
       "      <td>203.852941</td>\n",
       "      <td>428.111111</td>\n",
       "      <td>23787.341355</td>\n",
       "      <td>72769.361111</td>\n",
       "      <td>154.231454</td>\n",
       "      <td>269.757968</td>\n",
       "    </tr>\n",
       "    <tr>\n",
       "      <th>2</th>\n",
       "      <td>17324.0</td>\n",
       "      <td>7131.0</td>\n",
       "      <td>58</td>\n",
       "      <td>24</td>\n",
       "      <td>298.689655</td>\n",
       "      <td>297.125000</td>\n",
       "      <td>36412.287961</td>\n",
       "      <td>87919.679348</td>\n",
       "      <td>190.820041</td>\n",
       "      <td>296.512528</td>\n",
       "    </tr>\n",
       "    <tr>\n",
       "      <th>3</th>\n",
       "      <td>30034.0</td>\n",
       "      <td>18117.0</td>\n",
       "      <td>77</td>\n",
       "      <td>37</td>\n",
       "      <td>390.051948</td>\n",
       "      <td>489.648649</td>\n",
       "      <td>36823.155161</td>\n",
       "      <td>111384.900901</td>\n",
       "      <td>191.893604</td>\n",
       "      <td>333.743765</td>\n",
       "    </tr>\n",
       "    <tr>\n",
       "      <th>4</th>\n",
       "      <td>41119.0</td>\n",
       "      <td>25191.0</td>\n",
       "      <td>112</td>\n",
       "      <td>55</td>\n",
       "      <td>367.133929</td>\n",
       "      <td>458.018182</td>\n",
       "      <td>34778.207127</td>\n",
       "      <td>71653.870034</td>\n",
       "      <td>186.489161</td>\n",
       "      <td>267.682405</td>\n",
       "    </tr>\n",
       "    <tr>\n",
       "      <th>5</th>\n",
       "      <td>54618.0</td>\n",
       "      <td>34192.0</td>\n",
       "      <td>141</td>\n",
       "      <td>67</td>\n",
       "      <td>387.361702</td>\n",
       "      <td>510.328358</td>\n",
       "      <td>34820.061094</td>\n",
       "      <td>83870.193578</td>\n",
       "      <td>186.601343</td>\n",
       "      <td>289.603511</td>\n",
       "    </tr>\n",
       "    <tr>\n",
       "      <th>6</th>\n",
       "      <td>64885.0</td>\n",
       "      <td>40295.0</td>\n",
       "      <td>164</td>\n",
       "      <td>84</td>\n",
       "      <td>395.640244</td>\n",
       "      <td>479.702381</td>\n",
       "      <td>30742.918861</td>\n",
       "      <td>91535.946500</td>\n",
       "      <td>175.336587</td>\n",
       "      <td>302.549081</td>\n",
       "    </tr>\n",
       "    <tr>\n",
       "      <th>7</th>\n",
       "      <td>82079.0</td>\n",
       "      <td>49667.0</td>\n",
       "      <td>201</td>\n",
       "      <td>91</td>\n",
       "      <td>408.353234</td>\n",
       "      <td>545.791209</td>\n",
       "      <td>32250.269602</td>\n",
       "      <td>94322.278144</td>\n",
       "      <td>179.583601</td>\n",
       "      <td>307.119322</td>\n",
       "    </tr>\n",
       "    <tr>\n",
       "      <th>8</th>\n",
       "      <td>99045.0</td>\n",
       "      <td>54653.0</td>\n",
       "      <td>235</td>\n",
       "      <td>107</td>\n",
       "      <td>421.468085</td>\n",
       "      <td>510.775701</td>\n",
       "      <td>34793.583379</td>\n",
       "      <td>97956.496385</td>\n",
       "      <td>186.530382</td>\n",
       "      <td>312.980026</td>\n",
       "    </tr>\n",
       "    <tr>\n",
       "      <th>9</th>\n",
       "      <td>111439.0</td>\n",
       "      <td>62036.0</td>\n",
       "      <td>260</td>\n",
       "      <td>115</td>\n",
       "      <td>428.611538</td>\n",
       "      <td>539.443478</td>\n",
       "      <td>33535.342723</td>\n",
       "      <td>105716.775286</td>\n",
       "      <td>183.126576</td>\n",
       "      <td>325.141162</td>\n",
       "    </tr>\n",
       "    <tr>\n",
       "      <th>10</th>\n",
       "      <td>125284.0</td>\n",
       "      <td>68644.0</td>\n",
       "      <td>294</td>\n",
       "      <td>123</td>\n",
       "      <td>426.136054</td>\n",
       "      <td>558.081301</td>\n",
       "      <td>35392.336375</td>\n",
       "      <td>106464.583500</td>\n",
       "      <td>188.128510</td>\n",
       "      <td>326.289110</td>\n",
       "    </tr>\n",
       "    <tr>\n",
       "      <th>11</th>\n",
       "      <td>137544.0</td>\n",
       "      <td>72545.0</td>\n",
       "      <td>316</td>\n",
       "      <td>134</td>\n",
       "      <td>435.265823</td>\n",
       "      <td>541.380597</td>\n",
       "      <td>31605.237050</td>\n",
       "      <td>96570.057064</td>\n",
       "      <td>177.778618</td>\n",
       "      <td>310.757232</td>\n",
       "    </tr>\n",
       "    <tr>\n",
       "      <th>12</th>\n",
       "      <td>161275.0</td>\n",
       "      <td>82400.0</td>\n",
       "      <td>337</td>\n",
       "      <td>139</td>\n",
       "      <td>478.560831</td>\n",
       "      <td>592.805755</td>\n",
       "      <td>39698.622033</td>\n",
       "      <td>117276.331561</td>\n",
       "      <td>199.245131</td>\n",
       "      <td>342.456321</td>\n",
       "    </tr>\n",
       "  </tbody>\n",
       "</table>\n",
       "</div>"
      ],
      "text/plain": [
       "                  sum          count              mean              \\\n",
       "tariff_name     smart    ultra smart ultra       smart       ultra   \n",
       "month                                                                \n",
       "1              6931.0   3853.0    34     9  203.852941  428.111111   \n",
       "2             17324.0   7131.0    58    24  298.689655  297.125000   \n",
       "3             30034.0  18117.0    77    37  390.051948  489.648649   \n",
       "4             41119.0  25191.0   112    55  367.133929  458.018182   \n",
       "5             54618.0  34192.0   141    67  387.361702  510.328358   \n",
       "6             64885.0  40295.0   164    84  395.640244  479.702381   \n",
       "7             82079.0  49667.0   201    91  408.353234  545.791209   \n",
       "8             99045.0  54653.0   235   107  421.468085  510.775701   \n",
       "9            111439.0  62036.0   260   115  428.611538  539.443478   \n",
       "10           125284.0  68644.0   294   123  426.136054  558.081301   \n",
       "11           137544.0  72545.0   316   134  435.265823  541.380597   \n",
       "12           161275.0  82400.0   337   139  478.560831  592.805755   \n",
       "\n",
       "                      var                        std              \n",
       "tariff_name         smart          ultra       smart       ultra  \n",
       "month                                                             \n",
       "1            23787.341355   72769.361111  154.231454  269.757968  \n",
       "2            36412.287961   87919.679348  190.820041  296.512528  \n",
       "3            36823.155161  111384.900901  191.893604  333.743765  \n",
       "4            34778.207127   71653.870034  186.489161  267.682405  \n",
       "5            34820.061094   83870.193578  186.601343  289.603511  \n",
       "6            30742.918861   91535.946500  175.336587  302.549081  \n",
       "7            32250.269602   94322.278144  179.583601  307.119322  \n",
       "8            34793.583379   97956.496385  186.530382  312.980026  \n",
       "9            33535.342723  105716.775286  183.126576  325.141162  \n",
       "10           35392.336375  106464.583500  188.128510  326.289110  \n",
       "11           31605.237050   96570.057064  177.778618  310.757232  \n",
       "12           39698.622033  117276.331561  199.245131  342.456321  "
      ]
     },
     "execution_count": 18,
     "metadata": {},
     "output_type": "execute_result"
    }
   ],
   "source": [
    "calls_in_tariffs = users_full.pivot_table(index=['month'], columns='tariff_name', values='call_sum', aggfunc=['sum', 'count', 'mean', 'var', 'std'])\n",
    "calls_in_tariffs"
   ]
  },
  {
   "cell_type": "markdown",
   "id": "19eadfff",
   "metadata": {},
   "source": [
    "Из данных таблицы видно, что количество израсходованных минут с 1 по 12 месяц увеличивается, что объясняется помесячным \"приростом\" абонентов, - среднее значение минут за месяц также увеличивается. Общее количество минут в месяц почти в 2 раза больше для тарифного плана smart (за счет большего к-ва абонентов), - среднее за месяц больше для тарифного плана ultra. Стоит отметить значительное отличие дисперсий и стандартных отклонений, значительно боьшие значения соответсвуют тарифному плану ultra, что указывает на больший разброс данных в данном тарифном плане."
   ]
  },
  {
   "cell_type": "code",
   "execution_count": 19,
   "id": "64e689f6",
   "metadata": {
    "scrolled": false
   },
   "outputs": [
    {
     "data": {
      "text/html": [
       "<div>\n",
       "<style scoped>\n",
       "    .dataframe tbody tr th:only-of-type {\n",
       "        vertical-align: middle;\n",
       "    }\n",
       "\n",
       "    .dataframe tbody tr th {\n",
       "        vertical-align: top;\n",
       "    }\n",
       "\n",
       "    .dataframe thead tr th {\n",
       "        text-align: left;\n",
       "    }\n",
       "\n",
       "    .dataframe thead tr:last-of-type th {\n",
       "        text-align: right;\n",
       "    }\n",
       "</style>\n",
       "<table border=\"1\" class=\"dataframe\">\n",
       "  <thead>\n",
       "    <tr>\n",
       "      <th></th>\n",
       "      <th colspan=\"2\" halign=\"left\">sum</th>\n",
       "      <th colspan=\"2\" halign=\"left\">count</th>\n",
       "      <th colspan=\"2\" halign=\"left\">mean</th>\n",
       "      <th colspan=\"2\" halign=\"left\">var</th>\n",
       "      <th colspan=\"2\" halign=\"left\">std</th>\n",
       "    </tr>\n",
       "    <tr>\n",
       "      <th>tariff_name</th>\n",
       "      <th>smart</th>\n",
       "      <th>ultra</th>\n",
       "      <th>smart</th>\n",
       "      <th>ultra</th>\n",
       "      <th>smart</th>\n",
       "      <th>ultra</th>\n",
       "      <th>smart</th>\n",
       "      <th>ultra</th>\n",
       "      <th>smart</th>\n",
       "      <th>ultra</th>\n",
       "    </tr>\n",
       "    <tr>\n",
       "      <th>month</th>\n",
       "      <th></th>\n",
       "      <th></th>\n",
       "      <th></th>\n",
       "      <th></th>\n",
       "      <th></th>\n",
       "      <th></th>\n",
       "      <th></th>\n",
       "      <th></th>\n",
       "      <th></th>\n",
       "      <th></th>\n",
       "    </tr>\n",
       "  </thead>\n",
       "  <tbody>\n",
       "    <tr>\n",
       "      <th>1</th>\n",
       "      <td>620.0</td>\n",
       "      <td>304.0</td>\n",
       "      <td>34</td>\n",
       "      <td>9</td>\n",
       "      <td>18.235294</td>\n",
       "      <td>33.777778</td>\n",
       "      <td>262.367201</td>\n",
       "      <td>940.694444</td>\n",
       "      <td>16.197753</td>\n",
       "      <td>30.670742</td>\n",
       "    </tr>\n",
       "    <tr>\n",
       "      <th>2</th>\n",
       "      <td>1397.0</td>\n",
       "      <td>527.0</td>\n",
       "      <td>58</td>\n",
       "      <td>24</td>\n",
       "      <td>24.086207</td>\n",
       "      <td>21.958333</td>\n",
       "      <td>473.097701</td>\n",
       "      <td>716.824275</td>\n",
       "      <td>21.750809</td>\n",
       "      <td>26.773574</td>\n",
       "    </tr>\n",
       "    <tr>\n",
       "      <th>3</th>\n",
       "      <td>2453.0</td>\n",
       "      <td>1195.0</td>\n",
       "      <td>77</td>\n",
       "      <td>37</td>\n",
       "      <td>31.857143</td>\n",
       "      <td>32.297297</td>\n",
       "      <td>718.492481</td>\n",
       "      <td>1732.381381</td>\n",
       "      <td>26.804710</td>\n",
       "      <td>41.621886</td>\n",
       "    </tr>\n",
       "    <tr>\n",
       "      <th>4</th>\n",
       "      <td>3443.0</td>\n",
       "      <td>1736.0</td>\n",
       "      <td>112</td>\n",
       "      <td>55</td>\n",
       "      <td>30.741071</td>\n",
       "      <td>31.563636</td>\n",
       "      <td>602.139559</td>\n",
       "      <td>1407.287542</td>\n",
       "      <td>24.538532</td>\n",
       "      <td>37.513831</td>\n",
       "    </tr>\n",
       "    <tr>\n",
       "      <th>5</th>\n",
       "      <td>4762.0</td>\n",
       "      <td>2536.0</td>\n",
       "      <td>141</td>\n",
       "      <td>67</td>\n",
       "      <td>33.773050</td>\n",
       "      <td>37.850746</td>\n",
       "      <td>730.990983</td>\n",
       "      <td>1624.644052</td>\n",
       "      <td>27.036845</td>\n",
       "      <td>40.306874</td>\n",
       "    </tr>\n",
       "    <tr>\n",
       "      <th>6</th>\n",
       "      <td>5478.0</td>\n",
       "      <td>3505.0</td>\n",
       "      <td>164</td>\n",
       "      <td>84</td>\n",
       "      <td>33.402439</td>\n",
       "      <td>41.726190</td>\n",
       "      <td>806.806374</td>\n",
       "      <td>1986.297619</td>\n",
       "      <td>28.404337</td>\n",
       "      <td>44.567899</td>\n",
       "    </tr>\n",
       "    <tr>\n",
       "      <th>7</th>\n",
       "      <td>6784.0</td>\n",
       "      <td>4536.0</td>\n",
       "      <td>201</td>\n",
       "      <td>91</td>\n",
       "      <td>33.751244</td>\n",
       "      <td>49.846154</td>\n",
       "      <td>799.887811</td>\n",
       "      <td>2372.042735</td>\n",
       "      <td>28.282288</td>\n",
       "      <td>48.703621</td>\n",
       "    </tr>\n",
       "    <tr>\n",
       "      <th>8</th>\n",
       "      <td>7905.0</td>\n",
       "      <td>5183.0</td>\n",
       "      <td>235</td>\n",
       "      <td>107</td>\n",
       "      <td>33.638298</td>\n",
       "      <td>48.439252</td>\n",
       "      <td>838.257501</td>\n",
       "      <td>2171.739199</td>\n",
       "      <td>28.952677</td>\n",
       "      <td>46.601923</td>\n",
       "    </tr>\n",
       "    <tr>\n",
       "      <th>9</th>\n",
       "      <td>8746.0</td>\n",
       "      <td>6013.0</td>\n",
       "      <td>260</td>\n",
       "      <td>115</td>\n",
       "      <td>33.638462</td>\n",
       "      <td>52.286957</td>\n",
       "      <td>790.617820</td>\n",
       "      <td>2152.855530</td>\n",
       "      <td>28.117927</td>\n",
       "      <td>46.398874</td>\n",
       "    </tr>\n",
       "    <tr>\n",
       "      <th>10</th>\n",
       "      <td>9927.0</td>\n",
       "      <td>7187.0</td>\n",
       "      <td>294</td>\n",
       "      <td>123</td>\n",
       "      <td>33.765306</td>\n",
       "      <td>58.430894</td>\n",
       "      <td>816.111966</td>\n",
       "      <td>2697.181661</td>\n",
       "      <td>28.567673</td>\n",
       "      <td>51.934398</td>\n",
       "    </tr>\n",
       "    <tr>\n",
       "      <th>11</th>\n",
       "      <td>10768.0</td>\n",
       "      <td>7476.0</td>\n",
       "      <td>316</td>\n",
       "      <td>134</td>\n",
       "      <td>34.075949</td>\n",
       "      <td>55.791045</td>\n",
       "      <td>805.937071</td>\n",
       "      <td>2476.948491</td>\n",
       "      <td>28.389031</td>\n",
       "      <td>49.768951</td>\n",
       "    </tr>\n",
       "    <tr>\n",
       "      <th>12</th>\n",
       "      <td>12130.0</td>\n",
       "      <td>8425.0</td>\n",
       "      <td>337</td>\n",
       "      <td>139</td>\n",
       "      <td>35.994065</td>\n",
       "      <td>60.611511</td>\n",
       "      <td>934.952346</td>\n",
       "      <td>2681.978417</td>\n",
       "      <td>30.576990</td>\n",
       "      <td>51.787821</td>\n",
       "    </tr>\n",
       "  </tbody>\n",
       "</table>\n",
       "</div>"
      ],
      "text/plain": [
       "                 sum         count             mean                    var  \\\n",
       "tariff_name    smart   ultra smart ultra      smart      ultra       smart   \n",
       "month                                                                        \n",
       "1              620.0   304.0    34     9  18.235294  33.777778  262.367201   \n",
       "2             1397.0   527.0    58    24  24.086207  21.958333  473.097701   \n",
       "3             2453.0  1195.0    77    37  31.857143  32.297297  718.492481   \n",
       "4             3443.0  1736.0   112    55  30.741071  31.563636  602.139559   \n",
       "5             4762.0  2536.0   141    67  33.773050  37.850746  730.990983   \n",
       "6             5478.0  3505.0   164    84  33.402439  41.726190  806.806374   \n",
       "7             6784.0  4536.0   201    91  33.751244  49.846154  799.887811   \n",
       "8             7905.0  5183.0   235   107  33.638298  48.439252  838.257501   \n",
       "9             8746.0  6013.0   260   115  33.638462  52.286957  790.617820   \n",
       "10            9927.0  7187.0   294   123  33.765306  58.430894  816.111966   \n",
       "11           10768.0  7476.0   316   134  34.075949  55.791045  805.937071   \n",
       "12           12130.0  8425.0   337   139  35.994065  60.611511  934.952346   \n",
       "\n",
       "                                std             \n",
       "tariff_name        ultra      smart      ultra  \n",
       "month                                           \n",
       "1             940.694444  16.197753  30.670742  \n",
       "2             716.824275  21.750809  26.773574  \n",
       "3            1732.381381  26.804710  41.621886  \n",
       "4            1407.287542  24.538532  37.513831  \n",
       "5            1624.644052  27.036845  40.306874  \n",
       "6            1986.297619  28.404337  44.567899  \n",
       "7            2372.042735  28.282288  48.703621  \n",
       "8            2171.739199  28.952677  46.601923  \n",
       "9            2152.855530  28.117927  46.398874  \n",
       "10           2697.181661  28.567673  51.934398  \n",
       "11           2476.948491  28.389031  49.768951  \n",
       "12           2681.978417  30.576990  51.787821  "
      ]
     },
     "execution_count": 19,
     "metadata": {},
     "output_type": "execute_result"
    }
   ],
   "source": [
    "messages_in_tariffs = users_full.pivot_table(index=['month'], columns='tariff_name', values='messages_count', aggfunc=['sum', 'count', 'mean', 'var', 'std'])\n",
    "messages_in_tariffs\n"
   ]
  },
  {
   "cell_type": "markdown",
   "id": "08b09f27",
   "metadata": {},
   "source": [
    "Из данных таблицы видно, что количество отправленных СМС с 1 по 12 месяц увеличивается, что объясняется помесячным \"приростом\" абонентов, - среднее значение минут за месяц также увеличивается. Общее количество СМС в месяц больше для тарифного плана smart (за счет большего к-ва абонентов), - среднее за месяц больше для тарифного плана ultra. Стоит отметить значительное отличие дисперсий и стандартных отклонений, значительно боьшие значения соответсвуют тарифному плану ultra, что указывает на больший разброс данных в данном тарифном плане."
   ]
  },
  {
   "cell_type": "code",
   "execution_count": 20,
   "id": "844ebf7a",
   "metadata": {
    "scrolled": false
   },
   "outputs": [
    {
     "data": {
      "text/html": [
       "<div>\n",
       "<style scoped>\n",
       "    .dataframe tbody tr th:only-of-type {\n",
       "        vertical-align: middle;\n",
       "    }\n",
       "\n",
       "    .dataframe tbody tr th {\n",
       "        vertical-align: top;\n",
       "    }\n",
       "\n",
       "    .dataframe thead tr th {\n",
       "        text-align: left;\n",
       "    }\n",
       "\n",
       "    .dataframe thead tr:last-of-type th {\n",
       "        text-align: right;\n",
       "    }\n",
       "</style>\n",
       "<table border=\"1\" class=\"dataframe\">\n",
       "  <thead>\n",
       "    <tr>\n",
       "      <th></th>\n",
       "      <th colspan=\"2\" halign=\"left\">sum</th>\n",
       "      <th colspan=\"2\" halign=\"left\">count</th>\n",
       "      <th colspan=\"2\" halign=\"left\">mean</th>\n",
       "      <th colspan=\"2\" halign=\"left\">var</th>\n",
       "      <th colspan=\"2\" halign=\"left\">std</th>\n",
       "    </tr>\n",
       "    <tr>\n",
       "      <th>tariff_name</th>\n",
       "      <th>smart</th>\n",
       "      <th>ultra</th>\n",
       "      <th>smart</th>\n",
       "      <th>ultra</th>\n",
       "      <th>smart</th>\n",
       "      <th>ultra</th>\n",
       "      <th>smart</th>\n",
       "      <th>ultra</th>\n",
       "      <th>smart</th>\n",
       "      <th>ultra</th>\n",
       "    </tr>\n",
       "    <tr>\n",
       "      <th>month</th>\n",
       "      <th></th>\n",
       "      <th></th>\n",
       "      <th></th>\n",
       "      <th></th>\n",
       "      <th></th>\n",
       "      <th></th>\n",
       "      <th></th>\n",
       "      <th></th>\n",
       "      <th></th>\n",
       "      <th></th>\n",
       "    </tr>\n",
       "  </thead>\n",
       "  <tbody>\n",
       "    <tr>\n",
       "      <th>1</th>\n",
       "      <td>733.0</td>\n",
       "      <td>245.0</td>\n",
       "      <td>34</td>\n",
       "      <td>9</td>\n",
       "      <td>21.558824</td>\n",
       "      <td>27.222222</td>\n",
       "      <td>237.163102</td>\n",
       "      <td>222.444444</td>\n",
       "      <td>15.400101</td>\n",
       "      <td>14.914572</td>\n",
       "    </tr>\n",
       "    <tr>\n",
       "      <th>2</th>\n",
       "      <td>1726.0</td>\n",
       "      <td>574.0</td>\n",
       "      <td>58</td>\n",
       "      <td>24</td>\n",
       "      <td>29.758621</td>\n",
       "      <td>23.916667</td>\n",
       "      <td>245.730188</td>\n",
       "      <td>429.384058</td>\n",
       "      <td>15.675783</td>\n",
       "      <td>20.721584</td>\n",
       "    </tr>\n",
       "    <tr>\n",
       "      <th>3</th>\n",
       "      <td>3070.0</td>\n",
       "      <td>1267.0</td>\n",
       "      <td>77</td>\n",
       "      <td>37</td>\n",
       "      <td>39.870130</td>\n",
       "      <td>34.243243</td>\n",
       "      <td>234.825017</td>\n",
       "      <td>462.078078</td>\n",
       "      <td>15.324001</td>\n",
       "      <td>21.496001</td>\n",
       "    </tr>\n",
       "    <tr>\n",
       "      <th>4</th>\n",
       "      <td>3976.0</td>\n",
       "      <td>1826.0</td>\n",
       "      <td>112</td>\n",
       "      <td>55</td>\n",
       "      <td>35.500000</td>\n",
       "      <td>33.200000</td>\n",
       "      <td>221.837838</td>\n",
       "      <td>361.125926</td>\n",
       "      <td>14.894222</td>\n",
       "      <td>19.003314</td>\n",
       "    </tr>\n",
       "    <tr>\n",
       "      <th>5</th>\n",
       "      <td>5810.0</td>\n",
       "      <td>2557.0</td>\n",
       "      <td>141</td>\n",
       "      <td>67</td>\n",
       "      <td>41.205674</td>\n",
       "      <td>38.164179</td>\n",
       "      <td>222.907396</td>\n",
       "      <td>384.412031</td>\n",
       "      <td>14.930084</td>\n",
       "      <td>19.606428</td>\n",
       "    </tr>\n",
       "    <tr>\n",
       "      <th>6</th>\n",
       "      <td>6748.0</td>\n",
       "      <td>3111.0</td>\n",
       "      <td>164</td>\n",
       "      <td>84</td>\n",
       "      <td>41.146341</td>\n",
       "      <td>37.035714</td>\n",
       "      <td>197.659434</td>\n",
       "      <td>345.070998</td>\n",
       "      <td>14.059141</td>\n",
       "      <td>18.576087</td>\n",
       "    </tr>\n",
       "    <tr>\n",
       "      <th>7</th>\n",
       "      <td>8344.0</td>\n",
       "      <td>3668.0</td>\n",
       "      <td>201</td>\n",
       "      <td>91</td>\n",
       "      <td>41.512438</td>\n",
       "      <td>40.307692</td>\n",
       "      <td>227.171095</td>\n",
       "      <td>360.482051</td>\n",
       "      <td>15.072196</td>\n",
       "      <td>18.986365</td>\n",
       "    </tr>\n",
       "    <tr>\n",
       "      <th>8</th>\n",
       "      <td>10199.0</td>\n",
       "      <td>4078.0</td>\n",
       "      <td>235</td>\n",
       "      <td>107</td>\n",
       "      <td>43.400000</td>\n",
       "      <td>38.112150</td>\n",
       "      <td>200.164103</td>\n",
       "      <td>416.553342</td>\n",
       "      <td>14.147936</td>\n",
       "      <td>20.409638</td>\n",
       "    </tr>\n",
       "    <tr>\n",
       "      <th>9</th>\n",
       "      <td>11117.0</td>\n",
       "      <td>4334.0</td>\n",
       "      <td>260</td>\n",
       "      <td>115</td>\n",
       "      <td>42.757692</td>\n",
       "      <td>37.686957</td>\n",
       "      <td>167.697817</td>\n",
       "      <td>345.971320</td>\n",
       "      <td>12.949819</td>\n",
       "      <td>18.600304</td>\n",
       "    </tr>\n",
       "    <tr>\n",
       "      <th>10</th>\n",
       "      <td>12871.0</td>\n",
       "      <td>4812.0</td>\n",
       "      <td>294</td>\n",
       "      <td>123</td>\n",
       "      <td>43.778912</td>\n",
       "      <td>39.121951</td>\n",
       "      <td>221.223991</td>\n",
       "      <td>351.681727</td>\n",
       "      <td>14.873600</td>\n",
       "      <td>18.753179</td>\n",
       "    </tr>\n",
       "    <tr>\n",
       "      <th>11</th>\n",
       "      <td>14033.0</td>\n",
       "      <td>5204.0</td>\n",
       "      <td>316</td>\n",
       "      <td>134</td>\n",
       "      <td>44.408228</td>\n",
       "      <td>38.835821</td>\n",
       "      <td>193.035996</td>\n",
       "      <td>365.611940</td>\n",
       "      <td>13.893739</td>\n",
       "      <td>19.120982</td>\n",
       "    </tr>\n",
       "    <tr>\n",
       "      <th>12</th>\n",
       "      <td>15923.0</td>\n",
       "      <td>5916.0</td>\n",
       "      <td>337</td>\n",
       "      <td>139</td>\n",
       "      <td>47.249258</td>\n",
       "      <td>42.561151</td>\n",
       "      <td>202.199590</td>\n",
       "      <td>405.740799</td>\n",
       "      <td>14.219690</td>\n",
       "      <td>20.143009</td>\n",
       "    </tr>\n",
       "  </tbody>\n",
       "</table>\n",
       "</div>"
      ],
      "text/plain": [
       "                 sum         count             mean                    var  \\\n",
       "tariff_name    smart   ultra smart ultra      smart      ultra       smart   \n",
       "month                                                                        \n",
       "1              733.0   245.0    34     9  21.558824  27.222222  237.163102   \n",
       "2             1726.0   574.0    58    24  29.758621  23.916667  245.730188   \n",
       "3             3070.0  1267.0    77    37  39.870130  34.243243  234.825017   \n",
       "4             3976.0  1826.0   112    55  35.500000  33.200000  221.837838   \n",
       "5             5810.0  2557.0   141    67  41.205674  38.164179  222.907396   \n",
       "6             6748.0  3111.0   164    84  41.146341  37.035714  197.659434   \n",
       "7             8344.0  3668.0   201    91  41.512438  40.307692  227.171095   \n",
       "8            10199.0  4078.0   235   107  43.400000  38.112150  200.164103   \n",
       "9            11117.0  4334.0   260   115  42.757692  37.686957  167.697817   \n",
       "10           12871.0  4812.0   294   123  43.778912  39.121951  221.223991   \n",
       "11           14033.0  5204.0   316   134  44.408228  38.835821  193.035996   \n",
       "12           15923.0  5916.0   337   139  47.249258  42.561151  202.199590   \n",
       "\n",
       "                               std             \n",
       "tariff_name       ultra      smart      ultra  \n",
       "month                                          \n",
       "1            222.444444  15.400101  14.914572  \n",
       "2            429.384058  15.675783  20.721584  \n",
       "3            462.078078  15.324001  21.496001  \n",
       "4            361.125926  14.894222  19.003314  \n",
       "5            384.412031  14.930084  19.606428  \n",
       "6            345.070998  14.059141  18.576087  \n",
       "7            360.482051  15.072196  18.986365  \n",
       "8            416.553342  14.147936  20.409638  \n",
       "9            345.971320  12.949819  18.600304  \n",
       "10           351.681727  14.873600  18.753179  \n",
       "11           365.611940  13.893739  19.120982  \n",
       "12           405.740799  14.219690  20.143009  "
      ]
     },
     "execution_count": 20,
     "metadata": {},
     "output_type": "execute_result"
    }
   ],
   "source": [
    "internet_in_tariffs = users_full.pivot_table(index=['month'], columns='tariff_name', values='internet_sum', aggfunc=['sum', 'count', 'mean', 'var', 'std'])\n",
    "internet_in_tariffs\n"
   ]
  },
  {
   "cell_type": "markdown",
   "id": "b99ded59",
   "metadata": {},
   "source": [
    "Из данных таблицы видно, что объём израсходованного трафика с 1 по 12 месяц увеличивается, что объясняется помесячным \"приростом\" абонентов, - средний объём израсходованного трафика за месяц также увеличивается. Общий и средний объём израсходованного трафика в месяц больше для тарифного плана smart. Стоит отметить значительное отличие дисперсий и стандартных отклонений, значительно боьшие значения соответсвуют тарифному плану ultra, что указывает на больший разброс данных в данном тарифном плане."
   ]
  },
  {
   "cell_type": "markdown",
   "id": "25f7b54a",
   "metadata": {},
   "source": [
    "Посмотрим на превышение включённых услуг в разрезе тарифных планов."
   ]
  },
  {
   "cell_type": "code",
   "execution_count": 21,
   "id": "5b00170b",
   "metadata": {
    "scrolled": false
   },
   "outputs": [
    {
     "data": {
      "text/html": [
       "<div>\n",
       "<style scoped>\n",
       "    .dataframe tbody tr th:only-of-type {\n",
       "        vertical-align: middle;\n",
       "    }\n",
       "\n",
       "    .dataframe tbody tr th {\n",
       "        vertical-align: top;\n",
       "    }\n",
       "\n",
       "    .dataframe thead tr th {\n",
       "        text-align: left;\n",
       "    }\n",
       "\n",
       "    .dataframe thead tr:last-of-type th {\n",
       "        text-align: right;\n",
       "    }\n",
       "</style>\n",
       "<table border=\"1\" class=\"dataframe\">\n",
       "  <thead>\n",
       "    <tr>\n",
       "      <th></th>\n",
       "      <th colspan=\"6\" halign=\"left\">mean</th>\n",
       "    </tr>\n",
       "    <tr>\n",
       "      <th></th>\n",
       "      <th colspan=\"2\" halign=\"left\">extra_internet</th>\n",
       "      <th colspan=\"2\" halign=\"left\">extra_messages</th>\n",
       "      <th colspan=\"2\" halign=\"left\">extra_minutes</th>\n",
       "    </tr>\n",
       "    <tr>\n",
       "      <th>tariff_name</th>\n",
       "      <th>smart</th>\n",
       "      <th>ultra</th>\n",
       "      <th>smart</th>\n",
       "      <th>ultra</th>\n",
       "      <th>smart</th>\n",
       "      <th>ultra</th>\n",
       "    </tr>\n",
       "    <tr>\n",
       "      <th>month</th>\n",
       "      <th></th>\n",
       "      <th></th>\n",
       "      <th></th>\n",
       "      <th></th>\n",
       "      <th></th>\n",
       "      <th></th>\n",
       "    </tr>\n",
       "  </thead>\n",
       "  <tbody>\n",
       "    <tr>\n",
       "      <th>1</th>\n",
       "      <td>9.794118</td>\n",
       "      <td>4.111111</td>\n",
       "      <td>0.705882</td>\n",
       "      <td>0.0</td>\n",
       "      <td>1.500000</td>\n",
       "      <td>0.0</td>\n",
       "    </tr>\n",
       "    <tr>\n",
       "      <th>2</th>\n",
       "      <td>16.396552</td>\n",
       "      <td>6.458333</td>\n",
       "      <td>1.844828</td>\n",
       "      <td>0.0</td>\n",
       "      <td>14.827586</td>\n",
       "      <td>0.0</td>\n",
       "    </tr>\n",
       "    <tr>\n",
       "      <th>3</th>\n",
       "      <td>25.168831</td>\n",
       "      <td>11.756757</td>\n",
       "      <td>5.012987</td>\n",
       "      <td>0.0</td>\n",
       "      <td>34.493506</td>\n",
       "      <td>0.0</td>\n",
       "    </tr>\n",
       "    <tr>\n",
       "      <th>4</th>\n",
       "      <td>21.214286</td>\n",
       "      <td>9.545455</td>\n",
       "      <td>3.669643</td>\n",
       "      <td>0.0</td>\n",
       "      <td>26.883929</td>\n",
       "      <td>0.0</td>\n",
       "    </tr>\n",
       "    <tr>\n",
       "      <th>5</th>\n",
       "      <td>26.765957</td>\n",
       "      <td>12.358209</td>\n",
       "      <td>5.347518</td>\n",
       "      <td>0.0</td>\n",
       "      <td>27.510638</td>\n",
       "      <td>0.0</td>\n",
       "    </tr>\n",
       "    <tr>\n",
       "      <th>6</th>\n",
       "      <td>26.451220</td>\n",
       "      <td>11.523810</td>\n",
       "      <td>5.670732</td>\n",
       "      <td>0.0</td>\n",
       "      <td>29.408537</td>\n",
       "      <td>0.0</td>\n",
       "    </tr>\n",
       "    <tr>\n",
       "      <th>7</th>\n",
       "      <td>26.965174</td>\n",
       "      <td>13.593407</td>\n",
       "      <td>5.786070</td>\n",
       "      <td>0.0</td>\n",
       "      <td>34.452736</td>\n",
       "      <td>0.0</td>\n",
       "    </tr>\n",
       "    <tr>\n",
       "      <th>8</th>\n",
       "      <td>28.587234</td>\n",
       "      <td>12.803738</td>\n",
       "      <td>6.255319</td>\n",
       "      <td>0.0</td>\n",
       "      <td>40.680851</td>\n",
       "      <td>0.0</td>\n",
       "    </tr>\n",
       "    <tr>\n",
       "      <th>9</th>\n",
       "      <td>27.973077</td>\n",
       "      <td>12.113043</td>\n",
       "      <td>5.684615</td>\n",
       "      <td>0.0</td>\n",
       "      <td>43.015385</td>\n",
       "      <td>0.0</td>\n",
       "    </tr>\n",
       "    <tr>\n",
       "      <th>10</th>\n",
       "      <td>29.125850</td>\n",
       "      <td>12.894309</td>\n",
       "      <td>5.993197</td>\n",
       "      <td>0.0</td>\n",
       "      <td>44.309524</td>\n",
       "      <td>0.0</td>\n",
       "    </tr>\n",
       "    <tr>\n",
       "      <th>11</th>\n",
       "      <td>29.579114</td>\n",
       "      <td>12.731343</td>\n",
       "      <td>6.155063</td>\n",
       "      <td>0.0</td>\n",
       "      <td>43.848101</td>\n",
       "      <td>0.0</td>\n",
       "    </tr>\n",
       "    <tr>\n",
       "      <th>12</th>\n",
       "      <td>32.278932</td>\n",
       "      <td>15.827338</td>\n",
       "      <td>7.412463</td>\n",
       "      <td>0.0</td>\n",
       "      <td>67.973294</td>\n",
       "      <td>0.0</td>\n",
       "    </tr>\n",
       "  </tbody>\n",
       "</table>\n",
       "</div>"
      ],
      "text/plain": [
       "                      mean                                                    \n",
       "            extra_internet            extra_messages       extra_minutes      \n",
       "tariff_name          smart      ultra          smart ultra         smart ultra\n",
       "month                                                                         \n",
       "1                 9.794118   4.111111       0.705882   0.0      1.500000   0.0\n",
       "2                16.396552   6.458333       1.844828   0.0     14.827586   0.0\n",
       "3                25.168831  11.756757       5.012987   0.0     34.493506   0.0\n",
       "4                21.214286   9.545455       3.669643   0.0     26.883929   0.0\n",
       "5                26.765957  12.358209       5.347518   0.0     27.510638   0.0\n",
       "6                26.451220  11.523810       5.670732   0.0     29.408537   0.0\n",
       "7                26.965174  13.593407       5.786070   0.0     34.452736   0.0\n",
       "8                28.587234  12.803738       6.255319   0.0     40.680851   0.0\n",
       "9                27.973077  12.113043       5.684615   0.0     43.015385   0.0\n",
       "10               29.125850  12.894309       5.993197   0.0     44.309524   0.0\n",
       "11               29.579114  12.731343       6.155063   0.0     43.848101   0.0\n",
       "12               32.278932  15.827338       7.412463   0.0     67.973294   0.0"
      ]
     },
     "execution_count": 21,
     "metadata": {},
     "output_type": "execute_result"
    }
   ],
   "source": [
    "extra_servis_in_tariffs = users_full.pivot_table(index=['month'], columns='tariff_name', values=['extra_minutes', 'extra_internet', 'extra_messages'], aggfunc=['mean'])\n",
    "extra_servis_in_tariffs"
   ]
  },
  {
   "cell_type": "markdown",
   "id": "2b31e775",
   "metadata": {},
   "source": [
    "Из таблицы видно, что в среднем абоненты тарифного плана smart превышают установленные лимиты по всем услугам, что определенно выгодно оператору услуг. \n",
    "Интересен факт, что при этом для абонентов тарифного плана smart превышение по к-ву минут и СМС в среднем приводит примерно к дополнительным затратам от 6 до 220 рублей, а превышение трафика - от 2000 до 6400 рублей, что дает среднюю стоимость услуги с учетом ежемесячной оплаты от 2560 до 7200 рублей в месяц. При этом для тарифного плана ultra общая стоимость услуги в месяц составляет примерно от 2500 до 4300 рублей.\n",
    "Располагая приведенными данными, многие абоненты тарифа smart вряд ли повторили свой выбор, несмотря на более высокую абонентскую плату тарифа ultra."
   ]
  },
  {
   "cell_type": "markdown",
   "id": "46577e80",
   "metadata": {},
   "source": [
    "Рассчитаем среднее значение, дисперсию, стандартное отклонение общей стоимости услуг в разрезе тарифных планов."
   ]
  },
  {
   "cell_type": "code",
   "execution_count": 22,
   "id": "3c0662e0",
   "metadata": {
    "scrolled": true
   },
   "outputs": [
    {
     "data": {
      "text/html": [
       "<div>\n",
       "<style scoped>\n",
       "    .dataframe tbody tr th:only-of-type {\n",
       "        vertical-align: middle;\n",
       "    }\n",
       "\n",
       "    .dataframe tbody tr th {\n",
       "        vertical-align: top;\n",
       "    }\n",
       "\n",
       "    .dataframe thead tr th {\n",
       "        text-align: left;\n",
       "    }\n",
       "\n",
       "    .dataframe thead tr:last-of-type th {\n",
       "        text-align: right;\n",
       "    }\n",
       "</style>\n",
       "<table border=\"1\" class=\"dataframe\">\n",
       "  <thead>\n",
       "    <tr>\n",
       "      <th></th>\n",
       "      <th>mean</th>\n",
       "      <th>var</th>\n",
       "      <th>std</th>\n",
       "    </tr>\n",
       "    <tr>\n",
       "      <th></th>\n",
       "      <th>cost_total</th>\n",
       "      <th>cost_total</th>\n",
       "      <th>cost_total</th>\n",
       "    </tr>\n",
       "    <tr>\n",
       "      <th>tariff_name</th>\n",
       "      <th></th>\n",
       "      <th></th>\n",
       "      <th></th>\n",
       "    </tr>\n",
       "  </thead>\n",
       "  <tbody>\n",
       "    <tr>\n",
       "      <th>smart</th>\n",
       "      <td>6247.084343</td>\n",
       "      <td>8.373601e+06</td>\n",
       "      <td>2893.717526</td>\n",
       "    </tr>\n",
       "    <tr>\n",
       "      <th>ultra</th>\n",
       "      <td>3844.416244</td>\n",
       "      <td>4.692159e+06</td>\n",
       "      <td>2166.139153</td>\n",
       "    </tr>\n",
       "  </tbody>\n",
       "</table>\n",
       "</div>"
      ],
      "text/plain": [
       "                    mean           var          std\n",
       "              cost_total    cost_total   cost_total\n",
       "tariff_name                                        \n",
       "smart        6247.084343  8.373601e+06  2893.717526\n",
       "ultra        3844.416244  4.692159e+06  2166.139153"
      ]
     },
     "execution_count": 22,
     "metadata": {},
     "output_type": "execute_result"
    }
   ],
   "source": [
    "cost_total_in_tariffs = users_full.pivot_table(index=['tariff_name'], values='cost_total', aggfunc=['mean', 'var', 'std'])\n",
    "cost_total_in_tariffs"
   ]
  },
  {
   "cell_type": "markdown",
   "id": "bc49cbdd",
   "metadata": {},
   "source": [
    "Из таблицы видно, что средняя стоимость услуг тарифа smart в 1,6 раза больше чем стоимость услуг тарифа ultra. При этом также для тарифа smart величина дисперсии и стандартного отклонения также больше, что указывает на больший разброс данных в этом тарифном плане.\n",
    "\n",
    "Постром гистограммы и опишем распределения для каждого тарифного плана."
   ]
  },
  {
   "cell_type": "code",
   "execution_count": 23,
   "id": "78847f5d",
   "metadata": {
    "scrolled": false
   },
   "outputs": [
    {
     "data": {
      "text/plain": [
       "Text(0.5, 1.0, 'Гистограмма распределения общей выручки тарифа \"Ультра\"')"
      ]
     },
     "execution_count": 23,
     "metadata": {},
     "output_type": "execute_result"
    },
    {
     "data": {
      "image/png": "[encoded data removed]",
      "text/plain": [
       "<Figure size 1008x360 with 1 Axes>"
      ]
     },
     "metadata": {
      "needs_background": "light"
     },
     "output_type": "display_data"
    }
   ],
   "source": [
    "cost_ultra = users_full.query('tariff_name == \"ultra\"')\n",
    "cost_ultra['cost_total'].hist(bins=40, range=(1900, 13000), figsize = (14, 5))\n",
    "plt.title('Гистограмма распределения общей выручки тарифа \"Ультра\"')\n"
   ]
  },
  {
   "cell_type": "markdown",
   "id": "623d6ee2",
   "metadata": {},
   "source": [
    "Без явного пика в районе 2000 рублей (значение близко к месячной абонентской плате, очевидно что в этом диапазоне абоненты не превышают лимитов тарифного плана) распределение близко к распеределению Пуасонна."
   ]
  },
  {
   "cell_type": "code",
   "execution_count": 24,
   "id": "e8d34450",
   "metadata": {
    "scrolled": false
   },
   "outputs": [
    {
     "data": {
      "text/plain": [
       "Text(0.5, 1.0, 'Гистограмма распределения общей выручки тарифа \"Смарт\"')"
      ]
     },
     "execution_count": 24,
     "metadata": {},
     "output_type": "execute_result"
    },
    {
     "data": {
      "image/png": "[encoded data removed]",
      "text/plain": [
       "<Figure size 1008x360 with 1 Axes>"
      ]
     },
     "metadata": {
      "needs_background": "light"
     },
     "output_type": "display_data"
    }
   ],
   "source": [
    "# plot(y = 'median_time', kind='bar', figsize = (10, 5), grid=True) \n",
    "# users_full.pivot_table(index=['tariff_name'], values='cost_total').plot(kind='hist', figsize = (10, 5), grid=True)\n",
    "\n",
    "cost_smart = users_full.query('tariff_name == \"smart\"')\n",
    "cost_smart['cost_total'].hist(bins=40, figsize = (14, 5))\n",
    "plt.title('Гистограмма распределения общей выручки тарифа \"Смарт\"')\n"
   ]
  },
  {
   "cell_type": "markdown",
   "id": "7a1d9900",
   "metadata": {},
   "source": [
    "Без явного пика в районе 500 рублей (значение близко к месячной абонентской плате, очевидно что в этом диапазоне абоненты не превышают лимитов тарифного плана) распределение близко к нормальному."
   ]
  },
  {
   "cell_type": "markdown",
   "id": "292e6df2",
   "metadata": {},
   "source": [
    "# Проверка гипотез <a id='5'></a>"
   ]
  },
  {
   "cell_type": "markdown",
   "id": "8bf05660",
   "metadata": {},
   "source": [
    "Выдвинем нулевую гипотезу о равенстве средних выручек пользователей тарифов «Ультра» и «Смарт», альтернативная гипотеза - средние выручки пользователей тарифов «Ультра» и «Смарт» различаются.\n",
    "Для проверки используем специальный метод scipy.stats.ttest_ind (благодаря ЦПТ этот метод можно применить, - если размер выборки составляет хотя бы несколько десятков значений, выборочные средние, которые можно получить из одной и той же генеральной совокупности, будут распределены нормально вокруг истинного среднего этой совокупности; это утверждение верно, даже если сама генеральная совокупность не распределена нормально). Учитывая значительное отличие дисперсий, укажем equal_var = False. Критический уровень статистической значимости примем равным 0,05, если p-value окажется меньше него - отвергнем гипотезу"
   ]
  },
  {
   "cell_type": "code",
   "execution_count": 25,
   "id": "d59ddfb1",
   "metadata": {},
   "outputs": [
    {
     "name": "stdout",
     "output_type": "stream",
     "text": [
      "p-значение: 3.366123216919648e-132\n",
      "Отвергаем нулевую гипотезу. Средние выручки пользователей тарифов «Ультра» и «Смарт» различаются.\n"
     ]
    }
   ],
   "source": [
    "alpha = .05 # критический уровень статистической значимости\n",
    "# если p-value окажется меньше него - отвергнем гипотезу\n",
    "\n",
    "results = st.ttest_ind(\n",
    "    cost_smart['cost_total'], \n",
    "    cost_ultra['cost_total'], equal_var = False)\n",
    "\n",
    "print('p-значение:', results.pvalue)\n",
    "\n",
    "if results.pvalue < alpha:\n",
    "    print(\"Отвергаем нулевую гипотезу. Средние выручки пользователей тарифов «Ультра» и «Смарт» различаются.\")\n",
    "else:\n",
    "    print(\"Не получилось отвергнуть нулевую гипотезую. Средние выручки пользователей тарифов «Ультра» и «Смарт» равны.\") "
   ]
  },
  {
   "cell_type": "markdown",
   "id": "d6c12784",
   "metadata": {},
   "source": [
    "Выдвинем нулевую гипотезу о равенстве средней выручки пользователей из Москвы  от выручки пользователей из других регионов, альтернативная гипотеза - средняя выручка пользователей из Москвы  и выручка пользователей из других регионов не равны."
   ]
  },
  {
   "cell_type": "code",
   "execution_count": 26,
   "id": "1ef56fe0",
   "metadata": {},
   "outputs": [],
   "source": [
    "cost_moskow = users_full.query('city == \"Москва\"')\n",
    "cost_another = users_full.query('city != \"Москва\"')"
   ]
  },
  {
   "cell_type": "code",
   "execution_count": 27,
   "id": "8de60e10",
   "metadata": {},
   "outputs": [
    {
     "name": "stdout",
     "output_type": "stream",
     "text": [
      "p-значение: 0.25438147756433416\n",
      "Не получилось отвергнуть нулевую гипотезую. Средняя выручка пользователей из Москвы и выручка пользователей из других регионов равны.\n"
     ]
    }
   ],
   "source": [
    "alpha = .05 # критический уровень статистической значимости\n",
    "# если p-value окажется меньше него - отвергнем гипотезу\n",
    "\n",
    "results = st.ttest_ind(\n",
    "    cost_moskow['cost_total'], \n",
    "    cost_another['cost_total'], equal_var = False)\n",
    "\n",
    "print('p-значение:', results.pvalue)\n",
    "\n",
    "if results.pvalue < alpha:\n",
    "    print(\"Отвергаем нулевую гипотезу. Средняя выручка пользователей из Москвы и выручка пользователей из других регионов не равны.\")\n",
    "else:\n",
    "    print(\"Не получилось отвергнуть нулевую гипотезую. Средняя выручка пользователей из Москвы и выручка пользователей из других регионов равны.\") "
   ]
  },
  {
   "cell_type": "markdown",
   "id": "08c803fe",
   "metadata": {},
   "source": [
    "# Заключение <a id='6'></a>"
   ]
  },
  {
   "cell_type": "markdown",
   "id": "a52011d2",
   "metadata": {},
   "source": [
    "По результатам анализа данных установлено:\n",
    "- что количество израсходованных минут с 1 по 12 месяц увеличивается, что объясняется помесячным \"приростом\" абонентов, - среднее значение минут за месяц также увеличивается. Общее количество минут в месяц почти в 2 раза больше для тарифного плана smart (за счет большего к-ва абонентов), - среднее за месяц больше для тарифного плана ultra. Отмечено значительное отличие дисперсий и стандартных отклонений, большие значения соответсвуют тарифному плану ultra, что указывает на больший разброс данных в данном тарифном плане.\n",
    "-  что количество отправленных СМС с 1 по 12 месяц увеличивается, что объясняется помесячным \"приростом\" абонентов, - среднее значение минут за месяц также увеличивается. Общее количество СМС в месяц больше для тарифного плана smart (за счет большего к-ва абонентов), - среднее за месяц больше для тарифного плана ultra. Отмечено значительное отличие дисперсий и стандартных отклонений, большие значения соответсвуют тарифному плану ultra, что указывает на больший разброс данных в данном тарифном плане.\n",
    "- что объём израсходованного трафика с 1 по 12 месяц увеличивается, что объясняется помесячным \"приростом\" абонентов, - средний объём израсходованного трафика за месяц также увеличивается. Общий и средний объём израсходованного трафика в месяц больше для тарифного плана smart. Отмечено значительное отличие дисперсий и стандартных отклонений, большие значения соответсвуют тарифному плану ultra, что указывает на больший разброс данных в данном тарифном плане.\n",
    "- что средняя стоимость услуг тарифа smart в 1,6 раза больше чем стоимость услуг тарифа ultra. При этом также для тарифа smart величина дисперсии и стандартного отклонения также больше, что указывает на больший разброс данных в этом тарифном плане.\n",
    "\n",
    "\n",
    "По результатам проверки гипотез определено, что:\n",
    "\n",
    "\n",
    "- средние выручки пользователей тарифов «Ультра» и «Смарт» различаются, p-значение: 3.366e-132 << 0,05.\n",
    "- cредняя выручка пользователей из Москвы и выручка пользователей из других регионов равны, p-значение: 0.254 > 0,05.\n",
    "\n",
    "На основе проверки гипотез и расчитанных статистик можно сделать вывод, что тариф «Смарт» приносит больше денег (в дополнительном исследовании показано за счет чего)."
   ]
  }
 ],
 "metadata": {
  "ExecuteTimeLog": [
   {
    "duration": 1018,
    "start_time": "2022-04-27T09:46:31.983Z"
   },
   {
    "duration": 26,
    "start_time": "2022-04-27T09:46:33.004Z"
   },
   {
    "duration": 29,
    "start_time": "2022-04-27T09:46:33.032Z"
   },
   {
    "duration": 9,
    "start_time": "2022-04-27T09:46:33.062Z"
   },
   {
    "duration": 3,
    "start_time": "2022-04-27T09:46:33.074Z"
   },
   {
    "duration": 32,
    "start_time": "2022-04-27T09:46:33.079Z"
   },
   {
    "duration": 40,
    "start_time": "2022-04-27T09:46:33.113Z"
   },
   {
    "duration": 18,
    "start_time": "2022-04-27T09:46:33.154Z"
   },
   {
    "duration": 66,
    "start_time": "2022-04-27T09:46:33.174Z"
   },
   {
    "duration": 7,
    "start_time": "2022-04-27T09:46:33.241Z"
   },
   {
    "duration": 6,
    "start_time": "2022-04-27T09:46:33.250Z"
   },
   {
    "duration": 12,
    "start_time": "2022-04-27T09:46:33.257Z"
   },
   {
    "duration": 13,
    "start_time": "2022-04-27T09:46:33.271Z"
   },
   {
    "duration": 50,
    "start_time": "2022-04-27T09:46:33.287Z"
   },
   {
    "duration": 33,
    "start_time": "2022-04-27T09:46:33.341Z"
   },
   {
    "duration": 30,
    "start_time": "2022-04-27T09:46:33.375Z"
   },
   {
    "duration": 26,
    "start_time": "2022-04-27T09:46:33.411Z"
   },
   {
    "duration": 41,
    "start_time": "2022-04-27T09:46:33.438Z"
   },
   {
    "duration": 46,
    "start_time": "2022-04-27T09:46:33.481Z"
   },
   {
    "duration": 36,
    "start_time": "2022-04-27T09:46:33.528Z"
   },
   {
    "duration": 10,
    "start_time": "2022-04-27T09:46:33.565Z"
   },
   {
    "duration": 32,
    "start_time": "2022-04-27T09:46:33.577Z"
   },
   {
    "duration": 40,
    "start_time": "2022-04-27T09:46:33.611Z"
   },
   {
    "duration": 23,
    "start_time": "2022-04-27T09:48:41.522Z"
   },
   {
    "duration": 12,
    "start_time": "2022-04-27T09:48:44.941Z"
   },
   {
    "duration": 12,
    "start_time": "2022-04-27T09:48:48.047Z"
   },
   {
    "duration": 13,
    "start_time": "2022-04-27T09:48:50.860Z"
   },
   {
    "duration": 12,
    "start_time": "2022-04-27T09:48:53.840Z"
   },
   {
    "duration": 12,
    "start_time": "2022-04-27T09:49:00.968Z"
   },
   {
    "duration": 32,
    "start_time": "2022-04-27T09:49:10.755Z"
   },
   {
    "duration": 28,
    "start_time": "2022-04-27T09:49:17.526Z"
   },
   {
    "duration": 27,
    "start_time": "2022-04-27T09:49:25.487Z"
   },
   {
    "duration": 24,
    "start_time": "2022-04-27T09:50:44.052Z"
   },
   {
    "duration": 20,
    "start_time": "2022-04-27T09:50:53.577Z"
   },
   {
    "duration": 247,
    "start_time": "2022-04-27T10:06:11.587Z"
   },
   {
    "duration": 623,
    "start_time": "2022-05-02T08:06:48.242Z"
   },
   {
    "duration": 29,
    "start_time": "2022-05-02T08:06:48.867Z"
   },
   {
    "duration": 17,
    "start_time": "2022-05-02T08:06:48.907Z"
   },
   {
    "duration": 8,
    "start_time": "2022-05-02T08:06:48.926Z"
   },
   {
    "duration": 4,
    "start_time": "2022-05-02T08:06:48.935Z"
   },
   {
    "duration": 16,
    "start_time": "2022-05-02T08:06:48.941Z"
   },
   {
    "duration": 58,
    "start_time": "2022-05-02T08:06:48.958Z"
   },
   {
    "duration": 19,
    "start_time": "2022-05-02T08:06:49.018Z"
   },
   {
    "duration": 35,
    "start_time": "2022-05-02T08:06:49.038Z"
   },
   {
    "duration": 5,
    "start_time": "2022-05-02T08:06:49.076Z"
   },
   {
    "duration": 19,
    "start_time": "2022-05-02T08:06:49.108Z"
   },
   {
    "duration": 4,
    "start_time": "2022-05-02T08:06:49.128Z"
   },
   {
    "duration": 11,
    "start_time": "2022-05-02T08:06:49.133Z"
   },
   {
    "duration": 14,
    "start_time": "2022-05-02T08:06:49.145Z"
   },
   {
    "duration": 15,
    "start_time": "2022-05-02T08:06:49.161Z"
   },
   {
    "duration": 20,
    "start_time": "2022-05-02T08:06:49.207Z"
   },
   {
    "duration": 31,
    "start_time": "2022-05-02T08:06:49.228Z"
   },
   {
    "duration": 48,
    "start_time": "2022-05-02T08:06:49.261Z"
   },
   {
    "duration": 36,
    "start_time": "2022-05-02T08:06:49.310Z"
   },
   {
    "duration": 20,
    "start_time": "2022-05-02T08:06:49.348Z"
   },
   {
    "duration": 54,
    "start_time": "2022-05-02T08:06:49.370Z"
   },
   {
    "duration": 11,
    "start_time": "2022-05-02T08:06:49.426Z"
   },
   {
    "duration": 21,
    "start_time": "2022-05-02T08:06:49.439Z"
   },
   {
    "duration": 61,
    "start_time": "2022-05-02T08:06:49.462Z"
   },
   {
    "duration": 3,
    "start_time": "2022-05-02T08:09:15.248Z"
   },
   {
    "duration": 4,
    "start_time": "2022-05-02T08:09:17.234Z"
   },
   {
    "duration": 69,
    "start_time": "2022-05-02T08:09:19.165Z"
   },
   {
    "duration": 22,
    "start_time": "2022-05-02T08:09:20.696Z"
   },
   {
    "duration": 6,
    "start_time": "2022-05-02T08:09:25.220Z"
   },
   {
    "duration": 10,
    "start_time": "2022-05-02T08:09:29.723Z"
   },
   {
    "duration": 59,
    "start_time": "2022-05-02T08:10:22.878Z"
   },
   {
    "duration": 58,
    "start_time": "2022-05-02T08:13:20.115Z"
   },
   {
    "duration": 1308,
    "start_time": "2022-05-25T07:33:00.322Z"
   },
   {
    "duration": 0,
    "start_time": "2022-05-25T07:33:01.633Z"
   },
   {
    "duration": 0,
    "start_time": "2022-05-25T07:33:01.634Z"
   },
   {
    "duration": 0,
    "start_time": "2022-05-25T07:33:01.638Z"
   },
   {
    "duration": 0,
    "start_time": "2022-05-25T07:33:01.639Z"
   },
   {
    "duration": 0,
    "start_time": "2022-05-25T07:33:01.639Z"
   },
   {
    "duration": 0,
    "start_time": "2022-05-25T07:33:01.640Z"
   },
   {
    "duration": 0,
    "start_time": "2022-05-25T07:33:01.641Z"
   },
   {
    "duration": 0,
    "start_time": "2022-05-25T07:33:01.642Z"
   },
   {
    "duration": 0,
    "start_time": "2022-05-25T07:33:01.644Z"
   },
   {
    "duration": 0,
    "start_time": "2022-05-25T07:33:01.645Z"
   },
   {
    "duration": 0,
    "start_time": "2022-05-25T07:33:01.646Z"
   },
   {
    "duration": 0,
    "start_time": "2022-05-25T07:33:01.647Z"
   },
   {
    "duration": 0,
    "start_time": "2022-05-25T07:33:01.648Z"
   },
   {
    "duration": 0,
    "start_time": "2022-05-25T07:33:01.648Z"
   },
   {
    "duration": 0,
    "start_time": "2022-05-25T07:33:01.649Z"
   },
   {
    "duration": 0,
    "start_time": "2022-05-25T07:33:01.650Z"
   },
   {
    "duration": 0,
    "start_time": "2022-05-25T07:33:01.652Z"
   },
   {
    "duration": 0,
    "start_time": "2022-05-25T07:33:01.653Z"
   },
   {
    "duration": 0,
    "start_time": "2022-05-25T07:33:01.654Z"
   },
   {
    "duration": 0,
    "start_time": "2022-05-25T07:33:01.655Z"
   },
   {
    "duration": 0,
    "start_time": "2022-05-25T07:33:01.656Z"
   },
   {
    "duration": 0,
    "start_time": "2022-05-25T07:33:01.657Z"
   },
   {
    "duration": 1,
    "start_time": "2022-05-25T07:33:01.657Z"
   },
   {
    "duration": 0,
    "start_time": "2022-05-25T07:33:01.659Z"
   },
   {
    "duration": 0,
    "start_time": "2022-05-25T07:33:01.660Z"
   },
   {
    "duration": 204,
    "start_time": "2022-05-25T07:33:31.470Z"
   },
   {
    "duration": 509,
    "start_time": "2022-05-25T07:34:09.638Z"
   },
   {
    "duration": 1612,
    "start_time": "2022-05-25T07:36:06.090Z"
   },
   {
    "duration": 3,
    "start_time": "2022-05-25T07:36:07.704Z"
   },
   {
    "duration": 42,
    "start_time": "2022-05-25T07:36:07.708Z"
   },
   {
    "duration": 378,
    "start_time": "2022-05-25T07:36:07.753Z"
   },
   {
    "duration": 207,
    "start_time": "2022-05-25T07:36:08.136Z"
   },
   {
    "duration": 168,
    "start_time": "2022-05-25T07:36:08.347Z"
   },
   {
    "duration": 144,
    "start_time": "2022-05-25T07:36:08.517Z"
   },
   {
    "duration": 144,
    "start_time": "2022-05-25T07:36:08.662Z"
   },
   {
    "duration": 27,
    "start_time": "2022-05-25T07:36:08.808Z"
   },
   {
    "duration": 27,
    "start_time": "2022-05-25T07:36:08.837Z"
   },
   {
    "duration": 18,
    "start_time": "2022-05-25T07:36:08.866Z"
   },
   {
    "duration": 6,
    "start_time": "2022-05-25T07:36:08.886Z"
   },
   {
    "duration": 4,
    "start_time": "2022-05-25T07:36:08.893Z"
   },
   {
    "duration": 32,
    "start_time": "2022-05-25T07:36:08.934Z"
   },
   {
    "duration": 8,
    "start_time": "2022-05-25T07:36:08.968Z"
   },
   {
    "duration": 8,
    "start_time": "2022-05-25T07:36:08.978Z"
   },
   {
    "duration": 42,
    "start_time": "2022-05-25T07:36:08.987Z"
   },
   {
    "duration": 61,
    "start_time": "2022-05-25T07:36:09.031Z"
   },
   {
    "duration": 70,
    "start_time": "2022-05-25T07:36:09.094Z"
   },
   {
    "duration": 71,
    "start_time": "2022-05-25T07:36:09.166Z"
   },
   {
    "duration": 29,
    "start_time": "2022-05-25T07:36:09.239Z"
   },
   {
    "duration": 25,
    "start_time": "2022-05-25T07:36:09.270Z"
   },
   {
    "duration": 238,
    "start_time": "2022-05-25T07:36:09.297Z"
   },
   {
    "duration": 234,
    "start_time": "2022-05-25T07:36:09.537Z"
   },
   {
    "duration": 5,
    "start_time": "2022-05-25T07:36:09.772Z"
   },
   {
    "duration": 20,
    "start_time": "2022-05-25T07:36:09.778Z"
   },
   {
    "duration": 11,
    "start_time": "2022-05-25T07:36:09.799Z"
   },
   {
    "duration": 13,
    "start_time": "2022-05-25T07:36:30.846Z"
   },
   {
    "duration": 40,
    "start_time": "2022-05-25T07:36:50.399Z"
   },
   {
    "duration": 43,
    "start_time": "2022-05-25T07:37:34.811Z"
   },
   {
    "duration": 141,
    "start_time": "2022-05-25T07:41:23.990Z"
   },
   {
    "duration": 54,
    "start_time": "2022-05-25T07:41:47.441Z"
   }
  ],
  "kernelspec": {
   "display_name": "Python 3 (ipykernel)",
   "language": "python",
   "name": "python3"
  },
  "language_info": {
   "codemirror_mode": {
    "name": "ipython",
    "version": 3
   },
   "file_extension": ".py",
   "mimetype": "text/x-python",
   "name": "python",
   "nbconvert_exporter": "python",
   "pygments_lexer": "ipython3",
   "version": "3.9.12"
  },
  "toc": {
   "base_numbering": 1,
   "nav_menu": {},
   "number_sections": true,
   "sideBar": true,
   "skip_h1_title": true,
   "title_cell": "Table of Contents",
   "title_sidebar": "Contents",
   "toc_cell": false,
   "toc_position": {},
   "toc_section_display": true,
   "toc_window_display": false
  }
 },
 "nbformat": 4,
 "nbformat_minor": 5
}
